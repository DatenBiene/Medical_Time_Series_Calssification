{
 "cells": [
  {
   "cell_type": "markdown",
   "metadata": {},
   "source": [
    "## Import libraries"
   ]
  },
  {
   "cell_type": "code",
   "execution_count": 1,
   "metadata": {},
   "outputs": [],
   "source": [
    "import numpy as np\n",
    "import matplotlib.pyplot as plt"
   ]
  },
  {
   "cell_type": "code",
   "execution_count": 2,
   "metadata": {},
   "outputs": [],
   "source": [
    "#import tensorflow\n",
    "#print(tensorflow.__file__)\n",
    "#!pip show tensorflow\n",
    "#import sys\n",
    "#sys.path += ['C:\\\\Users\\\\cleme\\\\AppData\\\\Roaming\\\\Python\\\\Python36\\\\Scripts']\n",
    "#sys.path += ['c:\\\\users\\\\cleme\\\\anaconda3\\\\Scripts']\n",
    "#sys.path = ['C:\\\\Users\\\\cleme\\\\Anaconda3\\\\lib\\\\site-packages'] + sys.path\n",
    "#sys.path"
   ]
  },
  {
   "cell_type": "code",
   "execution_count": 3,
   "metadata": {},
   "outputs": [
    {
     "name": "stdout",
     "output_type": "stream",
     "text": [
      "C:\\Users\\cleme\\Anaconda3\\lib\\site-packages\\tensorflow\\__init__.py\n",
      "2.1.0\n"
     ]
    }
   ],
   "source": [
    "import tensorflow\n",
    "print(tensorflow.__file__)\n",
    "print(tensorflow.__version__)"
   ]
  },
  {
   "cell_type": "code",
   "execution_count": 4,
   "metadata": {},
   "outputs": [],
   "source": [
    "# uninstall scikit-learn and install this version\n",
    "#! pip install --user scikit-learn==0.21.2\n",
    "#! pip install --user sktime\n",
    "#! pip install --user tensorflow_addons\n",
    "#! pip install --user tensorflow\n",
    "#! pip install --user fastcache\n",
    "#! pip install --user lxml\n",
    "#! pip install --user nltk\n",
    "#! pip install --user --upgrade grpcio"
   ]
  },
  {
   "cell_type": "markdown",
   "metadata": {},
   "source": [
    "## Import data"
   ]
  },
  {
   "cell_type": "code",
   "execution_count": 20,
   "metadata": {},
   "outputs": [],
   "source": [
    "file_path = \"C:/Users/cleme/Desktop/ENSAE_3a/Deep Learning for Medical Imaging/ECG5000/\"\n",
    "\n",
    "f = open(file_path + \"ECG5000_TRAIN.txt\")\n",
    "ECG5000_test = f.readlines()\n",
    "f.close()\n",
    "\n",
    "f = open(file_path + \"ECG5000_TEST.txt\")\n",
    "ECG5000_train = f.readlines()\n",
    "f.close()"
   ]
  },
  {
   "cell_type": "markdown",
   "metadata": {},
   "source": [
    "## Prepare data for 1D-Convolutional layers"
   ]
  },
  {
   "cell_type": "code",
   "execution_count": 21,
   "metadata": {},
   "outputs": [],
   "source": [
    "def to_float(list_str):\n",
    "    if list_str == []:\n",
    "        return []\n",
    "    return [float(list_str[0])] + to_float(list_str[1:])"
   ]
  },
  {
   "cell_type": "code",
   "execution_count": 36,
   "metadata": {},
   "outputs": [],
   "source": [
    "# Run this for classical NN\n",
    "\n",
    "data_train = []\n",
    "labels_train = []\n",
    "\n",
    "for d in ECG5000_train:\n",
    "    temp = d.split()\n",
    "    labels_train += [int(temp[0][:1])]\n",
    "    data_train += [to_float(temp[1:])]\n",
    "    \n",
    "data_train = np.array(data_train)\n",
    "labels_train = np.array(labels_train)\n",
    "    \n",
    "#data_train = np.array(data_train)\n",
    "#labels_train = np.array(labels_train)\n",
    "\n",
    "data_test = []\n",
    "labels_test = []\n",
    "\n",
    "for d in ECG5000_test:\n",
    "    temp = d.split()\n",
    "    labels_test += [int(temp[0][:1])]\n",
    "    data_test += [to_float(temp[1:])]\n",
    "    \n",
    "data_test = np.array(data_test)\n",
    "labels_test = np.array(labels_test)"
   ]
  },
  {
   "cell_type": "code",
   "execution_count": 37,
   "metadata": {},
   "outputs": [
    {
     "name": "stdout",
     "output_type": "stream",
     "text": [
      "(500, 140)\n",
      "(500,)\n"
     ]
    }
   ],
   "source": [
    "#print(data_train.shape) # 500 time series of size 140\n",
    "#print(labels_train.shape)\n",
    "\n",
    "print(data_test.shape) # 500 time series of size 140\n",
    "print(labels_test.shape)"
   ]
  },
  {
   "cell_type": "code",
   "execution_count": 38,
   "metadata": {},
   "outputs": [
    {
     "data": {
      "image/png": "[encoded data removed]",
      "text/plain": [
       "<Figure size 432x288 with 1 Axes>"
      ]
     },
     "metadata": {
      "needs_background": "light"
     },
     "output_type": "display_data"
    }
   ],
   "source": [
    "hist_train = plt.hist(labels_train) # The dataset is clearly unbalanced"
   ]
  },
  {
   "cell_type": "code",
   "execution_count": 39,
   "metadata": {},
   "outputs": [
    {
     "data": {
      "image/png": "[encoded data removed]",
      "text/plain": [
       "<Figure size 432x288 with 1 Axes>"
      ]
     },
     "metadata": {
      "needs_background": "light"
     },
     "output_type": "display_data"
    }
   ],
   "source": [
    "hist_test = plt.hist(labels_test) # The dataset is clearly unbalanced"
   ]
  },
  {
   "cell_type": "code",
   "execution_count": 40,
   "metadata": {},
   "outputs": [
    {
     "data": {
      "text/plain": [
       "(array([292.,   0., 177.,   0.,   0.,  10.,   0.,  19.,   0.,   2.]),\n",
       " array([1. , 1.4, 1.8, 2.2, 2.6, 3. , 3.4, 3.8, 4.2, 4.6, 5. ]),\n",
       " <a list of 10 Patch objects>)"
      ]
     },
     "execution_count": 40,
     "metadata": {},
     "output_type": "execute_result"
    }
   ],
   "source": [
    "hist_test"
   ]
  },
  {
   "cell_type": "code",
   "execution_count": 41,
   "metadata": {},
   "outputs": [
    {
     "name": "stdout",
     "output_type": "stream",
     "text": [
      "0.9371111111111111\n",
      "0.938\n"
     ]
    }
   ],
   "source": [
    "print(np.sum(hist_train[0][:3])/np.sum(hist_train[0]))\n",
    "print(np.sum(hist_test[0][:3])/np.sum(hist_test[0]))"
   ]
  },
  {
   "cell_type": "markdown",
   "metadata": {},
   "source": [
    "## Increasing low represented classes "
   ]
  },
  {
   "cell_type": "code",
   "execution_count": 28,
   "metadata": {},
   "outputs": [],
   "source": [
    "# We increase data_test because we use it as training data and data_training as test data\n",
    "# PS : try with and without this to see if it is better\n",
    "\n",
    "indices = {}\n",
    "\n",
    "for i,lab in enumerate(labels_train):\n",
    "    indices[lab] = indices.get(lab,[]) + [i]\n",
    "    \n",
    "data_train_ = []\n",
    "labels_train_ = []\n",
    "\n",
    "for k in range(3,6):\n",
    "    for ind in indices[k]:\n",
    "        data_train_ += [data_train[ind]]\n",
    "        data_train_ += [data_train[ind]]\n",
    "        labels_train_ += [k]\n",
    "        labels_train_ += [k]\n",
    "\n",
    "for k in range(1,3):\n",
    "    for _ in range(100):\n",
    "        ind = np.random.randint(len(indices[k]))\n",
    "        ind = indices[k][ind]\n",
    "        data_train_ += [data_train[ind]]\n",
    "        labels_train_ += [k]\n",
    "        \n",
    "data_train = np.array(data_train_)\n",
    "labels_train = np.array(labels_train_)"
   ]
  },
  {
   "cell_type": "code",
   "execution_count": 42,
   "metadata": {},
   "outputs": [
    {
     "data": {
      "image/png": "[encoded data removed]",
      "text/plain": [
       "<Figure size 432x288 with 1 Axes>"
      ]
     },
     "metadata": {
      "needs_background": "light"
     },
     "output_type": "display_data"
    }
   ],
   "source": [
    "hist_train = plt.hist(labels_train) # The dataset is a little bit unbalanced"
   ]
  },
  {
   "cell_type": "code",
   "execution_count": 43,
   "metadata": {},
   "outputs": [],
   "source": [
    "data_train_1D = np.reshape(data_train,(data_train.shape[0],data_train.shape[1],1))\n",
    "data_test_1D = np.reshape(data_test,(data_test.shape[0],data_test.shape[1],1))\n",
    "\n",
    "n_classes = 5\n",
    "\n",
    "# Adapt labels for multi-class classification\n",
    "labels_train_ = np.zeros((len(labels_train),n_classes))\n",
    "for i,lab in enumerate(labels_train):\n",
    "  labels_train_[i,lab-1] = 1\n",
    "\n",
    "labels_test_ = np.zeros((len(labels_test),n_classes))\n",
    "for i,lab in enumerate(labels_test):\n",
    "  labels_test_[i,lab-1] = 1"
   ]
  },
  {
   "cell_type": "markdown",
   "metadata": {},
   "source": [
    "## Testing models"
   ]
  },
  {
   "cell_type": "code",
   "execution_count": 44,
   "metadata": {},
   "outputs": [],
   "source": [
    "import tensorflow_addons as tfa\n",
    "import tensorflow\n",
    "from tensorflow.keras.models import Sequential\n",
    "from tensorflow.keras.layers import Flatten, Reshape, Conv1D, MaxPooling1D, GlobalAveragePooling1D, Dropout, Dense, BatchNormalization,BatchNormalization, Activation\n",
    "from tensorflow.keras.optimizers import SGD\n",
    "from tensorflow.keras.optimizers import Adam\n",
    "from sklearn.metrics import confusion_matrix\n",
    "def mish(x):\n",
    "    return x * tensorflow.math.tanh(tensorflow.math.softplus(x))\n",
    "\n",
    "\n",
    "def add_conv_block_input(model, n_filters, kern_size, n_stride, fc_act, pooling, coeff_dropout, input_shape):\n",
    "    model.add(Conv1D(filters = n_filters, kernel_size = kern_size, \n",
    "                     strides = n_stride, padding='same', input_shape=input_shape))\n",
    "    model.add(BatchNormalization())\n",
    "    model.add(Activation(fc_act))\n",
    "    model.add(Dropout(coeff_dropout))\n",
    "    model.add(Conv1D(filters = n_filters, kernel_size = kern_size, \n",
    "                     strides = n_stride, padding='same'))\n",
    "    model.add(BatchNormalization())\n",
    "    model.add(Activation(fc_act))\n",
    "    model.add(Dropout(coeff_dropout))\n",
    "    model.add(pooling)\n",
    "    \n",
    "def add_conv_block(model, n_filters, kern_size, n_stride, fc_act, coeff_dropout, pooling):\n",
    "    model.add(Conv1D(filters = n_filters, kernel_size = kern_size, \n",
    "                     strides = n_stride, padding='same'))\n",
    "    model.add(BatchNormalization())\n",
    "    model.add(Activation(fc_act))\n",
    "    model.add(Dropout(coeff_dropout))\n",
    "    model.add(Conv1D(n_filters, n_stride, padding='same'))\n",
    "    model.add(BatchNormalization())\n",
    "    model.add(Activation(fc_act))\n",
    "    model.add(Dropout(coeff_dropout))\n",
    "    model.add(pooling)\n",
    "    \n",
    "def slid_wind_acc(acc,window):\n",
    "    res = []\n",
    "    for k in range(len(acc)-window):\n",
    "        res += [np.mean(acc[k:k+window])]\n",
    "    plt.plot(res)\n",
    "    plt.show(block=True)"
   ]
  },
  {
   "cell_type": "code",
   "execution_count": 45,
   "metadata": {},
   "outputs": [],
   "source": [
    "# 1D-CNN takes in input (n_data,len_sequences,n_sensors)\n",
    "# here we have only one sensor but we still need data to be in shape (n_data,len_sequences,1)\n",
    "# and not (n_data,len_sequences)\n",
    "\n",
    "def model_(n_filters,kern_size,n_stride,fc_act,n_classes,add_FC,input_shape):\n",
    "\n",
    "    model = Sequential()\n",
    "\n",
    "    add_conv_block_input(model, n_filters, kern_size, n_stride, fc_act, MaxPooling1D(3), 0.1, input_shape)\n",
    "    add_conv_block(model, 2*n_filters, kern_size, n_stride, fc_act, 0.1, MaxPooling1D(3))\n",
    "    #add_conv_block(model, 4, n_init, n_stride, fc_act, GlobalAveragePooling1D())\n",
    "    add_conv_block(model, 4*n_filters, kern_size, n_stride, fc_act,0.1, MaxPooling1D(3))\n",
    "\n",
    "    model.add(Flatten())\n",
    "    if add_FC:\n",
    "        model.add(Dense(30))\n",
    "        model.add(BatchNormalization())\n",
    "        model.add(Activation('relu'))\n",
    "    \n",
    "    model.add(Dense(n_classes, activation='softmax'))\n",
    "\n",
    "    print(model.summary())\n",
    "    return model\n",
    "\n",
    "# 1D-CNN takes in input (n_data,len_sequences,n_sensors)\n",
    "# here we have only one sensor but we still need data to be in shape (n_data,len_sequences,1)\n",
    "# and not (n_data,len_sequences)\n",
    "\n",
    "class ResNet(tensorflow.keras.Model):\n",
    "  def __init__(self):\n",
    "    super(ResNet, self).__init__(name='')\n",
    "    \n",
    "\n",
    "    self.conv_input = Conv1D(filters = 4, kernel_size = 32, \n",
    "                                   strides = 1, padding='same', activation='linear',\n",
    "                                   input_shape=(140,1))\n",
    "    \n",
    "    #Residual Block 1\n",
    "    self.conv1aa = Conv1D(filters = 4, kernel_size = 4, \n",
    "                                   strides = 1, padding='same', activation='linear')\n",
    "    self.conv1ab = Conv1D(filters = 4, kernel_size = 32, \n",
    "                                   strides = 1, padding='same', activation='linear')\n",
    "    self.conv1b = Conv1D(filters = 4, kernel_size = 32, \n",
    "                                   strides = 1, padding='same', activation='linear')\n",
    "    self.max_pool1 = MaxPooling1D(pool_size=3, strides=None)\n",
    "    \n",
    "    #Residual Block 2\n",
    "    self.conv2aa = Conv1D(filters = 8, kernel_size = 4, \n",
    "                                   strides = 1, padding='same', activation='linear')\n",
    "    self.conv2ab = Conv1D(filters = 8, kernel_size = 32, \n",
    "                                   strides = 1, padding='same', activation='linear')\n",
    "    self.conv2b = Conv1D(filters = 8, kernel_size = 32, \n",
    "                                   strides = 1, padding='same', activation='linear')\n",
    "    self.max_pool2 = MaxPooling1D(pool_size=3, strides=None)\n",
    "    \n",
    "    \n",
    "    #End Block\n",
    "    self.Flatten_ = Flatten()\n",
    "    self.Dense1 = Dense(units=32, activation='relu')\n",
    "    self.Dense2 = Dense(units=5, activation='softmax')\n",
    "\n",
    "  def call(self, input_tensor):\n",
    "    x_inp = self.conv_input(input_tensor)\n",
    "    \n",
    "    x1aa = self.conv1aa(x_inp)\n",
    "    x1aa = BatchNormalization()(x1aa)\n",
    "    x1aa = Activation('relu')(x1aa)\n",
    "    x1aa = Dropout(0.1)(x1aa)\n",
    "    \n",
    "    x1ab = self.conv1ab(x_inp)\n",
    "    x1ab = BatchNormalization()(x1ab)\n",
    "    x1ab = Activation('relu')(x1ab)\n",
    "    x1ab = Dropout(0.1)(x1ab)\n",
    "    \n",
    "    x1a  = x1aa + x1ab\n",
    "    x1 = self.conv1b(x1a)\n",
    "    x2 = self.max_pool1(x1)\n",
    "    \n",
    "    x2aa = self.conv2aa(x2)\n",
    "    x2aa = BatchNormalization()(x2aa)\n",
    "    x2aa = Activation('relu')(x2aa)\n",
    "    x2aa = Dropout(0.1)(x2aa)\n",
    "    \n",
    "    x2ab = self.conv2ab(x2)\n",
    "    x2ab = BatchNormalization()(x2ab)\n",
    "    x2ab = Activation('relu')(x2ab)\n",
    "    x2ab = Dropout(0.1)(x2ab)\n",
    "    \n",
    "    x2a  = x2aa + x2ab\n",
    "    x2 = self.conv2b(x2a)\n",
    "    x3 = self.max_pool2(x2)\n",
    "    \n",
    "    x = self.Flatten_(x3)\n",
    "    x = self.Dense1(x)\n",
    "    return self.Dense2(x)"
   ]
  },
  {
   "cell_type": "code",
   "execution_count": 46,
   "metadata": {},
   "outputs": [
    {
     "name": "stdout",
     "output_type": "stream",
     "text": [
      "Model: \"sequential_2\"\n",
      "_________________________________________________________________\n",
      "Layer (type)                 Output Shape              Param #   \n",
      "=================================================================\n",
      "conv1d_12 (Conv1D)           (None, 140, 2)            66        \n",
      "_________________________________________________________________\n",
      "batch_normalization_12 (Batc (None, 140, 2)            8         \n",
      "_________________________________________________________________\n",
      "activation_12 (Activation)   (None, 140, 2)            0         \n",
      "_________________________________________________________________\n",
      "dropout_12 (Dropout)         (None, 140, 2)            0         \n",
      "_________________________________________________________________\n",
      "conv1d_13 (Conv1D)           (None, 140, 2)            130       \n",
      "_________________________________________________________________\n",
      "batch_normalization_13 (Batc (None, 140, 2)            8         \n",
      "_________________________________________________________________\n",
      "activation_13 (Activation)   (None, 140, 2)            0         \n",
      "_________________________________________________________________\n",
      "dropout_13 (Dropout)         (None, 140, 2)            0         \n",
      "_________________________________________________________________\n",
      "max_pooling1d_6 (MaxPooling1 (None, 46, 2)             0         \n",
      "_________________________________________________________________\n",
      "conv1d_14 (Conv1D)           (None, 46, 4)             260       \n",
      "_________________________________________________________________\n",
      "batch_normalization_14 (Batc (None, 46, 4)             16        \n",
      "_________________________________________________________________\n",
      "activation_14 (Activation)   (None, 46, 4)             0         \n",
      "_________________________________________________________________\n",
      "dropout_14 (Dropout)         (None, 46, 4)             0         \n",
      "_________________________________________________________________\n",
      "conv1d_15 (Conv1D)           (None, 46, 4)             20        \n",
      "_________________________________________________________________\n",
      "batch_normalization_15 (Batc (None, 46, 4)             16        \n",
      "_________________________________________________________________\n",
      "activation_15 (Activation)   (None, 46, 4)             0         \n",
      "_________________________________________________________________\n",
      "dropout_15 (Dropout)         (None, 46, 4)             0         \n",
      "_________________________________________________________________\n",
      "max_pooling1d_7 (MaxPooling1 (None, 15, 4)             0         \n",
      "_________________________________________________________________\n",
      "conv1d_16 (Conv1D)           (None, 15, 8)             1032      \n",
      "_________________________________________________________________\n",
      "batch_normalization_16 (Batc (None, 15, 8)             32        \n",
      "_________________________________________________________________\n",
      "activation_16 (Activation)   (None, 15, 8)             0         \n",
      "_________________________________________________________________\n",
      "dropout_16 (Dropout)         (None, 15, 8)             0         \n",
      "_________________________________________________________________\n",
      "conv1d_17 (Conv1D)           (None, 15, 8)             72        \n",
      "_________________________________________________________________\n",
      "batch_normalization_17 (Batc (None, 15, 8)             32        \n",
      "_________________________________________________________________\n",
      "activation_17 (Activation)   (None, 15, 8)             0         \n",
      "_________________________________________________________________\n",
      "dropout_17 (Dropout)         (None, 15, 8)             0         \n",
      "_________________________________________________________________\n",
      "max_pooling1d_8 (MaxPooling1 (None, 5, 8)              0         \n",
      "_________________________________________________________________\n",
      "flatten_2 (Flatten)          (None, 40)                0         \n",
      "_________________________________________________________________\n",
      "dense_2 (Dense)              (None, 5)                 205       \n",
      "=================================================================\n",
      "Total params: 1,897\n",
      "Trainable params: 1,841\n",
      "Non-trainable params: 56\n",
      "_________________________________________________________________\n",
      "None\n",
      "Train on 4500 samples, validate on 500 samples\n",
      "Epoch 1/50\n",
      "4500/4500 [==============================] - 11s 3ms/sample - loss: 0.3380 - accuracy: 0.9082 - val_loss: 0.3142 - val_accuracy: 0.9380\n",
      "Epoch 2/50\n",
      "4500/4500 [==============================] - 5s 1ms/sample - loss: 0.2349 - accuracy: 0.9289 - val_loss: 0.1949 - val_accuracy: 0.9520\n",
      "Epoch 3/50\n",
      "4500/4500 [==============================] - 5s 1ms/sample - loss: 0.2141 - accuracy: 0.9373 - val_loss: 0.1829 - val_accuracy: 0.9600\n",
      "Epoch 4/50\n",
      "4500/4500 [==============================] - 5s 1ms/sample - loss: 0.2026 - accuracy: 0.9404 - val_loss: 0.1580 - val_accuracy: 0.9540\n",
      "Epoch 5/50\n",
      "4500/4500 [==============================] - 4s 964us/sample - loss: 0.1958 - accuracy: 0.9420 - val_loss: 0.1468 - val_accuracy: 0.9560\n",
      "Epoch 6/50\n",
      "4500/4500 [==============================] - 5s 1ms/sample - loss: 0.1937 - accuracy: 0.9431 - val_loss: 0.1570 - val_accuracy: 0.9400\n",
      "Epoch 7/50\n",
      "4500/4500 [==============================] - 4s 920us/sample - loss: 0.1875 - accuracy: 0.9447 - val_loss: 0.1528 - val_accuracy: 0.9400\n",
      "Epoch 8/50\n",
      "4500/4500 [==============================] - 4s 788us/sample - loss: 0.1814 - accuracy: 0.9438 - val_loss: 0.1476 - val_accuracy: 0.9560\n",
      "Epoch 9/50\n",
      "4500/4500 [==============================] - 5s 1ms/sample - loss: 0.1801 - accuracy: 0.9444 - val_loss: 0.1528 - val_accuracy: 0.9520\n",
      "Epoch 10/50\n",
      "4500/4500 [==============================] - 6s 1ms/sample - loss: 0.1751 - accuracy: 0.9453 - val_loss: 0.1424 - val_accuracy: 0.9520\n",
      "Epoch 11/50\n",
      "4500/4500 [==============================] - 5s 1ms/sample - loss: 0.1755 - accuracy: 0.9464 - val_loss: 0.1410 - val_accuracy: 0.9520\n",
      "Epoch 12/50\n",
      "4500/4500 [==============================] - 4s 936us/sample - loss: 0.1688 - accuracy: 0.9484 - val_loss: 0.1361 - val_accuracy: 0.9560\n",
      "Epoch 13/50\n",
      "4500/4500 [==============================] - 4s 945us/sample - loss: 0.1745 - accuracy: 0.9482 - val_loss: 0.1410 - val_accuracy: 0.9560\n",
      "Epoch 14/50\n",
      "4500/4500 [==============================] - 4s 878us/sample - loss: 0.1693 - accuracy: 0.9509 - val_loss: 0.1767 - val_accuracy: 0.9500\n",
      "Epoch 15/50\n",
      "4500/4500 [==============================] - 4s 898us/sample - loss: 0.1640 - accuracy: 0.9531 - val_loss: 0.1321 - val_accuracy: 0.9620\n",
      "Epoch 16/50\n",
      "4500/4500 [==============================] - 4s 867us/sample - loss: 0.1703 - accuracy: 0.9500 - val_loss: 0.1371 - val_accuracy: 0.9620\n",
      "Epoch 17/50\n",
      "4500/4500 [==============================] - 4s 918us/sample - loss: 0.1681 - accuracy: 0.9516 - val_loss: 0.1334 - val_accuracy: 0.9620\n",
      "Epoch 18/50\n",
      "4500/4500 [==============================] - 4s 907us/sample - loss: 0.1641 - accuracy: 0.9509 - val_loss: 0.1443 - val_accuracy: 0.9540\n",
      "Epoch 19/50\n",
      "4500/4500 [==============================] - 4s 913us/sample - loss: 0.1652 - accuracy: 0.9513 - val_loss: 0.1406 - val_accuracy: 0.9600\n",
      "Epoch 20/50\n",
      "4500/4500 [==============================] - 4s 958us/sample - loss: 0.1587 - accuracy: 0.9538 - val_loss: 0.1370 - val_accuracy: 0.9600\n",
      "Epoch 21/50\n",
      "4500/4500 [==============================] - 4s 981us/sample - loss: 0.1617 - accuracy: 0.9507 - val_loss: 0.1446 - val_accuracy: 0.9580\n",
      "Epoch 22/50\n",
      "4500/4500 [==============================] - 5s 1ms/sample - loss: 0.1613 - accuracy: 0.9522 - val_loss: 0.1520 - val_accuracy: 0.9520\n",
      "Epoch 23/50\n",
      "4500/4500 [==============================] - 5s 1ms/sample - loss: 0.1614 - accuracy: 0.9511 - val_loss: 0.1343 - val_accuracy: 0.9600\n",
      "Epoch 24/50\n",
      "4500/4500 [==============================] - 5s 1ms/sample - loss: 0.1550 - accuracy: 0.9547 - val_loss: 0.1352 - val_accuracy: 0.9620\n",
      "Epoch 25/50\n",
      "4500/4500 [==============================] - 5s 1ms/sample - loss: 0.1591 - accuracy: 0.9531 - val_loss: 0.1336 - val_accuracy: 0.9620\n",
      "Epoch 26/50\n",
      "4500/4500 [==============================] - 4s 897us/sample - loss: 0.1559 - accuracy: 0.9531 - val_loss: 0.1466 - val_accuracy: 0.9580\n",
      "Epoch 27/50\n"
     ]
    },
    {
     "name": "stdout",
     "output_type": "stream",
     "text": [
      "4500/4500 [==============================] - 4s 922us/sample - loss: 0.1570 - accuracy: 0.9540 - val_loss: 0.1355 - val_accuracy: 0.9580\n",
      "Epoch 28/50\n",
      "4500/4500 [==============================] - 4s 895us/sample - loss: 0.1528 - accuracy: 0.9533 - val_loss: 0.1314 - val_accuracy: 0.9600\n",
      "Epoch 29/50\n",
      "4500/4500 [==============================] - 4s 951us/sample - loss: 0.1530 - accuracy: 0.9527 - val_loss: 0.1386 - val_accuracy: 0.9620\n",
      "Epoch 30/50\n",
      "4500/4500 [==============================] - 4s 882us/sample - loss: 0.1580 - accuracy: 0.9527 - val_loss: 0.1313 - val_accuracy: 0.9620\n",
      "Epoch 31/50\n",
      "4500/4500 [==============================] - 4s 877us/sample - loss: 0.1559 - accuracy: 0.9529 - val_loss: 0.1282 - val_accuracy: 0.9620\n",
      "Epoch 32/50\n",
      "4500/4500 [==============================] - 4s 908us/sample - loss: 0.1539 - accuracy: 0.9518 - val_loss: 0.1421 - val_accuracy: 0.9620\n",
      "Epoch 33/50\n",
      "4500/4500 [==============================] - 4s 886us/sample - loss: 0.1523 - accuracy: 0.9518 - val_loss: 0.1404 - val_accuracy: 0.9580\n",
      "Epoch 34/50\n",
      "4500/4500 [==============================] - 4s 866us/sample - loss: 0.1497 - accuracy: 0.9549 - val_loss: 0.1426 - val_accuracy: 0.9580\n",
      "Epoch 35/50\n",
      "4500/4500 [==============================] - 4s 876us/sample - loss: 0.1475 - accuracy: 0.9562 - val_loss: 0.1249 - val_accuracy: 0.9640\n",
      "Epoch 36/50\n",
      "4500/4500 [==============================] - 4s 966us/sample - loss: 0.1467 - accuracy: 0.9558 - val_loss: 0.1327 - val_accuracy: 0.9600\n",
      "Epoch 37/50\n",
      "4500/4500 [==============================] - 4s 920us/sample - loss: 0.1514 - accuracy: 0.9551 - val_loss: 0.1298 - val_accuracy: 0.9620\n",
      "Epoch 38/50\n",
      "4500/4500 [==============================] - 4s 859us/sample - loss: 0.1461 - accuracy: 0.9540 - val_loss: 0.1240 - val_accuracy: 0.9640\n",
      "Epoch 39/50\n",
      "4500/4500 [==============================] - 5s 1ms/sample - loss: 0.1488 - accuracy: 0.9549 - val_loss: 0.1348 - val_accuracy: 0.9580\n",
      "Epoch 40/50\n",
      "4500/4500 [==============================] - 5s 1ms/sample - loss: 0.1500 - accuracy: 0.9531 - val_loss: 0.1383 - val_accuracy: 0.9520\n",
      "Epoch 41/50\n",
      "4500/4500 [==============================] - 4s 909us/sample - loss: 0.1489 - accuracy: 0.9536 - val_loss: 0.1495 - val_accuracy: 0.9520\n",
      "Epoch 42/50\n",
      "4500/4500 [==============================] - 5s 1ms/sample - loss: 0.1453 - accuracy: 0.9587 - val_loss: 0.1469 - val_accuracy: 0.9600\n",
      "Epoch 43/50\n",
      "4500/4500 [==============================] - 4s 873us/sample - loss: 0.1458 - accuracy: 0.9560 - val_loss: 0.1426 - val_accuracy: 0.9560\n",
      "Epoch 44/50\n",
      "4500/4500 [==============================] - 5s 1ms/sample - loss: 0.1492 - accuracy: 0.9562 - val_loss: 0.1379 - val_accuracy: 0.9560\n",
      "Epoch 45/50\n",
      "4500/4500 [==============================] - 4s 895us/sample - loss: 0.1439 - accuracy: 0.9576 - val_loss: 0.1241 - val_accuracy: 0.9640\n",
      "Epoch 46/50\n",
      "4500/4500 [==============================] - 4s 907us/sample - loss: 0.1474 - accuracy: 0.9551 - val_loss: 0.1283 - val_accuracy: 0.9640\n",
      "Epoch 47/50\n",
      "4500/4500 [==============================] - 4s 889us/sample - loss: 0.1443 - accuracy: 0.9551 - val_loss: 0.1268 - val_accuracy: 0.9660\n",
      "Epoch 48/50\n",
      "4500/4500 [==============================] - 4s 858us/sample - loss: 0.1415 - accuracy: 0.9580 - val_loss: 0.1292 - val_accuracy: 0.9600\n",
      "Epoch 49/50\n",
      "4500/4500 [==============================] - 4s 951us/sample - loss: 0.1499 - accuracy: 0.9542 - val_loss: 0.1331 - val_accuracy: 0.9600\n",
      "Epoch 50/50\n",
      "4500/4500 [==============================] - 5s 1ms/sample - loss: 0.1433 - accuracy: 0.9551 - val_loss: 0.1411 - val_accuracy: 0.9580\n"
     ]
    },
    {
     "data": {
      "image/png": "[encoded data removed]",
      "text/plain": [
       "<Figure size 432x288 with 1 Axes>"
      ]
     },
     "metadata": {
      "needs_background": "light"
     },
     "output_type": "display_data"
    },
    {
     "data": {
      "image/png": "[encoded data removed]",
      "text/plain": [
       "<Figure size 432x288 with 1 Axes>"
      ]
     },
     "metadata": {
      "needs_background": "light"
     },
     "output_type": "display_data"
    },
    {
     "data": {
      "image/png": "[encoded data removed]",
      "text/plain": [
       "<Figure size 432x288 with 1 Axes>"
      ]
     },
     "metadata": {
      "needs_background": "light"
     },
     "output_type": "display_data"
    },
    {
     "data": {
      "image/png": "[encoded data removed]",
      "text/plain": [
       "<Figure size 432x288 with 1 Axes>"
      ]
     },
     "metadata": {
      "needs_background": "light"
     },
     "output_type": "display_data"
    },
    {
     "name": "stdout",
     "output_type": "stream",
     "text": [
      "[[291   1   0   0   0]\n",
      " [  0 176   0   1   0]\n",
      " [  0   4   5   1   0]\n",
      " [  0  13   0   6   0]\n",
      " [  0   0   1   0   1]]\n",
      "max val_accuracy is :  0.966\n",
      "###############################\n",
      "Wall time: 3min 44s\n"
     ]
    }
   ],
   "source": [
    "%%time\n",
    "\n",
    "#model = ResNet()\n",
    "model = model_(2,32,1,'relu',5,False,(140,1))\n",
    "\n",
    "loss_classif = tensorflow.keras.losses.categorical_crossentropy\n",
    "\n",
    "optimizer = SGD(learning_rate=0.05)\n",
    "optimizer = tfa.optimizers.SWA(optimizer, start_averaging=0, average_period=3)\n",
    "\n",
    "metrics_classif  =  ['accuracy']\n",
    "\n",
    "model.compile(loss=loss_classif,\n",
    "              optimizer=optimizer,\n",
    "              metrics=metrics_classif)\n",
    "\n",
    "\n",
    "bs = 32\n",
    "n_epochs = 50\n",
    "\n",
    "history = model.fit(data_train_1D, labels_train_, batch_size=bs, epochs=n_epochs, \n",
    "                    validation_data=(data_test_1D, labels_test_),verbose=True)\n",
    "    \n",
    "slid_wind_acc(history.history['accuracy'],10)\n",
    "slid_wind_acc(history.history['loss'],10)\n",
    "slid_wind_acc(history.history['val_accuracy'],10)\n",
    "slid_wind_acc(history.history['val_loss'],10)\n",
    "\n",
    "print(confusion_matrix(labels_test, 1+np.apply_along_axis(np.argmax,1,model.predict(data_test_1D))))\n",
    "\n",
    "print('max val_accuracy is : ',np.max(history.history['val_accuracy']))\n",
    "print('###############################')"
   ]
  },
  {
   "cell_type": "code",
   "execution_count": 35,
   "metadata": {},
   "outputs": [],
   "source": [
    "model_balanced = model"
   ]
  },
  {
   "cell_type": "code",
   "execution_count": 66,
   "metadata": {},
   "outputs": [
    {
     "name": "stdout",
     "output_type": "stream",
     "text": [
      "[[291   1   0   0   0]\n",
      " [  0 176   0   1   0]\n",
      " [  0   4   5   1   0]\n",
      " [  0  13   0   6   0]\n",
      " [  0   0   0   1   1]]\n",
      "0.958\n"
     ]
    }
   ],
   "source": [
    "pred = 1+np.apply_along_axis(np.argmax,1,model.predict(data_test_1D))\n",
    "pred_balanced = 1+np.apply_along_axis(np.argmax,1,model_balanced.predict(data_test_1D))\n",
    "                                      \n",
    "pred_ = []\n",
    "for k in range(500):\n",
    "    if pred[k]==1 or pred[k]==2:\n",
    "        pred_ += [pred[k]]\n",
    "    elif pred_balanced[k]==3 or pred_balanced[k]==4 or pred_balanced[k]==5:\n",
    "        pred_ += [pred_balanced[k]]\n",
    "    else:\n",
    "        pred_ += [pred[k]]\n",
    "\n",
    "mat = confusion_matrix(labels_test,pred_)\n",
    "print(mat)\n",
    "print(np.sum(np.diag(mat))/np.sum(mat))"
   ]
  },
  {
   "cell_type": "code",
   "execution_count": 73,
   "metadata": {},
   "outputs": [
    {
     "data": {
      "text/plain": [
       "[<matplotlib.lines.Line2D at 0x210908b3588>]"
      ]
     },
     "execution_count": 73,
     "metadata": {},
     "output_type": "execute_result"
    },
    {
     "data": {
      "image/png": "[encoded data removed]",
      "text/plain": [
       "<Figure size 432x288 with 1 Axes>"
      ]
     },
     "metadata": {
      "needs_background": "light"
     },
     "output_type": "display_data"
    }
   ],
   "source": [
    "pred = model.predict(data_test_1D)\n",
    "pred_b = model_balanced.predict(data_test_1D)\n",
    "accuracy = []\n",
    "for alpha in np.linspace(0,1,100):\n",
    "    pred_ = 1+np.apply_along_axis(np.argmax,1,alpha*pred+(1-alpha)*pred_b)\n",
    "    mat = confusion_matrix(labels_test,pred_)\n",
    "    accuracy += [np.sum(np.diag(mat))/np.sum(mat)]\n",
    "\n",
    "plt.plot(accuracy)"
   ]
  },
  {
   "cell_type": "code",
   "execution_count": 74,
   "metadata": {},
   "outputs": [
    {
     "data": {
      "text/plain": [
       "[0.676,\n",
       " 0.68,\n",
       " 0.684,\n",
       " 0.688,\n",
       " 0.686,\n",
       " 0.692,\n",
       " 0.698,\n",
       " 0.702,\n",
       " 0.71,\n",
       " 0.72,\n",
       " 0.736,\n",
       " 0.738,\n",
       " 0.75,\n",
       " 0.762,\n",
       " 0.774,\n",
       " 0.81,\n",
       " 0.82,\n",
       " 0.836,\n",
       " 0.856,\n",
       " 0.862,\n",
       " 0.876,\n",
       " 0.888,\n",
       " 0.908,\n",
       " 0.916,\n",
       " 0.918,\n",
       " 0.918,\n",
       " 0.92,\n",
       " 0.922,\n",
       " 0.924,\n",
       " 0.928,\n",
       " 0.93,\n",
       " 0.932,\n",
       " 0.936,\n",
       " 0.934,\n",
       " 0.938,\n",
       " 0.94,\n",
       " 0.944,\n",
       " 0.948,\n",
       " 0.948,\n",
       " 0.948,\n",
       " 0.946,\n",
       " 0.95,\n",
       " 0.952,\n",
       " 0.958,\n",
       " 0.96,\n",
       " 0.962,\n",
       " 0.962,\n",
       " 0.962,\n",
       " 0.962,\n",
       " 0.96,\n",
       " 0.96,\n",
       " 0.96,\n",
       " 0.96,\n",
       " 0.96,\n",
       " 0.96,\n",
       " 0.96,\n",
       " 0.96,\n",
       " 0.958,\n",
       " 0.958,\n",
       " 0.958,\n",
       " 0.958,\n",
       " 0.958,\n",
       " 0.958,\n",
       " 0.958,\n",
       " 0.958,\n",
       " 0.958,\n",
       " 0.958,\n",
       " 0.958,\n",
       " 0.958,\n",
       " 0.958,\n",
       " 0.956,\n",
       " 0.956,\n",
       " 0.956,\n",
       " 0.958,\n",
       " 0.958,\n",
       " 0.958,\n",
       " 0.958,\n",
       " 0.958,\n",
       " 0.958,\n",
       " 0.958,\n",
       " 0.958,\n",
       " 0.958,\n",
       " 0.958,\n",
       " 0.958,\n",
       " 0.958,\n",
       " 0.958,\n",
       " 0.958,\n",
       " 0.958,\n",
       " 0.958,\n",
       " 0.958,\n",
       " 0.958,\n",
       " 0.96,\n",
       " 0.96,\n",
       " 0.96,\n",
       " 0.958,\n",
       " 0.958,\n",
       " 0.958,\n",
       " 0.958,\n",
       " 0.958,\n",
       " 0.958]"
      ]
     },
     "execution_count": 74,
     "metadata": {},
     "output_type": "execute_result"
    }
   ],
   "source": [
    "accuracy"
   ]
  },
  {
   "cell_type": "code",
   "execution_count": 139,
   "metadata": {
    "scrolled": true
   },
   "outputs": [
    {
     "name": "stdout",
     "output_type": "stream",
     "text": [
      "n_filters :  32\n",
      "kern_size :  5\n",
      "n_stride :  1\n",
      "Model: \"sequential_43\"\n",
      "_________________________________________________________________\n",
      "Layer (type)                 Output Shape              Param #   \n",
      "=================================================================\n",
      "conv1d_248 (Conv1D)          (None, 140, 32)           192       \n",
      "_________________________________________________________________\n",
      "batch_normalization_273 (Bat (None, 140, 32)           128       \n",
      "_________________________________________________________________\n",
      "activation_273 (Activation)  (None, 140, 32)           0         \n",
      "_________________________________________________________________\n",
      "dropout_248 (Dropout)        (None, 140, 32)           0         \n",
      "_________________________________________________________________\n",
      "conv1d_249 (Conv1D)          (None, 140, 32)           5152      \n",
      "_________________________________________________________________\n",
      "batch_normalization_274 (Bat (None, 140, 32)           128       \n",
      "_________________________________________________________________\n",
      "activation_274 (Activation)  (None, 140, 32)           0         \n",
      "_________________________________________________________________\n",
      "dropout_249 (Dropout)        (None, 140, 32)           0         \n",
      "_________________________________________________________________\n",
      "max_pooling1d_125 (MaxPoolin (None, 46, 32)            0         \n",
      "_________________________________________________________________\n",
      "conv1d_250 (Conv1D)          (None, 46, 32)            5152      \n",
      "_________________________________________________________________\n",
      "batch_normalization_275 (Bat (None, 46, 32)            128       \n",
      "_________________________________________________________________\n",
      "activation_275 (Activation)  (None, 46, 32)            0         \n",
      "_________________________________________________________________\n",
      "dropout_250 (Dropout)        (None, 46, 32)            0         \n",
      "_________________________________________________________________\n",
      "conv1d_251 (Conv1D)          (None, 46, 32)            5152      \n",
      "_________________________________________________________________\n",
      "batch_normalization_276 (Bat (None, 46, 32)            128       \n",
      "_________________________________________________________________\n",
      "activation_276 (Activation)  (None, 46, 32)            0         \n",
      "_________________________________________________________________\n",
      "dropout_251 (Dropout)        (None, 46, 32)            0         \n",
      "_________________________________________________________________\n",
      "max_pooling1d_126 (MaxPoolin (None, 15, 32)            0         \n",
      "_________________________________________________________________\n",
      "conv1d_252 (Conv1D)          (None, 15, 32)            5152      \n",
      "_________________________________________________________________\n",
      "batch_normalization_277 (Bat (None, 15, 32)            128       \n",
      "_________________________________________________________________\n",
      "activation_277 (Activation)  (None, 15, 32)            0         \n",
      "_________________________________________________________________\n",
      "dropout_252 (Dropout)        (None, 15, 32)            0         \n",
      "_________________________________________________________________\n",
      "conv1d_253 (Conv1D)          (None, 15, 32)            5152      \n",
      "_________________________________________________________________\n",
      "batch_normalization_278 (Bat (None, 15, 32)            128       \n",
      "_________________________________________________________________\n",
      "activation_278 (Activation)  (None, 15, 32)            0         \n",
      "_________________________________________________________________\n",
      "dropout_253 (Dropout)        (None, 15, 32)            0         \n",
      "_________________________________________________________________\n",
      "max_pooling1d_127 (MaxPoolin (None, 5, 32)             0         \n",
      "_________________________________________________________________\n",
      "flatten_40 (Flatten)         (None, 160)               0         \n",
      "_________________________________________________________________\n",
      "dense_65 (Dense)             (None, 5)                 805       \n",
      "=================================================================\n",
      "Total params: 27,525\n",
      "Trainable params: 27,141\n",
      "Non-trainable params: 384\n",
      "_________________________________________________________________\n",
      "None\n",
      "Train on 4500 samples, validate on 500 samples\n",
      "Epoch 1/50\n",
      "4500/4500 [==============================] - 17s 4ms/sample - loss: 0.2628 - accuracy: 0.9264 - val_loss: 0.2314 - val_accuracy: 0.9260\n",
      "Epoch 2/50\n",
      "4500/4500 [==============================] - 10s 2ms/sample - loss: 0.1999 - accuracy: 0.9433 - val_loss: 0.1879 - val_accuracy: 0.9360\n",
      "Epoch 3/50\n",
      "4500/4500 [==============================] - 11s 2ms/sample - loss: 0.1785 - accuracy: 0.9464 - val_loss: 0.2133 - val_accuracy: 0.9440\n",
      "Epoch 4/50\n",
      "4500/4500 [==============================] - 10s 2ms/sample - loss: 0.1717 - accuracy: 0.9524 - val_loss: 0.1488 - val_accuracy: 0.9520\n",
      "Epoch 5/50\n",
      "4500/4500 [==============================] - 10s 2ms/sample - loss: 0.1613 - accuracy: 0.9538 - val_loss: 0.1463 - val_accuracy: 0.9520\n",
      "Epoch 6/50\n",
      "4500/4500 [==============================] - 10s 2ms/sample - loss: 0.1537 - accuracy: 0.9533 - val_loss: 0.2067 - val_accuracy: 0.9240\n",
      "Epoch 7/50\n",
      "4500/4500 [==============================] - 11s 2ms/sample - loss: 0.1553 - accuracy: 0.9547 - val_loss: 0.1522 - val_accuracy: 0.9540\n",
      "Epoch 8/50\n",
      "4500/4500 [==============================] - 10s 2ms/sample - loss: 0.1492 - accuracy: 0.9567 - val_loss: 0.1432 - val_accuracy: 0.9600\n",
      "Epoch 9/50\n",
      "4500/4500 [==============================] - 11s 2ms/sample - loss: 0.1441 - accuracy: 0.9584 - val_loss: 0.1441 - val_accuracy: 0.9560\n",
      "Epoch 10/50\n",
      "4500/4500 [==============================] - 10s 2ms/sample - loss: 0.1378 - accuracy: 0.9598 - val_loss: 0.1768 - val_accuracy: 0.9540\n",
      "Epoch 11/50\n",
      "4500/4500 [==============================] - 11s 2ms/sample - loss: 0.1344 - accuracy: 0.9604 - val_loss: 0.1525 - val_accuracy: 0.9460\n",
      "Epoch 12/50\n",
      "4500/4500 [==============================] - 10s 2ms/sample - loss: 0.1358 - accuracy: 0.9602 - val_loss: 0.1473 - val_accuracy: 0.9640\n",
      "Epoch 13/50\n",
      "4500/4500 [==============================] - 10s 2ms/sample - loss: 0.1311 - accuracy: 0.9620 - val_loss: 0.1385 - val_accuracy: 0.9580\n",
      "Epoch 14/50\n",
      "4500/4500 [==============================] - 10s 2ms/sample - loss: 0.1280 - accuracy: 0.9611 - val_loss: 0.1367 - val_accuracy: 0.9560\n",
      "Epoch 15/50\n",
      "4500/4500 [==============================] - 11s 2ms/sample - loss: 0.1286 - accuracy: 0.9622 - val_loss: 0.1382 - val_accuracy: 0.9580\n",
      "Epoch 16/50\n",
      "4500/4500 [==============================] - 9s 2ms/sample - loss: 0.1218 - accuracy: 0.9629 - val_loss: 0.1863 - val_accuracy: 0.9440\n",
      "Epoch 17/50\n",
      "4500/4500 [==============================] - 9s 2ms/sample - loss: 0.1265 - accuracy: 0.9627 - val_loss: 0.1445 - val_accuracy: 0.9580\n",
      "Epoch 18/50\n",
      "4500/4500 [==============================] - 9s 2ms/sample - loss: 0.1199 - accuracy: 0.9642 - val_loss: 0.1410 - val_accuracy: 0.9700\n",
      "Epoch 19/50\n",
      "4500/4500 [==============================] - 9s 2ms/sample - loss: 0.1186 - accuracy: 0.9644 - val_loss: 0.2842 - val_accuracy: 0.9060\n",
      "Epoch 20/50\n",
      "4500/4500 [==============================] - 9s 2ms/sample - loss: 0.1178 - accuracy: 0.9631 - val_loss: 0.1277 - val_accuracy: 0.9580\n",
      "Epoch 21/50\n",
      "4500/4500 [==============================] - 9s 2ms/sample - loss: 0.1161 - accuracy: 0.9636 - val_loss: 0.1391 - val_accuracy: 0.9600\n",
      "Epoch 22/50\n",
      "4500/4500 [==============================] - 9s 2ms/sample - loss: 0.1163 - accuracy: 0.9651 - val_loss: 0.1352 - val_accuracy: 0.9580\n",
      "Epoch 23/50\n",
      "4500/4500 [==============================] - 9s 2ms/sample - loss: 0.1122 - accuracy: 0.9656 - val_loss: 0.1341 - val_accuracy: 0.9600\n",
      "Epoch 24/50\n",
      "4500/4500 [==============================] - 9s 2ms/sample - loss: 0.1136 - accuracy: 0.9664 - val_loss: 0.1368 - val_accuracy: 0.9620\n",
      "Epoch 25/50\n",
      "4500/4500 [==============================] - 9s 2ms/sample - loss: 0.1129 - accuracy: 0.9671 - val_loss: 0.1548 - val_accuracy: 0.9540\n",
      "Epoch 26/50\n",
      "4500/4500 [==============================] - 9s 2ms/sample - loss: 0.1090 - accuracy: 0.9684 - val_loss: 0.1482 - val_accuracy: 0.9600\n",
      "Epoch 27/50\n"
     ]
    },
    {
     "name": "stdout",
     "output_type": "stream",
     "text": [
      "4500/4500 [==============================] - 9s 2ms/sample - loss: 0.1047 - accuracy: 0.9698 - val_loss: 0.1430 - val_accuracy: 0.9580\n",
      "Epoch 28/50\n",
      "4500/4500 [==============================] - 9s 2ms/sample - loss: 0.1104 - accuracy: 0.9644 - val_loss: 0.1425 - val_accuracy: 0.9560\n",
      "Epoch 29/50\n",
      "4500/4500 [==============================] - 9s 2ms/sample - loss: 0.1068 - accuracy: 0.9671 - val_loss: 0.1148 - val_accuracy: 0.9700\n",
      "Epoch 30/50\n",
      "4500/4500 [==============================] - 9s 2ms/sample - loss: 0.1025 - accuracy: 0.9676 - val_loss: 0.1416 - val_accuracy: 0.9600\n",
      "Epoch 31/50\n",
      "4500/4500 [==============================] - 9s 2ms/sample - loss: 0.1049 - accuracy: 0.9680 - val_loss: 0.2429 - val_accuracy: 0.9340\n",
      "Epoch 32/50\n",
      "4500/4500 [==============================] - 9s 2ms/sample - loss: 0.1036 - accuracy: 0.9691 - val_loss: 0.1320 - val_accuracy: 0.9640\n",
      "Epoch 33/50\n",
      "4500/4500 [==============================] - 9s 2ms/sample - loss: 0.1029 - accuracy: 0.9711 - val_loss: 0.1246 - val_accuracy: 0.9600\n",
      "Epoch 34/50\n",
      "4500/4500 [==============================] - 9s 2ms/sample - loss: 0.0996 - accuracy: 0.9667 - val_loss: 0.1300 - val_accuracy: 0.9640\n",
      "Epoch 35/50\n",
      "4500/4500 [==============================] - 10s 2ms/sample - loss: 0.0993 - accuracy: 0.9711 - val_loss: 0.1366 - val_accuracy: 0.9600\n",
      "Epoch 36/50\n",
      "4500/4500 [==============================] - 10s 2ms/sample - loss: 0.0972 - accuracy: 0.9687 - val_loss: 0.1384 - val_accuracy: 0.9580\n",
      "Epoch 37/50\n",
      "4500/4500 [==============================] - 11s 2ms/sample - loss: 0.0962 - accuracy: 0.9711 - val_loss: 0.1255 - val_accuracy: 0.9620\n",
      "Epoch 38/50\n",
      "4500/4500 [==============================] - 10s 2ms/sample - loss: 0.1013 - accuracy: 0.9660 - val_loss: 0.1462 - val_accuracy: 0.9580\n",
      "Epoch 39/50\n",
      "4500/4500 [==============================] - 11s 2ms/sample - loss: 0.0927 - accuracy: 0.9702 - val_loss: 0.1366 - val_accuracy: 0.9600\n",
      "Epoch 40/50\n",
      "4500/4500 [==============================] - 12s 3ms/sample - loss: 0.0897 - accuracy: 0.9729 - val_loss: 0.1349 - val_accuracy: 0.9560\n",
      "Epoch 41/50\n",
      "4500/4500 [==============================] - 9s 2ms/sample - loss: 0.0937 - accuracy: 0.9702 - val_loss: 0.1401 - val_accuracy: 0.9560\n",
      "Epoch 42/50\n",
      "4500/4500 [==============================] - 9s 2ms/sample - loss: 0.0980 - accuracy: 0.9691 - val_loss: 0.1444 - val_accuracy: 0.9500\n",
      "Epoch 43/50\n",
      "4500/4500 [==============================] - 10s 2ms/sample - loss: 0.0886 - accuracy: 0.9707 - val_loss: 0.1461 - val_accuracy: 0.9620\n",
      "Epoch 44/50\n",
      "4500/4500 [==============================] - 10s 2ms/sample - loss: 0.0916 - accuracy: 0.9716 - val_loss: 0.1320 - val_accuracy: 0.9620\n",
      "Epoch 45/50\n",
      "4500/4500 [==============================] - 10s 2ms/sample - loss: 0.0899 - accuracy: 0.9711 - val_loss: 0.1373 - val_accuracy: 0.9640\n",
      "Epoch 46/50\n",
      "4500/4500 [==============================] - 11s 2ms/sample - loss: 0.0860 - accuracy: 0.9751 - val_loss: 0.1273 - val_accuracy: 0.9620\n",
      "Epoch 47/50\n",
      "4500/4500 [==============================] - 10s 2ms/sample - loss: 0.0901 - accuracy: 0.9693 - val_loss: 0.1236 - val_accuracy: 0.9640\n",
      "Epoch 48/50\n",
      "4500/4500 [==============================] - 11s 2ms/sample - loss: 0.0890 - accuracy: 0.9713 - val_loss: 0.1194 - val_accuracy: 0.9600\n",
      "Epoch 49/50\n",
      "4500/4500 [==============================] - 11s 2ms/sample - loss: 0.0845 - accuracy: 0.9751 - val_loss: 0.1245 - val_accuracy: 0.9600\n",
      "Epoch 50/50\n",
      "4500/4500 [==============================] - 12s 3ms/sample - loss: 0.0883 - accuracy: 0.9718 - val_loss: 0.1177 - val_accuracy: 0.9620\n"
     ]
    },
    {
     "data": {
      "image/png": "[encoded data removed]",
      "text/plain": [
       "<Figure size 432x288 with 1 Axes>"
      ]
     },
     "metadata": {
      "needs_background": "light"
     },
     "output_type": "display_data"
    },
    {
     "data": {
      "image/png": "[encoded data removed]",
      "text/plain": [
       "<Figure size 432x288 with 1 Axes>"
      ]
     },
     "metadata": {
      "needs_background": "light"
     },
     "output_type": "display_data"
    },
    {
     "data": {
      "image/png": "[encoded data removed]",
      "text/plain": [
       "<Figure size 432x288 with 1 Axes>"
      ]
     },
     "metadata": {
      "needs_background": "light"
     },
     "output_type": "display_data"
    },
    {
     "data": {
      "image/png": "[encoded data removed]",
      "text/plain": [
       "<Figure size 432x288 with 1 Axes>"
      ]
     },
     "metadata": {
      "needs_background": "light"
     },
     "output_type": "display_data"
    },
    {
     "name": "stdout",
     "output_type": "stream",
     "text": [
      "max val_accuracy is :  0.97\n",
      "###############################\n"
     ]
    }
   ],
   "source": [
    "n_classes = 5\n",
    "fc_act = 'relu'\n",
    "n_stride = 1\n",
    "\n",
    "for n_filters in [32]:\n",
    "    for kern_size in [5]:\n",
    "    \n",
    "        print('n_filters : ',n_init)\n",
    "        print('kern_size : ',kern_size)\n",
    "        print('n_stride : ',n_stride)\n",
    "        model = model_2(n_filters,kern_size,n_stride,fc_act,n_classes,False,(140,1))\n",
    "        # Define loss/optimizer/metrics\n",
    "        # Find the right loss for multi-class classification\n",
    "        loss_classif     =  tensorflow.keras.losses.categorical_crossentropy\n",
    "        #loss_classif = tfa.losses.SigmoidFocalCrossEntropy()\n",
    "        #loss_classif = loss\n",
    "\n",
    "        # Set the optimizer\n",
    "        optimizer = SGD(learning_rate=0.05)\n",
    "        #optimizer = Adam(learning_rate=0.05)\n",
    "        optimizer = tfa.optimizers.SWA(optimizer, start_averaging=0, average_period=3)\n",
    "\n",
    "        # Set the metrics\n",
    "        metrics_classif  =  ['accuracy']\n",
    "\n",
    "        # Compile\n",
    "        model.compile(loss=loss_classif,\n",
    "              optimizer=optimizer,\n",
    "              metrics=metrics_classif)\n",
    "        bs = 16\n",
    "        n_epochs = 50\n",
    "\n",
    "        history = model.fit(data_train_1D, labels_train_, batch_size=bs, epochs=n_epochs, validation_data=(data_test_1D, labels_test_))\n",
    "    \n",
    "        slid_wind_acc(history.history['accuracy'],10)\n",
    "        slid_wind_acc(history.history['loss'],10)\n",
    "        slid_wind_acc(history.history['val_accuracy'],10)\n",
    "        slid_wind_acc(history.history['val_loss'],10)\n",
    "\n",
    "        print('max val_accuracy is : ',np.max(history.history['val_accuracy']))\n",
    "        print('###############################')"
   ]
  },
  {
   "cell_type": "code",
   "execution_count": 152,
   "metadata": {
    "scrolled": true
   },
   "outputs": [
    {
     "name": "stdout",
     "output_type": "stream",
     "text": [
      "Train on 4935 samples, validate on 500 samples\n",
      "Epoch 1/20\n",
      "4935/4935 [==============================] - 19s 4ms/sample - loss: 0.4111 - accuracy: 0.8697 - val_loss: 0.3384 - val_accuracy: 0.9440\n",
      "Epoch 2/20\n",
      "4935/4935 [==============================] - 14s 3ms/sample - loss: 0.2943 - accuracy: 0.9050 - val_loss: 0.1895 - val_accuracy: 0.9500\n",
      "Epoch 3/20\n",
      "4935/4935 [==============================] - 15s 3ms/sample - loss: 0.2520 - accuracy: 0.9206 - val_loss: 0.1406 - val_accuracy: 0.9580\n",
      "Epoch 4/20\n",
      "4935/4935 [==============================] - 14s 3ms/sample - loss: 0.2320 - accuracy: 0.9246 - val_loss: 0.1723 - val_accuracy: 0.9580\n",
      "Epoch 5/20\n",
      "4935/4935 [==============================] - 14s 3ms/sample - loss: 0.2156 - accuracy: 0.9319 - val_loss: 0.1398 - val_accuracy: 0.9540\n",
      "Epoch 6/20\n",
      "4935/4935 [==============================] - 14s 3ms/sample - loss: 0.1979 - accuracy: 0.9388 - val_loss: 0.1513 - val_accuracy: 0.9560\n",
      "Epoch 7/20\n",
      "4935/4935 [==============================] - 15s 3ms/sample - loss: 0.1860 - accuracy: 0.9408 - val_loss: 0.1314 - val_accuracy: 0.9600\n",
      "Epoch 8/20\n",
      "4935/4935 [==============================] - 14s 3ms/sample - loss: 0.1787 - accuracy: 0.9418 - val_loss: 0.1386 - val_accuracy: 0.9600\n",
      "Epoch 9/20\n",
      "4935/4935 [==============================] - 15s 3ms/sample - loss: 0.1704 - accuracy: 0.9441 - val_loss: 0.4018 - val_accuracy: 0.9120\n",
      "Epoch 10/20\n",
      "4935/4935 [==============================] - 15s 3ms/sample - loss: 0.1735 - accuracy: 0.9425 - val_loss: 0.1293 - val_accuracy: 0.9600\n",
      "Epoch 11/20\n",
      "4935/4935 [==============================] - 15s 3ms/sample - loss: 0.1558 - accuracy: 0.9481 - val_loss: 0.1347 - val_accuracy: 0.9620\n",
      "Epoch 12/20\n",
      "4935/4935 [==============================] - 14s 3ms/sample - loss: 0.1563 - accuracy: 0.9499 - val_loss: 0.1805 - val_accuracy: 0.9520\n",
      "Epoch 13/20\n",
      "4935/4935 [==============================] - 14s 3ms/sample - loss: 0.1540 - accuracy: 0.9471 - val_loss: 0.1444 - val_accuracy: 0.9560\n",
      "Epoch 14/20\n",
      "4935/4935 [==============================] - 14s 3ms/sample - loss: 0.1531 - accuracy: 0.9512 - val_loss: 0.1320 - val_accuracy: 0.9620\n",
      "Epoch 15/20\n",
      "4935/4935 [==============================] - 14s 3ms/sample - loss: 0.1407 - accuracy: 0.9532 - val_loss: 0.1638 - val_accuracy: 0.9540\n",
      "Epoch 16/20\n",
      "4935/4935 [==============================] - 14s 3ms/sample - loss: 0.1377 - accuracy: 0.9524 - val_loss: 0.1418 - val_accuracy: 0.9600\n",
      "Epoch 17/20\n",
      "4935/4935 [==============================] - 15s 3ms/sample - loss: 0.1301 - accuracy: 0.9532 - val_loss: 0.2291 - val_accuracy: 0.9220\n",
      "Epoch 18/20\n",
      "4935/4935 [==============================] - 14s 3ms/sample - loss: 0.1330 - accuracy: 0.9550 - val_loss: 0.1422 - val_accuracy: 0.9560\n",
      "Epoch 19/20\n",
      "4935/4935 [==============================] - 15s 3ms/sample - loss: 0.1286 - accuracy: 0.9556 - val_loss: 0.1458 - val_accuracy: 0.9580\n",
      "Epoch 20/20\n",
      "4935/4935 [==============================] - 15s 3ms/sample - loss: 0.1257 - accuracy: 0.9554 - val_loss: 0.1377 - val_accuracy: 0.9660\n"
     ]
    }
   ],
   "source": [
    "bs = 32\n",
    "n_epochs = 50\n",
    "\n",
    "history = model.fit(data_train_1D, labels_train_, batch_size=bs, epochs=n_epochs, validation_data=(data_test_1D, labels_test_))\n",
    "#model.fit(data_train, labels_train_, batch_size=bs, epochs=n_epochs)"
   ]
  },
  {
   "cell_type": "code",
   "execution_count": 140,
   "metadata": {},
   "outputs": [
    {
     "data": {
      "image/png": "[encoded data removed]",
      "text/plain": [
       "<Figure size 432x288 with 1 Axes>"
      ]
     },
     "metadata": {
      "needs_background": "light"
     },
     "output_type": "display_data"
    },
    {
     "data": {
      "image/png": "[encoded data removed]",
      "text/plain": [
       "<Figure size 432x288 with 1 Axes>"
      ]
     },
     "metadata": {
      "needs_background": "light"
     },
     "output_type": "display_data"
    },
    {
     "data": {
      "image/png": "[encoded data removed]",
      "text/plain": [
       "<Figure size 432x288 with 1 Axes>"
      ]
     },
     "metadata": {
      "needs_background": "light"
     },
     "output_type": "display_data"
    },
    {
     "data": {
      "image/png": "[encoded data removed]",
      "text/plain": [
       "<Figure size 432x288 with 1 Axes>"
      ]
     },
     "metadata": {
      "needs_background": "light"
     },
     "output_type": "display_data"
    }
   ],
   "source": [
    "slid_wind_acc(history.history['accuracy'],10)\n",
    "slid_wind_acc(history.history['loss'],10)\n",
    "slid_wind_acc(history.history['val_accuracy'],10)\n",
    "slid_wind_acc(history.history['val_loss'],10)"
   ]
  },
  {
   "cell_type": "code",
   "execution_count": null,
   "metadata": {},
   "outputs": [],
   "source": []
  },
  {
   "cell_type": "code",
   "execution_count": null,
   "metadata": {},
   "outputs": [],
   "source": []
  },
  {
   "cell_type": "markdown",
   "metadata": {},
   "source": [
    "## Time series classification with sktime"
   ]
  },
  {
   "cell_type": "markdown",
   "metadata": {},
   "source": [
    "#### K-nearest-neighbours classifier for time series"
   ]
  },
  {
   "cell_type": "code",
   "execution_count": null,
   "metadata": {},
   "outputs": [],
   "source": [
    "#!pip install --user sktime"
   ]
  },
  {
   "cell_type": "code",
   "execution_count": 50,
   "metadata": {},
   "outputs": [],
   "source": [
    "import sktime"
   ]
  },
  {
   "cell_type": "code",
   "execution_count": 51,
   "metadata": {},
   "outputs": [],
   "source": [
    "from sktime.highlevel.tasks import TSCTask\n",
    "from sktime.highlevel.strategies import TSCStrategy\n",
    "\n",
    "from sktime.transformers.compose import RowwiseTransformer\n",
    "from sktime.transformers.compose import ColumnTransformer\n",
    "from sktime.transformers.compose import Tabulariser\n",
    "from sktime.transformers.segment import RandomIntervalSegmenter\n",
    "\n",
    "from sktime.pipeline import Pipeline\n",
    "from sktime.pipeline import FeatureUnion\n",
    "from sktime.classifiers.distance_based import ProximityForest \n",
    "\n",
    "from sktime.classifiers.compose import TimeSeriesForestClassifier\n",
    "from sktime.classifiers.distance_based import KNeighborsTimeSeriesClassifier\n",
    "\n",
    "from sktime.datasets import load_gunpoint\n",
    "from sktime.utils.time_series import time_series_slope\n",
    "\n",
    "from statsmodels.tsa.stattools import acf\n",
    "from statsmodels.tsa.ar_model import AR\n",
    "\n",
    "from sklearn.preprocessing import FunctionTransformer\n",
    "from sklearn.tree import DecisionTreeClassifier\n",
    "from sklearn.ensemble import RandomForestClassifier\n",
    "from sklearn.metrics import accuracy_score\n",
    "\n",
    "import numpy as np\n",
    "import pandas as pd"
   ]
  },
  {
   "cell_type": "code",
   "execution_count": 54,
   "metadata": {},
   "outputs": [
    {
     "data": {
      "text/plain": [
       "array([[291,   0,   0,   0,   1],\n",
       "       [  0, 168,   3,   6,   0],\n",
       "       [  0,   2,   8,   0,   0],\n",
       "       [  1,   9,   1,   8,   0],\n",
       "       [  0,   0,   0,   0,   2]], dtype=int64)"
      ]
     },
     "execution_count": 54,
     "metadata": {},
     "output_type": "execute_result"
    }
   ],
   "source": [
    "# KNN with DTW metric\n",
    "knn = KNeighborsTimeSeriesClassifier(metric='dtw')\n",
    "knn.fit(data_train_1D, labels_train)\n",
    "confusion_matrix(labels_test, knn.predict(data_test_1D))"
   ]
  },
  {
   "cell_type": "code",
   "execution_count": 57,
   "metadata": {},
   "outputs": [
    {
     "name": "stdout",
     "output_type": "stream",
     "text": [
      "0.954\n"
     ]
    }
   ],
   "source": [
    "conf_mat = np.array([[291,   0,   0,   0,   1],\n",
    "       [  0, 168,   3,   6,   0],\n",
    "       [  0,   2,   8,   0,   0],\n",
    "       [  1,   9,   1,   8,   0],\n",
    "       [  0,   0,   0,   0,   2]], dtype='int64')\n",
    "print(np.trace(conf_mat)/np.sum(conf_mat))"
   ]
  },
  {
   "cell_type": "markdown",
   "metadata": {},
   "source": [
    "#### Fully modular time-series forest classifier (TSF)"
   ]
  },
  {
   "cell_type": "code",
   "execution_count": 58,
   "metadata": {},
   "outputs": [],
   "source": [
    "import pandas as pd"
   ]
  },
  {
   "cell_type": "code",
   "execution_count": 59,
   "metadata": {},
   "outputs": [],
   "source": [
    "steps = [\n",
    "    ('segment', RandomIntervalSegmenter(n_intervals='sqrt')),\n",
    "    ('transform', FeatureUnion([\n",
    "        ('mean', RowwiseTransformer(FunctionTransformer(func=np.mean, validate=False))),\n",
    "        ('std', RowwiseTransformer(FunctionTransformer(func=np.std, validate=False))),\n",
    "        ('slope', RowwiseTransformer(FunctionTransformer(func=time_series_slope, validate=False)))\n",
    "    ])),\n",
    "    ('clf', DecisionTreeClassifier())\n",
    "]\n",
    "base_estimator = Pipeline(steps, random_state=1)"
   ]
  },
  {
   "cell_type": "code",
   "execution_count": 61,
   "metadata": {},
   "outputs": [],
   "source": [
    "data_test_pd = pd.DataFrame(columns=['dim_0'])\n",
    "for i in range(len(data_test)):\n",
    "    data_test_pd = data_test_pd.append({'dim_0': data_test[i]}, ignore_index=True)\n",
    "    \n",
    "data_train_pd = pd.DataFrame(columns=['dim_0'])\n",
    "for i in range(len(data_train)):\n",
    "    data_train_pd = data_train_pd.append({'dim_0': data_train[i]}, ignore_index=True)"
   ]
  },
  {
   "cell_type": "code",
   "execution_count": 62,
   "metadata": {},
   "outputs": [
    {
     "data": {
      "text/plain": [
       "0.928"
      ]
     },
     "execution_count": 62,
     "metadata": {},
     "output_type": "execute_result"
    }
   ],
   "source": [
    "base_estimator.fit(data_train_pd, labels_train)\n",
    "base_estimator.score(data_test_pd, labels_test)"
   ]
  },
  {
   "cell_type": "code",
   "execution_count": null,
   "metadata": {},
   "outputs": [],
   "source": [
    "for k in range(1,15):\n",
    "    print(str(k*10),\" trees\")\n",
    "    tsf = TimeSeriesForestClassifier(base_estimator=base_estimator, \n",
    "                                 n_estimators=k*10,\n",
    "                                 criterion='entropy',\n",
    "                                 bootstrap=True, \n",
    "                                 oob_score=True, \n",
    "                                 random_state=1)\n",
    "    tsf.fit(data_train_pd, labels_train)\n",
    "    if tsf.oob_score:\n",
    "        print(tsf.oob_score_)\n",
    "    conf_mat = confusion_matrix(labels_test,tsf.predict(data_test_pd))\n",
    "    print(conf_mat)\n",
    "    print(np.trace(conf_mat)/np.sum(conf_mat))\n",
    "    print('####')"
   ]
  },
  {
   "cell_type": "markdown",
   "metadata": {},
   "source": [
    "#### Random Interval Spectral Ensemble"
   ]
  },
  {
   "cell_type": "code",
   "execution_count": null,
   "metadata": {},
   "outputs": [],
   "source": [
    "def ar_coefs(x, maxlag=100):\n",
    "    x = np.asarray(x).ravel()\n",
    "    nlags = np.minimum(len(x) - 1, maxlag)\n",
    "    model = AR(endog=x) \n",
    "    return model.fit(maxlag=nlags).params.ravel()\n",
    "\n",
    "def acf_coefs(x, maxlag=100):\n",
    "    x = np.asarray(x).ravel() \n",
    "    nlags = np.minimum(len(x) - 1, maxlag)\n",
    "    return acf(x, nlags=nlags).ravel()\n",
    "\n",
    "def powerspectrum(x, **kwargs):\n",
    "    x = np.asarray(x).ravel()\n",
    "    fft = np.fft.fft(x)\n",
    "    ps = fft.real * fft.real + fft.imag * fft.imag\n",
    "    return ps[:ps.shape[0] // 2].ravel()"
   ]
  },
  {
   "cell_type": "code",
   "execution_count": null,
   "metadata": {},
   "outputs": [],
   "source": [
    "steps = [\n",
    "    ('segment', RandomIntervalSegmenter(n_intervals=1, min_length=5)),\n",
    "    ('transform', FeatureUnion([\n",
    "        ('ar', RowwiseTransformer(FunctionTransformer(func=ar_coefs, validate=False))),\n",
    "        ('acf', RowwiseTransformer(FunctionTransformer(func=acf_coefs, validate=False))),\n",
    "        ('ps', RowwiseTransformer(FunctionTransformer(func=powerspectrum, validate=False)))\n",
    "    ])),\n",
    "    ('tabularise', Tabulariser()),\n",
    "    ('clf', DecisionTreeClassifier())\n",
    "]\n",
    "base_estimator = Pipeline(steps)"
   ]
  },
  {
   "cell_type": "code",
   "execution_count": null,
   "metadata": {},
   "outputs": [],
   "source": [
    "rise = TimeSeriesForestClassifier(base_estimator=base_estimator,\n",
    "                                  n_estimators=50, \n",
    "                                  bootstrap=True,\n",
    "                                  oob_score=True)"
   ]
  },
  {
   "cell_type": "code",
   "execution_count": null,
   "metadata": {},
   "outputs": [],
   "source": [
    "rise.fit(data_train_pd, labels_train)\n",
    "if rise.oob_score:\n",
    "    print(rise.oob_score_)"
   ]
  },
  {
   "cell_type": "code",
   "execution_count": null,
   "metadata": {},
   "outputs": [],
   "source": [
    "rise.score(data_test_pd, labels_test)"
   ]
  },
  {
   "cell_type": "code",
   "execution_count": null,
   "metadata": {},
   "outputs": [],
   "source": [
    "confusion_matrix(labels_test,rise.predict(data_test_pd))"
   ]
  },
  {
   "cell_type": "markdown",
   "metadata": {},
   "source": [
    "## SAVE"
   ]
  },
  {
   "cell_type": "code",
   "execution_count": null,
   "metadata": {},
   "outputs": [],
   "source": [
    "# 1D-CNN takes in input (n_data,len_sequences,n_sensors)\n",
    "# here we have only one sensor but we still need data to be in shape (n_data,len_sequences,1)\n",
    "# and not (n_data,len_sequences)\n",
    "n_init = 8\n",
    "n_classes = 5\n",
    "fc_act = 'relu'\n",
    "n_stride = 20\n",
    "#fc_act = mish\n",
    "\n",
    "model = Sequential()\n",
    "\n",
    "#add_conv_block_input(model, n_init, n_stride, fc_act, MaxPooling1D(3), (140,1))\n",
    "model.add(Conv1D(n_init, n_stride, padding='same', input_shape=(140,1)))\n",
    "model.add(BatchNormalization())\n",
    "model.add(Activation(fc_act))\n",
    "model.add(Conv1D(n_init, n_stride, padding='same'))\n",
    "model.add(BatchNormalization())\n",
    "model.add(Activation(fc_act))\n",
    "model.add(MaxPooling1D(3))\n",
    "\n",
    "model.add(Conv1D(2*n_init, n_stride, padding='same'))\n",
    "model.add(BatchNormalization())\n",
    "model.add(Activation(fc_act))\n",
    "model.add(Conv1D(2*n_init, n_stride, padding='same'))\n",
    "model.add(BatchNormalization())\n",
    "model.add(Activation(fc_act))\n",
    "model.add(MaxPooling1D(3))\n",
    "\n",
    "model.add(Conv1D(4*n_init, n_stride, padding='same'))\n",
    "model.add(BatchNormalization())\n",
    "model.add(Activation(fc_act))\n",
    "model.add(Conv1D(4*n_init, n_stride, padding='same'))\n",
    "model.add(BatchNormalization())\n",
    "model.add(Activation(fc_act))\n",
    "model.add(MaxPooling1D(3))\n",
    "\n",
    "model.add(Conv1D(8*n_init, n_stride, padding='same'))\n",
    "model.add(BatchNormalization())\n",
    "model.add(Activation(fc_act))\n",
    "model.add(Conv1D(8*n_init, n_stride, padding='same'))\n",
    "model.add(BatchNormalization())\n",
    "model.add(Activation(fc_act))\n",
    "model.add(GlobalAveragePooling1D())\n",
    "\n",
    "\n",
    "#model.add(Dense(15))\n",
    "#model.add(BatchNormalization())\n",
    "#model.add(Activation('relu'))\n",
    "#model.add(Dropout(0.2))\n",
    "model.add(Dense(n_classes, activation='softmax'))"
   ]
  },
  {
   "cell_type": "code",
   "execution_count": null,
   "metadata": {},
   "outputs": [],
   "source": [
    "# Classical NN\n",
    "n_classes = 5\n",
    "\n",
    "model = Sequential()\n",
    "model.add(Dense(70))\n",
    "model.add(BatchNormalization())\n",
    "model.add(Activation('relu'))\n",
    "model.add(Dense(35))\n",
    "model.add(BatchNormalization())\n",
    "model.add(Activation('relu'))\n",
    "model.add(Dropout(0.2))\n",
    "model.add(Dense(n_classes, activation='softmax'))"
   ]
  },
  {
   "cell_type": "code",
   "execution_count": 72,
   "metadata": {},
   "outputs": [],
   "source": [
    "file_path = \"C:\\\\Users\\\\cleme\\\\Desktop\\\\ENSAE_3a\\\\Deep Learning for Medical Imaging\\\\mit-bih-arrhythmia-database-1.0.0\\mit-bih-arrhythmia-database-1.0.0\"\n"
   ]
  },
  {
   "cell_type": "code",
   "execution_count": 76,
   "metadata": {},
   "outputs": [],
   "source": [
    "myarray = np.fromfile(file_path+'\\\\101.dat', dtype=float)"
   ]
  },
  {
   "cell_type": "code",
   "execution_count": 77,
   "metadata": {},
   "outputs": [
    {
     "data": {
      "text/plain": [
       "(243750,)"
      ]
     },
     "execution_count": 77,
     "metadata": {},
     "output_type": "execute_result"
    }
   ],
   "source": [
    "myarray.shape"
   ]
  },
  {
   "cell_type": "code",
   "execution_count": 79,
   "metadata": {},
   "outputs": [
    {
     "name": "stdout",
     "output_type": "stream",
     "text": [
      "0    72471\n",
      "4     6431\n",
      "2     5788\n",
      "1     2223\n",
      "3      641\n",
      "Name: 187, dtype: int64\n"
     ]
    }
   ],
   "source": [
    "import pandas as pd\n",
    "train_df = pd.read_csv('C:\\\\Users\\\\cleme\\\\Desktop\\\\ENSAE_3a\\\\Deep Learning for Medical Imaging\\\\heartbeat\\\\mitbih_train.csv',header=None)\n",
    "train_df[187]=train_df[187].astype(int)\n",
    "equilibre=train_df[187].value_counts()\n",
    "print(equilibre)"
   ]
  },
  {
   "cell_type": "code",
   "execution_count": 84,
   "metadata": {},
   "outputs": [
    {
     "data": {
      "image/png": "[encoded data removed]",
      "text/plain": [
       "<Figure size 432x288 with 1 Axes>"
      ]
     },
     "metadata": {
      "needs_background": "light"
     },
     "output_type": "display_data"
    }
   ],
   "source": [
    "hist_train = plt.hist(train_df.values[:,-1])"
   ]
  },
  {
   "cell_type": "code",
   "execution_count": 86,
   "metadata": {},
   "outputs": [
    {
     "data": {
      "text/plain": [
       "array([0.82772917, 0.        , 0.02539005, 0.        , 0.        ,\n",
       "       0.06610777, 0.        , 0.0073212 , 0.        , 0.07345181])"
      ]
     },
     "execution_count": 86,
     "metadata": {},
     "output_type": "execute_result"
    }
   ],
   "source": [
    "hist_train[0]/np.sum(hist_train[0])"
   ]
  },
  {
   "cell_type": "code",
   "execution_count": null,
   "metadata": {},
   "outputs": [],
   "source": []
  }
 ],
 "metadata": {
  "kernelspec": {
   "display_name": "Python 3",
   "language": "python",
   "name": "python3"
  },
  "language_info": {
   "codemirror_mode": {
    "name": "ipython",
    "version": 3
   },
   "file_extension": ".py",
   "mimetype": "text/x-python",
   "name": "python",
   "nbconvert_exporter": "python",
   "pygments_lexer": "ipython3",
   "version": "3.6.5"
  }
 },
 "nbformat": 4,
 "nbformat_minor": 2
}
