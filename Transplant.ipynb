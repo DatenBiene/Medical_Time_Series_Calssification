{
  "nbformat": 4,
  "nbformat_minor": 0,
  "metadata": {
    "accelerator": "GPU",
    "colab": {
      "name": "TRANSPLANT.ipynb",
      "provenance": [],
      "collapsed_sections": [],
      "toc_visible": true
    },
    "kernelspec": {
      "display_name": "Python 3",
      "language": "python",
      "name": "python3"
    },
    "language_info": {
      "codemirror_mode": {
        "name": "ipython",
        "version": 3
      },
      "file_extension": ".py",
      "mimetype": "text/x-python",
      "name": "python",
      "nbconvert_exporter": "python",
      "pygments_lexer": "ipython3",
      "version": "3.7.4"
    }
  },
  "cells": [
    {
      "cell_type": "markdown",
      "metadata": {
        "id": "k7Qj9o_IvVCc",
        "colab_type": "text"
      },
      "source": [
        "# Warning: if you are using Colab"
      ]
    },
    {
      "cell_type": "markdown",
      "metadata": {
        "id": "iFPun_AHsUoe",
        "colab_type": "text"
      },
      "source": [
        "If you are currently running on Colab, you need to install ```tensorflow``` v-2.1.0 (the default version  on Colab is v-2.2.0) and ```keract``` beforehand."
      ]
    },
    {
      "cell_type": "code",
      "metadata": {
        "id": "SDG1uCoqq16y",
        "colab_type": "code",
        "outputId": "eecb3896-06c0-45f1-a675-322c96b59daf",
        "colab": {
          "base_uri": "https://localhost:8080/",
          "height": 255
        }
      },
      "source": [
        "!pip uninstall tensorflow"
      ],
      "execution_count": 1,
      "outputs": [
        {
          "output_type": "stream",
          "text": [
            "Uninstalling tensorflow-2.2.0rc1:\n",
            "  Would remove:\n",
            "    /usr/local/bin/estimator_ckpt_converter\n",
            "    /usr/local/bin/saved_model_cli\n",
            "    /usr/local/bin/tensorboard\n",
            "    /usr/local/bin/tf_upgrade_v2\n",
            "    /usr/local/bin/tflite_convert\n",
            "    /usr/local/bin/toco\n",
            "    /usr/local/bin/toco_from_protos\n",
            "    /usr/local/lib/python3.6/dist-packages/tensorflow-2.2.0rc1.dist-info/*\n",
            "    /usr/local/lib/python3.6/dist-packages/tensorflow/*\n",
            "Proceed (y/n)? y\n",
            "y\n",
            "  Successfully uninstalled tensorflow-2.2.0rc1\n"
          ],
          "name": "stdout"
        }
      ]
    },
    {
      "cell_type": "code",
      "metadata": {
        "id": "g3PxpDSHq99Y",
        "colab_type": "code",
        "outputId": "7ca5d22b-74b3-4eff-bf33-975c69c53659",
        "colab": {
          "base_uri": "https://localhost:8080/",
          "height": 938
        }
      },
      "source": [
        "!pip install tensorflow==2.1.0"
      ],
      "execution_count": 2,
      "outputs": [
        {
          "output_type": "stream",
          "text": [
            "Collecting tensorflow==2.1.0\n",
            "\u001b[?25l  Downloading https://files.pythonhosted.org/packages/85/d4/c0cd1057b331bc38b65478302114194bd8e1b9c2bbc06e300935c0e93d90/tensorflow-2.1.0-cp36-cp36m-manylinux2010_x86_64.whl (421.8MB)\n",
            "\u001b[K     |████████████████████████████████| 421.8MB 16kB/s \n",
            "\u001b[?25hRequirement already satisfied: six>=1.12.0 in /usr/local/lib/python3.6/dist-packages (from tensorflow==2.1.0) (1.12.0)\n",
            "Requirement already satisfied: keras-applications>=1.0.8 in /usr/local/lib/python3.6/dist-packages (from tensorflow==2.1.0) (1.0.8)\n",
            "Requirement already satisfied: absl-py>=0.7.0 in /usr/local/lib/python3.6/dist-packages (from tensorflow==2.1.0) (0.9.0)\n",
            "Collecting gast==0.2.2\n",
            "  Downloading https://files.pythonhosted.org/packages/4e/35/11749bf99b2d4e3cceb4d55ca22590b0d7c2c62b9de38ac4a4a7f4687421/gast-0.2.2.tar.gz\n",
            "Requirement already satisfied: termcolor>=1.1.0 in /usr/local/lib/python3.6/dist-packages (from tensorflow==2.1.0) (1.1.0)\n",
            "Requirement already satisfied: astor>=0.6.0 in /usr/local/lib/python3.6/dist-packages (from tensorflow==2.1.0) (0.8.1)\n",
            "Requirement already satisfied: numpy<2.0,>=1.16.0 in /usr/local/lib/python3.6/dist-packages (from tensorflow==2.1.0) (1.18.2)\n",
            "Requirement already satisfied: protobuf>=3.8.0 in /usr/local/lib/python3.6/dist-packages (from tensorflow==2.1.0) (3.10.0)\n",
            "Collecting tensorflow-estimator<2.2.0,>=2.1.0rc0\n",
            "\u001b[?25l  Downloading https://files.pythonhosted.org/packages/18/90/b77c328a1304437ab1310b463e533fa7689f4bfc41549593056d812fab8e/tensorflow_estimator-2.1.0-py2.py3-none-any.whl (448kB)\n",
            "\u001b[K     |████████████████████████████████| 450kB 52.3MB/s \n",
            "\u001b[?25hRequirement already satisfied: wrapt>=1.11.1 in /usr/local/lib/python3.6/dist-packages (from tensorflow==2.1.0) (1.12.1)\n",
            "Requirement already satisfied: grpcio>=1.8.6 in /usr/local/lib/python3.6/dist-packages (from tensorflow==2.1.0) (1.27.2)\n",
            "Requirement already satisfied: wheel>=0.26; python_version >= \"3\" in /usr/local/lib/python3.6/dist-packages (from tensorflow==2.1.0) (0.34.2)\n",
            "Requirement already satisfied: scipy==1.4.1; python_version >= \"3\" in /usr/local/lib/python3.6/dist-packages (from tensorflow==2.1.0) (1.4.1)\n",
            "Requirement already satisfied: tensorboard<2.2.0,>=2.1.0 in /usr/local/lib/python3.6/dist-packages (from tensorflow==2.1.0) (2.1.1)\n",
            "Requirement already satisfied: google-pasta>=0.1.6 in /usr/local/lib/python3.6/dist-packages (from tensorflow==2.1.0) (0.2.0)\n",
            "Requirement already satisfied: keras-preprocessing>=1.1.0 in /usr/local/lib/python3.6/dist-packages (from tensorflow==2.1.0) (1.1.0)\n",
            "Requirement already satisfied: opt-einsum>=2.3.2 in /usr/local/lib/python3.6/dist-packages (from tensorflow==2.1.0) (3.2.0)\n",
            "Requirement already satisfied: h5py in /usr/local/lib/python3.6/dist-packages (from keras-applications>=1.0.8->tensorflow==2.1.0) (2.10.0)\n",
            "Requirement already satisfied: setuptools in /usr/local/lib/python3.6/dist-packages (from protobuf>=3.8.0->tensorflow==2.1.0) (46.0.0)\n",
            "Requirement already satisfied: google-auth<2,>=1.6.3 in /usr/local/lib/python3.6/dist-packages (from tensorboard<2.2.0,>=2.1.0->tensorflow==2.1.0) (1.7.2)\n",
            "Requirement already satisfied: markdown>=2.6.8 in /usr/local/lib/python3.6/dist-packages (from tensorboard<2.2.0,>=2.1.0->tensorflow==2.1.0) (3.2.1)\n",
            "Requirement already satisfied: google-auth-oauthlib<0.5,>=0.4.1 in /usr/local/lib/python3.6/dist-packages (from tensorboard<2.2.0,>=2.1.0->tensorflow==2.1.0) (0.4.1)\n",
            "Requirement already satisfied: werkzeug>=0.11.15 in /usr/local/lib/python3.6/dist-packages (from tensorboard<2.2.0,>=2.1.0->tensorflow==2.1.0) (1.0.0)\n",
            "Requirement already satisfied: requests<3,>=2.21.0 in /usr/local/lib/python3.6/dist-packages (from tensorboard<2.2.0,>=2.1.0->tensorflow==2.1.0) (2.21.0)\n",
            "Requirement already satisfied: rsa<4.1,>=3.1.4 in /usr/local/lib/python3.6/dist-packages (from google-auth<2,>=1.6.3->tensorboard<2.2.0,>=2.1.0->tensorflow==2.1.0) (4.0)\n",
            "Requirement already satisfied: cachetools<3.2,>=2.0.0 in /usr/local/lib/python3.6/dist-packages (from google-auth<2,>=1.6.3->tensorboard<2.2.0,>=2.1.0->tensorflow==2.1.0) (3.1.1)\n",
            "Requirement already satisfied: pyasn1-modules>=0.2.1 in /usr/local/lib/python3.6/dist-packages (from google-auth<2,>=1.6.3->tensorboard<2.2.0,>=2.1.0->tensorflow==2.1.0) (0.2.8)\n",
            "Requirement already satisfied: requests-oauthlib>=0.7.0 in /usr/local/lib/python3.6/dist-packages (from google-auth-oauthlib<0.5,>=0.4.1->tensorboard<2.2.0,>=2.1.0->tensorflow==2.1.0) (1.3.0)\n",
            "Requirement already satisfied: urllib3<1.25,>=1.21.1 in /usr/local/lib/python3.6/dist-packages (from requests<3,>=2.21.0->tensorboard<2.2.0,>=2.1.0->tensorflow==2.1.0) (1.24.3)\n",
            "Requirement already satisfied: chardet<3.1.0,>=3.0.2 in /usr/local/lib/python3.6/dist-packages (from requests<3,>=2.21.0->tensorboard<2.2.0,>=2.1.0->tensorflow==2.1.0) (3.0.4)\n",
            "Requirement already satisfied: idna<2.9,>=2.5 in /usr/local/lib/python3.6/dist-packages (from requests<3,>=2.21.0->tensorboard<2.2.0,>=2.1.0->tensorflow==2.1.0) (2.8)\n",
            "Requirement already satisfied: certifi>=2017.4.17 in /usr/local/lib/python3.6/dist-packages (from requests<3,>=2.21.0->tensorboard<2.2.0,>=2.1.0->tensorflow==2.1.0) (2019.11.28)\n",
            "Requirement already satisfied: pyasn1>=0.1.3 in /usr/local/lib/python3.6/dist-packages (from rsa<4.1,>=3.1.4->google-auth<2,>=1.6.3->tensorboard<2.2.0,>=2.1.0->tensorflow==2.1.0) (0.4.8)\n",
            "Requirement already satisfied: oauthlib>=3.0.0 in /usr/local/lib/python3.6/dist-packages (from requests-oauthlib>=0.7.0->google-auth-oauthlib<0.5,>=0.4.1->tensorboard<2.2.0,>=2.1.0->tensorflow==2.1.0) (3.1.0)\n",
            "Building wheels for collected packages: gast\n",
            "  Building wheel for gast (setup.py) ... \u001b[?25l\u001b[?25hdone\n",
            "  Created wheel for gast: filename=gast-0.2.2-cp36-none-any.whl size=7540 sha256=6a48fd26b58c114efa56eae3e2f4aa83b753f27f46e76db47f501c932cb229d9\n",
            "  Stored in directory: /root/.cache/pip/wheels/5c/2e/7e/a1d4d4fcebe6c381f378ce7743a3ced3699feb89bcfbdadadd\n",
            "Successfully built gast\n",
            "Installing collected packages: gast, tensorflow-estimator, tensorflow\n",
            "  Found existing installation: gast 0.3.3\n",
            "    Uninstalling gast-0.3.3:\n",
            "      Successfully uninstalled gast-0.3.3\n",
            "  Found existing installation: tensorflow-estimator 2.2.0rc0\n",
            "    Uninstalling tensorflow-estimator-2.2.0rc0:\n",
            "      Successfully uninstalled tensorflow-estimator-2.2.0rc0\n",
            "Successfully installed gast-0.2.2 tensorflow-2.1.0 tensorflow-estimator-2.1.0\n"
          ],
          "name": "stdout"
        }
      ]
    },
    {
      "cell_type": "code",
      "metadata": {
        "colab_type": "code",
        "id": "7g6ULdV1h9PP",
        "outputId": "baf59ab0-2c30-4a87-ffd2-5983f945cd72",
        "colab": {
          "base_uri": "https://localhost:8080/",
          "height": 122
        }
      },
      "source": [
        "!pip install keract"
      ],
      "execution_count": 3,
      "outputs": [
        {
          "output_type": "stream",
          "text": [
            "Collecting keract\n",
            "  Downloading https://files.pythonhosted.org/packages/ad/7f/74c42d4f6fcd09de8a0ebad1bde5484510a80c03df7d0b0db18474aaade5/keract-3.1.0-py3-none-any.whl\n",
            "Requirement already satisfied: numpy>=1.16.2 in /usr/local/lib/python3.6/dist-packages (from keract) (1.18.2)\n",
            "Installing collected packages: keract\n",
            "Successfully installed keract-3.1.0\n"
          ],
          "name": "stdout"
        }
      ]
    },
    {
      "cell_type": "code",
      "metadata": {
        "colab_type": "code",
        "id": "Ee6y2InMixTC",
        "outputId": "6ee1bccf-00fa-4175-a3b5-766a43a232ab",
        "colab": {
          "base_uri": "https://localhost:8080/",
          "height": 122
        }
      },
      "source": [
        "from google.colab import drive\n",
        "drive.mount('/content/drive')"
      ],
      "execution_count": 4,
      "outputs": [
        {
          "output_type": "stream",
          "text": [
            "Go to this URL in a browser: https://accounts.google.com/o/oauth2/auth?client_id=947318989803-6bn6qk8qdgf4n4g3pfee6491hc0brc4i.apps.googleusercontent.com&redirect_uri=urn%3aietf%3awg%3aoauth%3a2.0%3aoob&response_type=code&scope=email%20https%3a%2f%2fwww.googleapis.com%2fauth%2fdocs.test%20https%3a%2f%2fwww.googleapis.com%2fauth%2fdrive%20https%3a%2f%2fwww.googleapis.com%2fauth%2fdrive.photos.readonly%20https%3a%2f%2fwww.googleapis.com%2fauth%2fpeopleapi.readonly\n",
            "\n",
            "Enter your authorization code:\n",
            "··········\n",
            "Mounted at /content/drive\n"
          ],
          "name": "stdout"
        }
      ]
    },
    {
      "cell_type": "code",
      "metadata": {
        "colab_type": "code",
        "id": "qF-n-lNLjUzK",
        "colab": {}
      },
      "source": [
        "import os \n",
        "os.chdir('/content/drive/My Drive/MVA/S2/DLMI')"
      ],
      "execution_count": 0,
      "outputs": []
    },
    {
      "cell_type": "markdown",
      "metadata": {
        "colab_type": "text",
        "id": "4H5Lmd2tjfIr"
      },
      "source": [
        "# Imports"
      ]
    },
    {
      "cell_type": "code",
      "metadata": {
        "colab_type": "code",
        "id": "8qejGm9yuYHU",
        "colab": {}
      },
      "source": [
        "%load_ext autoreload\n",
        "%autoreload 2\n",
        "%matplotlib inline"
      ],
      "execution_count": 0,
      "outputs": []
    },
    {
      "cell_type": "code",
      "metadata": {
        "colab_type": "code",
        "id": "--N9sUiGjdxY",
        "outputId": "f16ed07e-e26a-4682-86e2-cba32020e4e3",
        "colab": {
          "base_uri": "https://localhost:8080/",
          "height": 34
        }
      },
      "source": [
        "import tensorflow_addons as tfa\n",
        "import keract\n",
        "import pandas as pd\n",
        "import numpy as np \n",
        "import matplotlib.pyplot as plt\n",
        "from keras.utils import to_categorical\n",
        "from sklearn.model_selection import StratifiedShuffleSplit\n",
        "from sklearn.metrics import confusion_matrix,recall_score,accuracy_score,precision_score\n",
        "import keras\n",
        "import tensorflow as tf\n",
        "from utils.evaluation import *\n",
        "from utils.utils import read_dataset,split_dataset,visualize_transplant"
      ],
      "execution_count": 7,
      "outputs": [
        {
          "output_type": "stream",
          "text": [
            "Using TensorFlow backend.\n"
          ],
          "name": "stderr"
        }
      ]
    },
    {
      "cell_type": "markdown",
      "metadata": {
        "colab_type": "text",
        "id": "_RIyONMlItgI"
      },
      "source": [
        "# 1. Data importation and visualization"
      ]
    },
    {
      "cell_type": "code",
      "metadata": {
        "colab_type": "code",
        "id": "tHI0lYE0CxWD",
        "colab": {}
      },
      "source": [
        "xtrain,ytrain,xval,yval,y_val_true,xtest,ytest,y_test_true,cols = np.load('data/transplant_10col.npy',\n",
        "                                                                          allow_pickle=True)"
      ],
      "execution_count": 0,
      "outputs": []
    },
    {
      "cell_type": "code",
      "metadata": {
        "id": "fpKgE7tHEfDD",
        "colab_type": "code",
        "colab": {
          "base_uri": "https://localhost:8080/",
          "height": 34
        },
        "outputId": "9e9fa958-1bd8-48e5-c55c-c45652ab237a"
      },
      "source": [
        "xtrain.shape,xtest.shape"
      ],
      "execution_count": 9,
      "outputs": [
        {
          "output_type": "execute_result",
          "data": {
            "text/plain": [
              "((264, 1082, 10), (33, 1082, 10))"
            ]
          },
          "metadata": {
            "tags": []
          },
          "execution_count": 9
        }
      ]
    },
    {
      "cell_type": "code",
      "metadata": {
        "colab_type": "code",
        "id": "CZbtDPPykCId",
        "outputId": "4bdc137e-b034-4097-fd98-880c03e65d50",
        "colab": {
          "base_uri": "https://localhost:8080/",
          "height": 281
        }
      },
      "source": [
        "plt.hist(ytrain)\n",
        "plt.title('Distribution of labels across the dataset')\n",
        "plt.show()"
      ],
      "execution_count": 10,
      "outputs": [
        {
          "output_type": "display_data",
          "data": {
            "image/png": "[encoded data removed]",
            "text/plain": [
              "<Figure size 432x288 with 1 Axes>"
            ]
          },
          "metadata": {
            "tags": []
          }
        }
      ]
    },
    {
      "cell_type": "code",
      "metadata": {
        "colab_type": "code",
        "id": "qd9t1I1CJCCq",
        "outputId": "16569c1f-fe49-40ed-dd04-ed9ed7c8d992",
        "colab": {
          "base_uri": "https://localhost:8080/",
          "height": 142
        }
      },
      "source": [
        "unique_labels,props = np.unique(ytrain,return_counts=True)\n",
        "df_props = pd.DataFrame([],columns=['proportion'],index = unique_labels)\n",
        "df_props.index.name='label'\n",
        "df_props['proportion'] = props/np.sum(props)\n",
        "df_props"
      ],
      "execution_count": 11,
      "outputs": [
        {
          "output_type": "execute_result",
          "data": {
            "text/html": [
              "<div>\n",
              "<style scoped>\n",
              "    .dataframe tbody tr th:only-of-type {\n",
              "        vertical-align: middle;\n",
              "    }\n",
              "\n",
              "    .dataframe tbody tr th {\n",
              "        vertical-align: top;\n",
              "    }\n",
              "\n",
              "    .dataframe thead th {\n",
              "        text-align: right;\n",
              "    }\n",
              "</style>\n",
              "<table border=\"1\" class=\"dataframe\">\n",
              "  <thead>\n",
              "    <tr style=\"text-align: right;\">\n",
              "      <th></th>\n",
              "      <th>proportion</th>\n",
              "    </tr>\n",
              "    <tr>\n",
              "      <th>label</th>\n",
              "      <th></th>\n",
              "    </tr>\n",
              "  </thead>\n",
              "  <tbody>\n",
              "    <tr>\n",
              "      <th>0</th>\n",
              "      <td>0.57197</td>\n",
              "    </tr>\n",
              "    <tr>\n",
              "      <th>1</th>\n",
              "      <td>0.42803</td>\n",
              "    </tr>\n",
              "  </tbody>\n",
              "</table>\n",
              "</div>"
            ],
            "text/plain": [
              "       proportion\n",
              "label            \n",
              "0         0.57197\n",
              "1         0.42803"
            ]
          },
          "metadata": {
            "tags": []
          },
          "execution_count": 11
        }
      ]
    },
    {
      "cell_type": "code",
      "metadata": {
        "colab_type": "code",
        "id": "1NyvXMMbkWA1",
        "outputId": "5795519e-1686-4f9b-e96c-e66a32cf6cd7",
        "colab": {
          "base_uri": "https://localhost:8080/",
          "height": 1000
        }
      },
      "source": [
        "visualize_transplant(xtrain,ytrain,cols)"
      ],
      "execution_count": 14,
      "outputs": [
        {
          "output_type": "display_data",
          "data": {
            "image/png": "[encoded data removed]",
            "text/plain": [
              "<Figure size 1008x1080 with 20 Axes>"
            ]
          },
          "metadata": {
            "tags": []
          }
        }
      ]
    },
    {
      "cell_type": "markdown",
      "metadata": {
        "id": "IplGsZPn_ZGz",
        "colab_type": "text"
      },
      "source": [
        "# 2. Splitting dataset"
      ]
    },
    {
      "cell_type": "markdown",
      "metadata": {
        "id": "Q8svMOks_coJ",
        "colab_type": "text"
      },
      "source": [
        "Our dataset has already been splitted using a stratified shuffle split, to respect the labels distribution."
      ]
    },
    {
      "cell_type": "markdown",
      "metadata": {
        "colab_type": "text",
        "id": "zpjKZGSFlUQC"
      },
      "source": [
        "# 3. Testing models"
      ]
    },
    {
      "cell_type": "markdown",
      "metadata": {
        "colab_type": "text",
        "id": "jeIx_XbEZJQ8"
      },
      "source": [
        "## 3.1 MLP"
      ]
    },
    {
      "cell_type": "code",
      "metadata": {
        "colab_type": "code",
        "id": "rUtVcgXPVedG",
        "colab": {}
      },
      "source": [
        "from models.mlp import Classifier_MLP"
      ],
      "execution_count": 0,
      "outputs": []
    },
    {
      "cell_type": "markdown",
      "metadata": {
        "id": "zFyydSbXssx5",
        "colab_type": "text"
      },
      "source": [
        "### 3.1.1 Training"
      ]
    },
    {
      "cell_type": "code",
      "metadata": {
        "colab_type": "code",
        "id": "Lhv8FKI3dopV",
        "outputId": "5e1f2547-b4e1-4733-fce6-d07a03eba433",
        "colab": {
          "base_uri": "https://localhost:8080/",
          "height": 527
        }
      },
      "source": [
        "mlp = Classifier_MLP(output_directory='outputs/output_mlp/',input_shape=(xtrain.shape[1],xtrain.shape[2]),\n",
        "                     nb_classes = 2,verbose=True,\n",
        "                     hidden_layers_size=(200,200,200,200))"
      ],
      "execution_count": 14,
      "outputs": [
        {
          "output_type": "stream",
          "text": [
            "Model: \"sequential\"\n",
            "_________________________________________________________________\n",
            "Layer (type)                 Output Shape              Param #   \n",
            "=================================================================\n",
            "flatten (Flatten)            (None, 10820)             0         \n",
            "_________________________________________________________________\n",
            "dropout (Dropout)            (None, 10820)             0         \n",
            "_________________________________________________________________\n",
            "dense (Dense)                (None, 200)               2164200   \n",
            "_________________________________________________________________\n",
            "dropout_1 (Dropout)          (None, 200)               0         \n",
            "_________________________________________________________________\n",
            "dense_1 (Dense)              (None, 200)               40200     \n",
            "_________________________________________________________________\n",
            "dropout_2 (Dropout)          (None, 200)               0         \n",
            "_________________________________________________________________\n",
            "dense_2 (Dense)              (None, 200)               40200     \n",
            "_________________________________________________________________\n",
            "dropout_3 (Dropout)          (None, 200)               0         \n",
            "_________________________________________________________________\n",
            "dense_3 (Dense)              (None, 200)               40200     \n",
            "_________________________________________________________________\n",
            "dropout_4 (Dropout)          (None, 200)               0         \n",
            "_________________________________________________________________\n",
            "dense_4 (Dense)              (None, 1)                 201       \n",
            "=================================================================\n",
            "Total params: 2,285,001\n",
            "Trainable params: 2,285,001\n",
            "Non-trainable params: 0\n",
            "_________________________________________________________________\n"
          ],
          "name": "stdout"
        }
      ]
    },
    {
      "cell_type": "code",
      "metadata": {
        "colab_type": "code",
        "id": "hx5wRLHQeJxn",
        "outputId": "e24eadf5-2670-49e8-cb7b-035491bcc9c6",
        "colab": {
          "base_uri": "https://localhost:8080/",
          "height": 1000
        }
      },
      "source": [
        "%matplotlib inline\n",
        "hist = mlp.fit(xtrain,ytrain,xval,yval,y_val_true,batch_size=32,nb_epochs=100)"
      ],
      "execution_count": 15,
      "outputs": [
        {
          "output_type": "stream",
          "text": [
            "Train on 264 samples, validate on 33 samples\n",
            "Epoch 1/100\n",
            "264/264 [==============================] - 1s 4ms/sample - loss: 8.7221 - accuracy: 0.4280 - val_loss: 8.7799 - val_accuracy: 0.4242\n",
            "Epoch 2/100\n",
            "264/264 [==============================] - 1s 3ms/sample - loss: 8.7221 - accuracy: 0.4280 - val_loss: 8.7799 - val_accuracy: 0.4242\n",
            "Epoch 3/100\n",
            "264/264 [==============================] - 0s 286us/sample - loss: 8.7221 - accuracy: 0.4280 - val_loss: 8.7799 - val_accuracy: 0.4242\n",
            "Epoch 4/100\n",
            "264/264 [==============================] - 0s 270us/sample - loss: 8.7221 - accuracy: 0.4280 - val_loss: 8.7799 - val_accuracy: 0.4242\n",
            "Epoch 5/100\n",
            "264/264 [==============================] - 0s 250us/sample - loss: 8.7221 - accuracy: 0.4280 - val_loss: 8.7799 - val_accuracy: 0.4242\n",
            "Epoch 6/100\n",
            "264/264 [==============================] - 0s 252us/sample - loss: 8.7221 - accuracy: 0.4280 - val_loss: 8.7799 - val_accuracy: 0.4242\n",
            "Epoch 7/100\n",
            "264/264 [==============================] - 0s 225us/sample - loss: 8.7221 - accuracy: 0.4280 - val_loss: 8.7799 - val_accuracy: 0.4242\n",
            "Epoch 8/100\n",
            "264/264 [==============================] - 0s 251us/sample - loss: 8.7221 - accuracy: 0.4280 - val_loss: 8.7799 - val_accuracy: 0.4242\n",
            "Epoch 9/100\n",
            "264/264 [==============================] - 0s 299us/sample - loss: 8.7221 - accuracy: 0.4280 - val_loss: 8.7799 - val_accuracy: 0.4242\n",
            "Epoch 10/100\n",
            "264/264 [==============================] - 0s 334us/sample - loss: 8.7221 - accuracy: 0.4280 - val_loss: 8.7799 - val_accuracy: 0.4242\n",
            "Epoch 11/100\n",
            "264/264 [==============================] - 0s 271us/sample - loss: 8.7221 - accuracy: 0.4280 - val_loss: 8.7799 - val_accuracy: 0.4242\n",
            "Epoch 12/100\n",
            "264/264 [==============================] - 0s 634us/sample - loss: 8.7221 - accuracy: 0.4280 - val_loss: 8.7799 - val_accuracy: 0.4242\n",
            "Epoch 13/100\n",
            "264/264 [==============================] - 0s 316us/sample - loss: 8.7221 - accuracy: 0.4280 - val_loss: 8.7799 - val_accuracy: 0.4242\n",
            "Epoch 14/100\n",
            "264/264 [==============================] - 0s 282us/sample - loss: 8.7221 - accuracy: 0.4280 - val_loss: 8.7799 - val_accuracy: 0.4242\n",
            "Epoch 15/100\n",
            "264/264 [==============================] - 0s 256us/sample - loss: 8.7221 - accuracy: 0.4280 - val_loss: 8.7799 - val_accuracy: 0.4242\n",
            "Epoch 16/100\n",
            "264/264 [==============================] - 0s 277us/sample - loss: 8.7221 - accuracy: 0.4280 - val_loss: 8.7799 - val_accuracy: 0.4242\n",
            "Epoch 17/100\n",
            "264/264 [==============================] - 0s 265us/sample - loss: 8.7221 - accuracy: 0.4280 - val_loss: 8.7799 - val_accuracy: 0.4242\n",
            "Epoch 18/100\n",
            "264/264 [==============================] - 0s 317us/sample - loss: 8.7221 - accuracy: 0.4280 - val_loss: 8.7799 - val_accuracy: 0.4242\n",
            "Epoch 19/100\n",
            "264/264 [==============================] - 0s 268us/sample - loss: 8.7221 - accuracy: 0.4280 - val_loss: 8.7799 - val_accuracy: 0.4242\n",
            "Epoch 20/100\n",
            "264/264 [==============================] - 0s 259us/sample - loss: 8.7221 - accuracy: 0.4280 - val_loss: 8.7799 - val_accuracy: 0.4242\n",
            "Epoch 21/100\n",
            "264/264 [==============================] - 0s 271us/sample - loss: 8.7221 - accuracy: 0.4280 - val_loss: 8.7799 - val_accuracy: 0.4242\n",
            "Epoch 22/100\n",
            "264/264 [==============================] - 0s 254us/sample - loss: 8.7221 - accuracy: 0.4280 - val_loss: 8.7799 - val_accuracy: 0.4242\n",
            "Epoch 23/100\n",
            "264/264 [==============================] - 0s 224us/sample - loss: 8.7221 - accuracy: 0.4280 - val_loss: 8.7799 - val_accuracy: 0.4242\n",
            "Epoch 24/100\n",
            "264/264 [==============================] - 0s 236us/sample - loss: 8.7221 - accuracy: 0.4280 - val_loss: 8.7799 - val_accuracy: 0.4242\n",
            "Epoch 25/100\n",
            "264/264 [==============================] - 0s 243us/sample - loss: 8.7221 - accuracy: 0.4280 - val_loss: 8.7799 - val_accuracy: 0.4242\n",
            "Epoch 26/100\n",
            "264/264 [==============================] - 0s 229us/sample - loss: 8.7221 - accuracy: 0.4280 - val_loss: 8.7799 - val_accuracy: 0.4242\n",
            "Epoch 27/100\n",
            "264/264 [==============================] - 0s 260us/sample - loss: 8.7221 - accuracy: 0.4280 - val_loss: 8.7799 - val_accuracy: 0.4242\n",
            "Epoch 28/100\n",
            "264/264 [==============================] - 0s 253us/sample - loss: 8.7221 - accuracy: 0.4280 - val_loss: 8.7799 - val_accuracy: 0.4242\n",
            "Epoch 29/100\n",
            "264/264 [==============================] - 0s 283us/sample - loss: 8.7221 - accuracy: 0.4280 - val_loss: 8.7799 - val_accuracy: 0.4242\n",
            "Epoch 30/100\n",
            "264/264 [==============================] - 0s 260us/sample - loss: 8.7221 - accuracy: 0.4280 - val_loss: 8.7799 - val_accuracy: 0.4242\n",
            "Epoch 31/100\n",
            "264/264 [==============================] - 0s 267us/sample - loss: 8.7221 - accuracy: 0.4280 - val_loss: 8.7799 - val_accuracy: 0.4242\n",
            "Epoch 32/100\n",
            "264/264 [==============================] - 0s 244us/sample - loss: 8.7221 - accuracy: 0.4280 - val_loss: 8.7799 - val_accuracy: 0.4242\n",
            "Epoch 33/100\n",
            "264/264 [==============================] - 0s 249us/sample - loss: 8.7221 - accuracy: 0.4280 - val_loss: 8.7799 - val_accuracy: 0.4242\n",
            "Epoch 34/100\n",
            "264/264 [==============================] - 0s 246us/sample - loss: 8.7221 - accuracy: 0.4280 - val_loss: 8.7799 - val_accuracy: 0.4242\n",
            "Epoch 35/100\n",
            "264/264 [==============================] - 0s 252us/sample - loss: 8.7221 - accuracy: 0.4280 - val_loss: 8.7799 - val_accuracy: 0.4242\n",
            "Epoch 36/100\n",
            "264/264 [==============================] - 0s 241us/sample - loss: 8.7221 - accuracy: 0.4280 - val_loss: 8.7799 - val_accuracy: 0.4242\n",
            "Epoch 37/100\n",
            "264/264 [==============================] - 0s 280us/sample - loss: 8.7221 - accuracy: 0.4280 - val_loss: 8.7799 - val_accuracy: 0.4242\n",
            "Epoch 38/100\n",
            "264/264 [==============================] - 0s 269us/sample - loss: 8.7221 - accuracy: 0.4280 - val_loss: 8.7799 - val_accuracy: 0.4242\n",
            "Epoch 39/100\n",
            "264/264 [==============================] - 0s 254us/sample - loss: 8.7221 - accuracy: 0.4280 - val_loss: 8.7799 - val_accuracy: 0.4242\n",
            "Epoch 40/100\n",
            "264/264 [==============================] - 0s 229us/sample - loss: 8.7221 - accuracy: 0.4280 - val_loss: 8.7799 - val_accuracy: 0.4242\n",
            "Epoch 41/100\n",
            "264/264 [==============================] - 0s 246us/sample - loss: 8.7221 - accuracy: 0.4280 - val_loss: 8.7799 - val_accuracy: 0.4242\n",
            "Epoch 42/100\n",
            "264/264 [==============================] - 0s 283us/sample - loss: 8.7221 - accuracy: 0.4280 - val_loss: 8.7799 - val_accuracy: 0.4242\n",
            "Epoch 43/100\n",
            "264/264 [==============================] - 0s 229us/sample - loss: 8.7221 - accuracy: 0.4280 - val_loss: 8.7799 - val_accuracy: 0.4242\n",
            "Epoch 44/100\n",
            "264/264 [==============================] - 0s 271us/sample - loss: 8.7221 - accuracy: 0.4280 - val_loss: 8.7799 - val_accuracy: 0.4242\n",
            "Epoch 45/100\n",
            "264/264 [==============================] - 0s 261us/sample - loss: 8.7221 - accuracy: 0.4280 - val_loss: 8.7799 - val_accuracy: 0.4242\n",
            "Epoch 46/100\n",
            "264/264 [==============================] - 0s 255us/sample - loss: 8.7221 - accuracy: 0.4280 - val_loss: 8.7799 - val_accuracy: 0.4242\n",
            "Epoch 47/100\n",
            "264/264 [==============================] - 0s 804us/sample - loss: 8.7221 - accuracy: 0.4280 - val_loss: 8.7799 - val_accuracy: 0.4242\n",
            "Epoch 48/100\n",
            "264/264 [==============================] - 0s 291us/sample - loss: 8.7221 - accuracy: 0.4280 - val_loss: 8.7799 - val_accuracy: 0.4242\n",
            "Epoch 49/100\n",
            "264/264 [==============================] - 0s 248us/sample - loss: 8.7221 - accuracy: 0.4280 - val_loss: 8.7799 - val_accuracy: 0.4242\n",
            "Epoch 50/100\n",
            "264/264 [==============================] - 0s 249us/sample - loss: 8.7221 - accuracy: 0.4280 - val_loss: 8.7799 - val_accuracy: 0.4242\n",
            "Epoch 51/100\n",
            "264/264 [==============================] - 0s 274us/sample - loss: 8.7221 - accuracy: 0.4280 - val_loss: 8.7799 - val_accuracy: 0.4242\n",
            "Epoch 52/100\n",
            "264/264 [==============================] - 0s 271us/sample - loss: 8.7221 - accuracy: 0.4280 - val_loss: 8.7799 - val_accuracy: 0.4242\n",
            "Epoch 53/100\n",
            "264/264 [==============================] - 0s 282us/sample - loss: 8.7221 - accuracy: 0.4280 - val_loss: 8.7799 - val_accuracy: 0.4242\n",
            "Epoch 54/100\n",
            "264/264 [==============================] - 0s 301us/sample - loss: 8.7221 - accuracy: 0.4280 - val_loss: 8.7799 - val_accuracy: 0.4242\n",
            "Epoch 55/100\n",
            "264/264 [==============================] - 0s 257us/sample - loss: 8.7221 - accuracy: 0.4280 - val_loss: 8.7799 - val_accuracy: 0.4242\n",
            "Epoch 56/100\n",
            "264/264 [==============================] - 0s 341us/sample - loss: 8.7221 - accuracy: 0.4280 - val_loss: 8.7799 - val_accuracy: 0.4242\n",
            "Epoch 57/100\n",
            "264/264 [==============================] - 0s 288us/sample - loss: 8.7221 - accuracy: 0.4280 - val_loss: 8.7799 - val_accuracy: 0.4242\n",
            "Epoch 58/100\n",
            "264/264 [==============================] - 0s 302us/sample - loss: 8.7221 - accuracy: 0.4280 - val_loss: 8.7799 - val_accuracy: 0.4242\n",
            "Epoch 59/100\n",
            "264/264 [==============================] - 0s 309us/sample - loss: 8.7221 - accuracy: 0.4280 - val_loss: 8.7799 - val_accuracy: 0.4242\n",
            "Epoch 60/100\n",
            "264/264 [==============================] - 0s 256us/sample - loss: 8.7221 - accuracy: 0.4280 - val_loss: 8.7799 - val_accuracy: 0.4242\n",
            "Epoch 61/100\n",
            "264/264 [==============================] - 0s 291us/sample - loss: 8.7221 - accuracy: 0.4280 - val_loss: 8.7799 - val_accuracy: 0.4242\n",
            "Epoch 62/100\n",
            "264/264 [==============================] - 0s 321us/sample - loss: 8.7221 - accuracy: 0.4280 - val_loss: 8.7799 - val_accuracy: 0.4242\n",
            "Epoch 63/100\n",
            "264/264 [==============================] - 0s 261us/sample - loss: 8.7221 - accuracy: 0.4280 - val_loss: 8.7799 - val_accuracy: 0.4242\n",
            "Epoch 64/100\n",
            "264/264 [==============================] - 0s 257us/sample - loss: 8.7221 - accuracy: 0.4280 - val_loss: 8.7799 - val_accuracy: 0.4242\n",
            "Epoch 65/100\n",
            "264/264 [==============================] - 0s 256us/sample - loss: 8.7221 - accuracy: 0.4280 - val_loss: 8.7799 - val_accuracy: 0.4242\n",
            "Epoch 66/100\n",
            "264/264 [==============================] - 0s 264us/sample - loss: 8.7221 - accuracy: 0.4280 - val_loss: 8.7799 - val_accuracy: 0.4242\n",
            "Epoch 67/100\n",
            "264/264 [==============================] - 0s 271us/sample - loss: 8.7221 - accuracy: 0.4280 - val_loss: 8.7799 - val_accuracy: 0.4242\n",
            "Epoch 68/100\n",
            "264/264 [==============================] - 0s 325us/sample - loss: 8.7221 - accuracy: 0.4280 - val_loss: 8.7799 - val_accuracy: 0.4242\n",
            "Epoch 69/100\n",
            "264/264 [==============================] - 0s 263us/sample - loss: 8.7221 - accuracy: 0.4280 - val_loss: 8.7799 - val_accuracy: 0.4242\n",
            "Epoch 70/100\n",
            "264/264 [==============================] - 0s 254us/sample - loss: 8.7221 - accuracy: 0.4280 - val_loss: 8.7799 - val_accuracy: 0.4242\n",
            "Epoch 71/100\n",
            "264/264 [==============================] - 0s 239us/sample - loss: 8.7221 - accuracy: 0.4280 - val_loss: 8.7799 - val_accuracy: 0.4242\n",
            "Epoch 72/100\n",
            "264/264 [==============================] - 0s 242us/sample - loss: 8.7221 - accuracy: 0.4280 - val_loss: 8.7799 - val_accuracy: 0.4242\n",
            "Epoch 73/100\n",
            "264/264 [==============================] - 0s 315us/sample - loss: 8.7221 - accuracy: 0.4280 - val_loss: 8.7799 - val_accuracy: 0.4242\n",
            "Epoch 74/100\n",
            "264/264 [==============================] - 0s 275us/sample - loss: 8.7221 - accuracy: 0.4280 - val_loss: 8.7799 - val_accuracy: 0.4242\n",
            "Epoch 75/100\n",
            "264/264 [==============================] - 0s 255us/sample - loss: 8.7221 - accuracy: 0.4280 - val_loss: 8.7799 - val_accuracy: 0.4242\n",
            "Epoch 76/100\n",
            "264/264 [==============================] - 0s 238us/sample - loss: 8.7221 - accuracy: 0.4280 - val_loss: 8.7799 - val_accuracy: 0.4242\n",
            "Epoch 77/100\n",
            "264/264 [==============================] - 0s 250us/sample - loss: 8.7221 - accuracy: 0.4280 - val_loss: 8.7799 - val_accuracy: 0.4242\n",
            "Epoch 78/100\n",
            "264/264 [==============================] - 0s 236us/sample - loss: 8.7221 - accuracy: 0.4280 - val_loss: 8.7799 - val_accuracy: 0.4242\n",
            "Epoch 79/100\n",
            "264/264 [==============================] - 0s 234us/sample - loss: 8.7221 - accuracy: 0.4280 - val_loss: 8.7799 - val_accuracy: 0.4242\n",
            "Epoch 80/100\n",
            "264/264 [==============================] - 0s 237us/sample - loss: 8.7221 - accuracy: 0.4280 - val_loss: 8.7799 - val_accuracy: 0.4242\n",
            "Epoch 81/100\n",
            "264/264 [==============================] - 0s 226us/sample - loss: 8.7221 - accuracy: 0.4280 - val_loss: 8.7799 - val_accuracy: 0.4242\n",
            "Epoch 82/100\n",
            "264/264 [==============================] - 0s 254us/sample - loss: 8.7221 - accuracy: 0.4280 - val_loss: 8.7799 - val_accuracy: 0.4242\n",
            "Epoch 83/100\n",
            "264/264 [==============================] - 0s 268us/sample - loss: 8.7221 - accuracy: 0.4280 - val_loss: 8.7799 - val_accuracy: 0.4242\n",
            "Epoch 84/100\n",
            "264/264 [==============================] - 0s 257us/sample - loss: 8.7221 - accuracy: 0.4280 - val_loss: 8.7799 - val_accuracy: 0.4242\n",
            "Epoch 85/100\n",
            "264/264 [==============================] - 0s 248us/sample - loss: 8.7221 - accuracy: 0.4280 - val_loss: 8.7799 - val_accuracy: 0.4242\n",
            "Epoch 86/100\n",
            "264/264 [==============================] - 0s 258us/sample - loss: 8.7221 - accuracy: 0.4280 - val_loss: 8.7799 - val_accuracy: 0.4242\n",
            "Epoch 87/100\n",
            "264/264 [==============================] - 0s 288us/sample - loss: 8.7221 - accuracy: 0.4280 - val_loss: 8.7799 - val_accuracy: 0.4242\n",
            "Epoch 88/100\n",
            "264/264 [==============================] - 0s 260us/sample - loss: 8.7221 - accuracy: 0.4280 - val_loss: 8.7799 - val_accuracy: 0.4242\n",
            "Epoch 89/100\n",
            "264/264 [==============================] - 0s 249us/sample - loss: 8.7221 - accuracy: 0.4280 - val_loss: 8.7799 - val_accuracy: 0.4242\n",
            "Epoch 90/100\n",
            "264/264 [==============================] - 0s 252us/sample - loss: 8.7221 - accuracy: 0.4280 - val_loss: 8.7799 - val_accuracy: 0.4242\n",
            "Epoch 91/100\n",
            "264/264 [==============================] - 0s 229us/sample - loss: 8.7221 - accuracy: 0.4280 - val_loss: 8.7799 - val_accuracy: 0.4242\n",
            "Epoch 92/100\n",
            "264/264 [==============================] - 0s 227us/sample - loss: 8.7221 - accuracy: 0.4280 - val_loss: 8.7799 - val_accuracy: 0.4242\n",
            "Epoch 93/100\n",
            "264/264 [==============================] - 0s 231us/sample - loss: 8.7221 - accuracy: 0.4280 - val_loss: 8.7799 - val_accuracy: 0.4242\n",
            "Epoch 94/100\n",
            "264/264 [==============================] - 0s 228us/sample - loss: 8.7221 - accuracy: 0.4280 - val_loss: 8.7799 - val_accuracy: 0.4242\n",
            "Epoch 95/100\n",
            "264/264 [==============================] - 0s 232us/sample - loss: 8.7221 - accuracy: 0.4280 - val_loss: 8.7799 - val_accuracy: 0.4242\n",
            "Epoch 96/100\n",
            "264/264 [==============================] - 0s 240us/sample - loss: 8.7221 - accuracy: 0.4280 - val_loss: 8.7799 - val_accuracy: 0.4242\n",
            "Epoch 97/100\n",
            "264/264 [==============================] - 0s 270us/sample - loss: 8.7221 - accuracy: 0.4280 - val_loss: 8.7799 - val_accuracy: 0.4242\n",
            "Epoch 98/100\n",
            "264/264 [==============================] - 0s 255us/sample - loss: 8.7221 - accuracy: 0.4280 - val_loss: 8.7799 - val_accuracy: 0.4242\n",
            "Epoch 99/100\n",
            "264/264 [==============================] - 0s 219us/sample - loss: 8.7221 - accuracy: 0.4280 - val_loss: 8.7799 - val_accuracy: 0.4242\n",
            "Epoch 100/100\n",
            "264/264 [==============================] - 0s 229us/sample - loss: 8.7221 - accuracy: 0.4280 - val_loss: 8.7799 - val_accuracy: 0.4242\n"
          ],
          "name": "stdout"
        },
        {
          "output_type": "display_data",
          "data": {
            "image/png": "[encoded data removed]",
            "text/plain": [
              "<Figure size 432x288 with 1 Axes>"
            ]
          },
          "metadata": {
            "tags": []
          }
        }
      ]
    },
    {
      "cell_type": "markdown",
      "metadata": {
        "colab_type": "text",
        "id": "xpeE9S9Xy1eP"
      },
      "source": [
        "Let's evaluate our predictions on the validation set: "
      ]
    },
    {
      "cell_type": "code",
      "metadata": {
        "id": "qjnV1zxJs7Jq",
        "colab_type": "code",
        "colab": {}
      },
      "source": [
        "mlp_model = tf.keras.models.load_model('outputs/output_mlp/best_model.hdf5')"
      ],
      "execution_count": 0,
      "outputs": []
    },
    {
      "cell_type": "code",
      "metadata": {
        "colab_type": "code",
        "id": "3TyDynjRgWut",
        "outputId": "000214ab-b073-487b-c8c6-3def98373cc4",
        "colab": {
          "base_uri": "https://localhost:8080/",
          "height": 80
        }
      },
      "source": [
        "ypred = mlp_model.predict(xval)\n",
        "ypred = np.argmax(ypred,axis=1)\n",
        "evaluate(y_val_true,ypred)"
      ],
      "execution_count": 42,
      "outputs": [
        {
          "output_type": "execute_result",
          "data": {
            "text/html": [
              "<div>\n",
              "<style scoped>\n",
              "    .dataframe tbody tr th:only-of-type {\n",
              "        vertical-align: middle;\n",
              "    }\n",
              "\n",
              "    .dataframe tbody tr th {\n",
              "        vertical-align: top;\n",
              "    }\n",
              "\n",
              "    .dataframe thead th {\n",
              "        text-align: right;\n",
              "    }\n",
              "</style>\n",
              "<table border=\"1\" class=\"dataframe\">\n",
              "  <thead>\n",
              "    <tr style=\"text-align: right;\">\n",
              "      <th></th>\n",
              "      <th>accuracy</th>\n",
              "      <th>recall</th>\n",
              "      <th>precision</th>\n",
              "      <th>f1-score</th>\n",
              "    </tr>\n",
              "  </thead>\n",
              "  <tbody>\n",
              "    <tr>\n",
              "      <th>0</th>\n",
              "      <td>0.575758</td>\n",
              "      <td>0.5</td>\n",
              "      <td>0.287879</td>\n",
              "      <td>0.365385</td>\n",
              "    </tr>\n",
              "  </tbody>\n",
              "</table>\n",
              "</div>"
            ],
            "text/plain": [
              "   accuracy  recall  precision  f1-score\n",
              "0  0.575758     0.5   0.287879  0.365385"
            ]
          },
          "metadata": {
            "tags": []
          },
          "execution_count": 42
        }
      ]
    },
    {
      "cell_type": "markdown",
      "metadata": {
        "id": "Vth_nYYNsyzi",
        "colab_type": "text"
      },
      "source": [
        "### 3.1.2 Evaluating on the test set"
      ]
    },
    {
      "cell_type": "code",
      "metadata": {
        "id": "3URYV-6bs5R9",
        "colab_type": "code",
        "colab": {}
      },
      "source": [
        "mlp_model = tf.keras.models.load_model('outputs/output_mlp/best_model.hdf5')"
      ],
      "execution_count": 0,
      "outputs": []
    },
    {
      "cell_type": "code",
      "metadata": {
        "id": "JT5luBg4tO_I",
        "colab_type": "code",
        "outputId": "412b6444-26b1-459c-8251-a8984a372c23",
        "colab": {
          "base_uri": "https://localhost:8080/",
          "height": 80
        }
      },
      "source": [
        "ypred = mlp_model.predict(xtest)\n",
        "ypred = np.argmax(ypred,axis=1)\n",
        "evaluate(y_test_true,ypred)"
      ],
      "execution_count": 43,
      "outputs": [
        {
          "output_type": "execute_result",
          "data": {
            "text/html": [
              "<div>\n",
              "<style scoped>\n",
              "    .dataframe tbody tr th:only-of-type {\n",
              "        vertical-align: middle;\n",
              "    }\n",
              "\n",
              "    .dataframe tbody tr th {\n",
              "        vertical-align: top;\n",
              "    }\n",
              "\n",
              "    .dataframe thead th {\n",
              "        text-align: right;\n",
              "    }\n",
              "</style>\n",
              "<table border=\"1\" class=\"dataframe\">\n",
              "  <thead>\n",
              "    <tr style=\"text-align: right;\">\n",
              "      <th></th>\n",
              "      <th>accuracy</th>\n",
              "      <th>recall</th>\n",
              "      <th>precision</th>\n",
              "      <th>f1-score</th>\n",
              "    </tr>\n",
              "  </thead>\n",
              "  <tbody>\n",
              "    <tr>\n",
              "      <th>0</th>\n",
              "      <td>0.575758</td>\n",
              "      <td>0.5</td>\n",
              "      <td>0.287879</td>\n",
              "      <td>0.365385</td>\n",
              "    </tr>\n",
              "  </tbody>\n",
              "</table>\n",
              "</div>"
            ],
            "text/plain": [
              "   accuracy  recall  precision  f1-score\n",
              "0  0.575758     0.5   0.287879  0.365385"
            ]
          },
          "metadata": {
            "tags": []
          },
          "execution_count": 43
        }
      ]
    },
    {
      "cell_type": "markdown",
      "metadata": {
        "colab_type": "text",
        "id": "7vUT-Zy1yiMA"
      },
      "source": [
        "Let's be more precise on each class. The following scores are computed considering each label against all the others."
      ]
    },
    {
      "cell_type": "code",
      "metadata": {
        "colab_type": "code",
        "id": "H75TzCd_yUBK",
        "outputId": "25c1e047-ca07-45af-ca3a-5b0fbd87257a",
        "colab": {
          "base_uri": "https://localhost:8080/",
          "height": 111
        }
      },
      "source": [
        "get_binary_metrics(y_test_true,ypred)"
      ],
      "execution_count": 44,
      "outputs": [
        {
          "output_type": "execute_result",
          "data": {
            "text/html": [
              "<div>\n",
              "<style scoped>\n",
              "    .dataframe tbody tr th:only-of-type {\n",
              "        vertical-align: middle;\n",
              "    }\n",
              "\n",
              "    .dataframe tbody tr th {\n",
              "        vertical-align: top;\n",
              "    }\n",
              "\n",
              "    .dataframe thead th {\n",
              "        text-align: right;\n",
              "    }\n",
              "</style>\n",
              "<table border=\"1\" class=\"dataframe\">\n",
              "  <thead>\n",
              "    <tr style=\"text-align: right;\">\n",
              "      <th></th>\n",
              "      <th>recall</th>\n",
              "      <th>precision</th>\n",
              "      <th>f1-score</th>\n",
              "    </tr>\n",
              "  </thead>\n",
              "  <tbody>\n",
              "    <tr>\n",
              "      <th>0</th>\n",
              "      <td>1</td>\n",
              "      <td>0.575758</td>\n",
              "      <td>0.730769</td>\n",
              "    </tr>\n",
              "    <tr>\n",
              "      <th>1</th>\n",
              "      <td>0</td>\n",
              "      <td>0</td>\n",
              "      <td>0</td>\n",
              "    </tr>\n",
              "  </tbody>\n",
              "</table>\n",
              "</div>"
            ],
            "text/plain": [
              "  recall precision  f1-score\n",
              "0      1  0.575758  0.730769\n",
              "1      0         0         0"
            ]
          },
          "metadata": {
            "tags": []
          },
          "execution_count": 44
        }
      ]
    },
    {
      "cell_type": "code",
      "metadata": {
        "id": "AjsCDzOC5Fzm",
        "colab_type": "code",
        "outputId": "73eca300-b4b2-4353-e6aa-6c8d2c2f1f27",
        "colab": {
          "base_uri": "https://localhost:8080/",
          "height": 423
        }
      },
      "source": [
        "plot_confusion_matrix(y_test_true,ypred)"
      ],
      "execution_count": 45,
      "outputs": [
        {
          "output_type": "stream",
          "text": [
            "/content/drive/My Drive/MVA/S2/DLMI/utils/evaluation.py:36: RuntimeWarning: invalid value encountered in true_divide\n",
            "  cm = np.round(cm/cm.sum(axis=0),3)\n"
          ],
          "name": "stderr"
        },
        {
          "output_type": "display_data",
          "data": {
            "image/png": "[encoded data removed]",
            "text/plain": [
              "<Figure size 360x360 with 2 Axes>"
            ]
          },
          "metadata": {
            "tags": []
          }
        }
      ]
    },
    {
      "cell_type": "markdown",
      "metadata": {
        "id": "eGHCDRdhWTL1",
        "colab_type": "text"
      },
      "source": [
        "## 3.2 CNN"
      ]
    },
    {
      "cell_type": "code",
      "metadata": {
        "id": "veVqtEFDWTL1",
        "colab_type": "code",
        "colab": {}
      },
      "source": [
        "from models.CNN_1D import Classifier_1DCNN"
      ],
      "execution_count": 0,
      "outputs": []
    },
    {
      "cell_type": "markdown",
      "metadata": {
        "id": "ndsl3ctdtcz8",
        "colab_type": "text"
      },
      "source": [
        "### 3.2.1 Training"
      ]
    },
    {
      "cell_type": "code",
      "metadata": {
        "id": "2A0rvNkDWTMX",
        "colab_type": "code",
        "outputId": "422e287d-9e76-4862-ba18-4fd97006deea",
        "colab": {
          "base_uri": "https://localhost:8080/",
          "height": 1000
        }
      },
      "source": [
        "cnn = Classifier_1DCNN('outputs/output_1DCNN/', nb_classes=2,\n",
        "                       n_conv_block=3, n_filters=(100,100,100), kern_size=(5,5,5), \n",
        "                       n_stride=(1,1,1), \n",
        "                       input_shape=(xtrain.shape[1],xtrain.shape[2]), \n",
        "                       add_FC=True, n_unit_FC=20,\n",
        "                       verbose=True)"
      ],
      "execution_count": 11,
      "outputs": [
        {
          "output_type": "stream",
          "text": [
            "Model: \"sequential\"\n",
            "_________________________________________________________________\n",
            "Layer (type)                 Output Shape              Param #   \n",
            "=================================================================\n",
            "conv1d (Conv1D)              (None, 1082, 100)         5100      \n",
            "_________________________________________________________________\n",
            "batch_normalization (BatchNo (None, 1082, 100)         400       \n",
            "_________________________________________________________________\n",
            "activation (Activation)      (None, 1082, 100)         0         \n",
            "_________________________________________________________________\n",
            "dropout (Dropout)            (None, 1082, 100)         0         \n",
            "_________________________________________________________________\n",
            "conv1d_1 (Conv1D)            (None, 1082, 100)         50100     \n",
            "_________________________________________________________________\n",
            "batch_normalization_1 (Batch (None, 1082, 100)         400       \n",
            "_________________________________________________________________\n",
            "activation_1 (Activation)    (None, 1082, 100)         0         \n",
            "_________________________________________________________________\n",
            "dropout_1 (Dropout)          (None, 1082, 100)         0         \n",
            "_________________________________________________________________\n",
            "max_pooling1d (MaxPooling1D) (None, 360, 100)          0         \n",
            "_________________________________________________________________\n",
            "conv1d_2 (Conv1D)            (None, 360, 100)          50100     \n",
            "_________________________________________________________________\n",
            "batch_normalization_2 (Batch (None, 360, 100)          400       \n",
            "_________________________________________________________________\n",
            "activation_2 (Activation)    (None, 360, 100)          0         \n",
            "_________________________________________________________________\n",
            "dropout_2 (Dropout)          (None, 360, 100)          0         \n",
            "_________________________________________________________________\n",
            "conv1d_3 (Conv1D)            (None, 360, 100)          10100     \n",
            "_________________________________________________________________\n",
            "batch_normalization_3 (Batch (None, 360, 100)          400       \n",
            "_________________________________________________________________\n",
            "activation_3 (Activation)    (None, 360, 100)          0         \n",
            "_________________________________________________________________\n",
            "dropout_3 (Dropout)          (None, 360, 100)          0         \n",
            "_________________________________________________________________\n",
            "max_pooling1d_1 (MaxPooling1 (None, 120, 100)          0         \n",
            "_________________________________________________________________\n",
            "conv1d_4 (Conv1D)            (None, 120, 100)          50100     \n",
            "_________________________________________________________________\n",
            "batch_normalization_4 (Batch (None, 120, 100)          400       \n",
            "_________________________________________________________________\n",
            "activation_4 (Activation)    (None, 120, 100)          0         \n",
            "_________________________________________________________________\n",
            "dropout_4 (Dropout)          (None, 120, 100)          0         \n",
            "_________________________________________________________________\n",
            "conv1d_5 (Conv1D)            (None, 120, 100)          10100     \n",
            "_________________________________________________________________\n",
            "batch_normalization_5 (Batch (None, 120, 100)          400       \n",
            "_________________________________________________________________\n",
            "activation_5 (Activation)    (None, 120, 100)          0         \n",
            "_________________________________________________________________\n",
            "dropout_5 (Dropout)          (None, 120, 100)          0         \n",
            "_________________________________________________________________\n",
            "max_pooling1d_2 (MaxPooling1 (None, 40, 100)           0         \n",
            "_________________________________________________________________\n",
            "flatten (Flatten)            (None, 4000)              0         \n",
            "_________________________________________________________________\n",
            "dense (Dense)                (None, 20)                80020     \n",
            "_________________________________________________________________\n",
            "batch_normalization_6 (Batch (None, 20)                80        \n",
            "_________________________________________________________________\n",
            "activation_6 (Activation)    (None, 20)                0         \n",
            "_________________________________________________________________\n",
            "dense_1 (Dense)              (None, 1)                 21        \n",
            "=================================================================\n",
            "Total params: 258,121\n",
            "Trainable params: 256,881\n",
            "Non-trainable params: 1,240\n",
            "_________________________________________________________________\n"
          ],
          "name": "stdout"
        }
      ]
    },
    {
      "cell_type": "code",
      "metadata": {
        "id": "ZZTt31e_WTMm",
        "colab_type": "code",
        "outputId": "6a077415-70c6-4316-fcf2-a3362b4bb83b",
        "colab": {
          "base_uri": "https://localhost:8080/",
          "height": 1000
        }
      },
      "source": [
        "%matplotlib inline\n",
        "hist = cnn.fit(xtrain,ytrain,xval,yval,y_val_true,batch_size=32,nb_epochs=200)"
      ],
      "execution_count": 12,
      "outputs": [
        {
          "output_type": "stream",
          "text": [
            "Train on 264 samples, validate on 33 samples\n",
            "Epoch 1/200\n",
            "WARNING:tensorflow:From /usr/local/lib/python3.6/dist-packages/tensorflow_core/python/ops/resource_variable_ops.py:1786: calling BaseResourceVariable.__init__ (from tensorflow.python.ops.resource_variable_ops) with constraint is deprecated and will be removed in a future version.\n",
            "Instructions for updating:\n",
            "If using Keras pass *_constraint arguments to layers.\n",
            "264/264 [==============================] - 11s 43ms/sample - loss: 8.7221 - accuracy: 0.4280 - val_loss: 8.7799 - val_accuracy: 0.4242\n",
            "Epoch 2/200\n",
            "264/264 [==============================] - 0s 1ms/sample - loss: 8.7221 - accuracy: 0.4280 - val_loss: 8.7799 - val_accuracy: 0.4242\n",
            "Epoch 3/200\n",
            "264/264 [==============================] - 0s 1ms/sample - loss: 8.7221 - accuracy: 0.4280 - val_loss: 8.7799 - val_accuracy: 0.4242\n",
            "Epoch 4/200\n",
            "264/264 [==============================] - 0s 1ms/sample - loss: 8.7221 - accuracy: 0.4280 - val_loss: 8.7799 - val_accuracy: 0.4242\n",
            "Epoch 5/200\n",
            "264/264 [==============================] - 0s 1ms/sample - loss: 8.7221 - accuracy: 0.4280 - val_loss: 8.7799 - val_accuracy: 0.4242\n",
            "Epoch 6/200\n",
            "264/264 [==============================] - 0s 1ms/sample - loss: 8.7221 - accuracy: 0.4280 - val_loss: 8.7799 - val_accuracy: 0.4242\n",
            "Epoch 7/200\n",
            "264/264 [==============================] - 0s 1ms/sample - loss: 8.7221 - accuracy: 0.4280 - val_loss: 8.7799 - val_accuracy: 0.4242\n",
            "Epoch 8/200\n",
            "264/264 [==============================] - 0s 1ms/sample - loss: 8.7221 - accuracy: 0.4280 - val_loss: 8.7799 - val_accuracy: 0.4242\n",
            "Epoch 9/200\n",
            "264/264 [==============================] - 0s 1ms/sample - loss: 8.7221 - accuracy: 0.4280 - val_loss: 8.7799 - val_accuracy: 0.4242\n",
            "Epoch 10/200\n",
            "264/264 [==============================] - 0s 1ms/sample - loss: 8.7221 - accuracy: 0.4280 - val_loss: 8.7799 - val_accuracy: 0.4242\n",
            "Epoch 11/200\n",
            "264/264 [==============================] - 0s 1ms/sample - loss: 8.7221 - accuracy: 0.4280 - val_loss: 8.7799 - val_accuracy: 0.4242\n",
            "Epoch 12/200\n",
            "264/264 [==============================] - 0s 1ms/sample - loss: 8.7221 - accuracy: 0.4280 - val_loss: 8.7799 - val_accuracy: 0.4242\n",
            "Epoch 13/200\n",
            "264/264 [==============================] - 0s 1ms/sample - loss: 8.7221 - accuracy: 0.4280 - val_loss: 8.7799 - val_accuracy: 0.4242\n",
            "Epoch 14/200\n",
            "264/264 [==============================] - 0s 1ms/sample - loss: 8.7221 - accuracy: 0.4280 - val_loss: 8.7799 - val_accuracy: 0.4242\n",
            "Epoch 15/200\n",
            "264/264 [==============================] - 0s 1ms/sample - loss: 8.7221 - accuracy: 0.4280 - val_loss: 8.7799 - val_accuracy: 0.4242\n",
            "Epoch 16/200\n",
            "264/264 [==============================] - 0s 1ms/sample - loss: 8.7221 - accuracy: 0.4280 - val_loss: 8.7799 - val_accuracy: 0.4242\n",
            "Epoch 17/200\n",
            "264/264 [==============================] - 0s 1ms/sample - loss: 8.7221 - accuracy: 0.4280 - val_loss: 8.7799 - val_accuracy: 0.4242\n",
            "Epoch 18/200\n",
            "264/264 [==============================] - 0s 1ms/sample - loss: 8.7221 - accuracy: 0.4280 - val_loss: 8.7799 - val_accuracy: 0.4242\n",
            "Epoch 19/200\n",
            "264/264 [==============================] - 0s 1ms/sample - loss: 8.7221 - accuracy: 0.4280 - val_loss: 8.7799 - val_accuracy: 0.4242\n",
            "Epoch 20/200\n",
            "264/264 [==============================] - 0s 1ms/sample - loss: 8.7221 - accuracy: 0.4280 - val_loss: 8.7799 - val_accuracy: 0.4242\n",
            "Epoch 21/200\n",
            "264/264 [==============================] - 0s 1ms/sample - loss: 8.7221 - accuracy: 0.4280 - val_loss: 8.7799 - val_accuracy: 0.4242\n",
            "Epoch 22/200\n",
            "264/264 [==============================] - 0s 1ms/sample - loss: 8.7221 - accuracy: 0.4280 - val_loss: 8.7799 - val_accuracy: 0.4242\n",
            "Epoch 23/200\n",
            "264/264 [==============================] - 0s 1ms/sample - loss: 8.7221 - accuracy: 0.4280 - val_loss: 8.7799 - val_accuracy: 0.4242\n",
            "Epoch 24/200\n",
            "264/264 [==============================] - 0s 1ms/sample - loss: 8.7221 - accuracy: 0.4280 - val_loss: 8.7799 - val_accuracy: 0.4242\n",
            "Epoch 25/200\n",
            "264/264 [==============================] - 0s 1ms/sample - loss: 8.7221 - accuracy: 0.4280 - val_loss: 8.7799 - val_accuracy: 0.4242\n",
            "Epoch 26/200\n",
            "264/264 [==============================] - 0s 1ms/sample - loss: 8.7221 - accuracy: 0.4280 - val_loss: 8.7799 - val_accuracy: 0.4242\n",
            "Epoch 27/200\n",
            "264/264 [==============================] - 0s 1ms/sample - loss: 8.7221 - accuracy: 0.4280 - val_loss: 8.7799 - val_accuracy: 0.4242\n",
            "Epoch 28/200\n",
            "264/264 [==============================] - 0s 1ms/sample - loss: 8.7221 - accuracy: 0.4280 - val_loss: 8.7799 - val_accuracy: 0.4242\n",
            "Epoch 29/200\n",
            "264/264 [==============================] - 0s 1ms/sample - loss: 8.7221 - accuracy: 0.4280 - val_loss: 8.7799 - val_accuracy: 0.4242\n",
            "Epoch 30/200\n",
            "264/264 [==============================] - 0s 1ms/sample - loss: 8.7221 - accuracy: 0.4280 - val_loss: 8.7799 - val_accuracy: 0.4242\n",
            "Epoch 31/200\n",
            "264/264 [==============================] - 0s 1ms/sample - loss: 8.7221 - accuracy: 0.4280 - val_loss: 8.7799 - val_accuracy: 0.4242\n",
            "Epoch 32/200\n",
            "264/264 [==============================] - 0s 1ms/sample - loss: 8.7221 - accuracy: 0.4280 - val_loss: 8.7799 - val_accuracy: 0.4242\n",
            "Epoch 33/200\n",
            "264/264 [==============================] - 0s 1ms/sample - loss: 8.7221 - accuracy: 0.4280 - val_loss: 8.7799 - val_accuracy: 0.4242\n",
            "Epoch 34/200\n",
            "264/264 [==============================] - 0s 1ms/sample - loss: 8.7221 - accuracy: 0.4280 - val_loss: 8.7799 - val_accuracy: 0.4242\n",
            "Epoch 35/200\n",
            "264/264 [==============================] - 0s 1ms/sample - loss: 8.7221 - accuracy: 0.4280 - val_loss: 8.7799 - val_accuracy: 0.4242\n",
            "Epoch 36/200\n",
            "264/264 [==============================] - 0s 1ms/sample - loss: 8.7221 - accuracy: 0.4280 - val_loss: 8.7799 - val_accuracy: 0.4242\n",
            "Epoch 37/200\n",
            "264/264 [==============================] - 0s 1ms/sample - loss: 8.7221 - accuracy: 0.4280 - val_loss: 8.7799 - val_accuracy: 0.4242\n",
            "Epoch 38/200\n",
            "264/264 [==============================] - 0s 1ms/sample - loss: 8.7221 - accuracy: 0.4280 - val_loss: 8.7799 - val_accuracy: 0.4242\n",
            "Epoch 39/200\n",
            "264/264 [==============================] - 0s 1ms/sample - loss: 8.7221 - accuracy: 0.4280 - val_loss: 8.7799 - val_accuracy: 0.4242\n",
            "Epoch 40/200\n",
            "264/264 [==============================] - 0s 1ms/sample - loss: 8.7221 - accuracy: 0.4280 - val_loss: 8.7799 - val_accuracy: 0.4242\n",
            "Epoch 41/200\n",
            "264/264 [==============================] - 0s 1ms/sample - loss: 8.7221 - accuracy: 0.4280 - val_loss: 8.7799 - val_accuracy: 0.4242\n",
            "Epoch 42/200\n",
            "264/264 [==============================] - 0s 1ms/sample - loss: 8.7221 - accuracy: 0.4280 - val_loss: 8.7799 - val_accuracy: 0.4242\n",
            "Epoch 43/200\n",
            "264/264 [==============================] - 0s 1ms/sample - loss: 8.7221 - accuracy: 0.4280 - val_loss: 8.7799 - val_accuracy: 0.4242\n",
            "Epoch 44/200\n",
            "264/264 [==============================] - 0s 1ms/sample - loss: 8.7221 - accuracy: 0.4280 - val_loss: 8.7799 - val_accuracy: 0.4242\n",
            "Epoch 45/200\n",
            "264/264 [==============================] - 0s 1ms/sample - loss: 8.7221 - accuracy: 0.4280 - val_loss: 8.7799 - val_accuracy: 0.4242\n",
            "Epoch 46/200\n",
            "264/264 [==============================] - 0s 1ms/sample - loss: 8.7221 - accuracy: 0.4280 - val_loss: 8.7799 - val_accuracy: 0.4242\n",
            "Epoch 47/200\n",
            "264/264 [==============================] - 0s 1ms/sample - loss: 8.7221 - accuracy: 0.4280 - val_loss: 8.7799 - val_accuracy: 0.4242\n",
            "Epoch 48/200\n",
            "264/264 [==============================] - 0s 1ms/sample - loss: 8.7221 - accuracy: 0.4280 - val_loss: 8.7799 - val_accuracy: 0.4242\n",
            "Epoch 49/200\n",
            "264/264 [==============================] - 0s 1ms/sample - loss: 8.7221 - accuracy: 0.4280 - val_loss: 8.7799 - val_accuracy: 0.4242\n",
            "Epoch 50/200\n",
            "264/264 [==============================] - 0s 1ms/sample - loss: 8.7221 - accuracy: 0.4280 - val_loss: 8.7799 - val_accuracy: 0.4242\n",
            "Epoch 51/200\n",
            "264/264 [==============================] - 0s 1ms/sample - loss: 8.7221 - accuracy: 0.4280 - val_loss: 8.7799 - val_accuracy: 0.4242\n",
            "Epoch 52/200\n",
            "264/264 [==============================] - 0s 1ms/sample - loss: 8.7221 - accuracy: 0.4280 - val_loss: 8.7799 - val_accuracy: 0.4242\n",
            "Epoch 53/200\n",
            "264/264 [==============================] - 0s 1ms/sample - loss: 8.7221 - accuracy: 0.4280 - val_loss: 8.7799 - val_accuracy: 0.4242\n",
            "Epoch 54/200\n",
            "264/264 [==============================] - 0s 1ms/sample - loss: 8.7221 - accuracy: 0.4280 - val_loss: 8.7799 - val_accuracy: 0.4242\n",
            "Epoch 55/200\n",
            "264/264 [==============================] - 0s 1ms/sample - loss: 8.7221 - accuracy: 0.4280 - val_loss: 8.7799 - val_accuracy: 0.4242\n",
            "Epoch 56/200\n",
            "264/264 [==============================] - 0s 1ms/sample - loss: 8.7221 - accuracy: 0.4280 - val_loss: 8.7799 - val_accuracy: 0.4242\n",
            "Epoch 57/200\n",
            "264/264 [==============================] - 0s 1ms/sample - loss: 8.7221 - accuracy: 0.4280 - val_loss: 8.7799 - val_accuracy: 0.4242\n",
            "Epoch 58/200\n",
            "264/264 [==============================] - 0s 1ms/sample - loss: 8.7221 - accuracy: 0.4280 - val_loss: 8.7799 - val_accuracy: 0.4242\n",
            "Epoch 59/200\n",
            "264/264 [==============================] - 0s 1ms/sample - loss: 8.7221 - accuracy: 0.4280 - val_loss: 8.7799 - val_accuracy: 0.4242\n",
            "Epoch 60/200\n",
            "264/264 [==============================] - 0s 1ms/sample - loss: 8.7221 - accuracy: 0.4280 - val_loss: 8.7799 - val_accuracy: 0.4242\n",
            "Epoch 61/200\n",
            "264/264 [==============================] - 0s 1ms/sample - loss: 8.7221 - accuracy: 0.4280 - val_loss: 8.7799 - val_accuracy: 0.4242\n",
            "Epoch 62/200\n",
            "264/264 [==============================] - 0s 1ms/sample - loss: 8.7221 - accuracy: 0.4280 - val_loss: 8.7799 - val_accuracy: 0.4242\n",
            "Epoch 63/200\n",
            "264/264 [==============================] - 0s 1ms/sample - loss: 8.7221 - accuracy: 0.4280 - val_loss: 8.7799 - val_accuracy: 0.4242\n",
            "Epoch 64/200\n",
            "264/264 [==============================] - 0s 1ms/sample - loss: 8.7221 - accuracy: 0.4280 - val_loss: 8.7799 - val_accuracy: 0.4242\n",
            "Epoch 65/200\n",
            "264/264 [==============================] - 0s 1ms/sample - loss: 8.7221 - accuracy: 0.4280 - val_loss: 8.7799 - val_accuracy: 0.4242\n",
            "Epoch 66/200\n",
            "264/264 [==============================] - 0s 1ms/sample - loss: 8.7221 - accuracy: 0.4280 - val_loss: 8.7799 - val_accuracy: 0.4242\n",
            "Epoch 67/200\n",
            "264/264 [==============================] - 0s 1ms/sample - loss: 8.7221 - accuracy: 0.4280 - val_loss: 8.7799 - val_accuracy: 0.4242\n",
            "Epoch 68/200\n",
            "264/264 [==============================] - 0s 1ms/sample - loss: 8.7221 - accuracy: 0.4280 - val_loss: 8.7799 - val_accuracy: 0.4242\n",
            "Epoch 69/200\n",
            "264/264 [==============================] - 0s 1ms/sample - loss: 8.7221 - accuracy: 0.4280 - val_loss: 8.7799 - val_accuracy: 0.4242\n",
            "Epoch 70/200\n",
            "264/264 [==============================] - 0s 1ms/sample - loss: 8.7221 - accuracy: 0.4280 - val_loss: 8.7799 - val_accuracy: 0.4242\n",
            "Epoch 71/200\n",
            "264/264 [==============================] - 0s 1ms/sample - loss: 8.7221 - accuracy: 0.4280 - val_loss: 8.7799 - val_accuracy: 0.4242\n",
            "Epoch 72/200\n",
            "264/264 [==============================] - 0s 1ms/sample - loss: 8.7221 - accuracy: 0.4280 - val_loss: 8.7799 - val_accuracy: 0.4242\n",
            "Epoch 73/200\n",
            "264/264 [==============================] - 0s 1ms/sample - loss: 8.7221 - accuracy: 0.4280 - val_loss: 8.7799 - val_accuracy: 0.4242\n",
            "Epoch 74/200\n",
            "264/264 [==============================] - 0s 1ms/sample - loss: 8.7221 - accuracy: 0.4280 - val_loss: 8.7799 - val_accuracy: 0.4242\n",
            "Epoch 75/200\n",
            "264/264 [==============================] - 0s 1ms/sample - loss: 8.7221 - accuracy: 0.4280 - val_loss: 8.7799 - val_accuracy: 0.4242\n",
            "Epoch 76/200\n",
            "264/264 [==============================] - 0s 1ms/sample - loss: 8.7221 - accuracy: 0.4280 - val_loss: 8.7799 - val_accuracy: 0.4242\n",
            "Epoch 77/200\n",
            "264/264 [==============================] - 0s 1ms/sample - loss: 8.7221 - accuracy: 0.4280 - val_loss: 8.7799 - val_accuracy: 0.4242\n",
            "Epoch 78/200\n",
            "264/264 [==============================] - 0s 1ms/sample - loss: 8.7221 - accuracy: 0.4280 - val_loss: 8.7799 - val_accuracy: 0.4242\n",
            "Epoch 79/200\n",
            "264/264 [==============================] - 0s 1ms/sample - loss: 8.7221 - accuracy: 0.4280 - val_loss: 8.7799 - val_accuracy: 0.4242\n",
            "Epoch 80/200\n",
            "264/264 [==============================] - 0s 1ms/sample - loss: 8.7221 - accuracy: 0.4280 - val_loss: 8.7799 - val_accuracy: 0.4242\n",
            "Epoch 81/200\n",
            "264/264 [==============================] - 0s 1ms/sample - loss: 8.7221 - accuracy: 0.4280 - val_loss: 8.7799 - val_accuracy: 0.4242\n",
            "Epoch 82/200\n",
            "264/264 [==============================] - 0s 1ms/sample - loss: 8.7221 - accuracy: 0.4280 - val_loss: 8.7799 - val_accuracy: 0.4242\n",
            "Epoch 83/200\n",
            "264/264 [==============================] - 0s 1ms/sample - loss: 8.7221 - accuracy: 0.4280 - val_loss: 8.7799 - val_accuracy: 0.4242\n",
            "Epoch 84/200\n",
            "264/264 [==============================] - 0s 1ms/sample - loss: 8.7221 - accuracy: 0.4280 - val_loss: 8.7799 - val_accuracy: 0.4242\n",
            "Epoch 85/200\n",
            "264/264 [==============================] - 0s 1ms/sample - loss: 8.7221 - accuracy: 0.4280 - val_loss: 8.7799 - val_accuracy: 0.4242\n",
            "Epoch 86/200\n",
            "264/264 [==============================] - 0s 1ms/sample - loss: 8.7221 - accuracy: 0.4280 - val_loss: 8.7799 - val_accuracy: 0.4242\n",
            "Epoch 87/200\n",
            "264/264 [==============================] - 0s 1ms/sample - loss: 8.7221 - accuracy: 0.4280 - val_loss: 8.7799 - val_accuracy: 0.4242\n",
            "Epoch 88/200\n",
            "264/264 [==============================] - 0s 1ms/sample - loss: 8.7221 - accuracy: 0.4280 - val_loss: 8.7799 - val_accuracy: 0.4242\n",
            "Epoch 89/200\n",
            "264/264 [==============================] - 0s 1ms/sample - loss: 8.7221 - accuracy: 0.4280 - val_loss: 8.7799 - val_accuracy: 0.4242\n",
            "Epoch 90/200\n",
            "264/264 [==============================] - 0s 1ms/sample - loss: 8.7221 - accuracy: 0.4280 - val_loss: 8.7799 - val_accuracy: 0.4242\n",
            "Epoch 91/200\n",
            "264/264 [==============================] - 0s 1ms/sample - loss: 8.7221 - accuracy: 0.4280 - val_loss: 8.7799 - val_accuracy: 0.4242\n",
            "Epoch 92/200\n",
            "264/264 [==============================] - 0s 1ms/sample - loss: 8.7221 - accuracy: 0.4280 - val_loss: 8.7799 - val_accuracy: 0.4242\n",
            "Epoch 93/200\n",
            "264/264 [==============================] - 0s 1ms/sample - loss: 8.7221 - accuracy: 0.4280 - val_loss: 8.7799 - val_accuracy: 0.4242\n",
            "Epoch 94/200\n",
            "264/264 [==============================] - 0s 1ms/sample - loss: 8.7221 - accuracy: 0.4280 - val_loss: 8.7799 - val_accuracy: 0.4242\n",
            "Epoch 95/200\n",
            "264/264 [==============================] - 0s 1ms/sample - loss: 8.7221 - accuracy: 0.4280 - val_loss: 8.7799 - val_accuracy: 0.4242\n",
            "Epoch 96/200\n",
            "264/264 [==============================] - 0s 1ms/sample - loss: 8.7221 - accuracy: 0.4280 - val_loss: 8.7799 - val_accuracy: 0.4242\n",
            "Epoch 97/200\n",
            "264/264 [==============================] - 0s 1ms/sample - loss: 8.7221 - accuracy: 0.4280 - val_loss: 8.7799 - val_accuracy: 0.4242\n",
            "Epoch 98/200\n",
            "264/264 [==============================] - 0s 1ms/sample - loss: 8.7221 - accuracy: 0.4280 - val_loss: 8.7799 - val_accuracy: 0.4242\n",
            "Epoch 99/200\n",
            "264/264 [==============================] - 0s 1ms/sample - loss: 8.7221 - accuracy: 0.4280 - val_loss: 8.7799 - val_accuracy: 0.4242\n",
            "Epoch 100/200\n",
            "264/264 [==============================] - 0s 1ms/sample - loss: 8.7221 - accuracy: 0.4280 - val_loss: 8.7799 - val_accuracy: 0.4242\n",
            "Epoch 101/200\n",
            "264/264 [==============================] - 0s 1ms/sample - loss: 8.7221 - accuracy: 0.4280 - val_loss: 8.7799 - val_accuracy: 0.4242\n",
            "Epoch 102/200\n",
            "264/264 [==============================] - 0s 1ms/sample - loss: 8.7221 - accuracy: 0.4280 - val_loss: 8.7799 - val_accuracy: 0.4242\n",
            "Epoch 103/200\n",
            "264/264 [==============================] - 0s 1ms/sample - loss: 8.7221 - accuracy: 0.4280 - val_loss: 8.7799 - val_accuracy: 0.4242\n",
            "Epoch 104/200\n",
            "264/264 [==============================] - 0s 1ms/sample - loss: 8.7221 - accuracy: 0.4280 - val_loss: 8.7799 - val_accuracy: 0.4242\n",
            "Epoch 105/200\n",
            "264/264 [==============================] - 0s 1ms/sample - loss: 8.7221 - accuracy: 0.4280 - val_loss: 8.7799 - val_accuracy: 0.4242\n",
            "Epoch 106/200\n",
            "264/264 [==============================] - 0s 1ms/sample - loss: 8.7221 - accuracy: 0.4280 - val_loss: 8.7799 - val_accuracy: 0.4242\n",
            "Epoch 107/200\n",
            "264/264 [==============================] - 0s 1ms/sample - loss: 8.7221 - accuracy: 0.4280 - val_loss: 8.7799 - val_accuracy: 0.4242\n",
            "Epoch 108/200\n",
            "264/264 [==============================] - 0s 1ms/sample - loss: 8.7221 - accuracy: 0.4280 - val_loss: 8.7799 - val_accuracy: 0.4242\n",
            "Epoch 109/200\n",
            "264/264 [==============================] - 0s 1ms/sample - loss: 8.7221 - accuracy: 0.4280 - val_loss: 8.7799 - val_accuracy: 0.4242\n",
            "Epoch 110/200\n",
            "264/264 [==============================] - 0s 1ms/sample - loss: 8.7221 - accuracy: 0.4280 - val_loss: 8.7799 - val_accuracy: 0.4242\n",
            "Epoch 111/200\n",
            "264/264 [==============================] - 0s 1ms/sample - loss: 8.7221 - accuracy: 0.4280 - val_loss: 8.7799 - val_accuracy: 0.4242\n",
            "Epoch 112/200\n",
            "264/264 [==============================] - 0s 1ms/sample - loss: 8.7221 - accuracy: 0.4280 - val_loss: 8.7799 - val_accuracy: 0.4242\n",
            "Epoch 113/200\n",
            "264/264 [==============================] - 0s 1ms/sample - loss: 8.7221 - accuracy: 0.4280 - val_loss: 8.7799 - val_accuracy: 0.4242\n",
            "Epoch 114/200\n",
            "264/264 [==============================] - 0s 1ms/sample - loss: 8.7221 - accuracy: 0.4280 - val_loss: 8.7799 - val_accuracy: 0.4242\n",
            "Epoch 115/200\n",
            "264/264 [==============================] - 0s 1ms/sample - loss: 8.7221 - accuracy: 0.4280 - val_loss: 8.7799 - val_accuracy: 0.4242\n",
            "Epoch 116/200\n",
            "264/264 [==============================] - 0s 1ms/sample - loss: 8.7221 - accuracy: 0.4280 - val_loss: 8.7799 - val_accuracy: 0.4242\n",
            "Epoch 117/200\n",
            "264/264 [==============================] - 0s 1ms/sample - loss: 8.7221 - accuracy: 0.4280 - val_loss: 8.7799 - val_accuracy: 0.4242\n",
            "Epoch 118/200\n",
            "264/264 [==============================] - 0s 1ms/sample - loss: 8.7221 - accuracy: 0.4280 - val_loss: 8.7799 - val_accuracy: 0.4242\n",
            "Epoch 119/200\n",
            "264/264 [==============================] - 0s 1ms/sample - loss: 8.7221 - accuracy: 0.4280 - val_loss: 8.7799 - val_accuracy: 0.4242\n",
            "Epoch 120/200\n",
            "264/264 [==============================] - 0s 1ms/sample - loss: 8.7221 - accuracy: 0.4280 - val_loss: 8.7799 - val_accuracy: 0.4242\n",
            "Epoch 121/200\n",
            "264/264 [==============================] - 0s 1ms/sample - loss: 8.7221 - accuracy: 0.4280 - val_loss: 8.7799 - val_accuracy: 0.4242\n",
            "Epoch 122/200\n",
            "264/264 [==============================] - 0s 1ms/sample - loss: 8.7221 - accuracy: 0.4280 - val_loss: 8.7799 - val_accuracy: 0.4242\n",
            "Epoch 123/200\n",
            "264/264 [==============================] - 0s 1ms/sample - loss: 8.7221 - accuracy: 0.4280 - val_loss: 8.7799 - val_accuracy: 0.4242\n",
            "Epoch 124/200\n",
            "264/264 [==============================] - 0s 1ms/sample - loss: 8.7221 - accuracy: 0.4280 - val_loss: 8.7799 - val_accuracy: 0.4242\n",
            "Epoch 125/200\n",
            "264/264 [==============================] - 0s 1ms/sample - loss: 8.7221 - accuracy: 0.4280 - val_loss: 8.7799 - val_accuracy: 0.4242\n",
            "Epoch 126/200\n",
            "264/264 [==============================] - 0s 1ms/sample - loss: 8.7221 - accuracy: 0.4280 - val_loss: 8.7799 - val_accuracy: 0.4242\n",
            "Epoch 127/200\n",
            "264/264 [==============================] - 1s 3ms/sample - loss: 8.7221 - accuracy: 0.4280 - val_loss: 8.7799 - val_accuracy: 0.4242\n",
            "Epoch 128/200\n",
            "264/264 [==============================] - 0s 1ms/sample - loss: 8.7221 - accuracy: 0.4280 - val_loss: 8.7799 - val_accuracy: 0.4242\n",
            "Epoch 129/200\n",
            "264/264 [==============================] - 0s 1ms/sample - loss: 8.7221 - accuracy: 0.4280 - val_loss: 8.7799 - val_accuracy: 0.4242\n",
            "Epoch 130/200\n",
            "264/264 [==============================] - 0s 1ms/sample - loss: 8.7221 - accuracy: 0.4280 - val_loss: 8.7799 - val_accuracy: 0.4242\n",
            "Epoch 131/200\n",
            "264/264 [==============================] - 0s 1ms/sample - loss: 8.7221 - accuracy: 0.4280 - val_loss: 8.7799 - val_accuracy: 0.4242\n",
            "Epoch 132/200\n",
            "264/264 [==============================] - 0s 1ms/sample - loss: 8.7221 - accuracy: 0.4280 - val_loss: 8.7799 - val_accuracy: 0.4242\n",
            "Epoch 133/200\n",
            "264/264 [==============================] - 0s 1ms/sample - loss: 8.7221 - accuracy: 0.4280 - val_loss: 8.7799 - val_accuracy: 0.4242\n",
            "Epoch 134/200\n",
            "264/264 [==============================] - 0s 1ms/sample - loss: 8.7221 - accuracy: 0.4280 - val_loss: 8.7799 - val_accuracy: 0.4242\n",
            "Epoch 135/200\n",
            "264/264 [==============================] - 0s 1ms/sample - loss: 8.7221 - accuracy: 0.4280 - val_loss: 8.7799 - val_accuracy: 0.4242\n",
            "Epoch 136/200\n",
            "264/264 [==============================] - 0s 1ms/sample - loss: 8.7221 - accuracy: 0.4280 - val_loss: 8.7799 - val_accuracy: 0.4242\n",
            "Epoch 137/200\n",
            "264/264 [==============================] - 0s 1ms/sample - loss: 8.7221 - accuracy: 0.4280 - val_loss: 8.7799 - val_accuracy: 0.4242\n",
            "Epoch 138/200\n",
            "264/264 [==============================] - 0s 1ms/sample - loss: 8.7221 - accuracy: 0.4280 - val_loss: 8.7799 - val_accuracy: 0.4242\n",
            "Epoch 139/200\n",
            "264/264 [==============================] - 0s 1ms/sample - loss: 8.7221 - accuracy: 0.4280 - val_loss: 8.7799 - val_accuracy: 0.4242\n",
            "Epoch 140/200\n",
            "264/264 [==============================] - 0s 1ms/sample - loss: 8.7221 - accuracy: 0.4280 - val_loss: 8.7799 - val_accuracy: 0.4242\n",
            "Epoch 141/200\n",
            "264/264 [==============================] - 0s 1ms/sample - loss: 8.7221 - accuracy: 0.4280 - val_loss: 8.7799 - val_accuracy: 0.4242\n",
            "Epoch 142/200\n",
            "264/264 [==============================] - 0s 1ms/sample - loss: 8.7221 - accuracy: 0.4280 - val_loss: 8.7799 - val_accuracy: 0.4242\n",
            "Epoch 143/200\n",
            "264/264 [==============================] - 0s 1ms/sample - loss: 8.7221 - accuracy: 0.4280 - val_loss: 8.7799 - val_accuracy: 0.4242\n",
            "Epoch 144/200\n",
            "264/264 [==============================] - 0s 1ms/sample - loss: 8.7221 - accuracy: 0.4280 - val_loss: 8.7799 - val_accuracy: 0.4242\n",
            "Epoch 145/200\n",
            "264/264 [==============================] - 0s 1ms/sample - loss: 8.7221 - accuracy: 0.4280 - val_loss: 8.7799 - val_accuracy: 0.4242\n",
            "Epoch 146/200\n",
            "264/264 [==============================] - 0s 1ms/sample - loss: 8.7221 - accuracy: 0.4280 - val_loss: 8.7799 - val_accuracy: 0.4242\n",
            "Epoch 147/200\n",
            "264/264 [==============================] - 0s 1ms/sample - loss: 8.7221 - accuracy: 0.4280 - val_loss: 8.7799 - val_accuracy: 0.4242\n",
            "Epoch 148/200\n",
            "264/264 [==============================] - 0s 1ms/sample - loss: 8.7221 - accuracy: 0.4280 - val_loss: 8.7799 - val_accuracy: 0.4242\n",
            "Epoch 149/200\n",
            "264/264 [==============================] - 0s 1ms/sample - loss: 8.7221 - accuracy: 0.4280 - val_loss: 8.7799 - val_accuracy: 0.4242\n",
            "Epoch 150/200\n",
            "264/264 [==============================] - 0s 1ms/sample - loss: 8.7221 - accuracy: 0.4280 - val_loss: 8.7799 - val_accuracy: 0.4242\n",
            "Epoch 151/200\n",
            "264/264 [==============================] - 0s 1ms/sample - loss: 8.7221 - accuracy: 0.4280 - val_loss: 8.7799 - val_accuracy: 0.4242\n",
            "Epoch 152/200\n",
            "264/264 [==============================] - 0s 1ms/sample - loss: 8.7221 - accuracy: 0.4280 - val_loss: 8.7799 - val_accuracy: 0.4242\n",
            "Epoch 153/200\n",
            "264/264 [==============================] - 0s 1ms/sample - loss: 8.7221 - accuracy: 0.4280 - val_loss: 8.7799 - val_accuracy: 0.4242\n",
            "Epoch 154/200\n",
            "264/264 [==============================] - 0s 1ms/sample - loss: 8.7221 - accuracy: 0.4280 - val_loss: 8.7799 - val_accuracy: 0.4242\n",
            "Epoch 155/200\n",
            "264/264 [==============================] - 0s 1ms/sample - loss: 8.7221 - accuracy: 0.4280 - val_loss: 8.7799 - val_accuracy: 0.4242\n",
            "Epoch 156/200\n",
            "264/264 [==============================] - 0s 1ms/sample - loss: 8.7221 - accuracy: 0.4280 - val_loss: 8.7799 - val_accuracy: 0.4242\n",
            "Epoch 157/200\n",
            "264/264 [==============================] - 0s 1ms/sample - loss: 8.7221 - accuracy: 0.4280 - val_loss: 8.7799 - val_accuracy: 0.4242\n",
            "Epoch 158/200\n",
            "264/264 [==============================] - 0s 1ms/sample - loss: 8.7221 - accuracy: 0.4280 - val_loss: 8.7799 - val_accuracy: 0.4242\n",
            "Epoch 159/200\n",
            "264/264 [==============================] - 0s 1ms/sample - loss: 8.7221 - accuracy: 0.4280 - val_loss: 8.7799 - val_accuracy: 0.4242\n",
            "Epoch 160/200\n",
            "264/264 [==============================] - 0s 1ms/sample - loss: 8.7221 - accuracy: 0.4280 - val_loss: 8.7799 - val_accuracy: 0.4242\n",
            "Epoch 161/200\n",
            "264/264 [==============================] - 0s 1ms/sample - loss: 8.7221 - accuracy: 0.4280 - val_loss: 8.7799 - val_accuracy: 0.4242\n",
            "Epoch 162/200\n",
            "264/264 [==============================] - 0s 1ms/sample - loss: 8.7221 - accuracy: 0.4280 - val_loss: 8.7799 - val_accuracy: 0.4242\n",
            "Epoch 163/200\n",
            "264/264 [==============================] - 0s 1ms/sample - loss: 8.7221 - accuracy: 0.4280 - val_loss: 8.7799 - val_accuracy: 0.4242\n",
            "Epoch 164/200\n",
            "264/264 [==============================] - 0s 1ms/sample - loss: 8.7221 - accuracy: 0.4280 - val_loss: 8.7799 - val_accuracy: 0.4242\n",
            "Epoch 165/200\n",
            "264/264 [==============================] - 0s 1ms/sample - loss: 8.7221 - accuracy: 0.4280 - val_loss: 8.7799 - val_accuracy: 0.4242\n",
            "Epoch 166/200\n",
            "264/264 [==============================] - 0s 1ms/sample - loss: 8.7221 - accuracy: 0.4280 - val_loss: 8.7799 - val_accuracy: 0.4242\n",
            "Epoch 167/200\n",
            "264/264 [==============================] - 0s 1ms/sample - loss: 8.7221 - accuracy: 0.4280 - val_loss: 8.7799 - val_accuracy: 0.4242\n",
            "Epoch 168/200\n",
            "264/264 [==============================] - 0s 1ms/sample - loss: 8.7221 - accuracy: 0.4280 - val_loss: 8.7799 - val_accuracy: 0.4242\n",
            "Epoch 169/200\n",
            "264/264 [==============================] - 0s 1ms/sample - loss: 8.7221 - accuracy: 0.4280 - val_loss: 8.7799 - val_accuracy: 0.4242\n",
            "Epoch 170/200\n",
            "264/264 [==============================] - 0s 1ms/sample - loss: 8.7221 - accuracy: 0.4280 - val_loss: 8.7799 - val_accuracy: 0.4242\n",
            "Epoch 171/200\n",
            "264/264 [==============================] - 0s 1ms/sample - loss: 8.7221 - accuracy: 0.4280 - val_loss: 8.7799 - val_accuracy: 0.4242\n",
            "Epoch 172/200\n",
            "264/264 [==============================] - 0s 1ms/sample - loss: 8.7221 - accuracy: 0.4280 - val_loss: 8.7799 - val_accuracy: 0.4242\n",
            "Epoch 173/200\n",
            "264/264 [==============================] - 0s 1ms/sample - loss: 8.7221 - accuracy: 0.4280 - val_loss: 8.7799 - val_accuracy: 0.4242\n",
            "Epoch 174/200\n",
            "264/264 [==============================] - 0s 1ms/sample - loss: 8.7221 - accuracy: 0.4280 - val_loss: 8.7799 - val_accuracy: 0.4242\n",
            "Epoch 175/200\n",
            "264/264 [==============================] - 0s 1ms/sample - loss: 8.7221 - accuracy: 0.4280 - val_loss: 8.7799 - val_accuracy: 0.4242\n",
            "Epoch 176/200\n",
            "264/264 [==============================] - 0s 1ms/sample - loss: 8.7221 - accuracy: 0.4280 - val_loss: 8.7799 - val_accuracy: 0.4242\n",
            "Epoch 177/200\n",
            "264/264 [==============================] - 0s 1ms/sample - loss: 8.7221 - accuracy: 0.4280 - val_loss: 8.7799 - val_accuracy: 0.4242\n",
            "Epoch 178/200\n",
            "264/264 [==============================] - 0s 1ms/sample - loss: 8.7221 - accuracy: 0.4280 - val_loss: 8.7799 - val_accuracy: 0.4242\n",
            "Epoch 179/200\n",
            "264/264 [==============================] - 0s 1ms/sample - loss: 8.7221 - accuracy: 0.4280 - val_loss: 8.7799 - val_accuracy: 0.4242\n",
            "Epoch 180/200\n",
            "264/264 [==============================] - 0s 1ms/sample - loss: 8.7221 - accuracy: 0.4280 - val_loss: 8.7799 - val_accuracy: 0.4242\n",
            "Epoch 181/200\n",
            "264/264 [==============================] - 0s 1ms/sample - loss: 8.7221 - accuracy: 0.4280 - val_loss: 8.7799 - val_accuracy: 0.4242\n",
            "Epoch 182/200\n",
            "264/264 [==============================] - 0s 1ms/sample - loss: 8.7221 - accuracy: 0.4280 - val_loss: 8.7799 - val_accuracy: 0.4242\n",
            "Epoch 183/200\n",
            "264/264 [==============================] - 0s 1ms/sample - loss: 8.7221 - accuracy: 0.4280 - val_loss: 8.7799 - val_accuracy: 0.4242\n",
            "Epoch 184/200\n",
            "264/264 [==============================] - 0s 1ms/sample - loss: 8.7221 - accuracy: 0.4280 - val_loss: 8.7799 - val_accuracy: 0.4242\n",
            "Epoch 185/200\n",
            "264/264 [==============================] - 0s 1ms/sample - loss: 8.7221 - accuracy: 0.4280 - val_loss: 8.7799 - val_accuracy: 0.4242\n",
            "Epoch 186/200\n",
            "264/264 [==============================] - 0s 1ms/sample - loss: 8.7221 - accuracy: 0.4280 - val_loss: 8.7799 - val_accuracy: 0.4242\n",
            "Epoch 187/200\n",
            "264/264 [==============================] - 0s 1ms/sample - loss: 8.7221 - accuracy: 0.4280 - val_loss: 8.7799 - val_accuracy: 0.4242\n",
            "Epoch 188/200\n",
            "264/264 [==============================] - 0s 1ms/sample - loss: 8.7221 - accuracy: 0.4280 - val_loss: 8.7799 - val_accuracy: 0.4242\n",
            "Epoch 189/200\n",
            "264/264 [==============================] - 0s 1ms/sample - loss: 8.7221 - accuracy: 0.4280 - val_loss: 8.7799 - val_accuracy: 0.4242\n",
            "Epoch 190/200\n",
            "264/264 [==============================] - 0s 1ms/sample - loss: 8.7221 - accuracy: 0.4280 - val_loss: 8.7799 - val_accuracy: 0.4242\n",
            "Epoch 191/200\n",
            "264/264 [==============================] - 0s 1ms/sample - loss: 8.7221 - accuracy: 0.4280 - val_loss: 8.7799 - val_accuracy: 0.4242\n",
            "Epoch 192/200\n",
            "264/264 [==============================] - 0s 1ms/sample - loss: 8.7221 - accuracy: 0.4280 - val_loss: 8.7799 - val_accuracy: 0.4242\n",
            "Epoch 193/200\n",
            "264/264 [==============================] - 0s 1ms/sample - loss: 8.7221 - accuracy: 0.4280 - val_loss: 8.7799 - val_accuracy: 0.4242\n",
            "Epoch 194/200\n",
            "264/264 [==============================] - 0s 1ms/sample - loss: 8.7221 - accuracy: 0.4280 - val_loss: 8.7799 - val_accuracy: 0.4242\n",
            "Epoch 195/200\n",
            "264/264 [==============================] - 0s 1ms/sample - loss: 8.7221 - accuracy: 0.4280 - val_loss: 8.7799 - val_accuracy: 0.4242\n",
            "Epoch 196/200\n",
            "264/264 [==============================] - 0s 1ms/sample - loss: 8.7221 - accuracy: 0.4280 - val_loss: 8.7799 - val_accuracy: 0.4242\n",
            "Epoch 197/200\n",
            "264/264 [==============================] - 0s 1ms/sample - loss: 8.7221 - accuracy: 0.4280 - val_loss: 8.7799 - val_accuracy: 0.4242\n",
            "Epoch 198/200\n",
            "264/264 [==============================] - 0s 1ms/sample - loss: 8.7221 - accuracy: 0.4280 - val_loss: 8.7799 - val_accuracy: 0.4242\n",
            "Epoch 199/200\n",
            "264/264 [==============================] - 0s 1ms/sample - loss: 8.7221 - accuracy: 0.4280 - val_loss: 8.7799 - val_accuracy: 0.4242\n",
            "Epoch 200/200\n",
            "264/264 [==============================] - 0s 1ms/sample - loss: 8.7221 - accuracy: 0.4280 - val_loss: 8.7799 - val_accuracy: 0.4242\n"
          ],
          "name": "stdout"
        },
        {
          "output_type": "display_data",
          "data": {
            "image/png": "[encoded data removed]",
            "text/plain": [
              "<Figure size 432x288 with 1 Axes>"
            ]
          },
          "metadata": {
            "tags": []
          }
        }
      ]
    },
    {
      "cell_type": "code",
      "metadata": {
        "id": "KMLo_0JitsYT",
        "colab_type": "code",
        "colab": {}
      },
      "source": [
        "cnn_model = tf.keras.models.load_model('outputs/output_1DCNN/best_model.hdf5',\n",
        "                                       custom_objects={'SWA': tfa.optimizers.SWA})"
      ],
      "execution_count": 0,
      "outputs": []
    },
    {
      "cell_type": "code",
      "metadata": {
        "id": "KBxuxA0iWTM0",
        "colab_type": "code",
        "outputId": "d7463fb5-aab8-4bb9-b61e-299c8e9b403e",
        "colab": {
          "base_uri": "https://localhost:8080/",
          "height": 80
        }
      },
      "source": [
        "ypred = cnn_model.predict(xval)\n",
        "ypred = np.argmax(ypred,axis=1)\n",
        "evaluate(y_val_true,ypred)"
      ],
      "execution_count": 61,
      "outputs": [
        {
          "output_type": "execute_result",
          "data": {
            "text/html": [
              "<div>\n",
              "<style scoped>\n",
              "    .dataframe tbody tr th:only-of-type {\n",
              "        vertical-align: middle;\n",
              "    }\n",
              "\n",
              "    .dataframe tbody tr th {\n",
              "        vertical-align: top;\n",
              "    }\n",
              "\n",
              "    .dataframe thead th {\n",
              "        text-align: right;\n",
              "    }\n",
              "</style>\n",
              "<table border=\"1\" class=\"dataframe\">\n",
              "  <thead>\n",
              "    <tr style=\"text-align: right;\">\n",
              "      <th></th>\n",
              "      <th>accuracy</th>\n",
              "      <th>recall</th>\n",
              "      <th>precision</th>\n",
              "      <th>f1-score</th>\n",
              "    </tr>\n",
              "  </thead>\n",
              "  <tbody>\n",
              "    <tr>\n",
              "      <th>0</th>\n",
              "      <td>0.575758</td>\n",
              "      <td>0.5</td>\n",
              "      <td>0.287879</td>\n",
              "      <td>0.365385</td>\n",
              "    </tr>\n",
              "  </tbody>\n",
              "</table>\n",
              "</div>"
            ],
            "text/plain": [
              "   accuracy  recall  precision  f1-score\n",
              "0  0.575758     0.5   0.287879  0.365385"
            ]
          },
          "metadata": {
            "tags": []
          },
          "execution_count": 61
        }
      ]
    },
    {
      "cell_type": "markdown",
      "metadata": {
        "id": "t_WDOnowuBgI",
        "colab_type": "text"
      },
      "source": [
        "### 3.2.2 Evaluating on the test set"
      ]
    },
    {
      "cell_type": "code",
      "metadata": {
        "id": "SGFYv28EuHc2",
        "colab_type": "code",
        "colab": {}
      },
      "source": [
        "cnn_model = tf.keras.models.load_model('outputs/output_1DCNN/best_model.hdf5',\n",
        "                                       custom_objects={'SWA': tfa.optimizers.SWA})"
      ],
      "execution_count": 0,
      "outputs": []
    },
    {
      "cell_type": "code",
      "metadata": {
        "id": "NNDwP5tLuKx6",
        "colab_type": "code",
        "outputId": "28ef4e15-7e94-4820-fdd2-073e3414e2cd",
        "colab": {
          "base_uri": "https://localhost:8080/",
          "height": 80
        }
      },
      "source": [
        "ypred = cnn_model.predict(xtest)\n",
        "ypred = np.argmax(ypred,axis=1)\n",
        "evaluate(y_test_true,ypred)"
      ],
      "execution_count": 62,
      "outputs": [
        {
          "output_type": "execute_result",
          "data": {
            "text/html": [
              "<div>\n",
              "<style scoped>\n",
              "    .dataframe tbody tr th:only-of-type {\n",
              "        vertical-align: middle;\n",
              "    }\n",
              "\n",
              "    .dataframe tbody tr th {\n",
              "        vertical-align: top;\n",
              "    }\n",
              "\n",
              "    .dataframe thead th {\n",
              "        text-align: right;\n",
              "    }\n",
              "</style>\n",
              "<table border=\"1\" class=\"dataframe\">\n",
              "  <thead>\n",
              "    <tr style=\"text-align: right;\">\n",
              "      <th></th>\n",
              "      <th>accuracy</th>\n",
              "      <th>recall</th>\n",
              "      <th>precision</th>\n",
              "      <th>f1-score</th>\n",
              "    </tr>\n",
              "  </thead>\n",
              "  <tbody>\n",
              "    <tr>\n",
              "      <th>0</th>\n",
              "      <td>0.575758</td>\n",
              "      <td>0.5</td>\n",
              "      <td>0.287879</td>\n",
              "      <td>0.365385</td>\n",
              "    </tr>\n",
              "  </tbody>\n",
              "</table>\n",
              "</div>"
            ],
            "text/plain": [
              "   accuracy  recall  precision  f1-score\n",
              "0  0.575758     0.5   0.287879  0.365385"
            ]
          },
          "metadata": {
            "tags": []
          },
          "execution_count": 62
        }
      ]
    },
    {
      "cell_type": "markdown",
      "metadata": {
        "id": "Rs77yZxUucO6",
        "colab_type": "text"
      },
      "source": [
        "Let's be more precise"
      ]
    },
    {
      "cell_type": "code",
      "metadata": {
        "id": "2717UnOMWTNC",
        "colab_type": "code",
        "outputId": "d1d7d690-8f60-456c-a1f1-27ddb8103943",
        "colab": {
          "base_uri": "https://localhost:8080/",
          "height": 111
        }
      },
      "source": [
        "get_binary_metrics(y_test_true,ypred)"
      ],
      "execution_count": 63,
      "outputs": [
        {
          "output_type": "execute_result",
          "data": {
            "text/html": [
              "<div>\n",
              "<style scoped>\n",
              "    .dataframe tbody tr th:only-of-type {\n",
              "        vertical-align: middle;\n",
              "    }\n",
              "\n",
              "    .dataframe tbody tr th {\n",
              "        vertical-align: top;\n",
              "    }\n",
              "\n",
              "    .dataframe thead th {\n",
              "        text-align: right;\n",
              "    }\n",
              "</style>\n",
              "<table border=\"1\" class=\"dataframe\">\n",
              "  <thead>\n",
              "    <tr style=\"text-align: right;\">\n",
              "      <th></th>\n",
              "      <th>recall</th>\n",
              "      <th>precision</th>\n",
              "      <th>f1-score</th>\n",
              "    </tr>\n",
              "  </thead>\n",
              "  <tbody>\n",
              "    <tr>\n",
              "      <th>0</th>\n",
              "      <td>1</td>\n",
              "      <td>0.575758</td>\n",
              "      <td>0.730769</td>\n",
              "    </tr>\n",
              "    <tr>\n",
              "      <th>1</th>\n",
              "      <td>0</td>\n",
              "      <td>0</td>\n",
              "      <td>0</td>\n",
              "    </tr>\n",
              "  </tbody>\n",
              "</table>\n",
              "</div>"
            ],
            "text/plain": [
              "  recall precision  f1-score\n",
              "0      1  0.575758  0.730769\n",
              "1      0         0         0"
            ]
          },
          "metadata": {
            "tags": []
          },
          "execution_count": 63
        }
      ]
    },
    {
      "cell_type": "code",
      "metadata": {
        "id": "W-6wcu5o8Zp3",
        "colab_type": "code",
        "colab": {
          "base_uri": "https://localhost:8080/",
          "height": 423
        },
        "outputId": "0ff82f53-980e-439c-a3fa-4ee60e2a9234"
      },
      "source": [
        "plot_confusion_matrix(y_test_true,ypred)"
      ],
      "execution_count": 64,
      "outputs": [
        {
          "output_type": "stream",
          "text": [
            "/content/drive/My Drive/MVA/S2/DLMI/utils/evaluation.py:36: RuntimeWarning: invalid value encountered in true_divide\n",
            "  cm = np.round(cm/cm.sum(axis=0),3)\n"
          ],
          "name": "stderr"
        },
        {
          "output_type": "display_data",
          "data": {
            "image/png": "[encoded data removed]",
            "text/plain": [
              "<Figure size 360x360 with 2 Axes>"
            ]
          },
          "metadata": {
            "tags": []
          }
        }
      ]
    },
    {
      "cell_type": "markdown",
      "metadata": {
        "colab_type": "text",
        "id": "zoEGIWWQ8GDS"
      },
      "source": [
        "## 3.3 ResNet"
      ]
    },
    {
      "cell_type": "code",
      "metadata": {
        "colab_type": "code",
        "id": "3_jFCOaTWMUo",
        "colab": {}
      },
      "source": [
        "from models.resnet import Classifier_RESNET"
      ],
      "execution_count": 0,
      "outputs": []
    },
    {
      "cell_type": "markdown",
      "metadata": {
        "id": "zBST2ci-u2Cl",
        "colab_type": "text"
      },
      "source": [
        "### 3.3.1 Training"
      ]
    },
    {
      "cell_type": "code",
      "metadata": {
        "colab_type": "code",
        "id": "lzEzuEo533AL",
        "outputId": "664f37b7-1b9d-4b41-e2f6-fbc5e2a8a1ee",
        "colab": {
          "base_uri": "https://localhost:8080/",
          "height": 1000
        }
      },
      "source": [
        "resnet = Classifier_RESNET('outputs/output_resnet/',input_shape=(xtrain.shape[1],xtrain.shape[2]),\n",
        "                           nb_classes=2,n_feature_maps = (64,128,128),kernel_size=(8,5,3,2),\n",
        "                           verbose=1)"
      ],
      "execution_count": 21,
      "outputs": [
        {
          "output_type": "stream",
          "text": [
            "Model: \"model\"\n",
            "__________________________________________________________________________________________________\n",
            "Layer (type)                    Output Shape         Param #     Connected to                     \n",
            "==================================================================================================\n",
            "input_1 (InputLayer)            [(None, 1082, 10)]   0                                            \n",
            "__________________________________________________________________________________________________\n",
            "conv1d (Conv1D)                 (None, 1082, 64)     5184        input_1[0][0]                    \n",
            "__________________________________________________________________________________________________\n",
            "batch_normalization (BatchNorma (None, 1082, 64)     256         conv1d[0][0]                     \n",
            "__________________________________________________________________________________________________\n",
            "activation (Activation)         (None, 1082, 64)     0           batch_normalization[0][0]        \n",
            "__________________________________________________________________________________________________\n",
            "conv1d_1 (Conv1D)               (None, 1082, 64)     20544       activation[0][0]                 \n",
            "__________________________________________________________________________________________________\n",
            "batch_normalization_1 (BatchNor (None, 1082, 64)     256         conv1d_1[0][0]                   \n",
            "__________________________________________________________________________________________________\n",
            "activation_1 (Activation)       (None, 1082, 64)     0           batch_normalization_1[0][0]      \n",
            "__________________________________________________________________________________________________\n",
            "conv1d_3 (Conv1D)               (None, 1082, 64)     1344        input_1[0][0]                    \n",
            "__________________________________________________________________________________________________\n",
            "conv1d_2 (Conv1D)               (None, 1082, 64)     12352       activation_1[0][0]               \n",
            "__________________________________________________________________________________________________\n",
            "batch_normalization_3 (BatchNor (None, 1082, 64)     256         conv1d_3[0][0]                   \n",
            "__________________________________________________________________________________________________\n",
            "batch_normalization_2 (BatchNor (None, 1082, 64)     256         conv1d_2[0][0]                   \n",
            "__________________________________________________________________________________________________\n",
            "add (Add)                       (None, 1082, 64)     0           batch_normalization_3[0][0]      \n",
            "                                                                 batch_normalization_2[0][0]      \n",
            "__________________________________________________________________________________________________\n",
            "activation_2 (Activation)       (None, 1082, 64)     0           add[0][0]                        \n",
            "__________________________________________________________________________________________________\n",
            "conv1d_4 (Conv1D)               (None, 1082, 128)    65664       activation_2[0][0]               \n",
            "__________________________________________________________________________________________________\n",
            "batch_normalization_4 (BatchNor (None, 1082, 128)    512         conv1d_4[0][0]                   \n",
            "__________________________________________________________________________________________________\n",
            "activation_3 (Activation)       (None, 1082, 128)    0           batch_normalization_4[0][0]      \n",
            "__________________________________________________________________________________________________\n",
            "conv1d_5 (Conv1D)               (None, 1082, 128)    82048       activation_3[0][0]               \n",
            "__________________________________________________________________________________________________\n",
            "batch_normalization_5 (BatchNor (None, 1082, 128)    512         conv1d_5[0][0]                   \n",
            "__________________________________________________________________________________________________\n",
            "activation_4 (Activation)       (None, 1082, 128)    0           batch_normalization_5[0][0]      \n",
            "__________________________________________________________________________________________________\n",
            "conv1d_7 (Conv1D)               (None, 1082, 128)    16512       activation_2[0][0]               \n",
            "__________________________________________________________________________________________________\n",
            "conv1d_6 (Conv1D)               (None, 1082, 128)    49280       activation_4[0][0]               \n",
            "__________________________________________________________________________________________________\n",
            "batch_normalization_7 (BatchNor (None, 1082, 128)    512         conv1d_7[0][0]                   \n",
            "__________________________________________________________________________________________________\n",
            "batch_normalization_6 (BatchNor (None, 1082, 128)    512         conv1d_6[0][0]                   \n",
            "__________________________________________________________________________________________________\n",
            "add_1 (Add)                     (None, 1082, 128)    0           batch_normalization_7[0][0]      \n",
            "                                                                 batch_normalization_6[0][0]      \n",
            "__________________________________________________________________________________________________\n",
            "activation_5 (Activation)       (None, 1082, 128)    0           add_1[0][0]                      \n",
            "__________________________________________________________________________________________________\n",
            "conv1d_8 (Conv1D)               (None, 1082, 128)    131200      activation_5[0][0]               \n",
            "__________________________________________________________________________________________________\n",
            "batch_normalization_8 (BatchNor (None, 1082, 128)    512         conv1d_8[0][0]                   \n",
            "__________________________________________________________________________________________________\n",
            "activation_6 (Activation)       (None, 1082, 128)    0           batch_normalization_8[0][0]      \n",
            "__________________________________________________________________________________________________\n",
            "conv1d_9 (Conv1D)               (None, 1082, 128)    82048       activation_6[0][0]               \n",
            "__________________________________________________________________________________________________\n",
            "batch_normalization_9 (BatchNor (None, 1082, 128)    512         conv1d_9[0][0]                   \n",
            "__________________________________________________________________________________________________\n",
            "activation_7 (Activation)       (None, 1082, 128)    0           batch_normalization_9[0][0]      \n",
            "__________________________________________________________________________________________________\n",
            "conv1d_10 (Conv1D)              (None, 1082, 128)    49280       activation_7[0][0]               \n",
            "__________________________________________________________________________________________________\n",
            "batch_normalization_11 (BatchNo (None, 1082, 128)    512         activation_5[0][0]               \n",
            "__________________________________________________________________________________________________\n",
            "batch_normalization_10 (BatchNo (None, 1082, 128)    512         conv1d_10[0][0]                  \n",
            "__________________________________________________________________________________________________\n",
            "add_2 (Add)                     (None, 1082, 128)    0           batch_normalization_11[0][0]     \n",
            "                                                                 batch_normalization_10[0][0]     \n",
            "__________________________________________________________________________________________________\n",
            "activation_8 (Activation)       (None, 1082, 128)    0           add_2[0][0]                      \n",
            "__________________________________________________________________________________________________\n",
            "global_average_pooling1d (Globa (None, 128)          0           activation_8[0][0]               \n",
            "__________________________________________________________________________________________________\n",
            "dense (Dense)                   (None, 1)            129         global_average_pooling1d[0][0]   \n",
            "==================================================================================================\n",
            "Total params: 520,705\n",
            "Trainable params: 518,145\n",
            "Non-trainable params: 2,560\n",
            "__________________________________________________________________________________________________\n"
          ],
          "name": "stdout"
        }
      ]
    },
    {
      "cell_type": "code",
      "metadata": {
        "colab_type": "code",
        "id": "l2eehf0H42Vu",
        "outputId": "27ca0438-5937-4fb8-bbeb-fdbe808529f7",
        "colab": {
          "base_uri": "https://localhost:8080/",
          "height": 1000
        }
      },
      "source": [
        "%matplotlib inline\n",
        "hist = resnet.fit(xtrain,ytrain,xval,yval,y_val_true,batch_size=32,nb_epochs=25)"
      ],
      "execution_count": 22,
      "outputs": [
        {
          "output_type": "stream",
          "text": [
            "Train on 264 samples, validate on 33 samples\n",
            "Epoch 1/25\n",
            "264/264 [==============================] - 4s 16ms/sample - loss: 8.7221 - accuracy: 0.4280 - val_loss: 8.7799 - val_accuracy: 0.4242\n",
            "Epoch 2/25\n",
            "264/264 [==============================] - 1s 3ms/sample - loss: 8.7221 - accuracy: 0.4280 - val_loss: 8.7799 - val_accuracy: 0.4242\n",
            "Epoch 3/25\n",
            "264/264 [==============================] - 1s 3ms/sample - loss: 8.7221 - accuracy: 0.4280 - val_loss: 8.7799 - val_accuracy: 0.4242\n",
            "Epoch 4/25\n",
            "264/264 [==============================] - 1s 3ms/sample - loss: 8.7221 - accuracy: 0.4280 - val_loss: 8.7799 - val_accuracy: 0.4242\n",
            "Epoch 5/25\n",
            "264/264 [==============================] - 1s 3ms/sample - loss: 8.7221 - accuracy: 0.4280 - val_loss: 8.7799 - val_accuracy: 0.4242\n",
            "Epoch 6/25\n",
            "264/264 [==============================] - 1s 3ms/sample - loss: 8.7221 - accuracy: 0.4280 - val_loss: 8.7799 - val_accuracy: 0.4242\n",
            "Epoch 7/25\n",
            "264/264 [==============================] - 1s 4ms/sample - loss: 8.7221 - accuracy: 0.4280 - val_loss: 8.7799 - val_accuracy: 0.4242\n",
            "Epoch 8/25\n",
            "264/264 [==============================] - 1s 3ms/sample - loss: 8.7221 - accuracy: 0.4280 - val_loss: 8.7799 - val_accuracy: 0.4242\n",
            "Epoch 9/25\n",
            "264/264 [==============================] - 1s 3ms/sample - loss: 8.7221 - accuracy: 0.4280 - val_loss: 8.7799 - val_accuracy: 0.4242\n",
            "Epoch 10/25\n",
            "264/264 [==============================] - 1s 3ms/sample - loss: 8.7221 - accuracy: 0.4280 - val_loss: 8.7799 - val_accuracy: 0.4242\n",
            "Epoch 11/25\n",
            "264/264 [==============================] - 1s 3ms/sample - loss: 8.7221 - accuracy: 0.4280 - val_loss: 8.7799 - val_accuracy: 0.4242\n",
            "Epoch 12/25\n",
            "264/264 [==============================] - 1s 3ms/sample - loss: 8.7221 - accuracy: 0.4280 - val_loss: 8.7799 - val_accuracy: 0.4242\n",
            "Epoch 13/25\n",
            "264/264 [==============================] - 1s 3ms/sample - loss: 8.7221 - accuracy: 0.4280 - val_loss: 8.7799 - val_accuracy: 0.4242\n",
            "Epoch 14/25\n",
            "264/264 [==============================] - 1s 3ms/sample - loss: 8.7221 - accuracy: 0.4280 - val_loss: 8.7799 - val_accuracy: 0.4242\n",
            "Epoch 15/25\n",
            "264/264 [==============================] - 1s 3ms/sample - loss: 8.7221 - accuracy: 0.4280 - val_loss: 8.7799 - val_accuracy: 0.4242\n",
            "Epoch 16/25\n",
            "264/264 [==============================] - 1s 3ms/sample - loss: 8.7221 - accuracy: 0.4280 - val_loss: 8.7799 - val_accuracy: 0.4242\n",
            "Epoch 17/25\n",
            "264/264 [==============================] - 1s 3ms/sample - loss: 8.7221 - accuracy: 0.4280 - val_loss: 8.7799 - val_accuracy: 0.4242\n",
            "Epoch 18/25\n",
            "264/264 [==============================] - 1s 4ms/sample - loss: 8.7221 - accuracy: 0.4280 - val_loss: 8.7799 - val_accuracy: 0.4242\n",
            "Epoch 19/25\n",
            "264/264 [==============================] - 1s 3ms/sample - loss: 8.7221 - accuracy: 0.4280 - val_loss: 8.7799 - val_accuracy: 0.4242\n",
            "Epoch 20/25\n",
            "264/264 [==============================] - 1s 3ms/sample - loss: 8.7221 - accuracy: 0.4280 - val_loss: 8.7799 - val_accuracy: 0.4242\n",
            "Epoch 21/25\n",
            "264/264 [==============================] - 1s 3ms/sample - loss: 8.7221 - accuracy: 0.4280 - val_loss: 8.7799 - val_accuracy: 0.4242\n",
            "Epoch 22/25\n",
            "264/264 [==============================] - 1s 3ms/sample - loss: 8.7221 - accuracy: 0.4280 - val_loss: 8.7799 - val_accuracy: 0.4242\n",
            "Epoch 23/25\n",
            "264/264 [==============================] - 1s 3ms/sample - loss: 8.7221 - accuracy: 0.4280 - val_loss: 8.7799 - val_accuracy: 0.4242\n",
            "Epoch 24/25\n",
            "264/264 [==============================] - 1s 3ms/sample - loss: 8.7221 - accuracy: 0.4280 - val_loss: 8.7799 - val_accuracy: 0.4242\n",
            "Epoch 25/25\n",
            "264/264 [==============================] - 1s 3ms/sample - loss: 8.7221 - accuracy: 0.4280 - val_loss: 8.7799 - val_accuracy: 0.4242\n"
          ],
          "name": "stdout"
        },
        {
          "output_type": "display_data",
          "data": {
            "image/png": "[encoded data removed]",
            "text/plain": [
              "<Figure size 432x288 with 1 Axes>"
            ]
          },
          "metadata": {
            "tags": []
          }
        }
      ]
    },
    {
      "cell_type": "code",
      "metadata": {
        "id": "hzRONOjIuibx",
        "colab_type": "code",
        "colab": {}
      },
      "source": [
        "resnet_model = tf.keras.models.load_model('outputs/output_resnet/best_model.hdf5')"
      ],
      "execution_count": 0,
      "outputs": []
    },
    {
      "cell_type": "code",
      "metadata": {
        "colab_type": "code",
        "id": "lV_tQ2pdE6nT",
        "outputId": "045f36fe-fb3e-4e89-94b9-a6960b03d39a",
        "colab": {
          "base_uri": "https://localhost:8080/",
          "height": 80
        }
      },
      "source": [
        "ypred = resnet_model.predict(xval)\n",
        "ypred = np.argmax(ypred,axis=1)\n",
        "evaluate(y_val_true,ypred)"
      ],
      "execution_count": 24,
      "outputs": [
        {
          "output_type": "execute_result",
          "data": {
            "text/html": [
              "<div>\n",
              "<style scoped>\n",
              "    .dataframe tbody tr th:only-of-type {\n",
              "        vertical-align: middle;\n",
              "    }\n",
              "\n",
              "    .dataframe tbody tr th {\n",
              "        vertical-align: top;\n",
              "    }\n",
              "\n",
              "    .dataframe thead th {\n",
              "        text-align: right;\n",
              "    }\n",
              "</style>\n",
              "<table border=\"1\" class=\"dataframe\">\n",
              "  <thead>\n",
              "    <tr style=\"text-align: right;\">\n",
              "      <th></th>\n",
              "      <th>accuracy</th>\n",
              "      <th>recall</th>\n",
              "      <th>precision</th>\n",
              "      <th>f1-score</th>\n",
              "    </tr>\n",
              "  </thead>\n",
              "  <tbody>\n",
              "    <tr>\n",
              "      <th>0</th>\n",
              "      <td>0.575758</td>\n",
              "      <td>0.5</td>\n",
              "      <td>0.287879</td>\n",
              "      <td>0.365385</td>\n",
              "    </tr>\n",
              "  </tbody>\n",
              "</table>\n",
              "</div>"
            ],
            "text/plain": [
              "   accuracy  recall  precision  f1-score\n",
              "0  0.575758     0.5   0.287879  0.365385"
            ]
          },
          "metadata": {
            "tags": []
          },
          "execution_count": 24
        }
      ]
    },
    {
      "cell_type": "markdown",
      "metadata": {
        "id": "nV6K2G2Iuwx4",
        "colab_type": "text"
      },
      "source": [
        "### 3.3.2 Evaluating on the test set"
      ]
    },
    {
      "cell_type": "code",
      "metadata": {
        "id": "pWgYmoSBu9Zj",
        "colab_type": "code",
        "colab": {}
      },
      "source": [
        "resnet_model = tf.keras.models.load_model('outputs/output_resnet/best_model.hdf5')"
      ],
      "execution_count": 0,
      "outputs": []
    },
    {
      "cell_type": "code",
      "metadata": {
        "id": "pKmjutKfvA_B",
        "colab_type": "code",
        "outputId": "1f009800-3347-4b1a-e2d6-8d37d5d16467",
        "colab": {
          "base_uri": "https://localhost:8080/",
          "height": 80
        }
      },
      "source": [
        "ypred = resnet_model.predict(xtest)\n",
        "ypred = np.argmax(ypred,axis=1)\n",
        "evaluate(y_test_true,ypred)"
      ],
      "execution_count": 25,
      "outputs": [
        {
          "output_type": "execute_result",
          "data": {
            "text/html": [
              "<div>\n",
              "<style scoped>\n",
              "    .dataframe tbody tr th:only-of-type {\n",
              "        vertical-align: middle;\n",
              "    }\n",
              "\n",
              "    .dataframe tbody tr th {\n",
              "        vertical-align: top;\n",
              "    }\n",
              "\n",
              "    .dataframe thead th {\n",
              "        text-align: right;\n",
              "    }\n",
              "</style>\n",
              "<table border=\"1\" class=\"dataframe\">\n",
              "  <thead>\n",
              "    <tr style=\"text-align: right;\">\n",
              "      <th></th>\n",
              "      <th>accuracy</th>\n",
              "      <th>recall</th>\n",
              "      <th>precision</th>\n",
              "      <th>f1-score</th>\n",
              "    </tr>\n",
              "  </thead>\n",
              "  <tbody>\n",
              "    <tr>\n",
              "      <th>0</th>\n",
              "      <td>0.575758</td>\n",
              "      <td>0.5</td>\n",
              "      <td>0.287879</td>\n",
              "      <td>0.365385</td>\n",
              "    </tr>\n",
              "  </tbody>\n",
              "</table>\n",
              "</div>"
            ],
            "text/plain": [
              "   accuracy  recall  precision  f1-score\n",
              "0  0.575758     0.5   0.287879  0.365385"
            ]
          },
          "metadata": {
            "tags": []
          },
          "execution_count": 25
        }
      ]
    },
    {
      "cell_type": "code",
      "metadata": {
        "colab_type": "code",
        "id": "wm1WjpQdUkhh",
        "outputId": "4b3fbbc6-08b8-4435-87a2-ad11689757f2",
        "colab": {
          "base_uri": "https://localhost:8080/",
          "height": 111
        }
      },
      "source": [
        "get_binary_metrics(y_test_true,ypred)"
      ],
      "execution_count": 26,
      "outputs": [
        {
          "output_type": "execute_result",
          "data": {
            "text/html": [
              "<div>\n",
              "<style scoped>\n",
              "    .dataframe tbody tr th:only-of-type {\n",
              "        vertical-align: middle;\n",
              "    }\n",
              "\n",
              "    .dataframe tbody tr th {\n",
              "        vertical-align: top;\n",
              "    }\n",
              "\n",
              "    .dataframe thead th {\n",
              "        text-align: right;\n",
              "    }\n",
              "</style>\n",
              "<table border=\"1\" class=\"dataframe\">\n",
              "  <thead>\n",
              "    <tr style=\"text-align: right;\">\n",
              "      <th></th>\n",
              "      <th>recall</th>\n",
              "      <th>precision</th>\n",
              "      <th>f1-score</th>\n",
              "    </tr>\n",
              "  </thead>\n",
              "  <tbody>\n",
              "    <tr>\n",
              "      <th>0</th>\n",
              "      <td>1</td>\n",
              "      <td>0.575758</td>\n",
              "      <td>0.730769</td>\n",
              "    </tr>\n",
              "    <tr>\n",
              "      <th>1</th>\n",
              "      <td>0</td>\n",
              "      <td>0</td>\n",
              "      <td>0</td>\n",
              "    </tr>\n",
              "  </tbody>\n",
              "</table>\n",
              "</div>"
            ],
            "text/plain": [
              "  recall precision  f1-score\n",
              "0      1  0.575758  0.730769\n",
              "1      0         0         0"
            ]
          },
          "metadata": {
            "tags": []
          },
          "execution_count": 26
        }
      ]
    },
    {
      "cell_type": "code",
      "metadata": {
        "id": "wfWlmO268t6_",
        "colab_type": "code",
        "outputId": "dd8b9846-42e5-495c-ec44-a40b2aea5f20",
        "colab": {
          "base_uri": "https://localhost:8080/",
          "height": 423
        }
      },
      "source": [
        "plot_confusion_matrix(y_test_true,ypred)"
      ],
      "execution_count": 27,
      "outputs": [
        {
          "output_type": "stream",
          "text": [
            "/content/drive/My Drive/MVA/S2/DLMI/utils/evaluation.py:36: RuntimeWarning: invalid value encountered in true_divide\n",
            "  cm = np.round(cm/cm.sum(axis=0),3)\n"
          ],
          "name": "stderr"
        },
        {
          "output_type": "display_data",
          "data": {
            "image/png": "[encoded data removed]",
            "text/plain": [
              "<Figure size 360x360 with 2 Axes>"
            ]
          },
          "metadata": {
            "tags": []
          }
        }
      ]
    },
    {
      "cell_type": "markdown",
      "metadata": {
        "colab_type": "text",
        "id": "KB4ySwZj_Nd-"
      },
      "source": [
        "# 4. Interpreting models"
      ]
    },
    {
      "cell_type": "markdown",
      "metadata": {
        "id": "cWlozV6_h1VB",
        "colab_type": "text"
      },
      "source": [
        "Here we display only the activations for the last layer. Given the models did not learn anything, we do not expect the plots to be meaningful, but we expect them to highlight no particular part of the signals (which would be an indication that they did not learn anything)."
      ]
    },
    {
      "cell_type": "code",
      "metadata": {
        "colab_type": "code",
        "id": "UsfoOPD7A47h",
        "colab": {}
      },
      "source": [
        "from interpretation.cam import display_conv_activations,display_conv_activations_transplant"
      ],
      "execution_count": 0,
      "outputs": []
    },
    {
      "cell_type": "markdown",
      "metadata": {
        "id": "2-9kndDSWTPX",
        "colab_type": "text"
      },
      "source": [
        "## 4.1 1D-CNN model"
      ]
    },
    {
      "cell_type": "code",
      "metadata": {
        "id": "zT_ZPKlEWTPe",
        "colab_type": "code",
        "colab": {}
      },
      "source": [
        "cnn_model = tf.keras.models.load_model('outputs/output_1DCNN/best_model.hdf5',\n",
        "                                       custom_objects={'SWA': tfa.optimizers.SWA})"
      ],
      "execution_count": 0,
      "outputs": []
    },
    {
      "cell_type": "code",
      "metadata": {
        "id": "FXDbGrzKhjcy",
        "colab_type": "code",
        "outputId": "62ef3605-2b8c-4ef5-bca9-f0f4c87da147",
        "colab": {
          "base_uri": "https://localhost:8080/",
          "height": 356
        }
      },
      "source": [
        "%matplotlib inline\n",
        "display_conv_activations_transplant(cnn_model,xtest[0],cols)"
      ],
      "execution_count": 19,
      "outputs": [
        {
          "output_type": "display_data",
          "data": {
            "image/png": "[encoded data removed]",
            "text/plain": [
              "<Figure size 1008x360 with 20 Axes>"
            ]
          },
          "metadata": {
            "tags": []
          }
        }
      ]
    },
    {
      "cell_type": "markdown",
      "metadata": {
        "colab_type": "text",
        "id": "lHxxo87aHSt9"
      },
      "source": [
        "## 4.2 ResNet model"
      ]
    },
    {
      "cell_type": "code",
      "metadata": {
        "colab_type": "code",
        "id": "QLtOassAvCJf",
        "colab": {}
      },
      "source": [
        "resnet_model = tf.keras.models.load_model('outputs/output_resnet/best_model.hdf5')"
      ],
      "execution_count": 0,
      "outputs": []
    },
    {
      "cell_type": "code",
      "metadata": {
        "colab_type": "code",
        "id": "1IeTqYTU07Zg",
        "outputId": "a52b0e49-38d4-4ea6-b337-4eb2e1460f52",
        "colab": {
          "base_uri": "https://localhost:8080/",
          "height": 356
        }
      },
      "source": [
        "display_conv_activations_transplant(resnet_model,xtest[0],cols)"
      ],
      "execution_count": 29,
      "outputs": [
        {
          "output_type": "display_data",
          "data": {
            "image/png": "[encoded data removed]",
            "text/plain": [
              "<Figure size 1008x360 with 20 Axes>"
            ]
          },
          "metadata": {
            "tags": []
          }
        }
      ]
    },
    {
      "cell_type": "code",
      "metadata": {
        "id": "M3NIyJ2z9Ug-",
        "colab_type": "code",
        "colab": {}
      },
      "source": [
        ""
      ],
      "execution_count": 0,
      "outputs": []
    }
  ]
}