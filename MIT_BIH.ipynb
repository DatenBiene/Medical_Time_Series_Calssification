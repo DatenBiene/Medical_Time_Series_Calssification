{
  "nbformat": 4,
  "nbformat_minor": 0,
  "metadata": {
    "accelerator": "GPU",
    "colab": {
      "name": "MIT_BIH.ipynb",
      "provenance": [],
      "collapsed_sections": [],
      "toc_visible": true
    },
    "kernelspec": {
      "display_name": "Python 3",
      "language": "python",
      "name": "python3"
    },
    "language_info": {
      "codemirror_mode": {
        "name": "ipython",
        "version": 3
      },
      "file_extension": ".py",
      "mimetype": "text/x-python",
      "name": "python",
      "nbconvert_exporter": "python",
      "pygments_lexer": "ipython3",
      "version": "3.7.4"
    }
  },
  "cells": [
    {
      "cell_type": "markdown",
      "metadata": {
        "id": "k7Qj9o_IvVCc",
        "colab_type": "text"
      },
      "source": [
        "# Warning: if you use Colab"
      ]
    },
    {
      "cell_type": "markdown",
      "metadata": {
        "id": "iFPun_AHsUoe",
        "colab_type": "text"
      },
      "source": [
        "If you run on Colab, you need to install tensorflow v 2.1.0 and keract beforehand."
      ]
    },
    {
      "cell_type": "code",
      "metadata": {
        "id": "SDG1uCoqq16y",
        "colab_type": "code",
        "colab": {
          "base_uri": "https://localhost:8080/",
          "height": 255
        },
        "outputId": "51a70c25-c40b-4682-a904-9bd91d98e380"
      },
      "source": [
        "!pip uninstall tensorflow"
      ],
      "execution_count": 1,
      "outputs": [
        {
          "output_type": "stream",
          "text": [
            "Uninstalling tensorflow-2.2.0rc1:\n",
            "  Would remove:\n",
            "    /usr/local/bin/estimator_ckpt_converter\n",
            "    /usr/local/bin/saved_model_cli\n",
            "    /usr/local/bin/tensorboard\n",
            "    /usr/local/bin/tf_upgrade_v2\n",
            "    /usr/local/bin/tflite_convert\n",
            "    /usr/local/bin/toco\n",
            "    /usr/local/bin/toco_from_protos\n",
            "    /usr/local/lib/python3.6/dist-packages/tensorflow-2.2.0rc1.dist-info/*\n",
            "    /usr/local/lib/python3.6/dist-packages/tensorflow/*\n",
            "Proceed (y/n)? y\n",
            "y\n",
            "  Successfully uninstalled tensorflow-2.2.0rc1\n"
          ],
          "name": "stdout"
        }
      ]
    },
    {
      "cell_type": "code",
      "metadata": {
        "id": "g3PxpDSHq99Y",
        "colab_type": "code",
        "colab": {
          "base_uri": "https://localhost:8080/",
          "height": 938
        },
        "outputId": "9564f4fb-a32f-43f2-e8be-930b3faaaf57"
      },
      "source": [
        "!pip install tensorflow==2.1.0"
      ],
      "execution_count": 4,
      "outputs": [
        {
          "output_type": "stream",
          "text": [
            "Collecting tensorflow==2.1.0\n",
            "\u001b[?25l  Downloading https://files.pythonhosted.org/packages/85/d4/c0cd1057b331bc38b65478302114194bd8e1b9c2bbc06e300935c0e93d90/tensorflow-2.1.0-cp36-cp36m-manylinux2010_x86_64.whl (421.8MB)\n",
            "\u001b[K     |████████████████████████████████| 421.8MB 41kB/s \n",
            "\u001b[?25hRequirement already satisfied: wrapt>=1.11.1 in /usr/local/lib/python3.6/dist-packages (from tensorflow==2.1.0) (1.12.1)\n",
            "Requirement already satisfied: opt-einsum>=2.3.2 in /usr/local/lib/python3.6/dist-packages (from tensorflow==2.1.0) (3.2.0)\n",
            "Requirement already satisfied: astor>=0.6.0 in /usr/local/lib/python3.6/dist-packages (from tensorflow==2.1.0) (0.8.1)\n",
            "Requirement already satisfied: grpcio>=1.8.6 in /usr/local/lib/python3.6/dist-packages (from tensorflow==2.1.0) (1.27.2)\n",
            "Requirement already satisfied: keras-applications>=1.0.8 in /usr/local/lib/python3.6/dist-packages (from tensorflow==2.1.0) (1.0.8)\n",
            "Requirement already satisfied: tensorboard<2.2.0,>=2.1.0 in /usr/local/lib/python3.6/dist-packages (from tensorflow==2.1.0) (2.1.1)\n",
            "Collecting gast==0.2.2\n",
            "  Downloading https://files.pythonhosted.org/packages/4e/35/11749bf99b2d4e3cceb4d55ca22590b0d7c2c62b9de38ac4a4a7f4687421/gast-0.2.2.tar.gz\n",
            "Requirement already satisfied: absl-py>=0.7.0 in /usr/local/lib/python3.6/dist-packages (from tensorflow==2.1.0) (0.9.0)\n",
            "Requirement already satisfied: protobuf>=3.8.0 in /usr/local/lib/python3.6/dist-packages (from tensorflow==2.1.0) (3.10.0)\n",
            "Requirement already satisfied: wheel>=0.26; python_version >= \"3\" in /usr/local/lib/python3.6/dist-packages (from tensorflow==2.1.0) (0.34.2)\n",
            "Requirement already satisfied: scipy==1.4.1; python_version >= \"3\" in /usr/local/lib/python3.6/dist-packages (from tensorflow==2.1.0) (1.4.1)\n",
            "Requirement already satisfied: numpy<2.0,>=1.16.0 in /usr/local/lib/python3.6/dist-packages (from tensorflow==2.1.0) (1.18.2)\n",
            "Requirement already satisfied: google-pasta>=0.1.6 in /usr/local/lib/python3.6/dist-packages (from tensorflow==2.1.0) (0.2.0)\n",
            "Collecting tensorflow-estimator<2.2.0,>=2.1.0rc0\n",
            "\u001b[?25l  Downloading https://files.pythonhosted.org/packages/18/90/b77c328a1304437ab1310b463e533fa7689f4bfc41549593056d812fab8e/tensorflow_estimator-2.1.0-py2.py3-none-any.whl (448kB)\n",
            "\u001b[K     |████████████████████████████████| 450kB 60.0MB/s \n",
            "\u001b[?25hRequirement already satisfied: keras-preprocessing>=1.1.0 in /usr/local/lib/python3.6/dist-packages (from tensorflow==2.1.0) (1.1.0)\n",
            "Requirement already satisfied: six>=1.12.0 in /usr/local/lib/python3.6/dist-packages (from tensorflow==2.1.0) (1.12.0)\n",
            "Requirement already satisfied: termcolor>=1.1.0 in /usr/local/lib/python3.6/dist-packages (from tensorflow==2.1.0) (1.1.0)\n",
            "Requirement already satisfied: h5py in /usr/local/lib/python3.6/dist-packages (from keras-applications>=1.0.8->tensorflow==2.1.0) (2.10.0)\n",
            "Requirement already satisfied: setuptools>=41.0.0 in /usr/local/lib/python3.6/dist-packages (from tensorboard<2.2.0,>=2.1.0->tensorflow==2.1.0) (46.0.0)\n",
            "Requirement already satisfied: google-auth<2,>=1.6.3 in /usr/local/lib/python3.6/dist-packages (from tensorboard<2.2.0,>=2.1.0->tensorflow==2.1.0) (1.7.2)\n",
            "Requirement already satisfied: markdown>=2.6.8 in /usr/local/lib/python3.6/dist-packages (from tensorboard<2.2.0,>=2.1.0->tensorflow==2.1.0) (3.2.1)\n",
            "Requirement already satisfied: google-auth-oauthlib<0.5,>=0.4.1 in /usr/local/lib/python3.6/dist-packages (from tensorboard<2.2.0,>=2.1.0->tensorflow==2.1.0) (0.4.1)\n",
            "Requirement already satisfied: requests<3,>=2.21.0 in /usr/local/lib/python3.6/dist-packages (from tensorboard<2.2.0,>=2.1.0->tensorflow==2.1.0) (2.21.0)\n",
            "Requirement already satisfied: werkzeug>=0.11.15 in /usr/local/lib/python3.6/dist-packages (from tensorboard<2.2.0,>=2.1.0->tensorflow==2.1.0) (1.0.0)\n",
            "Requirement already satisfied: cachetools<3.2,>=2.0.0 in /usr/local/lib/python3.6/dist-packages (from google-auth<2,>=1.6.3->tensorboard<2.2.0,>=2.1.0->tensorflow==2.1.0) (3.1.1)\n",
            "Requirement already satisfied: rsa<4.1,>=3.1.4 in /usr/local/lib/python3.6/dist-packages (from google-auth<2,>=1.6.3->tensorboard<2.2.0,>=2.1.0->tensorflow==2.1.0) (4.0)\n",
            "Requirement already satisfied: pyasn1-modules>=0.2.1 in /usr/local/lib/python3.6/dist-packages (from google-auth<2,>=1.6.3->tensorboard<2.2.0,>=2.1.0->tensorflow==2.1.0) (0.2.8)\n",
            "Requirement already satisfied: requests-oauthlib>=0.7.0 in /usr/local/lib/python3.6/dist-packages (from google-auth-oauthlib<0.5,>=0.4.1->tensorboard<2.2.0,>=2.1.0->tensorflow==2.1.0) (1.3.0)\n",
            "Requirement already satisfied: urllib3<1.25,>=1.21.1 in /usr/local/lib/python3.6/dist-packages (from requests<3,>=2.21.0->tensorboard<2.2.0,>=2.1.0->tensorflow==2.1.0) (1.24.3)\n",
            "Requirement already satisfied: idna<2.9,>=2.5 in /usr/local/lib/python3.6/dist-packages (from requests<3,>=2.21.0->tensorboard<2.2.0,>=2.1.0->tensorflow==2.1.0) (2.8)\n",
            "Requirement already satisfied: chardet<3.1.0,>=3.0.2 in /usr/local/lib/python3.6/dist-packages (from requests<3,>=2.21.0->tensorboard<2.2.0,>=2.1.0->tensorflow==2.1.0) (3.0.4)\n",
            "Requirement already satisfied: certifi>=2017.4.17 in /usr/local/lib/python3.6/dist-packages (from requests<3,>=2.21.0->tensorboard<2.2.0,>=2.1.0->tensorflow==2.1.0) (2019.11.28)\n",
            "Requirement already satisfied: pyasn1>=0.1.3 in /usr/local/lib/python3.6/dist-packages (from rsa<4.1,>=3.1.4->google-auth<2,>=1.6.3->tensorboard<2.2.0,>=2.1.0->tensorflow==2.1.0) (0.4.8)\n",
            "Requirement already satisfied: oauthlib>=3.0.0 in /usr/local/lib/python3.6/dist-packages (from requests-oauthlib>=0.7.0->google-auth-oauthlib<0.5,>=0.4.1->tensorboard<2.2.0,>=2.1.0->tensorflow==2.1.0) (3.1.0)\n",
            "Building wheels for collected packages: gast\n",
            "  Building wheel for gast (setup.py) ... \u001b[?25l\u001b[?25hdone\n",
            "  Created wheel for gast: filename=gast-0.2.2-cp36-none-any.whl size=7540 sha256=acbcf73823b4071a6534c5a24e449fb7bda79cbffd5ee17ccf80739575e89ddf\n",
            "  Stored in directory: /root/.cache/pip/wheels/5c/2e/7e/a1d4d4fcebe6c381f378ce7743a3ced3699feb89bcfbdadadd\n",
            "Successfully built gast\n",
            "Installing collected packages: gast, tensorflow-estimator, tensorflow\n",
            "  Found existing installation: gast 0.3.3\n",
            "    Uninstalling gast-0.3.3:\n",
            "      Successfully uninstalled gast-0.3.3\n",
            "  Found existing installation: tensorflow-estimator 2.2.0rc0\n",
            "    Uninstalling tensorflow-estimator-2.2.0rc0:\n",
            "      Successfully uninstalled tensorflow-estimator-2.2.0rc0\n",
            "Successfully installed gast-0.2.2 tensorflow-2.1.0 tensorflow-estimator-2.1.0\n"
          ],
          "name": "stdout"
        }
      ]
    },
    {
      "cell_type": "code",
      "metadata": {
        "colab_type": "code",
        "id": "7g6ULdV1h9PP",
        "colab": {
          "base_uri": "https://localhost:8080/",
          "height": 122
        },
        "outputId": "b30d284b-8298-40c8-bfa1-4609f98d5e0d"
      },
      "source": [
        "!pip install keract"
      ],
      "execution_count": 5,
      "outputs": [
        {
          "output_type": "stream",
          "text": [
            "Collecting keract\n",
            "  Downloading https://files.pythonhosted.org/packages/ad/7f/74c42d4f6fcd09de8a0ebad1bde5484510a80c03df7d0b0db18474aaade5/keract-3.1.0-py3-none-any.whl\n",
            "Requirement already satisfied: numpy>=1.16.2 in /usr/local/lib/python3.6/dist-packages (from keract) (1.18.2)\n",
            "Installing collected packages: keract\n",
            "Successfully installed keract-3.1.0\n"
          ],
          "name": "stdout"
        }
      ]
    },
    {
      "cell_type": "code",
      "metadata": {
        "colab_type": "code",
        "id": "Ee6y2InMixTC",
        "outputId": "1efcaa78-d81e-4d04-c88d-07136ea3c823",
        "colab": {
          "base_uri": "https://localhost:8080/",
          "height": 122
        }
      },
      "source": [
        "from google.colab import drive\n",
        "drive.mount('/content/drive')"
      ],
      "execution_count": 6,
      "outputs": [
        {
          "output_type": "stream",
          "text": [
            "Go to this URL in a browser: https://accounts.google.com/o/oauth2/auth?client_id=947318989803-6bn6qk8qdgf4n4g3pfee6491hc0brc4i.apps.googleusercontent.com&redirect_uri=urn%3aietf%3awg%3aoauth%3a2.0%3aoob&response_type=code&scope=email%20https%3a%2f%2fwww.googleapis.com%2fauth%2fdocs.test%20https%3a%2f%2fwww.googleapis.com%2fauth%2fdrive%20https%3a%2f%2fwww.googleapis.com%2fauth%2fdrive.photos.readonly%20https%3a%2f%2fwww.googleapis.com%2fauth%2fpeopleapi.readonly\n",
            "\n",
            "Enter your authorization code:\n",
            "··········\n",
            "Mounted at /content/drive\n"
          ],
          "name": "stdout"
        }
      ]
    },
    {
      "cell_type": "code",
      "metadata": {
        "colab_type": "code",
        "id": "qF-n-lNLjUzK",
        "colab": {}
      },
      "source": [
        "import os \n",
        "os.chdir('/content/drive/My Drive/MVA/S2/DLMI')"
      ],
      "execution_count": 0,
      "outputs": []
    },
    {
      "cell_type": "markdown",
      "metadata": {
        "colab_type": "text",
        "id": "4H5Lmd2tjfIr"
      },
      "source": [
        "# Imports"
      ]
    },
    {
      "cell_type": "code",
      "metadata": {
        "colab_type": "code",
        "id": "8qejGm9yuYHU",
        "colab": {}
      },
      "source": [
        "%load_ext autoreload\n",
        "%autoreload 2\n",
        "%matplotlib inline"
      ],
      "execution_count": 0,
      "outputs": []
    },
    {
      "cell_type": "code",
      "metadata": {
        "colab_type": "code",
        "id": "--N9sUiGjdxY",
        "outputId": "1c399dfd-cd2b-45fe-dc0c-5f1110bf9cf1",
        "colab": {
          "base_uri": "https://localhost:8080/",
          "height": 34
        }
      },
      "source": [
        "import keract\n",
        "import pandas as pd\n",
        "import numpy as np \n",
        "import matplotlib.pyplot as plt\n",
        "from keras.utils import to_categorical\n",
        "from sklearn.model_selection import StratifiedShuffleSplit\n",
        "from sklearn.metrics import confusion_matrix,recall_score,accuracy_score,precision_score\n",
        "import keras\n",
        "import tensorflow as tf\n",
        "from utils.evaluation import *\n",
        "from utils.utils import read_dataset,split_dataset,visualize_mitbih"
      ],
      "execution_count": 3,
      "outputs": [
        {
          "output_type": "stream",
          "text": [
            "Using TensorFlow backend.\n"
          ],
          "name": "stderr"
        }
      ]
    },
    {
      "cell_type": "markdown",
      "metadata": {
        "colab_type": "text",
        "id": "_RIyONMlItgI"
      },
      "source": [
        "# 1. Data importation and visualization"
      ]
    },
    {
      "cell_type": "code",
      "metadata": {
        "colab_type": "code",
        "id": "tHI0lYE0CxWD",
        "colab": {}
      },
      "source": [
        "data,labels = read_dataset('mitbih_train.csv','MIT-BIH')"
      ],
      "execution_count": 0,
      "outputs": []
    },
    {
      "cell_type": "code",
      "metadata": {
        "colab_type": "code",
        "id": "CZbtDPPykCId",
        "outputId": "c43007b8-a11d-453d-843f-785974ed3d49",
        "colab": {
          "base_uri": "https://localhost:8080/",
          "height": 281
        }
      },
      "source": [
        "plt.hist(labels)\n",
        "plt.title('Distribution of labels across the dataset')\n",
        "plt.show()"
      ],
      "execution_count": 0,
      "outputs": [
        {
          "output_type": "display_data",
          "data": {
            "image/png": "[encoded data removed]",
            "text/plain": [
              "<Figure size 432x288 with 1 Axes>"
            ]
          },
          "metadata": {
            "tags": []
          }
        }
      ]
    },
    {
      "cell_type": "code",
      "metadata": {
        "colab_type": "code",
        "id": "qd9t1I1CJCCq",
        "outputId": "e1505be7-75a9-4af4-97e9-f8c276e0f34d",
        "colab": {
          "base_uri": "https://localhost:8080/",
          "height": 235
        }
      },
      "source": [
        "unique_labels,props = np.unique(labels,return_counts=True)\n",
        "df_props = pd.DataFrame([],columns=['proportion'],index = unique_labels)\n",
        "df_props.index.name='label'\n",
        "df_props['proportion'] = props/np.sum(props)\n",
        "df_props"
      ],
      "execution_count": 0,
      "outputs": [
        {
          "output_type": "execute_result",
          "data": {
            "text/html": [
              "<div>\n",
              "<style scoped>\n",
              "    .dataframe tbody tr th:only-of-type {\n",
              "        vertical-align: middle;\n",
              "    }\n",
              "\n",
              "    .dataframe tbody tr th {\n",
              "        vertical-align: top;\n",
              "    }\n",
              "\n",
              "    .dataframe thead th {\n",
              "        text-align: right;\n",
              "    }\n",
              "</style>\n",
              "<table border=\"1\" class=\"dataframe\">\n",
              "  <thead>\n",
              "    <tr style=\"text-align: right;\">\n",
              "      <th></th>\n",
              "      <th>proportion</th>\n",
              "    </tr>\n",
              "    <tr>\n",
              "      <th>label</th>\n",
              "      <th></th>\n",
              "    </tr>\n",
              "  </thead>\n",
              "  <tbody>\n",
              "    <tr>\n",
              "      <th>0</th>\n",
              "      <td>0.827729</td>\n",
              "    </tr>\n",
              "    <tr>\n",
              "      <th>1</th>\n",
              "      <td>0.025390</td>\n",
              "    </tr>\n",
              "    <tr>\n",
              "      <th>2</th>\n",
              "      <td>0.066108</td>\n",
              "    </tr>\n",
              "    <tr>\n",
              "      <th>3</th>\n",
              "      <td>0.007321</td>\n",
              "    </tr>\n",
              "    <tr>\n",
              "      <th>4</th>\n",
              "      <td>0.073452</td>\n",
              "    </tr>\n",
              "  </tbody>\n",
              "</table>\n",
              "</div>"
            ],
            "text/plain": [
              "       proportion\n",
              "label            \n",
              "0        0.827729\n",
              "1        0.025390\n",
              "2        0.066108\n",
              "3        0.007321\n",
              "4        0.073452"
            ]
          },
          "metadata": {
            "tags": []
          },
          "execution_count": 6
        }
      ]
    },
    {
      "cell_type": "code",
      "metadata": {
        "colab_type": "code",
        "id": "1NyvXMMbkWA1",
        "outputId": "13353a6c-a605-428a-b5ef-8bf927eca9f4",
        "colab": {
          "base_uri": "https://localhost:8080/",
          "height": 320
        }
      },
      "source": [
        "visualize_mitbih(data,labels)"
      ],
      "execution_count": 0,
      "outputs": [
        {
          "output_type": "display_data",
          "data": {
            "image/png": "[encoded data removed]",
            "text/plain": [
              "<Figure size 1008x360 with 1 Axes>"
            ]
          },
          "metadata": {
            "tags": [],
            "needs_background": "light"
          }
        }
      ]
    },
    {
      "cell_type": "markdown",
      "metadata": {
        "colab_type": "text",
        "id": "sLQqrjK3OUvo"
      },
      "source": [
        "# 2. Splitting dataset"
      ]
    },
    {
      "cell_type": "markdown",
      "metadata": {
        "colab_type": "text",
        "id": "a61eZ3UtPliQ"
      },
      "source": [
        "We first split the dataset into three parts (training validation test), while keeping the proportions intact."
      ]
    },
    {
      "cell_type": "code",
      "metadata": {
        "colab_type": "code",
        "id": "1RHIwsk0JB8n",
        "colab": {}
      },
      "source": [
        "xtrain,ytrain,xval,yval,y_val_true, xtest,ytest,y_test_true = split_dataset(data,labels,validation=True)"
      ],
      "execution_count": 0,
      "outputs": []
    },
    {
      "cell_type": "markdown",
      "metadata": {
        "colab_type": "text",
        "id": "zpjKZGSFlUQC"
      },
      "source": [
        "# 3. Testing models"
      ]
    },
    {
      "cell_type": "markdown",
      "metadata": {
        "colab_type": "text",
        "id": "jeIx_XbEZJQ8"
      },
      "source": [
        "## 3.1 MLP"
      ]
    },
    {
      "cell_type": "code",
      "metadata": {
        "colab_type": "code",
        "id": "rUtVcgXPVedG",
        "colab": {}
      },
      "source": [
        "from models.mlp import Classifier_MLP"
      ],
      "execution_count": 0,
      "outputs": []
    },
    {
      "cell_type": "markdown",
      "metadata": {
        "id": "zFyydSbXssx5",
        "colab_type": "text"
      },
      "source": [
        "### 3.1.1 Training"
      ]
    },
    {
      "cell_type": "code",
      "metadata": {
        "colab_type": "code",
        "id": "Lhv8FKI3dopV",
        "outputId": "88ddfd79-e0a0-4d68-ff3c-af1d5cdc5a68",
        "colab": {
          "base_uri": "https://localhost:8080/",
          "height": 459
        }
      },
      "source": [
        "mlp = Classifier_MLP(output_directory='outputs/output_mlp/',input_shape=(data.shape[1],),\n",
        "                     nb_classes = 5,verbose=True,\n",
        "                     hidden_layers_size=(500,500,500))"
      ],
      "execution_count": 38,
      "outputs": [
        {
          "output_type": "stream",
          "text": [
            "Model: \"sequential_1\"\n",
            "_________________________________________________________________\n",
            "Layer (type)                 Output Shape              Param #   \n",
            "=================================================================\n",
            "flatten_1 (Flatten)          (None, 187)               0         \n",
            "_________________________________________________________________\n",
            "dropout_4 (Dropout)          (None, 187)               0         \n",
            "_________________________________________________________________\n",
            "dense_2 (Dense)              (None, 500)               94000     \n",
            "_________________________________________________________________\n",
            "dropout_5 (Dropout)          (None, 500)               0         \n",
            "_________________________________________________________________\n",
            "dense_3 (Dense)              (None, 500)               250500    \n",
            "_________________________________________________________________\n",
            "dropout_6 (Dropout)          (None, 500)               0         \n",
            "_________________________________________________________________\n",
            "dense_4 (Dense)              (None, 500)               250500    \n",
            "_________________________________________________________________\n",
            "dropout_7 (Dropout)          (None, 500)               0         \n",
            "_________________________________________________________________\n",
            "dense_5 (Dense)              (None, 5)                 2505      \n",
            "=================================================================\n",
            "Total params: 597,505\n",
            "Trainable params: 597,505\n",
            "Non-trainable params: 0\n",
            "_________________________________________________________________\n"
          ],
          "name": "stdout"
        }
      ]
    },
    {
      "cell_type": "code",
      "metadata": {
        "colab_type": "code",
        "id": "hx5wRLHQeJxn",
        "outputId": "a95d9589-d393-48ee-ee81-0f1a724acd6b",
        "colab": {
          "base_uri": "https://localhost:8080/",
          "height": 1000
        }
      },
      "source": [
        "%matplotlib inline\n",
        "hist = mlp.fit(xtrain,ytrain,xval,yval,y_val_true,batch_size=64,nb_epochs=150)"
      ],
      "execution_count": 39,
      "outputs": [
        {
          "output_type": "stream",
          "text": [
            "Epoch 1/150\n",
            "821/821 [==============================] - 4s 5ms/step - loss: 1.3231 - accuracy: 0.7610 - val_loss: 1.0802 - val_accuracy: 0.8277 - lr: 0.0010\n",
            "Epoch 2/150\n",
            "821/821 [==============================] - 3s 4ms/step - loss: 0.9474 - accuracy: 0.8277 - val_loss: 0.8601 - val_accuracy: 0.8277 - lr: 0.0010\n",
            "Epoch 3/150\n",
            "821/821 [==============================] - 3s 4ms/step - loss: 0.8327 - accuracy: 0.8277 - val_loss: 0.7972 - val_accuracy: 0.8277 - lr: 0.0010\n",
            "Epoch 4/150\n",
            "821/821 [==============================] - 3s 4ms/step - loss: 0.7864 - accuracy: 0.8277 - val_loss: 0.7533 - val_accuracy: 0.8277 - lr: 0.0010\n",
            "Epoch 5/150\n",
            "821/821 [==============================] - 3s 4ms/step - loss: 0.7501 - accuracy: 0.8277 - val_loss: 0.7144 - val_accuracy: 0.8277 - lr: 0.0010\n",
            "Epoch 6/150\n",
            "821/821 [==============================] - 3s 3ms/step - loss: 0.7184 - accuracy: 0.8277 - val_loss: 0.6776 - val_accuracy: 0.8277 - lr: 0.0010\n",
            "Epoch 7/150\n",
            "821/821 [==============================] - 3s 3ms/step - loss: 0.6884 - accuracy: 0.8277 - val_loss: 0.6437 - val_accuracy: 0.8277 - lr: 0.0010\n",
            "Epoch 8/150\n",
            "821/821 [==============================] - 3s 3ms/step - loss: 0.6607 - accuracy: 0.8277 - val_loss: 0.6138 - val_accuracy: 0.8277 - lr: 0.0010\n",
            "Epoch 9/150\n",
            "821/821 [==============================] - 3s 4ms/step - loss: 0.6346 - accuracy: 0.8279 - val_loss: 0.5875 - val_accuracy: 0.8277 - lr: 0.0010\n",
            "Epoch 10/150\n",
            "821/821 [==============================] - 3s 3ms/step - loss: 0.6123 - accuracy: 0.8283 - val_loss: 0.5657 - val_accuracy: 0.8279 - lr: 0.0010\n",
            "Epoch 11/150\n",
            "821/821 [==============================] - 3s 4ms/step - loss: 0.5941 - accuracy: 0.8293 - val_loss: 0.5470 - val_accuracy: 0.8395 - lr: 0.0010\n",
            "Epoch 12/150\n",
            "821/821 [==============================] - 3s 4ms/step - loss: 0.5786 - accuracy: 0.8315 - val_loss: 0.5314 - val_accuracy: 0.8524 - lr: 0.0010\n",
            "Epoch 13/150\n",
            "821/821 [==============================] - 3s 4ms/step - loss: 0.5647 - accuracy: 0.8357 - val_loss: 0.5176 - val_accuracy: 0.8574 - lr: 0.0010\n",
            "Epoch 14/150\n",
            "821/821 [==============================] - 3s 3ms/step - loss: 0.5527 - accuracy: 0.8395 - val_loss: 0.5064 - val_accuracy: 0.8616 - lr: 0.0010\n",
            "Epoch 15/150\n",
            "821/821 [==============================] - 3s 3ms/step - loss: 0.5416 - accuracy: 0.8449 - val_loss: 0.4955 - val_accuracy: 0.8644 - lr: 0.0010\n",
            "Epoch 16/150\n",
            "821/821 [==============================] - 3s 3ms/step - loss: 0.5325 - accuracy: 0.8488 - val_loss: 0.4862 - val_accuracy: 0.8675 - lr: 0.0010\n",
            "Epoch 17/150\n",
            "821/821 [==============================] - 3s 3ms/step - loss: 0.5231 - accuracy: 0.8525 - val_loss: 0.4777 - val_accuracy: 0.8708 - lr: 0.0010\n",
            "Epoch 18/150\n",
            "821/821 [==============================] - 3s 4ms/step - loss: 0.5167 - accuracy: 0.8560 - val_loss: 0.4687 - val_accuracy: 0.8735 - lr: 0.0010\n",
            "Epoch 19/150\n",
            "821/821 [==============================] - 3s 4ms/step - loss: 0.5094 - accuracy: 0.8577 - val_loss: 0.4623 - val_accuracy: 0.8759 - lr: 0.0010\n",
            "Epoch 20/150\n",
            "821/821 [==============================] - 3s 3ms/step - loss: 0.5014 - accuracy: 0.8614 - val_loss: 0.4551 - val_accuracy: 0.8776 - lr: 0.0010\n",
            "Epoch 21/150\n",
            "821/821 [==============================] - 3s 3ms/step - loss: 0.4936 - accuracy: 0.8645 - val_loss: 0.4484 - val_accuracy: 0.8797 - lr: 0.0010\n",
            "Epoch 22/150\n",
            "821/821 [==============================] - 3s 3ms/step - loss: 0.4865 - accuracy: 0.8667 - val_loss: 0.4423 - val_accuracy: 0.8812 - lr: 0.0010\n",
            "Epoch 23/150\n",
            "821/821 [==============================] - 3s 3ms/step - loss: 0.4834 - accuracy: 0.8683 - val_loss: 0.4373 - val_accuracy: 0.8822 - lr: 0.0010\n",
            "Epoch 24/150\n",
            "821/821 [==============================] - 3s 3ms/step - loss: 0.4776 - accuracy: 0.8694 - val_loss: 0.4307 - val_accuracy: 0.8830 - lr: 0.0010\n",
            "Epoch 25/150\n",
            "821/821 [==============================] - 3s 3ms/step - loss: 0.4729 - accuracy: 0.8714 - val_loss: 0.4258 - val_accuracy: 0.8840 - lr: 0.0010\n",
            "Epoch 26/150\n",
            "821/821 [==============================] - 3s 3ms/step - loss: 0.4657 - accuracy: 0.8730 - val_loss: 0.4215 - val_accuracy: 0.8855 - lr: 0.0010\n",
            "Epoch 27/150\n",
            "821/821 [==============================] - 3s 3ms/step - loss: 0.4607 - accuracy: 0.8742 - val_loss: 0.4166 - val_accuracy: 0.8864 - lr: 0.0010\n",
            "Epoch 28/150\n",
            "821/821 [==============================] - 3s 3ms/step - loss: 0.4578 - accuracy: 0.8754 - val_loss: 0.4127 - val_accuracy: 0.8878 - lr: 0.0010\n",
            "Epoch 29/150\n",
            "821/821 [==============================] - 3s 3ms/step - loss: 0.4518 - accuracy: 0.8756 - val_loss: 0.4081 - val_accuracy: 0.8884 - lr: 0.0010\n",
            "Epoch 30/150\n",
            "821/821 [==============================] - 3s 3ms/step - loss: 0.4489 - accuracy: 0.8767 - val_loss: 0.4048 - val_accuracy: 0.8885 - lr: 0.0010\n",
            "Epoch 31/150\n",
            "821/821 [==============================] - 3s 4ms/step - loss: 0.4467 - accuracy: 0.8772 - val_loss: 0.4017 - val_accuracy: 0.8893 - lr: 0.0010\n",
            "Epoch 32/150\n",
            "821/821 [==============================] - 3s 4ms/step - loss: 0.4434 - accuracy: 0.8777 - val_loss: 0.3979 - val_accuracy: 0.8901 - lr: 0.0010\n",
            "Epoch 33/150\n",
            "821/821 [==============================] - 3s 4ms/step - loss: 0.4390 - accuracy: 0.8789 - val_loss: 0.3945 - val_accuracy: 0.8904 - lr: 0.0010\n",
            "Epoch 34/150\n",
            "821/821 [==============================] - 3s 3ms/step - loss: 0.4371 - accuracy: 0.8795 - val_loss: 0.3918 - val_accuracy: 0.8908 - lr: 0.0010\n",
            "Epoch 35/150\n",
            "821/821 [==============================] - 3s 4ms/step - loss: 0.4334 - accuracy: 0.8800 - val_loss: 0.3884 - val_accuracy: 0.8914 - lr: 0.0010\n",
            "Epoch 36/150\n",
            "821/821 [==============================] - 3s 4ms/step - loss: 0.4293 - accuracy: 0.8799 - val_loss: 0.3866 - val_accuracy: 0.8920 - lr: 0.0010\n",
            "Epoch 37/150\n",
            "821/821 [==============================] - 3s 3ms/step - loss: 0.4287 - accuracy: 0.8809 - val_loss: 0.3833 - val_accuracy: 0.8926 - lr: 0.0010\n",
            "Epoch 38/150\n",
            "821/821 [==============================] - 3s 3ms/step - loss: 0.4253 - accuracy: 0.8809 - val_loss: 0.3807 - val_accuracy: 0.8930 - lr: 0.0010\n",
            "Epoch 39/150\n",
            "821/821 [==============================] - 3s 4ms/step - loss: 0.4220 - accuracy: 0.8826 - val_loss: 0.3782 - val_accuracy: 0.8941 - lr: 0.0010\n",
            "Epoch 40/150\n",
            "821/821 [==============================] - 3s 4ms/step - loss: 0.4207 - accuracy: 0.8820 - val_loss: 0.3765 - val_accuracy: 0.8946 - lr: 0.0010\n",
            "Epoch 41/150\n",
            "821/821 [==============================] - 3s 3ms/step - loss: 0.4159 - accuracy: 0.8842 - val_loss: 0.3740 - val_accuracy: 0.8948 - lr: 0.0010\n",
            "Epoch 42/150\n",
            "821/821 [==============================] - 3s 4ms/step - loss: 0.4158 - accuracy: 0.8833 - val_loss: 0.3714 - val_accuracy: 0.8952 - lr: 0.0010\n",
            "Epoch 43/150\n",
            "821/821 [==============================] - 3s 3ms/step - loss: 0.4141 - accuracy: 0.8839 - val_loss: 0.3702 - val_accuracy: 0.8960 - lr: 0.0010\n",
            "Epoch 44/150\n",
            "821/821 [==============================] - 3s 3ms/step - loss: 0.4119 - accuracy: 0.8845 - val_loss: 0.3677 - val_accuracy: 0.8965 - lr: 0.0010\n",
            "Epoch 45/150\n",
            "821/821 [==============================] - 3s 4ms/step - loss: 0.4093 - accuracy: 0.8852 - val_loss: 0.3653 - val_accuracy: 0.8965 - lr: 0.0010\n",
            "Epoch 46/150\n",
            "821/821 [==============================] - 3s 3ms/step - loss: 0.4060 - accuracy: 0.8860 - val_loss: 0.3640 - val_accuracy: 0.8972 - lr: 0.0010\n",
            "Epoch 47/150\n",
            "821/821 [==============================] - 3s 4ms/step - loss: 0.4052 - accuracy: 0.8860 - val_loss: 0.3619 - val_accuracy: 0.8974 - lr: 0.0010\n",
            "Epoch 48/150\n",
            "821/821 [==============================] - 3s 4ms/step - loss: 0.4020 - accuracy: 0.8863 - val_loss: 0.3604 - val_accuracy: 0.8978 - lr: 0.0010\n",
            "Epoch 49/150\n",
            "821/821 [==============================] - 3s 3ms/step - loss: 0.4013 - accuracy: 0.8862 - val_loss: 0.3588 - val_accuracy: 0.8982 - lr: 0.0010\n",
            "Epoch 50/150\n",
            "821/821 [==============================] - 3s 3ms/step - loss: 0.4009 - accuracy: 0.8861 - val_loss: 0.3567 - val_accuracy: 0.8981 - lr: 0.0010\n",
            "Epoch 51/150\n",
            "821/821 [==============================] - 3s 4ms/step - loss: 0.3984 - accuracy: 0.8877 - val_loss: 0.3551 - val_accuracy: 0.8986 - lr: 0.0010\n",
            "Epoch 52/150\n",
            "821/821 [==============================] - 3s 4ms/step - loss: 0.3940 - accuracy: 0.8881 - val_loss: 0.3534 - val_accuracy: 0.8989 - lr: 0.0010\n",
            "Epoch 53/150\n",
            "821/821 [==============================] - 3s 3ms/step - loss: 0.3943 - accuracy: 0.8880 - val_loss: 0.3517 - val_accuracy: 0.8991 - lr: 0.0010\n",
            "Epoch 54/150\n",
            "821/821 [==============================] - 3s 3ms/step - loss: 0.3912 - accuracy: 0.8894 - val_loss: 0.3498 - val_accuracy: 0.8995 - lr: 0.0010\n",
            "Epoch 55/150\n",
            "821/821 [==============================] - 3s 4ms/step - loss: 0.3890 - accuracy: 0.8899 - val_loss: 0.3488 - val_accuracy: 0.9003 - lr: 0.0010\n",
            "Epoch 56/150\n",
            "821/821 [==============================] - 3s 4ms/step - loss: 0.3903 - accuracy: 0.8896 - val_loss: 0.3469 - val_accuracy: 0.9009 - lr: 0.0010\n",
            "Epoch 57/150\n",
            "821/821 [==============================] - 3s 4ms/step - loss: 0.3859 - accuracy: 0.8907 - val_loss: 0.3448 - val_accuracy: 0.9009 - lr: 0.0010\n",
            "Epoch 58/150\n",
            "821/821 [==============================] - 3s 3ms/step - loss: 0.3873 - accuracy: 0.8905 - val_loss: 0.3439 - val_accuracy: 0.9014 - lr: 0.0010\n",
            "Epoch 59/150\n",
            "821/821 [==============================] - 3s 3ms/step - loss: 0.3854 - accuracy: 0.8906 - val_loss: 0.3423 - val_accuracy: 0.9017 - lr: 0.0010\n",
            "Epoch 60/150\n",
            "821/821 [==============================] - 3s 3ms/step - loss: 0.3835 - accuracy: 0.8912 - val_loss: 0.3402 - val_accuracy: 0.9022 - lr: 0.0010\n",
            "Epoch 61/150\n",
            "821/821 [==============================] - 3s 3ms/step - loss: 0.3809 - accuracy: 0.8910 - val_loss: 0.3399 - val_accuracy: 0.9031 - lr: 0.0010\n",
            "Epoch 62/150\n",
            "821/821 [==============================] - 3s 3ms/step - loss: 0.3800 - accuracy: 0.8925 - val_loss: 0.3378 - val_accuracy: 0.9033 - lr: 0.0010\n",
            "Epoch 63/150\n",
            "821/821 [==============================] - 3s 4ms/step - loss: 0.3748 - accuracy: 0.8936 - val_loss: 0.3367 - val_accuracy: 0.9035 - lr: 0.0010\n",
            "Epoch 64/150\n",
            "821/821 [==============================] - 3s 4ms/step - loss: 0.3751 - accuracy: 0.8933 - val_loss: 0.3348 - val_accuracy: 0.9038 - lr: 0.0010\n",
            "Epoch 65/150\n",
            "821/821 [==============================] - 3s 3ms/step - loss: 0.3755 - accuracy: 0.8934 - val_loss: 0.3341 - val_accuracy: 0.9039 - lr: 0.0010\n",
            "Epoch 66/150\n",
            "821/821 [==============================] - 3s 4ms/step - loss: 0.3741 - accuracy: 0.8932 - val_loss: 0.3328 - val_accuracy: 0.9045 - lr: 0.0010\n",
            "Epoch 67/150\n",
            "821/821 [==============================] - 3s 4ms/step - loss: 0.3727 - accuracy: 0.8941 - val_loss: 0.3305 - val_accuracy: 0.9042 - lr: 0.0010\n",
            "Epoch 68/150\n",
            "821/821 [==============================] - 3s 4ms/step - loss: 0.3694 - accuracy: 0.8949 - val_loss: 0.3290 - val_accuracy: 0.9046 - lr: 0.0010\n",
            "Epoch 69/150\n",
            "821/821 [==============================] - 3s 3ms/step - loss: 0.3691 - accuracy: 0.8952 - val_loss: 0.3274 - val_accuracy: 0.9049 - lr: 0.0010\n",
            "Epoch 70/150\n",
            "821/821 [==============================] - 3s 4ms/step - loss: 0.3691 - accuracy: 0.8959 - val_loss: 0.3261 - val_accuracy: 0.9053 - lr: 0.0010\n",
            "Epoch 71/150\n",
            "821/821 [==============================] - 3s 4ms/step - loss: 0.3660 - accuracy: 0.8957 - val_loss: 0.3244 - val_accuracy: 0.9057 - lr: 0.0010\n",
            "Epoch 72/150\n",
            "821/821 [==============================] - 3s 3ms/step - loss: 0.3638 - accuracy: 0.8956 - val_loss: 0.3230 - val_accuracy: 0.9060 - lr: 0.0010\n",
            "Epoch 73/150\n",
            "821/821 [==============================] - 3s 3ms/step - loss: 0.3619 - accuracy: 0.8960 - val_loss: 0.3226 - val_accuracy: 0.9065 - lr: 0.0010\n",
            "Epoch 74/150\n",
            "821/821 [==============================] - 3s 4ms/step - loss: 0.3603 - accuracy: 0.8973 - val_loss: 0.3204 - val_accuracy: 0.9070 - lr: 0.0010\n",
            "Epoch 75/150\n",
            "821/821 [==============================] - 3s 4ms/step - loss: 0.3617 - accuracy: 0.8975 - val_loss: 0.3191 - val_accuracy: 0.9073 - lr: 0.0010\n",
            "Epoch 76/150\n",
            "821/821 [==============================] - 3s 4ms/step - loss: 0.3593 - accuracy: 0.8981 - val_loss: 0.3184 - val_accuracy: 0.9075 - lr: 0.0010\n",
            "Epoch 77/150\n",
            "821/821 [==============================] - 3s 4ms/step - loss: 0.3568 - accuracy: 0.8985 - val_loss: 0.3163 - val_accuracy: 0.9073 - lr: 0.0010\n",
            "Epoch 78/150\n",
            "821/821 [==============================] - 3s 4ms/step - loss: 0.3566 - accuracy: 0.8987 - val_loss: 0.3152 - val_accuracy: 0.9078 - lr: 0.0010\n",
            "Epoch 79/150\n",
            "821/821 [==============================] - 3s 4ms/step - loss: 0.3554 - accuracy: 0.8993 - val_loss: 0.3139 - val_accuracy: 0.9082 - lr: 0.0010\n",
            "Epoch 80/150\n",
            "821/821 [==============================] - 3s 3ms/step - loss: 0.3537 - accuracy: 0.8986 - val_loss: 0.3130 - val_accuracy: 0.9087 - lr: 0.0010\n",
            "Epoch 81/150\n",
            "821/821 [==============================] - 3s 4ms/step - loss: 0.3534 - accuracy: 0.8995 - val_loss: 0.3122 - val_accuracy: 0.9089 - lr: 0.0010\n",
            "Epoch 82/150\n",
            "821/821 [==============================] - 3s 3ms/step - loss: 0.3519 - accuracy: 0.8994 - val_loss: 0.3100 - val_accuracy: 0.9087 - lr: 0.0010\n",
            "Epoch 83/150\n",
            "821/821 [==============================] - 3s 3ms/step - loss: 0.3488 - accuracy: 0.8996 - val_loss: 0.3088 - val_accuracy: 0.9093 - lr: 0.0010\n",
            "Epoch 84/150\n",
            "821/821 [==============================] - 3s 3ms/step - loss: 0.3507 - accuracy: 0.9002 - val_loss: 0.3083 - val_accuracy: 0.9102 - lr: 0.0010\n",
            "Epoch 85/150\n",
            "821/821 [==============================] - 3s 3ms/step - loss: 0.3468 - accuracy: 0.9007 - val_loss: 0.3057 - val_accuracy: 0.9100 - lr: 0.0010\n",
            "Epoch 86/150\n",
            "821/821 [==============================] - 3s 3ms/step - loss: 0.3459 - accuracy: 0.9014 - val_loss: 0.3053 - val_accuracy: 0.9103 - lr: 0.0010\n",
            "Epoch 87/150\n",
            "821/821 [==============================] - 3s 3ms/step - loss: 0.3446 - accuracy: 0.9028 - val_loss: 0.3040 - val_accuracy: 0.9105 - lr: 0.0010\n",
            "Epoch 88/150\n",
            "821/821 [==============================] - 3s 3ms/step - loss: 0.3447 - accuracy: 0.9015 - val_loss: 0.3027 - val_accuracy: 0.9108 - lr: 0.0010\n",
            "Epoch 89/150\n",
            "821/821 [==============================] - 3s 3ms/step - loss: 0.3416 - accuracy: 0.9020 - val_loss: 0.3017 - val_accuracy: 0.9118 - lr: 0.0010\n",
            "Epoch 90/150\n",
            "821/821 [==============================] - 3s 4ms/step - loss: 0.3406 - accuracy: 0.9027 - val_loss: 0.3005 - val_accuracy: 0.9117 - lr: 0.0010\n",
            "Epoch 91/150\n",
            "821/821 [==============================] - 3s 3ms/step - loss: 0.3399 - accuracy: 0.9033 - val_loss: 0.2992 - val_accuracy: 0.9121 - lr: 0.0010\n",
            "Epoch 92/150\n",
            "821/821 [==============================] - 3s 3ms/step - loss: 0.3384 - accuracy: 0.9035 - val_loss: 0.2979 - val_accuracy: 0.9118 - lr: 0.0010\n",
            "Epoch 93/150\n",
            "821/821 [==============================] - 3s 3ms/step - loss: 0.3391 - accuracy: 0.9033 - val_loss: 0.2967 - val_accuracy: 0.9126 - lr: 0.0010\n",
            "Epoch 94/150\n",
            "821/821 [==============================] - 3s 3ms/step - loss: 0.3375 - accuracy: 0.9042 - val_loss: 0.2955 - val_accuracy: 0.9125 - lr: 0.0010\n",
            "Epoch 95/150\n",
            "821/821 [==============================] - 3s 4ms/step - loss: 0.3354 - accuracy: 0.9046 - val_loss: 0.2951 - val_accuracy: 0.9132 - lr: 0.0010\n",
            "Epoch 96/150\n",
            "821/821 [==============================] - 3s 3ms/step - loss: 0.3347 - accuracy: 0.9050 - val_loss: 0.2942 - val_accuracy: 0.9137 - lr: 0.0010\n",
            "Epoch 97/150\n",
            "821/821 [==============================] - 3s 4ms/step - loss: 0.3326 - accuracy: 0.9052 - val_loss: 0.2917 - val_accuracy: 0.9137 - lr: 0.0010\n",
            "Epoch 98/150\n",
            "821/821 [==============================] - 3s 4ms/step - loss: 0.3325 - accuracy: 0.9055 - val_loss: 0.2920 - val_accuracy: 0.9148 - lr: 0.0010\n",
            "Epoch 99/150\n",
            "821/821 [==============================] - 3s 4ms/step - loss: 0.3306 - accuracy: 0.9061 - val_loss: 0.2897 - val_accuracy: 0.9146 - lr: 0.0010\n",
            "Epoch 100/150\n",
            "821/821 [==============================] - 3s 3ms/step - loss: 0.3287 - accuracy: 0.9056 - val_loss: 0.2893 - val_accuracy: 0.9151 - lr: 0.0010\n",
            "Epoch 101/150\n",
            "821/821 [==============================] - 3s 3ms/step - loss: 0.3303 - accuracy: 0.9056 - val_loss: 0.2882 - val_accuracy: 0.9155 - lr: 0.0010\n",
            "Epoch 102/150\n",
            "821/821 [==============================] - 3s 4ms/step - loss: 0.3272 - accuracy: 0.9062 - val_loss: 0.2871 - val_accuracy: 0.9158 - lr: 0.0010\n",
            "Epoch 103/150\n",
            "821/821 [==============================] - 3s 3ms/step - loss: 0.3253 - accuracy: 0.9066 - val_loss: 0.2861 - val_accuracy: 0.9158 - lr: 0.0010\n",
            "Epoch 104/150\n",
            "821/821 [==============================] - 3s 3ms/step - loss: 0.3237 - accuracy: 0.9071 - val_loss: 0.2844 - val_accuracy: 0.9158 - lr: 0.0010\n",
            "Epoch 105/150\n",
            "821/821 [==============================] - 3s 3ms/step - loss: 0.3253 - accuracy: 0.9076 - val_loss: 0.2839 - val_accuracy: 0.9166 - lr: 0.0010\n",
            "Epoch 106/150\n",
            "821/821 [==============================] - 3s 4ms/step - loss: 0.3219 - accuracy: 0.9083 - val_loss: 0.2825 - val_accuracy: 0.9166 - lr: 0.0010\n",
            "Epoch 107/150\n",
            "821/821 [==============================] - 3s 3ms/step - loss: 0.3203 - accuracy: 0.9086 - val_loss: 0.2823 - val_accuracy: 0.9173 - lr: 0.0010\n",
            "Epoch 108/150\n",
            "821/821 [==============================] - 3s 4ms/step - loss: 0.3196 - accuracy: 0.9083 - val_loss: 0.2806 - val_accuracy: 0.9173 - lr: 0.0010\n",
            "Epoch 109/150\n",
            "821/821 [==============================] - 3s 3ms/step - loss: 0.3193 - accuracy: 0.9081 - val_loss: 0.2793 - val_accuracy: 0.9178 - lr: 0.0010\n",
            "Epoch 110/150\n",
            "821/821 [==============================] - 3s 4ms/step - loss: 0.3191 - accuracy: 0.9094 - val_loss: 0.2797 - val_accuracy: 0.9175 - lr: 0.0010\n",
            "Epoch 111/150\n",
            "821/821 [==============================] - 3s 3ms/step - loss: 0.3174 - accuracy: 0.9089 - val_loss: 0.2769 - val_accuracy: 0.9181 - lr: 0.0010\n",
            "Epoch 112/150\n",
            "821/821 [==============================] - 3s 3ms/step - loss: 0.3160 - accuracy: 0.9092 - val_loss: 0.2765 - val_accuracy: 0.9178 - lr: 0.0010\n",
            "Epoch 113/150\n",
            "821/821 [==============================] - 3s 3ms/step - loss: 0.3166 - accuracy: 0.9098 - val_loss: 0.2759 - val_accuracy: 0.9179 - lr: 0.0010\n",
            "Epoch 114/150\n",
            "821/821 [==============================] - 3s 4ms/step - loss: 0.3130 - accuracy: 0.9110 - val_loss: 0.2749 - val_accuracy: 0.9186 - lr: 0.0010\n",
            "Epoch 115/150\n",
            "821/821 [==============================] - 3s 3ms/step - loss: 0.3133 - accuracy: 0.9112 - val_loss: 0.2740 - val_accuracy: 0.9185 - lr: 0.0010\n",
            "Epoch 116/150\n",
            "821/821 [==============================] - 3s 3ms/step - loss: 0.3123 - accuracy: 0.9107 - val_loss: 0.2731 - val_accuracy: 0.9186 - lr: 0.0010\n",
            "Epoch 117/150\n",
            "821/821 [==============================] - 3s 3ms/step - loss: 0.3125 - accuracy: 0.9113 - val_loss: 0.2720 - val_accuracy: 0.9194 - lr: 0.0010\n",
            "Epoch 118/150\n",
            "821/821 [==============================] - 3s 4ms/step - loss: 0.3111 - accuracy: 0.9116 - val_loss: 0.2720 - val_accuracy: 0.9194 - lr: 0.0010\n",
            "Epoch 119/150\n",
            "821/821 [==============================] - 3s 3ms/step - loss: 0.3096 - accuracy: 0.9117 - val_loss: 0.2712 - val_accuracy: 0.9194 - lr: 0.0010\n",
            "Epoch 120/150\n",
            "821/821 [==============================] - 3s 4ms/step - loss: 0.3084 - accuracy: 0.9122 - val_loss: 0.2699 - val_accuracy: 0.9198 - lr: 0.0010\n",
            "Epoch 121/150\n",
            "821/821 [==============================] - 3s 3ms/step - loss: 0.3071 - accuracy: 0.9113 - val_loss: 0.2689 - val_accuracy: 0.9207 - lr: 0.0010\n",
            "Epoch 122/150\n",
            "821/821 [==============================] - 3s 3ms/step - loss: 0.3058 - accuracy: 0.9125 - val_loss: 0.2676 - val_accuracy: 0.9208 - lr: 0.0010\n",
            "Epoch 123/150\n",
            "821/821 [==============================] - 3s 4ms/step - loss: 0.3054 - accuracy: 0.9133 - val_loss: 0.2665 - val_accuracy: 0.9211 - lr: 0.0010\n",
            "Epoch 124/150\n",
            "821/821 [==============================] - 3s 3ms/step - loss: 0.3047 - accuracy: 0.9126 - val_loss: 0.2669 - val_accuracy: 0.9214 - lr: 0.0010\n",
            "Epoch 125/150\n",
            "821/821 [==============================] - 3s 4ms/step - loss: 0.3056 - accuracy: 0.9132 - val_loss: 0.2664 - val_accuracy: 0.9216 - lr: 0.0010\n",
            "Epoch 126/150\n",
            "821/821 [==============================] - 3s 3ms/step - loss: 0.3027 - accuracy: 0.9129 - val_loss: 0.2645 - val_accuracy: 0.9228 - lr: 0.0010\n",
            "Epoch 127/150\n",
            "821/821 [==============================] - 3s 4ms/step - loss: 0.3026 - accuracy: 0.9143 - val_loss: 0.2630 - val_accuracy: 0.9229 - lr: 0.0010\n",
            "Epoch 128/150\n",
            "821/821 [==============================] - 3s 4ms/step - loss: 0.3001 - accuracy: 0.9148 - val_loss: 0.2627 - val_accuracy: 0.9229 - lr: 0.0010\n",
            "Epoch 129/150\n",
            "821/821 [==============================] - 3s 3ms/step - loss: 0.3010 - accuracy: 0.9144 - val_loss: 0.2621 - val_accuracy: 0.9231 - lr: 0.0010\n",
            "Epoch 130/150\n",
            "821/821 [==============================] - 3s 4ms/step - loss: 0.2992 - accuracy: 0.9146 - val_loss: 0.2616 - val_accuracy: 0.9234 - lr: 0.0010\n",
            "Epoch 131/150\n",
            "821/821 [==============================] - 3s 4ms/step - loss: 0.3001 - accuracy: 0.9137 - val_loss: 0.2604 - val_accuracy: 0.9239 - lr: 0.0010\n",
            "Epoch 132/150\n",
            "821/821 [==============================] - 3s 3ms/step - loss: 0.2974 - accuracy: 0.9151 - val_loss: 0.2598 - val_accuracy: 0.9248 - lr: 0.0010\n",
            "Epoch 133/150\n",
            "821/821 [==============================] - 3s 3ms/step - loss: 0.2981 - accuracy: 0.9145 - val_loss: 0.2592 - val_accuracy: 0.9249 - lr: 0.0010\n",
            "Epoch 134/150\n",
            "821/821 [==============================] - 3s 3ms/step - loss: 0.2971 - accuracy: 0.9147 - val_loss: 0.2584 - val_accuracy: 0.9254 - lr: 0.0010\n",
            "Epoch 135/150\n",
            "821/821 [==============================] - 3s 4ms/step - loss: 0.2957 - accuracy: 0.9150 - val_loss: 0.2573 - val_accuracy: 0.9258 - lr: 0.0010\n",
            "Epoch 136/150\n",
            "821/821 [==============================] - 3s 3ms/step - loss: 0.2965 - accuracy: 0.9147 - val_loss: 0.2564 - val_accuracy: 0.9259 - lr: 0.0010\n",
            "Epoch 137/150\n",
            "821/821 [==============================] - 3s 4ms/step - loss: 0.2948 - accuracy: 0.9155 - val_loss: 0.2561 - val_accuracy: 0.9267 - lr: 0.0010\n",
            "Epoch 138/150\n",
            "821/821 [==============================] - 3s 3ms/step - loss: 0.2918 - accuracy: 0.9162 - val_loss: 0.2562 - val_accuracy: 0.9268 - lr: 0.0010\n",
            "Epoch 139/150\n",
            "821/821 [==============================] - 3s 3ms/step - loss: 0.2923 - accuracy: 0.9161 - val_loss: 0.2548 - val_accuracy: 0.9276 - lr: 0.0010\n",
            "Epoch 140/150\n",
            "821/821 [==============================] - 3s 3ms/step - loss: 0.2904 - accuracy: 0.9168 - val_loss: 0.2542 - val_accuracy: 0.9275 - lr: 0.0010\n",
            "Epoch 141/150\n",
            "821/821 [==============================] - 3s 4ms/step - loss: 0.2914 - accuracy: 0.9162 - val_loss: 0.2535 - val_accuracy: 0.9284 - lr: 0.0010\n",
            "Epoch 142/150\n",
            "821/821 [==============================] - 3s 3ms/step - loss: 0.2908 - accuracy: 0.9174 - val_loss: 0.2527 - val_accuracy: 0.9284 - lr: 0.0010\n",
            "Epoch 143/150\n",
            "821/821 [==============================] - 3s 3ms/step - loss: 0.2899 - accuracy: 0.9171 - val_loss: 0.2519 - val_accuracy: 0.9290 - lr: 0.0010\n",
            "Epoch 144/150\n",
            "821/821 [==============================] - 3s 4ms/step - loss: 0.2881 - accuracy: 0.9180 - val_loss: 0.2514 - val_accuracy: 0.9288 - lr: 0.0010\n",
            "Epoch 145/150\n",
            "821/821 [==============================] - 3s 3ms/step - loss: 0.2888 - accuracy: 0.9172 - val_loss: 0.2514 - val_accuracy: 0.9294 - lr: 0.0010\n",
            "Epoch 146/150\n",
            "821/821 [==============================] - 3s 3ms/step - loss: 0.2873 - accuracy: 0.9175 - val_loss: 0.2509 - val_accuracy: 0.9296 - lr: 0.0010\n",
            "Epoch 147/150\n",
            "821/821 [==============================] - 3s 3ms/step - loss: 0.2880 - accuracy: 0.9171 - val_loss: 0.2494 - val_accuracy: 0.9306 - lr: 0.0010\n",
            "Epoch 148/150\n",
            "821/821 [==============================] - 3s 4ms/step - loss: 0.2863 - accuracy: 0.9176 - val_loss: 0.2492 - val_accuracy: 0.9300 - lr: 0.0010\n",
            "Epoch 149/150\n",
            "821/821 [==============================] - 3s 3ms/step - loss: 0.2852 - accuracy: 0.9180 - val_loss: 0.2482 - val_accuracy: 0.9306 - lr: 0.0010\n",
            "Epoch 150/150\n",
            "821/821 [==============================] - 3s 4ms/step - loss: 0.2862 - accuracy: 0.9175 - val_loss: 0.2483 - val_accuracy: 0.9310 - lr: 0.0010\n"
          ],
          "name": "stdout"
        },
        {
          "output_type": "display_data",
          "data": {
            "image/png": "[encoded data removed]",
            "text/plain": [
              "<Figure size 432x288 with 1 Axes>"
            ]
          },
          "metadata": {
            "tags": []
          }
        }
      ]
    },
    {
      "cell_type": "markdown",
      "metadata": {
        "colab_type": "text",
        "id": "xpeE9S9Xy1eP"
      },
      "source": [
        "Let's evaluate our predictions on the validation set: "
      ]
    },
    {
      "cell_type": "code",
      "metadata": {
        "id": "qjnV1zxJs7Jq",
        "colab_type": "code",
        "colab": {}
      },
      "source": [
        "mlp_model = tf.keras.models.load_model('outputs/output_mlp/best_model.hdf5')"
      ],
      "execution_count": 0,
      "outputs": []
    },
    {
      "cell_type": "code",
      "metadata": {
        "colab_type": "code",
        "id": "3TyDynjRgWut",
        "outputId": "62401d4f-edb5-4573-9531-15ae7cc86cc0",
        "colab": {
          "base_uri": "https://localhost:8080/",
          "height": 80
        }
      },
      "source": [
        "ypred = mlp_model.predict(xval)\n",
        "ypred = np.argmax(ypred,axis=1)\n",
        "evaluate(y_val_true,ypred)"
      ],
      "execution_count": 21,
      "outputs": [
        {
          "output_type": "execute_result",
          "data": {
            "text/html": [
              "<div>\n",
              "<style scoped>\n",
              "    .dataframe tbody tr th:only-of-type {\n",
              "        vertical-align: middle;\n",
              "    }\n",
              "\n",
              "    .dataframe tbody tr th {\n",
              "        vertical-align: top;\n",
              "    }\n",
              "\n",
              "    .dataframe thead th {\n",
              "        text-align: right;\n",
              "    }\n",
              "</style>\n",
              "<table border=\"1\" class=\"dataframe\">\n",
              "  <thead>\n",
              "    <tr style=\"text-align: right;\">\n",
              "      <th></th>\n",
              "      <th>accuracy</th>\n",
              "      <th>recall</th>\n",
              "      <th>precision</th>\n",
              "      <th>f1-score</th>\n",
              "    </tr>\n",
              "  </thead>\n",
              "  <tbody>\n",
              "    <tr>\n",
              "      <th>0</th>\n",
              "      <td>0.930615</td>\n",
              "      <td>0.555113</td>\n",
              "      <td>0.690763</td>\n",
              "      <td>0.596122</td>\n",
              "    </tr>\n",
              "  </tbody>\n",
              "</table>\n",
              "</div>"
            ],
            "text/plain": [
              "   accuracy    recall  precision  f1-score\n",
              "0  0.930615  0.555113   0.690763  0.596122"
            ]
          },
          "metadata": {
            "tags": []
          },
          "execution_count": 21
        }
      ]
    },
    {
      "cell_type": "markdown",
      "metadata": {
        "id": "Vth_nYYNsyzi",
        "colab_type": "text"
      },
      "source": [
        "### 3.1.2 Evaluating on the test set"
      ]
    },
    {
      "cell_type": "code",
      "metadata": {
        "id": "3URYV-6bs5R9",
        "colab_type": "code",
        "colab": {}
      },
      "source": [
        "mlp_model = tf.keras.models.load_model('outputs/output_mlp/best_model.hdf5')"
      ],
      "execution_count": 0,
      "outputs": []
    },
    {
      "cell_type": "code",
      "metadata": {
        "id": "JT5luBg4tO_I",
        "colab_type": "code",
        "colab": {
          "base_uri": "https://localhost:8080/",
          "height": 80
        },
        "outputId": "f1519c3b-6107-4c14-ad66-caf3cb12cf8e"
      },
      "source": [
        "ypred = mlp_model.predict(xtest)\n",
        "ypred = np.argmax(ypred,axis=1)\n",
        "evaluate(y_test_true,ypred)"
      ],
      "execution_count": 7,
      "outputs": [
        {
          "output_type": "execute_result",
          "data": {
            "text/html": [
              "<div>\n",
              "<style scoped>\n",
              "    .dataframe tbody tr th:only-of-type {\n",
              "        vertical-align: middle;\n",
              "    }\n",
              "\n",
              "    .dataframe tbody tr th {\n",
              "        vertical-align: top;\n",
              "    }\n",
              "\n",
              "    .dataframe thead th {\n",
              "        text-align: right;\n",
              "    }\n",
              "</style>\n",
              "<table border=\"1\" class=\"dataframe\">\n",
              "  <thead>\n",
              "    <tr style=\"text-align: right;\">\n",
              "      <th></th>\n",
              "      <th>accuracy</th>\n",
              "      <th>recall</th>\n",
              "      <th>precision</th>\n",
              "      <th>f1-score</th>\n",
              "    </tr>\n",
              "  </thead>\n",
              "  <tbody>\n",
              "    <tr>\n",
              "      <th>0</th>\n",
              "      <td>0.927074</td>\n",
              "      <td>0.542247</td>\n",
              "      <td>0.690165</td>\n",
              "      <td>0.584042</td>\n",
              "    </tr>\n",
              "  </tbody>\n",
              "</table>\n",
              "</div>"
            ],
            "text/plain": [
              "   accuracy    recall  precision  f1-score\n",
              "0  0.927074  0.542247   0.690165  0.584042"
            ]
          },
          "metadata": {
            "tags": []
          },
          "execution_count": 7
        }
      ]
    },
    {
      "cell_type": "markdown",
      "metadata": {
        "colab_type": "text",
        "id": "7vUT-Zy1yiMA"
      },
      "source": [
        "Let's be more precise on each class. The following scores are computed considering each label against all the others."
      ]
    },
    {
      "cell_type": "code",
      "metadata": {
        "colab_type": "code",
        "id": "H75TzCd_yUBK",
        "outputId": "40abd520-0c78-4661-f10f-afd5903605aa",
        "colab": {
          "base_uri": "https://localhost:8080/",
          "height": 204
        }
      },
      "source": [
        "get_binary_metrics(y_test_true,ypred)"
      ],
      "execution_count": 24,
      "outputs": [
        {
          "output_type": "execute_result",
          "data": {
            "text/html": [
              "<div>\n",
              "<style scoped>\n",
              "    .dataframe tbody tr th:only-of-type {\n",
              "        vertical-align: middle;\n",
              "    }\n",
              "\n",
              "    .dataframe tbody tr th {\n",
              "        vertical-align: top;\n",
              "    }\n",
              "\n",
              "    .dataframe thead th {\n",
              "        text-align: right;\n",
              "    }\n",
              "</style>\n",
              "<table border=\"1\" class=\"dataframe\">\n",
              "  <thead>\n",
              "    <tr style=\"text-align: right;\">\n",
              "      <th></th>\n",
              "      <th>recall</th>\n",
              "      <th>precision</th>\n",
              "      <th>f1-score</th>\n",
              "    </tr>\n",
              "  </thead>\n",
              "  <tbody>\n",
              "    <tr>\n",
              "      <th>0</th>\n",
              "      <td>0.987513</td>\n",
              "      <td>0.937455</td>\n",
              "      <td>0.961833</td>\n",
              "    </tr>\n",
              "    <tr>\n",
              "      <th>1</th>\n",
              "      <td>0.265169</td>\n",
              "      <td>0.802721</td>\n",
              "      <td>0.398649</td>\n",
              "    </tr>\n",
              "    <tr>\n",
              "      <th>2</th>\n",
              "      <td>0.571305</td>\n",
              "      <td>0.835651</td>\n",
              "      <td>0.678645</td>\n",
              "    </tr>\n",
              "    <tr>\n",
              "      <th>3</th>\n",
              "      <td>0</td>\n",
              "      <td>0</td>\n",
              "      <td>0</td>\n",
              "    </tr>\n",
              "    <tr>\n",
              "      <th>4</th>\n",
              "      <td>0.887247</td>\n",
              "      <td>0.875</td>\n",
              "      <td>0.881081</td>\n",
              "    </tr>\n",
              "  </tbody>\n",
              "</table>\n",
              "</div>"
            ],
            "text/plain": [
              "     recall precision  f1-score\n",
              "0  0.987513  0.937455  0.961833\n",
              "1  0.265169  0.802721  0.398649\n",
              "2  0.571305  0.835651  0.678645\n",
              "3         0         0         0\n",
              "4  0.887247     0.875  0.881081"
            ]
          },
          "metadata": {
            "tags": []
          },
          "execution_count": 24
        }
      ]
    },
    {
      "cell_type": "code",
      "metadata": {
        "id": "AjsCDzOC5Fzm",
        "colab_type": "code",
        "colab": {
          "base_uri": "https://localhost:8080/",
          "height": 423
        },
        "outputId": "582c0748-7755-42d2-b904-ebc042a8c41e"
      },
      "source": [
        "plot_confusion_matrix(y_test_true,ypred)"
      ],
      "execution_count": 15,
      "outputs": [
        {
          "output_type": "stream",
          "text": [
            "/content/drive/My Drive/MVA/S2/DLMI/utils/evaluation.py:36: RuntimeWarning: invalid value encountered in true_divide\n",
            "  cm = np.round(cm/cm.sum(axis=0),3)\n"
          ],
          "name": "stderr"
        },
        {
          "output_type": "display_data",
          "data": {
            "image/png": "[encoded data removed]",
            "text/plain": [
              "<Figure size 360x360 with 2 Axes>"
            ]
          },
          "metadata": {
            "tags": []
          }
        }
      ]
    },
    {
      "cell_type": "markdown",
      "metadata": {
        "id": "eGHCDRdhWTL1",
        "colab_type": "text"
      },
      "source": [
        "## 3.2 CNN"
      ]
    },
    {
      "cell_type": "code",
      "metadata": {
        "id": "veVqtEFDWTL1",
        "colab_type": "code",
        "colab": {}
      },
      "source": [
        "from models.CNN_1D import Classifier_1DCNN"
      ],
      "execution_count": 0,
      "outputs": []
    },
    {
      "cell_type": "markdown",
      "metadata": {
        "id": "ndsl3ctdtcz8",
        "colab_type": "text"
      },
      "source": [
        "### 3.2.1 Training"
      ]
    },
    {
      "cell_type": "code",
      "metadata": {
        "id": "-YKva-JEWTMF",
        "colab_type": "code",
        "colab": {}
      },
      "source": [
        "#convolutional layers require a different shape\n",
        "xtrain_r = xtrain.reshape(xtrain.shape[0],xtrain.shape[1],1)\n",
        "xval_r = xval.reshape(xval.shape[0],xval.shape[1],1)"
      ],
      "execution_count": 0,
      "outputs": []
    },
    {
      "cell_type": "code",
      "metadata": {
        "id": "2A0rvNkDWTMX",
        "colab_type": "code",
        "colab": {
          "base_uri": "https://localhost:8080/",
          "height": 935
        },
        "outputId": "d1a9a512-47a8-444a-8f86-fbd8ae050296"
      },
      "source": [
        "cnn = Classifier_1DCNN('outputs/output_1DCNN/', nb_classes=5,\n",
        "                       n_conv_block=2, n_filters=(64,64), kern_size=(5,5), \n",
        "                       n_stride=(1,1), \n",
        "                       input_shape=(data.shape[1],1), \n",
        "                       add_FC=True, n_unit_FC=100,\n",
        "                       verbose=True)"
      ],
      "execution_count": 26,
      "outputs": [
        {
          "output_type": "stream",
          "text": [
            "Model: \"sequential\"\n",
            "_________________________________________________________________\n",
            "Layer (type)                 Output Shape              Param #   \n",
            "=================================================================\n",
            "conv1d (Conv1D)              (None, 187, 64)           384       \n",
            "_________________________________________________________________\n",
            "batch_normalization (BatchNo (None, 187, 64)           256       \n",
            "_________________________________________________________________\n",
            "activation (Activation)      (None, 187, 64)           0         \n",
            "_________________________________________________________________\n",
            "dropout (Dropout)            (None, 187, 64)           0         \n",
            "_________________________________________________________________\n",
            "conv1d_1 (Conv1D)            (None, 187, 64)           20544     \n",
            "_________________________________________________________________\n",
            "batch_normalization_1 (Batch (None, 187, 64)           256       \n",
            "_________________________________________________________________\n",
            "activation_1 (Activation)    (None, 187, 64)           0         \n",
            "_________________________________________________________________\n",
            "dropout_1 (Dropout)          (None, 187, 64)           0         \n",
            "_________________________________________________________________\n",
            "max_pooling1d (MaxPooling1D) (None, 62, 64)            0         \n",
            "_________________________________________________________________\n",
            "conv1d_2 (Conv1D)            (None, 62, 64)            20544     \n",
            "_________________________________________________________________\n",
            "batch_normalization_2 (Batch (None, 62, 64)            256       \n",
            "_________________________________________________________________\n",
            "activation_2 (Activation)    (None, 62, 64)            0         \n",
            "_________________________________________________________________\n",
            "dropout_2 (Dropout)          (None, 62, 64)            0         \n",
            "_________________________________________________________________\n",
            "conv1d_3 (Conv1D)            (None, 62, 64)            4160      \n",
            "_________________________________________________________________\n",
            "batch_normalization_3 (Batch (None, 62, 64)            256       \n",
            "_________________________________________________________________\n",
            "activation_3 (Activation)    (None, 62, 64)            0         \n",
            "_________________________________________________________________\n",
            "dropout_3 (Dropout)          (None, 62, 64)            0         \n",
            "_________________________________________________________________\n",
            "max_pooling1d_1 (MaxPooling1 (None, 20, 64)            0         \n",
            "_________________________________________________________________\n",
            "flatten (Flatten)            (None, 1280)              0         \n",
            "_________________________________________________________________\n",
            "dense (Dense)                (None, 100)               128100    \n",
            "_________________________________________________________________\n",
            "batch_normalization_4 (Batch (None, 100)               400       \n",
            "_________________________________________________________________\n",
            "activation_4 (Activation)    (None, 100)               0         \n",
            "_________________________________________________________________\n",
            "dense_1 (Dense)              (None, 5)                 505       \n",
            "=================================================================\n",
            "Total params: 175,661\n",
            "Trainable params: 174,949\n",
            "Non-trainable params: 712\n",
            "_________________________________________________________________\n"
          ],
          "name": "stdout"
        }
      ]
    },
    {
      "cell_type": "code",
      "metadata": {
        "id": "ZZTt31e_WTMm",
        "colab_type": "code",
        "colab": {
          "base_uri": "https://localhost:8080/",
          "height": 1000
        },
        "outputId": "1fe1ca76-0ab1-4874-d171-571110aa3eac"
      },
      "source": [
        "%matplotlib inline\n",
        "hist = cnn.fit(xtrain_r,ytrain,xval_r,yval,y_val_true,batch_size=32,nb_epochs=25)"
      ],
      "execution_count": 27,
      "outputs": [
        {
          "output_type": "stream",
          "text": [
            "Train on 52532 samples, validate on 17511 samples\n",
            "Epoch 1/25\n",
            "WARNING:tensorflow:From /usr/local/lib/python3.6/dist-packages/tensorflow_core/python/ops/resource_variable_ops.py:1786: calling BaseResourceVariable.__init__ (from tensorflow.python.ops.resource_variable_ops) with constraint is deprecated and will be removed in a future version.\n",
            "Instructions for updating:\n",
            "If using Keras pass *_constraint arguments to layers.\n",
            "52532/52532 [==============================] - 21s 400us/sample - loss: 0.1772 - accuracy: 0.9504 - val_loss: 0.1867 - val_accuracy: 0.9580\n",
            "Epoch 2/25\n",
            "52532/52532 [==============================] - 18s 335us/sample - loss: 0.1125 - accuracy: 0.9688 - val_loss: 0.1314 - val_accuracy: 0.9678\n",
            "Epoch 3/25\n",
            "52532/52532 [==============================] - 17s 333us/sample - loss: 0.0921 - accuracy: 0.9734 - val_loss: 0.0884 - val_accuracy: 0.9757\n",
            "Epoch 4/25\n",
            "52532/52532 [==============================] - 18s 343us/sample - loss: 0.0809 - accuracy: 0.9760 - val_loss: 0.0756 - val_accuracy: 0.9794\n",
            "Epoch 5/25\n",
            "52532/52532 [==============================] - 18s 340us/sample - loss: 0.0704 - accuracy: 0.9793 - val_loss: 0.0808 - val_accuracy: 0.9789\n",
            "Epoch 6/25\n",
            "52532/52532 [==============================] - 18s 347us/sample - loss: 0.0633 - accuracy: 0.9815 - val_loss: 0.0790 - val_accuracy: 0.9802\n",
            "Epoch 7/25\n",
            "52532/52532 [==============================] - 18s 341us/sample - loss: 0.0599 - accuracy: 0.9822 - val_loss: 0.0668 - val_accuracy: 0.9810\n",
            "Epoch 8/25\n",
            "52532/52532 [==============================] - 18s 348us/sample - loss: 0.0571 - accuracy: 0.9830 - val_loss: 0.0688 - val_accuracy: 0.9818\n",
            "Epoch 9/25\n",
            "52532/52532 [==============================] - 19s 353us/sample - loss: 0.0521 - accuracy: 0.9840 - val_loss: 0.0771 - val_accuracy: 0.9791\n",
            "Epoch 10/25\n",
            "52532/52532 [==============================] - 18s 339us/sample - loss: 0.0492 - accuracy: 0.9849 - val_loss: 0.0565 - val_accuracy: 0.9839\n",
            "Epoch 11/25\n",
            "52532/52532 [==============================] - 18s 348us/sample - loss: 0.0452 - accuracy: 0.9857 - val_loss: 0.0544 - val_accuracy: 0.9845\n",
            "Epoch 12/25\n",
            "52532/52532 [==============================] - 19s 358us/sample - loss: 0.0426 - accuracy: 0.9868 - val_loss: 0.0604 - val_accuracy: 0.9825\n",
            "Epoch 13/25\n",
            "52532/52532 [==============================] - 19s 352us/sample - loss: 0.0424 - accuracy: 0.9863 - val_loss: 0.0573 - val_accuracy: 0.9832\n",
            "Epoch 14/25\n",
            "52532/52532 [==============================] - 18s 348us/sample - loss: 0.0409 - accuracy: 0.9875 - val_loss: 0.0583 - val_accuracy: 0.9836\n",
            "Epoch 15/25\n",
            "52532/52532 [==============================] - 18s 334us/sample - loss: 0.0379 - accuracy: 0.9881 - val_loss: 0.0517 - val_accuracy: 0.9844\n",
            "Epoch 16/25\n",
            "52532/52532 [==============================] - 18s 338us/sample - loss: 0.0341 - accuracy: 0.9891 - val_loss: 0.0748 - val_accuracy: 0.9797\n",
            "Epoch 17/25\n",
            "52532/52532 [==============================] - 18s 335us/sample - loss: 0.0334 - accuracy: 0.9887 - val_loss: 0.0479 - val_accuracy: 0.9869\n",
            "Epoch 18/25\n",
            "52532/52532 [==============================] - 18s 339us/sample - loss: 0.0323 - accuracy: 0.9892 - val_loss: 0.0488 - val_accuracy: 0.9861\n",
            "Epoch 19/25\n",
            "52532/52532 [==============================] - 18s 335us/sample - loss: 0.0310 - accuracy: 0.9898 - val_loss: 0.0511 - val_accuracy: 0.9848\n",
            "Epoch 20/25\n",
            "52532/52532 [==============================] - 18s 335us/sample - loss: 0.0293 - accuracy: 0.9903 - val_loss: 0.0566 - val_accuracy: 0.9833\n",
            "Epoch 21/25\n",
            "52532/52532 [==============================] - 18s 338us/sample - loss: 0.0274 - accuracy: 0.9913 - val_loss: 0.0500 - val_accuracy: 0.9857\n",
            "Epoch 22/25\n",
            "52532/52532 [==============================] - 18s 336us/sample - loss: 0.0266 - accuracy: 0.9912 - val_loss: 0.0509 - val_accuracy: 0.9852\n",
            "Epoch 23/25\n",
            "52532/52532 [==============================] - 18s 339us/sample - loss: 0.0248 - accuracy: 0.9917 - val_loss: 0.0481 - val_accuracy: 0.9859\n",
            "Epoch 24/25\n",
            "52532/52532 [==============================] - 17s 326us/sample - loss: 0.0249 - accuracy: 0.9918 - val_loss: 0.0500 - val_accuracy: 0.9866\n",
            "Epoch 25/25\n",
            "52532/52532 [==============================] - 17s 330us/sample - loss: 0.0245 - accuracy: 0.9920 - val_loss: 0.0421 - val_accuracy: 0.9877\n"
          ],
          "name": "stdout"
        },
        {
          "output_type": "display_data",
          "data": {
            "image/png": "[encoded data removed]",
            "text/plain": [
              "<Figure size 432x288 with 1 Axes>"
            ]
          },
          "metadata": {
            "tags": []
          }
        }
      ]
    },
    {
      "cell_type": "code",
      "metadata": {
        "id": "KMLo_0JitsYT",
        "colab_type": "code",
        "colab": {
          "base_uri": "https://localhost:8080/",
          "height": 327
        },
        "outputId": "4490a172-0f6d-40b8-8d55-9161ebf34c38"
      },
      "source": [
        "cnn_model = tf.keras.models.load_model('outputs/output_1DCNN/best_model.hdf5')"
      ],
      "execution_count": 17,
      "outputs": [
        {
          "output_type": "error",
          "ename": "ValueError",
          "evalue": "ignored",
          "traceback": [
            "\u001b[0;31m---------------------------------------------------------------------------\u001b[0m",
            "\u001b[0;31mValueError\u001b[0m                                Traceback (most recent call last)",
            "\u001b[0;32m<ipython-input-17-5671e7448086>\u001b[0m in \u001b[0;36m<module>\u001b[0;34m()\u001b[0m\n\u001b[0;32m----> 1\u001b[0;31m \u001b[0mcnn_model\u001b[0m \u001b[0;34m=\u001b[0m \u001b[0mtf\u001b[0m\u001b[0;34m.\u001b[0m\u001b[0mkeras\u001b[0m\u001b[0;34m.\u001b[0m\u001b[0mmodels\u001b[0m\u001b[0;34m.\u001b[0m\u001b[0mload_model\u001b[0m\u001b[0;34m(\u001b[0m\u001b[0;34m'outputs/output_1DCNN/best_model.hdf5'\u001b[0m\u001b[0;34m)\u001b[0m\u001b[0;34m\u001b[0m\u001b[0;34m\u001b[0m\u001b[0m\n\u001b[0m",
            "\u001b[0;32m/usr/local/lib/python3.6/dist-packages/tensorflow_core/python/keras/saving/save.py\u001b[0m in \u001b[0;36mload_model\u001b[0;34m(filepath, custom_objects, compile)\u001b[0m\n\u001b[1;32m    144\u001b[0m   if (h5py is not None and (\n\u001b[1;32m    145\u001b[0m       isinstance(filepath, h5py.File) or h5py.is_hdf5(filepath))):\n\u001b[0;32m--> 146\u001b[0;31m     \u001b[0;32mreturn\u001b[0m \u001b[0mhdf5_format\u001b[0m\u001b[0;34m.\u001b[0m\u001b[0mload_model_from_hdf5\u001b[0m\u001b[0;34m(\u001b[0m\u001b[0mfilepath\u001b[0m\u001b[0;34m,\u001b[0m \u001b[0mcustom_objects\u001b[0m\u001b[0;34m,\u001b[0m \u001b[0mcompile\u001b[0m\u001b[0;34m)\u001b[0m\u001b[0;34m\u001b[0m\u001b[0;34m\u001b[0m\u001b[0m\n\u001b[0m\u001b[1;32m    147\u001b[0m \u001b[0;34m\u001b[0m\u001b[0m\n\u001b[1;32m    148\u001b[0m   \u001b[0;32mif\u001b[0m \u001b[0misinstance\u001b[0m\u001b[0;34m(\u001b[0m\u001b[0mfilepath\u001b[0m\u001b[0;34m,\u001b[0m \u001b[0msix\u001b[0m\u001b[0;34m.\u001b[0m\u001b[0mstring_types\u001b[0m\u001b[0;34m)\u001b[0m\u001b[0;34m:\u001b[0m\u001b[0;34m\u001b[0m\u001b[0;34m\u001b[0m\u001b[0m\n",
            "\u001b[0;32m/usr/local/lib/python3.6/dist-packages/tensorflow_core/python/keras/saving/hdf5_format.py\u001b[0m in \u001b[0;36mload_model_from_hdf5\u001b[0;34m(filepath, custom_objects, compile)\u001b[0m\n\u001b[1;32m    182\u001b[0m       \u001b[0;31m# Compile model.\u001b[0m\u001b[0;34m\u001b[0m\u001b[0;34m\u001b[0m\u001b[0;34m\u001b[0m\u001b[0m\n\u001b[1;32m    183\u001b[0m       model.compile(**saving_utils.compile_args_from_training_config(\n\u001b[0;32m--> 184\u001b[0;31m           training_config, custom_objects))\n\u001b[0m\u001b[1;32m    185\u001b[0m \u001b[0;34m\u001b[0m\u001b[0m\n\u001b[1;32m    186\u001b[0m       \u001b[0;31m# Set optimizer weights.\u001b[0m\u001b[0;34m\u001b[0m\u001b[0;34m\u001b[0m\u001b[0;34m\u001b[0m\u001b[0m\n",
            "\u001b[0;32m/usr/local/lib/python3.6/dist-packages/tensorflow_core/python/keras/saving/saving_utils.py\u001b[0m in \u001b[0;36mcompile_args_from_training_config\u001b[0;34m(training_config, custom_objects)\u001b[0m\n\u001b[1;32m    227\u001b[0m   \u001b[0moptimizer_config\u001b[0m \u001b[0;34m=\u001b[0m \u001b[0mtraining_config\u001b[0m\u001b[0;34m[\u001b[0m\u001b[0;34m'optimizer_config'\u001b[0m\u001b[0;34m]\u001b[0m\u001b[0;34m\u001b[0m\u001b[0;34m\u001b[0m\u001b[0m\n\u001b[1;32m    228\u001b[0m   optimizer = optimizers.deserialize(\n\u001b[0;32m--> 229\u001b[0;31m       optimizer_config, custom_objects=custom_objects)\n\u001b[0m\u001b[1;32m    230\u001b[0m \u001b[0;34m\u001b[0m\u001b[0m\n\u001b[1;32m    231\u001b[0m   \u001b[0;31m# Recover loss functions and metrics.\u001b[0m\u001b[0;34m\u001b[0m\u001b[0;34m\u001b[0m\u001b[0;34m\u001b[0m\u001b[0m\n",
            "\u001b[0;32m/usr/local/lib/python3.6/dist-packages/tensorflow_core/python/keras/optimizers.py\u001b[0m in \u001b[0;36mdeserialize\u001b[0;34m(config, custom_objects)\u001b[0m\n\u001b[1;32m    817\u001b[0m       \u001b[0mmodule_objects\u001b[0m\u001b[0;34m=\u001b[0m\u001b[0mall_classes\u001b[0m\u001b[0;34m,\u001b[0m\u001b[0;34m\u001b[0m\u001b[0;34m\u001b[0m\u001b[0m\n\u001b[1;32m    818\u001b[0m       \u001b[0mcustom_objects\u001b[0m\u001b[0;34m=\u001b[0m\u001b[0mcustom_objects\u001b[0m\u001b[0;34m,\u001b[0m\u001b[0;34m\u001b[0m\u001b[0;34m\u001b[0m\u001b[0m\n\u001b[0;32m--> 819\u001b[0;31m       printable_module_name='optimizer')\n\u001b[0m\u001b[1;32m    820\u001b[0m \u001b[0;34m\u001b[0m\u001b[0m\n\u001b[1;32m    821\u001b[0m \u001b[0;34m\u001b[0m\u001b[0m\n",
            "\u001b[0;32m/usr/local/lib/python3.6/dist-packages/tensorflow_core/python/keras/utils/generic_utils.py\u001b[0m in \u001b[0;36mdeserialize_keras_object\u001b[0;34m(identifier, module_objects, custom_objects, printable_module_name)\u001b[0m\n\u001b[1;32m    290\u001b[0m     \u001b[0mconfig\u001b[0m \u001b[0;34m=\u001b[0m \u001b[0midentifier\u001b[0m\u001b[0;34m\u001b[0m\u001b[0;34m\u001b[0m\u001b[0m\n\u001b[1;32m    291\u001b[0m     (cls, cls_config) = class_and_config_for_serialized_keras_object(\n\u001b[0;32m--> 292\u001b[0;31m         config, module_objects, custom_objects, printable_module_name)\n\u001b[0m\u001b[1;32m    293\u001b[0m \u001b[0;34m\u001b[0m\u001b[0m\n\u001b[1;32m    294\u001b[0m     \u001b[0;32mif\u001b[0m \u001b[0mhasattr\u001b[0m\u001b[0;34m(\u001b[0m\u001b[0mcls\u001b[0m\u001b[0;34m,\u001b[0m \u001b[0;34m'from_config'\u001b[0m\u001b[0;34m)\u001b[0m\u001b[0;34m:\u001b[0m\u001b[0;34m\u001b[0m\u001b[0;34m\u001b[0m\u001b[0m\n",
            "\u001b[0;32m/usr/local/lib/python3.6/dist-packages/tensorflow_core/python/keras/utils/generic_utils.py\u001b[0m in \u001b[0;36mclass_and_config_for_serialized_keras_object\u001b[0;34m(config, module_objects, custom_objects, printable_module_name)\u001b[0m\n\u001b[1;32m    248\u001b[0m     \u001b[0mcls\u001b[0m \u001b[0;34m=\u001b[0m \u001b[0mmodule_objects\u001b[0m\u001b[0;34m.\u001b[0m\u001b[0mget\u001b[0m\u001b[0;34m(\u001b[0m\u001b[0mclass_name\u001b[0m\u001b[0;34m)\u001b[0m\u001b[0;34m\u001b[0m\u001b[0;34m\u001b[0m\u001b[0m\n\u001b[1;32m    249\u001b[0m     \u001b[0;32mif\u001b[0m \u001b[0mcls\u001b[0m \u001b[0;32mis\u001b[0m \u001b[0;32mNone\u001b[0m\u001b[0;34m:\u001b[0m\u001b[0;34m\u001b[0m\u001b[0;34m\u001b[0m\u001b[0m\n\u001b[0;32m--> 250\u001b[0;31m       \u001b[0;32mraise\u001b[0m \u001b[0mValueError\u001b[0m\u001b[0;34m(\u001b[0m\u001b[0;34m'Unknown '\u001b[0m \u001b[0;34m+\u001b[0m \u001b[0mprintable_module_name\u001b[0m \u001b[0;34m+\u001b[0m \u001b[0;34m': '\u001b[0m \u001b[0;34m+\u001b[0m \u001b[0mclass_name\u001b[0m\u001b[0;34m)\u001b[0m\u001b[0;34m\u001b[0m\u001b[0;34m\u001b[0m\u001b[0m\n\u001b[0m\u001b[1;32m    251\u001b[0m \u001b[0;34m\u001b[0m\u001b[0m\n\u001b[1;32m    252\u001b[0m   \u001b[0mcls_config\u001b[0m \u001b[0;34m=\u001b[0m \u001b[0mconfig\u001b[0m\u001b[0;34m[\u001b[0m\u001b[0;34m'config'\u001b[0m\u001b[0;34m]\u001b[0m\u001b[0;34m\u001b[0m\u001b[0;34m\u001b[0m\u001b[0m\n",
            "\u001b[0;31mValueError\u001b[0m: Unknown optimizer: SWA"
          ]
        }
      ]
    },
    {
      "cell_type": "code",
      "metadata": {
        "id": "KBxuxA0iWTM0",
        "colab_type": "code",
        "colab": {
          "base_uri": "https://localhost:8080/",
          "height": 80
        },
        "outputId": "37bc9456-75bb-45e8-bd40-73c20ab6a88f"
      },
      "source": [
        "ypred = cnn_model.predict(xval_r)\n",
        "ypred = np.argmax(ypred,axis=1)\n",
        "evaluate(y_val_true,ypred)"
      ],
      "execution_count": 39,
      "outputs": [
        {
          "output_type": "execute_result",
          "data": {
            "text/html": [
              "<div>\n",
              "<style scoped>\n",
              "    .dataframe tbody tr th:only-of-type {\n",
              "        vertical-align: middle;\n",
              "    }\n",
              "\n",
              "    .dataframe tbody tr th {\n",
              "        vertical-align: top;\n",
              "    }\n",
              "\n",
              "    .dataframe thead th {\n",
              "        text-align: right;\n",
              "    }\n",
              "</style>\n",
              "<table border=\"1\" class=\"dataframe\">\n",
              "  <thead>\n",
              "    <tr style=\"text-align: right;\">\n",
              "      <th></th>\n",
              "      <th>accuracy</th>\n",
              "      <th>recall</th>\n",
              "      <th>precision</th>\n",
              "      <th>f1-score</th>\n",
              "    </tr>\n",
              "  </thead>\n",
              "  <tbody>\n",
              "    <tr>\n",
              "      <th>0</th>\n",
              "      <td>0.987665</td>\n",
              "      <td>0.917764</td>\n",
              "      <td>0.952533</td>\n",
              "      <td>0.934047</td>\n",
              "    </tr>\n",
              "  </tbody>\n",
              "</table>\n",
              "</div>"
            ],
            "text/plain": [
              "   accuracy    recall  precision  f1-score\n",
              "0  0.987665  0.917764   0.952533  0.934047"
            ]
          },
          "metadata": {
            "tags": []
          },
          "execution_count": 39
        }
      ]
    },
    {
      "cell_type": "markdown",
      "metadata": {
        "id": "t_WDOnowuBgI",
        "colab_type": "text"
      },
      "source": [
        "### 3.2.2 Evaluating on the test set"
      ]
    },
    {
      "cell_type": "code",
      "metadata": {
        "id": "3psT8Q-huOzB",
        "colab_type": "code",
        "colab": {}
      },
      "source": [
        "xtest_r = xtest.reshape(xtest.shape[0],xtest.shape[1],1)"
      ],
      "execution_count": 0,
      "outputs": []
    },
    {
      "cell_type": "code",
      "metadata": {
        "id": "SGFYv28EuHc2",
        "colab_type": "code",
        "colab": {}
      },
      "source": [
        "cnn_model = tf.keras.models.load_model('outputs/output_1DCNN/best_model.hdf5')"
      ],
      "execution_count": 0,
      "outputs": []
    },
    {
      "cell_type": "code",
      "metadata": {
        "id": "NNDwP5tLuKx6",
        "colab_type": "code",
        "colab": {
          "base_uri": "https://localhost:8080/",
          "height": 80
        },
        "outputId": "d1f92c7e-4d67-4d38-a626-bfcddb4ac515"
      },
      "source": [
        "ypred = cnn_model.predict(xtest_r)\n",
        "ypred = np.argmax(ypred,axis=1)\n",
        "evaluate(y_test_true,ypred)"
      ],
      "execution_count": 42,
      "outputs": [
        {
          "output_type": "execute_result",
          "data": {
            "text/html": [
              "<div>\n",
              "<style scoped>\n",
              "    .dataframe tbody tr th:only-of-type {\n",
              "        vertical-align: middle;\n",
              "    }\n",
              "\n",
              "    .dataframe tbody tr th {\n",
              "        vertical-align: top;\n",
              "    }\n",
              "\n",
              "    .dataframe thead th {\n",
              "        text-align: right;\n",
              "    }\n",
              "</style>\n",
              "<table border=\"1\" class=\"dataframe\">\n",
              "  <thead>\n",
              "    <tr style=\"text-align: right;\">\n",
              "      <th></th>\n",
              "      <th>accuracy</th>\n",
              "      <th>recall</th>\n",
              "      <th>precision</th>\n",
              "      <th>f1-score</th>\n",
              "    </tr>\n",
              "  </thead>\n",
              "  <tbody>\n",
              "    <tr>\n",
              "      <th>0</th>\n",
              "      <td>0.987151</td>\n",
              "      <td>0.926993</td>\n",
              "      <td>0.940295</td>\n",
              "      <td>0.93298</td>\n",
              "    </tr>\n",
              "  </tbody>\n",
              "</table>\n",
              "</div>"
            ],
            "text/plain": [
              "   accuracy    recall  precision  f1-score\n",
              "0  0.987151  0.926993   0.940295   0.93298"
            ]
          },
          "metadata": {
            "tags": []
          },
          "execution_count": 42
        }
      ]
    },
    {
      "cell_type": "markdown",
      "metadata": {
        "id": "Rs77yZxUucO6",
        "colab_type": "text"
      },
      "source": [
        "Let's be more precise"
      ]
    },
    {
      "cell_type": "code",
      "metadata": {
        "id": "2717UnOMWTNC",
        "colab_type": "code",
        "colab": {
          "base_uri": "https://localhost:8080/",
          "height": 204
        },
        "outputId": "52f4cdb8-8e5d-45f0-bc28-1771ececca6c"
      },
      "source": [
        "get_binary_metrics(y_test_true,ypred)"
      ],
      "execution_count": 43,
      "outputs": [
        {
          "output_type": "execute_result",
          "data": {
            "text/html": [
              "<div>\n",
              "<style scoped>\n",
              "    .dataframe tbody tr th:only-of-type {\n",
              "        vertical-align: middle;\n",
              "    }\n",
              "\n",
              "    .dataframe tbody tr th {\n",
              "        vertical-align: top;\n",
              "    }\n",
              "\n",
              "    .dataframe thead th {\n",
              "        text-align: right;\n",
              "    }\n",
              "</style>\n",
              "<table border=\"1\" class=\"dataframe\">\n",
              "  <thead>\n",
              "    <tr style=\"text-align: right;\">\n",
              "      <th></th>\n",
              "      <th>recall</th>\n",
              "      <th>precision</th>\n",
              "      <th>f1-score</th>\n",
              "    </tr>\n",
              "  </thead>\n",
              "  <tbody>\n",
              "    <tr>\n",
              "      <th>0</th>\n",
              "      <td>0.994688</td>\n",
              "      <td>0.99236</td>\n",
              "      <td>0.993523</td>\n",
              "    </tr>\n",
              "    <tr>\n",
              "      <th>1</th>\n",
              "      <td>0.824719</td>\n",
              "      <td>0.929114</td>\n",
              "      <td>0.87381</td>\n",
              "    </tr>\n",
              "    <tr>\n",
              "      <th>2</th>\n",
              "      <td>0.966292</td>\n",
              "      <td>0.962134</td>\n",
              "      <td>0.964209</td>\n",
              "    </tr>\n",
              "    <tr>\n",
              "      <th>3</th>\n",
              "      <td>0.859375</td>\n",
              "      <td>0.833333</td>\n",
              "      <td>0.846154</td>\n",
              "    </tr>\n",
              "    <tr>\n",
              "      <th>4</th>\n",
              "      <td>0.989891</td>\n",
              "      <td>0.984532</td>\n",
              "      <td>0.987204</td>\n",
              "    </tr>\n",
              "  </tbody>\n",
              "</table>\n",
              "</div>"
            ],
            "text/plain": [
              "     recall precision  f1-score\n",
              "0  0.994688   0.99236  0.993523\n",
              "1  0.824719  0.929114   0.87381\n",
              "2  0.966292  0.962134  0.964209\n",
              "3  0.859375  0.833333  0.846154\n",
              "4  0.989891  0.984532  0.987204"
            ]
          },
          "metadata": {
            "tags": []
          },
          "execution_count": 43
        }
      ]
    },
    {
      "cell_type": "code",
      "metadata": {
        "id": "W-6wcu5o8Zp3",
        "colab_type": "code",
        "colab": {}
      },
      "source": [
        "plot_confusion_matrix(y_test_true,ypred)"
      ],
      "execution_count": 0,
      "outputs": []
    },
    {
      "cell_type": "markdown",
      "metadata": {
        "colab_type": "text",
        "id": "zoEGIWWQ8GDS"
      },
      "source": [
        "## 3.3 ResNet"
      ]
    },
    {
      "cell_type": "code",
      "metadata": {
        "colab_type": "code",
        "id": "3_jFCOaTWMUo",
        "colab": {}
      },
      "source": [
        "from models.resnet import Classifier_RESNET"
      ],
      "execution_count": 0,
      "outputs": []
    },
    {
      "cell_type": "markdown",
      "metadata": {
        "id": "zBST2ci-u2Cl",
        "colab_type": "text"
      },
      "source": [
        "### 3.3.1 Training"
      ]
    },
    {
      "cell_type": "code",
      "metadata": {
        "colab_type": "code",
        "id": "taN6T_He8H8R",
        "colab": {}
      },
      "source": [
        "#resnet requires a different shape since it is based on convolutional layers\n",
        "xtrain_r = xtrain.reshape(xtrain.shape[0],xtrain.shape[1],1)\n",
        "xval_r = xval.reshape(xval.shape[0],xval.shape[1],1)"
      ],
      "execution_count": 0,
      "outputs": []
    },
    {
      "cell_type": "code",
      "metadata": {
        "colab_type": "code",
        "id": "lzEzuEo533AL",
        "outputId": "6702abce-388f-421b-aa33-ccc2b5dce294",
        "colab": {
          "base_uri": "https://localhost:8080/",
          "height": 1000
        }
      },
      "source": [
        "resnet = Classifier_RESNET('outputs/output_resnet/',input_shape=(data.shape[1],1),\n",
        "                           nb_classes=5,n_feature_maps = (50,100,100),kernel_size=(8,5,3,2),\n",
        "                           verbose=1)"
      ],
      "execution_count": 50,
      "outputs": [
        {
          "output_type": "stream",
          "text": [
            "Model: \"model\"\n",
            "__________________________________________________________________________________________________\n",
            "Layer (type)                    Output Shape         Param #     Connected to                     \n",
            "==================================================================================================\n",
            "input_1 (InputLayer)            [(None, 187, 1)]     0                                            \n",
            "__________________________________________________________________________________________________\n",
            "conv1d (Conv1D)                 (None, 187, 50)      450         input_1[0][0]                    \n",
            "__________________________________________________________________________________________________\n",
            "batch_normalization (BatchNorma (None, 187, 50)      200         conv1d[0][0]                     \n",
            "__________________________________________________________________________________________________\n",
            "activation (Activation)         (None, 187, 50)      0           batch_normalization[0][0]        \n",
            "__________________________________________________________________________________________________\n",
            "conv1d_1 (Conv1D)               (None, 187, 50)      12550       activation[0][0]                 \n",
            "__________________________________________________________________________________________________\n",
            "batch_normalization_1 (BatchNor (None, 187, 50)      200         conv1d_1[0][0]                   \n",
            "__________________________________________________________________________________________________\n",
            "activation_1 (Activation)       (None, 187, 50)      0           batch_normalization_1[0][0]      \n",
            "__________________________________________________________________________________________________\n",
            "conv1d_3 (Conv1D)               (None, 187, 50)      150         input_1[0][0]                    \n",
            "__________________________________________________________________________________________________\n",
            "conv1d_2 (Conv1D)               (None, 187, 50)      7550        activation_1[0][0]               \n",
            "__________________________________________________________________________________________________\n",
            "batch_normalization_3 (BatchNor (None, 187, 50)      200         conv1d_3[0][0]                   \n",
            "__________________________________________________________________________________________________\n",
            "batch_normalization_2 (BatchNor (None, 187, 50)      200         conv1d_2[0][0]                   \n",
            "__________________________________________________________________________________________________\n",
            "add (Add)                       (None, 187, 50)      0           batch_normalization_3[0][0]      \n",
            "                                                                 batch_normalization_2[0][0]      \n",
            "__________________________________________________________________________________________________\n",
            "activation_2 (Activation)       (None, 187, 50)      0           add[0][0]                        \n",
            "__________________________________________________________________________________________________\n",
            "conv1d_4 (Conv1D)               (None, 187, 100)     40100       activation_2[0][0]               \n",
            "__________________________________________________________________________________________________\n",
            "batch_normalization_4 (BatchNor (None, 187, 100)     400         conv1d_4[0][0]                   \n",
            "__________________________________________________________________________________________________\n",
            "activation_3 (Activation)       (None, 187, 100)     0           batch_normalization_4[0][0]      \n",
            "__________________________________________________________________________________________________\n",
            "conv1d_5 (Conv1D)               (None, 187, 100)     50100       activation_3[0][0]               \n",
            "__________________________________________________________________________________________________\n",
            "batch_normalization_5 (BatchNor (None, 187, 100)     400         conv1d_5[0][0]                   \n",
            "__________________________________________________________________________________________________\n",
            "activation_4 (Activation)       (None, 187, 100)     0           batch_normalization_5[0][0]      \n",
            "__________________________________________________________________________________________________\n",
            "conv1d_7 (Conv1D)               (None, 187, 100)     10100       activation_2[0][0]               \n",
            "__________________________________________________________________________________________________\n",
            "conv1d_6 (Conv1D)               (None, 187, 100)     30100       activation_4[0][0]               \n",
            "__________________________________________________________________________________________________\n",
            "batch_normalization_7 (BatchNor (None, 187, 100)     400         conv1d_7[0][0]                   \n",
            "__________________________________________________________________________________________________\n",
            "batch_normalization_6 (BatchNor (None, 187, 100)     400         conv1d_6[0][0]                   \n",
            "__________________________________________________________________________________________________\n",
            "add_1 (Add)                     (None, 187, 100)     0           batch_normalization_7[0][0]      \n",
            "                                                                 batch_normalization_6[0][0]      \n",
            "__________________________________________________________________________________________________\n",
            "activation_5 (Activation)       (None, 187, 100)     0           add_1[0][0]                      \n",
            "__________________________________________________________________________________________________\n",
            "conv1d_8 (Conv1D)               (None, 187, 100)     80100       activation_5[0][0]               \n",
            "__________________________________________________________________________________________________\n",
            "batch_normalization_8 (BatchNor (None, 187, 100)     400         conv1d_8[0][0]                   \n",
            "__________________________________________________________________________________________________\n",
            "activation_6 (Activation)       (None, 187, 100)     0           batch_normalization_8[0][0]      \n",
            "__________________________________________________________________________________________________\n",
            "conv1d_9 (Conv1D)               (None, 187, 100)     50100       activation_6[0][0]               \n",
            "__________________________________________________________________________________________________\n",
            "batch_normalization_9 (BatchNor (None, 187, 100)     400         conv1d_9[0][0]                   \n",
            "__________________________________________________________________________________________________\n",
            "activation_7 (Activation)       (None, 187, 100)     0           batch_normalization_9[0][0]      \n",
            "__________________________________________________________________________________________________\n",
            "conv1d_10 (Conv1D)              (None, 187, 100)     30100       activation_7[0][0]               \n",
            "__________________________________________________________________________________________________\n",
            "batch_normalization_11 (BatchNo (None, 187, 100)     400         activation_5[0][0]               \n",
            "__________________________________________________________________________________________________\n",
            "batch_normalization_10 (BatchNo (None, 187, 100)     400         conv1d_10[0][0]                  \n",
            "__________________________________________________________________________________________________\n",
            "add_2 (Add)                     (None, 187, 100)     0           batch_normalization_11[0][0]     \n",
            "                                                                 batch_normalization_10[0][0]     \n",
            "__________________________________________________________________________________________________\n",
            "activation_8 (Activation)       (None, 187, 100)     0           add_2[0][0]                      \n",
            "__________________________________________________________________________________________________\n",
            "global_average_pooling1d (Globa (None, 100)          0           activation_8[0][0]               \n",
            "__________________________________________________________________________________________________\n",
            "dense (Dense)                   (None, 5)            505         global_average_pooling1d[0][0]   \n",
            "==================================================================================================\n",
            "Total params: 315,905\n",
            "Trainable params: 313,905\n",
            "Non-trainable params: 2,000\n",
            "__________________________________________________________________________________________________\n"
          ],
          "name": "stdout"
        }
      ]
    },
    {
      "cell_type": "code",
      "metadata": {
        "colab_type": "code",
        "id": "l2eehf0H42Vu",
        "outputId": "0c413f2c-359c-4c16-eae9-2bf4d969f446",
        "colab": {
          "base_uri": "https://localhost:8080/",
          "height": 1000
        }
      },
      "source": [
        "%matplotlib inline\n",
        "hist = resnet.fit(xtrain_r,ytrain,xval_r,yval,y_val_true,batch_size=32,nb_epochs=25)"
      ],
      "execution_count": 51,
      "outputs": [
        {
          "output_type": "stream",
          "text": [
            "Epoch 1/25\n",
            "1642/1642 [==============================] - 31s 19ms/step - loss: 0.1919 - accuracy: 0.9465 - val_loss: 0.1856 - val_accuracy: 0.9513 - lr: 0.0010\n",
            "Epoch 2/25\n",
            "1642/1642 [==============================] - 27s 17ms/step - loss: 0.1216 - accuracy: 0.9659 - val_loss: 0.1196 - val_accuracy: 0.9678 - lr: 0.0010\n",
            "Epoch 3/25\n",
            "1642/1642 [==============================] - 27s 17ms/step - loss: 0.1028 - accuracy: 0.9713 - val_loss: 0.1130 - val_accuracy: 0.9700 - lr: 0.0010\n",
            "Epoch 4/25\n",
            "1642/1642 [==============================] - 27s 17ms/step - loss: 0.0942 - accuracy: 0.9740 - val_loss: 0.0989 - val_accuracy: 0.9741 - lr: 0.0010\n",
            "Epoch 5/25\n",
            "1642/1642 [==============================] - 28s 17ms/step - loss: 0.0842 - accuracy: 0.9761 - val_loss: 0.0985 - val_accuracy: 0.9722 - lr: 0.0010\n",
            "Epoch 6/25\n",
            "1642/1642 [==============================] - 27s 17ms/step - loss: 0.0784 - accuracy: 0.9781 - val_loss: 0.0954 - val_accuracy: 0.9738 - lr: 0.0010\n",
            "Epoch 7/25\n",
            "1642/1642 [==============================] - 28s 17ms/step - loss: 0.0731 - accuracy: 0.9795 - val_loss: 0.1740 - val_accuracy: 0.9532 - lr: 0.0010\n",
            "Epoch 8/25\n",
            "1642/1642 [==============================] - 27s 17ms/step - loss: 0.0684 - accuracy: 0.9803 - val_loss: 0.1054 - val_accuracy: 0.9697 - lr: 0.0010\n",
            "Epoch 9/25\n",
            "1642/1642 [==============================] - 27s 17ms/step - loss: 0.0636 - accuracy: 0.9818 - val_loss: 0.0721 - val_accuracy: 0.9792 - lr: 0.0010\n",
            "Epoch 10/25\n",
            "1642/1642 [==============================] - 27s 17ms/step - loss: 0.0602 - accuracy: 0.9831 - val_loss: 0.0680 - val_accuracy: 0.9809 - lr: 0.0010\n",
            "Epoch 11/25\n",
            "1642/1642 [==============================] - 28s 17ms/step - loss: 0.0557 - accuracy: 0.9831 - val_loss: 0.0687 - val_accuracy: 0.9817 - lr: 0.0010\n",
            "Epoch 12/25\n",
            "1642/1642 [==============================] - 27s 17ms/step - loss: 0.0522 - accuracy: 0.9843 - val_loss: 0.0706 - val_accuracy: 0.9798 - lr: 0.0010\n",
            "Epoch 13/25\n",
            "1642/1642 [==============================] - 27s 17ms/step - loss: 0.0515 - accuracy: 0.9846 - val_loss: 0.0595 - val_accuracy: 0.9824 - lr: 0.0010\n",
            "Epoch 14/25\n",
            "1642/1642 [==============================] - 27s 17ms/step - loss: 0.0463 - accuracy: 0.9859 - val_loss: 0.0771 - val_accuracy: 0.9787 - lr: 0.0010\n",
            "Epoch 15/25\n",
            "1642/1642 [==============================] - 27s 17ms/step - loss: 0.0449 - accuracy: 0.9859 - val_loss: 0.0761 - val_accuracy: 0.9802 - lr: 0.0010\n",
            "Epoch 16/25\n",
            "1642/1642 [==============================] - 28s 17ms/step - loss: 0.0416 - accuracy: 0.9872 - val_loss: 0.0650 - val_accuracy: 0.9822 - lr: 0.0010\n",
            "Epoch 17/25\n",
            "1642/1642 [==============================] - 27s 17ms/step - loss: 0.0397 - accuracy: 0.9875 - val_loss: 0.0645 - val_accuracy: 0.9822 - lr: 0.0010\n",
            "Epoch 18/25\n",
            "1642/1642 [==============================] - 27s 17ms/step - loss: 0.0366 - accuracy: 0.9881 - val_loss: 0.0652 - val_accuracy: 0.9831 - lr: 0.0010\n",
            "Epoch 19/25\n",
            "1642/1642 [==============================] - 27s 17ms/step - loss: 0.0351 - accuracy: 0.9889 - val_loss: 0.0729 - val_accuracy: 0.9812 - lr: 0.0010\n",
            "Epoch 20/25\n",
            "1642/1642 [==============================] - 27s 17ms/step - loss: 0.0328 - accuracy: 0.9898 - val_loss: 0.0711 - val_accuracy: 0.9782 - lr: 0.0010\n",
            "Epoch 21/25\n",
            "1642/1642 [==============================] - 27s 16ms/step - loss: 0.0309 - accuracy: 0.9901 - val_loss: 0.0899 - val_accuracy: 0.9720 - lr: 0.0010\n",
            "Epoch 22/25\n",
            "1642/1642 [==============================] - 27s 17ms/step - loss: 0.0293 - accuracy: 0.9908 - val_loss: 0.0873 - val_accuracy: 0.9756 - lr: 0.0010\n",
            "Epoch 23/25\n",
            "1642/1642 [==============================] - 27s 17ms/step - loss: 0.0285 - accuracy: 0.9906 - val_loss: 0.0707 - val_accuracy: 0.9796 - lr: 0.0010\n",
            "Epoch 24/25\n",
            "1642/1642 [==============================] - 27s 17ms/step - loss: 0.0274 - accuracy: 0.9911 - val_loss: 0.0783 - val_accuracy: 0.9777 - lr: 0.0010\n",
            "Epoch 25/25\n",
            "1642/1642 [==============================] - 28s 17ms/step - loss: 0.0256 - accuracy: 0.9917 - val_loss: 0.0638 - val_accuracy: 0.9814 - lr: 0.0010\n"
          ],
          "name": "stdout"
        },
        {
          "output_type": "display_data",
          "data": {
            "image/png": "[encoded data removed]",
            "text/plain": [
              "<Figure size 432x288 with 1 Axes>"
            ]
          },
          "metadata": {
            "tags": []
          }
        }
      ]
    },
    {
      "cell_type": "code",
      "metadata": {
        "id": "hzRONOjIuibx",
        "colab_type": "code",
        "colab": {}
      },
      "source": [
        "resnet_model = tf.keras.models.load_model('outputs/output_resnet/best_model.hdf5')"
      ],
      "execution_count": 0,
      "outputs": []
    },
    {
      "cell_type": "code",
      "metadata": {
        "colab_type": "code",
        "id": "lV_tQ2pdE6nT",
        "outputId": "70ee3a93-7916-45b7-eb35-50cea285cdef",
        "colab": {
          "base_uri": "https://localhost:8080/",
          "height": 80
        }
      },
      "source": [
        "ypred = resnet_model.predict(xval_r)\n",
        "ypred = np.argmax(ypred,axis=1)\n",
        "evaluate(y_val_true,ypred)"
      ],
      "execution_count": 48,
      "outputs": [
        {
          "output_type": "execute_result",
          "data": {
            "text/html": [
              "<div>\n",
              "<style scoped>\n",
              "    .dataframe tbody tr th:only-of-type {\n",
              "        vertical-align: middle;\n",
              "    }\n",
              "\n",
              "    .dataframe tbody tr th {\n",
              "        vertical-align: top;\n",
              "    }\n",
              "\n",
              "    .dataframe thead th {\n",
              "        text-align: right;\n",
              "    }\n",
              "</style>\n",
              "<table border=\"1\" class=\"dataframe\">\n",
              "  <thead>\n",
              "    <tr style=\"text-align: right;\">\n",
              "      <th></th>\n",
              "      <th>accuracy</th>\n",
              "      <th>recall</th>\n",
              "      <th>precision</th>\n",
              "      <th>f1-score</th>\n",
              "    </tr>\n",
              "  </thead>\n",
              "  <tbody>\n",
              "    <tr>\n",
              "      <th>0</th>\n",
              "      <td>0.98144</td>\n",
              "      <td>0.87947</td>\n",
              "      <td>0.937338</td>\n",
              "      <td>0.903495</td>\n",
              "    </tr>\n",
              "  </tbody>\n",
              "</table>\n",
              "</div>"
            ],
            "text/plain": [
              "   accuracy   recall  precision  f1-score\n",
              "0   0.98144  0.87947   0.937338  0.903495"
            ]
          },
          "metadata": {
            "tags": []
          },
          "execution_count": 48
        }
      ]
    },
    {
      "cell_type": "markdown",
      "metadata": {
        "id": "nV6K2G2Iuwx4",
        "colab_type": "text"
      },
      "source": [
        "### 3.3.2 Evaluating on the test set"
      ]
    },
    {
      "cell_type": "code",
      "metadata": {
        "id": "n-ds95snvFt_",
        "colab_type": "code",
        "colab": {}
      },
      "source": [
        "xtest_r = xtest.reshape(xtest.shape[0],xtest.shape[1],1)"
      ],
      "execution_count": 0,
      "outputs": []
    },
    {
      "cell_type": "code",
      "metadata": {
        "id": "pWgYmoSBu9Zj",
        "colab_type": "code",
        "colab": {}
      },
      "source": [
        "resnet_model = tf.keras.models.load_model('outputs/output_resnet/best_model.hdf5')"
      ],
      "execution_count": 0,
      "outputs": []
    },
    {
      "cell_type": "code",
      "metadata": {
        "id": "pKmjutKfvA_B",
        "colab_type": "code",
        "colab": {
          "base_uri": "https://localhost:8080/",
          "height": 80
        },
        "outputId": "66e4a3bb-715f-4e63-a0ad-d553281f8d26"
      },
      "source": [
        "ypred = resnet_model.predict(xtest_r)\n",
        "ypred = np.argmax(ypred,axis=1)\n",
        "evaluate(y_test_true,ypred)"
      ],
      "execution_count": 21,
      "outputs": [
        {
          "output_type": "execute_result",
          "data": {
            "text/html": [
              "<div>\n",
              "<style scoped>\n",
              "    .dataframe tbody tr th:only-of-type {\n",
              "        vertical-align: middle;\n",
              "    }\n",
              "\n",
              "    .dataframe tbody tr th {\n",
              "        vertical-align: top;\n",
              "    }\n",
              "\n",
              "    .dataframe thead th {\n",
              "        text-align: right;\n",
              "    }\n",
              "</style>\n",
              "<table border=\"1\" class=\"dataframe\">\n",
              "  <thead>\n",
              "    <tr style=\"text-align: right;\">\n",
              "      <th></th>\n",
              "      <th>accuracy</th>\n",
              "      <th>recall</th>\n",
              "      <th>precision</th>\n",
              "      <th>f1-score</th>\n",
              "    </tr>\n",
              "  </thead>\n",
              "  <tbody>\n",
              "    <tr>\n",
              "      <th>0</th>\n",
              "      <td>0.982068</td>\n",
              "      <td>0.895614</td>\n",
              "      <td>0.949049</td>\n",
              "      <td>0.91974</td>\n",
              "    </tr>\n",
              "  </tbody>\n",
              "</table>\n",
              "</div>"
            ],
            "text/plain": [
              "   accuracy    recall  precision  f1-score\n",
              "0  0.982068  0.895614   0.949049   0.91974"
            ]
          },
          "metadata": {
            "tags": []
          },
          "execution_count": 21
        }
      ]
    },
    {
      "cell_type": "code",
      "metadata": {
        "colab_type": "code",
        "id": "wm1WjpQdUkhh",
        "outputId": "690dccbf-512c-4b89-e5ff-248510712f66",
        "colab": {
          "base_uri": "https://localhost:8080/",
          "height": 204
        }
      },
      "source": [
        "get_binary_metrics(y_test_true,ypred)"
      ],
      "execution_count": 24,
      "outputs": [
        {
          "output_type": "execute_result",
          "data": {
            "text/html": [
              "<div>\n",
              "<style scoped>\n",
              "    .dataframe tbody tr th:only-of-type {\n",
              "        vertical-align: middle;\n",
              "    }\n",
              "\n",
              "    .dataframe tbody tr th {\n",
              "        vertical-align: top;\n",
              "    }\n",
              "\n",
              "    .dataframe thead th {\n",
              "        text-align: right;\n",
              "    }\n",
              "</style>\n",
              "<table border=\"1\" class=\"dataframe\">\n",
              "  <thead>\n",
              "    <tr style=\"text-align: right;\">\n",
              "      <th></th>\n",
              "      <th>recall</th>\n",
              "      <th>precision</th>\n",
              "      <th>f1-score</th>\n",
              "    </tr>\n",
              "  </thead>\n",
              "  <tbody>\n",
              "    <tr>\n",
              "      <th>0</th>\n",
              "      <td>0.993308</td>\n",
              "      <td>0.986976</td>\n",
              "      <td>0.990132</td>\n",
              "    </tr>\n",
              "    <tr>\n",
              "      <th>1</th>\n",
              "      <td>0.793258</td>\n",
              "      <td>0.813364</td>\n",
              "      <td>0.803185</td>\n",
              "    </tr>\n",
              "    <tr>\n",
              "      <th>2</th>\n",
              "      <td>0.927398</td>\n",
              "      <td>0.976342</td>\n",
              "      <td>0.951241</td>\n",
              "    </tr>\n",
              "    <tr>\n",
              "      <th>3</th>\n",
              "      <td>0.773438</td>\n",
              "      <td>0.980198</td>\n",
              "      <td>0.864629</td>\n",
              "    </tr>\n",
              "    <tr>\n",
              "      <th>4</th>\n",
              "      <td>0.990669</td>\n",
              "      <td>0.988363</td>\n",
              "      <td>0.989515</td>\n",
              "    </tr>\n",
              "  </tbody>\n",
              "</table>\n",
              "</div>"
            ],
            "text/plain": [
              "     recall precision  f1-score\n",
              "0  0.993308  0.986976  0.990132\n",
              "1  0.793258  0.813364  0.803185\n",
              "2  0.927398  0.976342  0.951241\n",
              "3  0.773438  0.980198  0.864629\n",
              "4  0.990669  0.988363  0.989515"
            ]
          },
          "metadata": {
            "tags": []
          },
          "execution_count": 24
        }
      ]
    },
    {
      "cell_type": "code",
      "metadata": {
        "id": "wfWlmO268t6_",
        "colab_type": "code",
        "colab": {
          "base_uri": "https://localhost:8080/",
          "height": 369
        },
        "outputId": "2c84f1a2-6c1e-4eb5-f9af-a60f98d9f4f2"
      },
      "source": [
        "plot_confusion_matrix(y_test_true,ypred)"
      ],
      "execution_count": 23,
      "outputs": [
        {
          "output_type": "display_data",
          "data": {
            "image/png": "[encoded data removed]",
            "text/plain": [
              "<Figure size 360x360 with 2 Axes>"
            ]
          },
          "metadata": {
            "tags": []
          }
        }
      ]
    },
    {
      "cell_type": "markdown",
      "metadata": {
        "colab_type": "text",
        "id": "KB4ySwZj_Nd-"
      },
      "source": [
        "# 4. Interpreting models"
      ]
    },
    {
      "cell_type": "code",
      "metadata": {
        "colab_type": "code",
        "id": "UsfoOPD7A47h",
        "colab": {}
      },
      "source": [
        "from interpretation.cam import display_conv_activations"
      ],
      "execution_count": 0,
      "outputs": []
    },
    {
      "cell_type": "markdown",
      "metadata": {
        "id": "2-9kndDSWTPX",
        "colab_type": "text"
      },
      "source": [
        "## 4.1 1D-CNN model"
      ]
    },
    {
      "cell_type": "code",
      "metadata": {
        "id": "zT_ZPKlEWTPe",
        "colab_type": "code",
        "colab": {}
      },
      "source": [
        "cnn_model = tf.keras.models.load_model('outputs/output_1DCNN/best_model.hdf5')"
      ],
      "execution_count": 0,
      "outputs": []
    },
    {
      "cell_type": "markdown",
      "metadata": {
        "id": "ULZllV1R1ag4",
        "colab_type": "text"
      },
      "source": [
        "Let's focus on samples which were not classified as normal by our model."
      ]
    },
    {
      "cell_type": "code",
      "metadata": {
        "colab_type": "code",
        "id": "YWEp_5bODl6q",
        "colab": {}
      },
      "source": [
        "ypred = np.argmax(cnn_model.predict(xtest_r),axis=1)\n",
        "not_normal = []\n",
        "for i in range(len(ypred)):\n",
        "    if not ypred[i]==0: \n",
        "        not_normal.append(i)"
      ],
      "execution_count": 0,
      "outputs": []
    },
    {
      "cell_type": "code",
      "metadata": {
        "id": "FXDbGrzKhjcy",
        "colab_type": "code",
        "colab": {
          "base_uri": "https://localhost:8080/",
          "height": 446
        },
        "outputId": "44b72eee-98d3-4cfe-d8e2-33b8e3dd9ee8"
      },
      "source": [
        "%matplotlib inline\n",
        "display_conv_activations(cnn_model,xtest_r[not_normal[0]])"
      ],
      "execution_count": 56,
      "outputs": [
        {
          "output_type": "error",
          "ename": "ValueError",
          "evalue": "ignored",
          "traceback": [
            "\u001b[0;31m---------------------------------------------------------------------------\u001b[0m",
            "\u001b[0;31mValueError\u001b[0m                                Traceback (most recent call last)",
            "\u001b[0;32m/usr/local/lib/python3.6/dist-packages/keract/keract.py\u001b[0m in \u001b[0;36m_evaluate\u001b[0;34m(model, nodes_to_evaluate, x, y, auto_compile)\u001b[0m\n\u001b[1;32m     44\u001b[0m     \u001b[0;32mtry\u001b[0m\u001b[0;34m:\u001b[0m\u001b[0;34m\u001b[0m\u001b[0;34m\u001b[0m\u001b[0m\n\u001b[0;32m---> 45\u001b[0;31m         \u001b[0;32mreturn\u001b[0m \u001b[0meval_fn\u001b[0m\u001b[0;34m(\u001b[0m\u001b[0mmodel\u001b[0m\u001b[0;34m.\u001b[0m\u001b[0m_feed_inputs\u001b[0m \u001b[0;34m+\u001b[0m \u001b[0mmodel\u001b[0m\u001b[0;34m.\u001b[0m\u001b[0m_feed_targets\u001b[0m \u001b[0;34m+\u001b[0m \u001b[0mmodel\u001b[0m\u001b[0;34m.\u001b[0m\u001b[0m_feed_sample_weights\u001b[0m\u001b[0;34m)\u001b[0m\u001b[0;34m\u001b[0m\u001b[0;34m\u001b[0m\u001b[0m\n\u001b[0m\u001b[1;32m     46\u001b[0m     \u001b[0;32mexcept\u001b[0m \u001b[0mException\u001b[0m\u001b[0;34m:\u001b[0m\u001b[0;34m\u001b[0m\u001b[0;34m\u001b[0m\u001b[0m\n",
            "\u001b[0;32m/usr/local/lib/python3.6/dist-packages/keract/keract.py\u001b[0m in \u001b[0;36meval_fn\u001b[0;34m(k_inputs)\u001b[0m\n\u001b[1;32m     41\u001b[0m     \u001b[0;32mdef\u001b[0m \u001b[0meval_fn\u001b[0m\u001b[0;34m(\u001b[0m\u001b[0mk_inputs\u001b[0m\u001b[0;34m)\u001b[0m\u001b[0;34m:\u001b[0m\u001b[0;34m\u001b[0m\u001b[0;34m\u001b[0m\u001b[0m\n\u001b[0;32m---> 42\u001b[0;31m         \u001b[0;32mreturn\u001b[0m \u001b[0mK\u001b[0m\u001b[0;34m.\u001b[0m\u001b[0mfunction\u001b[0m\u001b[0;34m(\u001b[0m\u001b[0mk_inputs\u001b[0m\u001b[0;34m,\u001b[0m \u001b[0mnodes_to_evaluate\u001b[0m\u001b[0;34m)\u001b[0m\u001b[0;34m(\u001b[0m\u001b[0mmodel\u001b[0m\u001b[0;34m.\u001b[0m\u001b[0m_standardize_user_data\u001b[0m\u001b[0;34m(\u001b[0m\u001b[0mx\u001b[0m\u001b[0;34m,\u001b[0m \u001b[0my\u001b[0m\u001b[0;34m)\u001b[0m\u001b[0;34m)\u001b[0m\u001b[0;34m\u001b[0m\u001b[0;34m\u001b[0m\u001b[0m\n\u001b[0m\u001b[1;32m     43\u001b[0m \u001b[0;34m\u001b[0m\u001b[0m\n",
            "\u001b[0;32m/usr/local/lib/python3.6/dist-packages/tensorflow_core/python/keras/backend.py\u001b[0m in \u001b[0;36mfunction\u001b[0;34m(inputs, outputs, updates, name, **kwargs)\u001b[0m\n\u001b[1;32m   3759\u001b[0m                        'eager execution. You passed: %s' % (kwargs,))\n\u001b[0;32m-> 3760\u001b[0;31m     \u001b[0;32mreturn\u001b[0m \u001b[0mEagerExecutionFunction\u001b[0m\u001b[0;34m(\u001b[0m\u001b[0minputs\u001b[0m\u001b[0;34m,\u001b[0m \u001b[0moutputs\u001b[0m\u001b[0;34m,\u001b[0m \u001b[0mupdates\u001b[0m\u001b[0;34m=\u001b[0m\u001b[0mupdates\u001b[0m\u001b[0;34m,\u001b[0m \u001b[0mname\u001b[0m\u001b[0;34m=\u001b[0m\u001b[0mname\u001b[0m\u001b[0;34m)\u001b[0m\u001b[0;34m\u001b[0m\u001b[0;34m\u001b[0m\u001b[0m\n\u001b[0m\u001b[1;32m   3761\u001b[0m \u001b[0;34m\u001b[0m\u001b[0m\n",
            "\u001b[0;32m/usr/local/lib/python3.6/dist-packages/tensorflow_core/python/keras/backend.py\u001b[0m in \u001b[0;36m__init__\u001b[0;34m(self, inputs, outputs, updates, name)\u001b[0m\n\u001b[1;32m   3643\u001b[0m       \u001b[0;32mif\u001b[0m \u001b[0msource_graph\u001b[0m \u001b[0;32mnot\u001b[0m \u001b[0;32min\u001b[0m \u001b[0;34m(\u001b[0m\u001b[0mexec_graph\u001b[0m\u001b[0;34m,\u001b[0m \u001b[0mglobal_graph\u001b[0m\u001b[0;34m)\u001b[0m\u001b[0;34m:\u001b[0m\u001b[0;34m\u001b[0m\u001b[0;34m\u001b[0m\u001b[0m\n\u001b[0;32m-> 3644\u001b[0;31m         \u001b[0;32mraise\u001b[0m \u001b[0mValueError\u001b[0m\u001b[0;34m(\u001b[0m\u001b[0;34m'Unknown graph. Aborting.'\u001b[0m\u001b[0;34m)\u001b[0m\u001b[0;34m\u001b[0m\u001b[0;34m\u001b[0m\u001b[0m\n\u001b[0m\u001b[1;32m   3645\u001b[0m \u001b[0;34m\u001b[0m\u001b[0m\n",
            "\u001b[0;31mValueError\u001b[0m: Unknown graph. Aborting.",
            "\nDuring handling of the above exception, another exception occurred:\n",
            "\u001b[0;31mValueError\u001b[0m                                Traceback (most recent call last)",
            "\u001b[0;32m<ipython-input-56-0cbdd66080f2>\u001b[0m in \u001b[0;36m<module>\u001b[0;34m()\u001b[0m\n\u001b[1;32m      1\u001b[0m \u001b[0mget_ipython\u001b[0m\u001b[0;34m(\u001b[0m\u001b[0;34m)\u001b[0m\u001b[0;34m.\u001b[0m\u001b[0mmagic\u001b[0m\u001b[0;34m(\u001b[0m\u001b[0;34m'matplotlib inline'\u001b[0m\u001b[0;34m)\u001b[0m\u001b[0;34m\u001b[0m\u001b[0;34m\u001b[0m\u001b[0m\n\u001b[0;32m----> 2\u001b[0;31m \u001b[0mdisplay_conv_activations\u001b[0m\u001b[0;34m(\u001b[0m\u001b[0mcnn_model\u001b[0m\u001b[0;34m,\u001b[0m\u001b[0mxtest_r\u001b[0m\u001b[0;34m[\u001b[0m\u001b[0mnot_normal\u001b[0m\u001b[0;34m[\u001b[0m\u001b[0;36m0\u001b[0m\u001b[0;34m]\u001b[0m\u001b[0;34m]\u001b[0m\u001b[0;34m)\u001b[0m\u001b[0;34m\u001b[0m\u001b[0;34m\u001b[0m\u001b[0m\n\u001b[0m",
            "\u001b[0;32m/content/drive/My Drive/MVA/S2/DLMI/interpretation/cam.py\u001b[0m in \u001b[0;36mdisplay_conv_activations\u001b[0;34m(model, sig)\u001b[0m\n\u001b[1;32m      9\u001b[0m         \u001b[0msig\u001b[0m \u001b[0;34m=\u001b[0m \u001b[0msig\u001b[0m\u001b[0;34m.\u001b[0m\u001b[0mreshape\u001b[0m\u001b[0;34m(\u001b[0m\u001b[0;36m1\u001b[0m\u001b[0;34m,\u001b[0m\u001b[0msig\u001b[0m\u001b[0;34m.\u001b[0m\u001b[0mshape\u001b[0m\u001b[0;34m[\u001b[0m\u001b[0;36m0\u001b[0m\u001b[0;34m]\u001b[0m\u001b[0;34m,\u001b[0m\u001b[0msig\u001b[0m\u001b[0;34m.\u001b[0m\u001b[0mshape\u001b[0m\u001b[0;34m[\u001b[0m\u001b[0;36m1\u001b[0m\u001b[0;34m]\u001b[0m\u001b[0;34m)\u001b[0m\u001b[0;34m\u001b[0m\u001b[0;34m\u001b[0m\u001b[0m\n\u001b[1;32m     10\u001b[0m     \u001b[0;31m#get activations\u001b[0m\u001b[0;34m\u001b[0m\u001b[0;34m\u001b[0m\u001b[0;34m\u001b[0m\u001b[0m\n\u001b[0;32m---> 11\u001b[0;31m     \u001b[0mactivations\u001b[0m \u001b[0;34m=\u001b[0m \u001b[0mkeract\u001b[0m\u001b[0;34m.\u001b[0m\u001b[0mget_activations\u001b[0m\u001b[0;34m(\u001b[0m\u001b[0mmodel\u001b[0m\u001b[0;34m,\u001b[0m \u001b[0msig\u001b[0m\u001b[0;34m)\u001b[0m\u001b[0;34m\u001b[0m\u001b[0;34m\u001b[0m\u001b[0m\n\u001b[0m\u001b[1;32m     12\u001b[0m     \u001b[0;31m#get convolutional layers keys\u001b[0m\u001b[0;34m\u001b[0m\u001b[0;34m\u001b[0m\u001b[0;34m\u001b[0m\u001b[0m\n\u001b[1;32m     13\u001b[0m     \u001b[0mconv_keys\u001b[0m \u001b[0;34m=\u001b[0m \u001b[0;34m[\u001b[0m\u001b[0mkey\u001b[0m \u001b[0;32mfor\u001b[0m \u001b[0mkey\u001b[0m \u001b[0;32min\u001b[0m \u001b[0mactivations\u001b[0m\u001b[0;34m.\u001b[0m\u001b[0mkeys\u001b[0m\u001b[0;34m(\u001b[0m\u001b[0;34m)\u001b[0m \u001b[0;32mif\u001b[0m \u001b[0;34m'conv'\u001b[0m \u001b[0;32min\u001b[0m \u001b[0mkey\u001b[0m\u001b[0;34m]\u001b[0m\u001b[0;34m\u001b[0m\u001b[0;34m\u001b[0m\u001b[0m\n",
            "\u001b[0;32m/usr/local/lib/python3.6/dist-packages/keract/keract.py\u001b[0m in \u001b[0;36mget_activations\u001b[0;34m(model, x, layer_name, nodes_to_evaluate, output_format, auto_compile)\u001b[0m\n\u001b[1;32m    151\u001b[0m     \u001b[0minput_layer_outputs\u001b[0m\u001b[0;34m,\u001b[0m \u001b[0mlayer_outputs\u001b[0m \u001b[0;34m=\u001b[0m \u001b[0;34m[\u001b[0m\u001b[0;34m]\u001b[0m\u001b[0;34m,\u001b[0m \u001b[0;34m[\u001b[0m\u001b[0;34m]\u001b[0m\u001b[0;34m\u001b[0m\u001b[0;34m\u001b[0m\u001b[0m\n\u001b[1;32m    152\u001b[0m     \u001b[0;34m[\u001b[0m\u001b[0minput_layer_outputs\u001b[0m\u001b[0;34m.\u001b[0m\u001b[0mappend\u001b[0m\u001b[0;34m(\u001b[0m\u001b[0mnode\u001b[0m\u001b[0;34m)\u001b[0m \u001b[0;32mif\u001b[0m \u001b[0;34m'input_'\u001b[0m \u001b[0;32min\u001b[0m \u001b[0mnode\u001b[0m\u001b[0;34m.\u001b[0m\u001b[0mname\u001b[0m \u001b[0;32melse\u001b[0m \u001b[0mlayer_outputs\u001b[0m\u001b[0;34m.\u001b[0m\u001b[0mappend\u001b[0m\u001b[0;34m(\u001b[0m\u001b[0mnode\u001b[0m\u001b[0;34m)\u001b[0m \u001b[0;32mfor\u001b[0m \u001b[0mnode\u001b[0m \u001b[0;32min\u001b[0m \u001b[0mnodes\u001b[0m\u001b[0;34m]\u001b[0m\u001b[0;34m\u001b[0m\u001b[0;34m\u001b[0m\u001b[0m\n\u001b[0;32m--> 153\u001b[0;31m     \u001b[0mactivations\u001b[0m \u001b[0;34m=\u001b[0m \u001b[0m_evaluate\u001b[0m\u001b[0;34m(\u001b[0m\u001b[0mmodel\u001b[0m\u001b[0;34m,\u001b[0m \u001b[0mlayer_outputs\u001b[0m\u001b[0;34m,\u001b[0m \u001b[0mx\u001b[0m\u001b[0;34m,\u001b[0m \u001b[0my\u001b[0m\u001b[0;34m=\u001b[0m\u001b[0;32mNone\u001b[0m\u001b[0;34m,\u001b[0m \u001b[0mauto_compile\u001b[0m\u001b[0;34m=\u001b[0m\u001b[0mauto_compile\u001b[0m\u001b[0;34m)\u001b[0m\u001b[0;34m\u001b[0m\u001b[0;34m\u001b[0m\u001b[0m\n\u001b[0m\u001b[1;32m    154\u001b[0m \u001b[0;34m\u001b[0m\u001b[0m\n\u001b[1;32m    155\u001b[0m     \u001b[0;32mdef\u001b[0m \u001b[0mcraft_output\u001b[0m\u001b[0;34m(\u001b[0m\u001b[0moutput_format_\u001b[0m\u001b[0;34m)\u001b[0m\u001b[0;34m:\u001b[0m\u001b[0;34m\u001b[0m\u001b[0;34m\u001b[0m\u001b[0m\n",
            "\u001b[0;32m/usr/local/lib/python3.6/dist-packages/keract/keract.py\u001b[0m in \u001b[0;36m_evaluate\u001b[0;34m(model, nodes_to_evaluate, x, y, auto_compile)\u001b[0m\n\u001b[1;32m     45\u001b[0m         \u001b[0;32mreturn\u001b[0m \u001b[0meval_fn\u001b[0m\u001b[0;34m(\u001b[0m\u001b[0mmodel\u001b[0m\u001b[0;34m.\u001b[0m\u001b[0m_feed_inputs\u001b[0m \u001b[0;34m+\u001b[0m \u001b[0mmodel\u001b[0m\u001b[0;34m.\u001b[0m\u001b[0m_feed_targets\u001b[0m \u001b[0;34m+\u001b[0m \u001b[0mmodel\u001b[0m\u001b[0;34m.\u001b[0m\u001b[0m_feed_sample_weights\u001b[0m\u001b[0;34m)\u001b[0m\u001b[0;34m\u001b[0m\u001b[0;34m\u001b[0m\u001b[0m\n\u001b[1;32m     46\u001b[0m     \u001b[0;32mexcept\u001b[0m \u001b[0mException\u001b[0m\u001b[0;34m:\u001b[0m\u001b[0;34m\u001b[0m\u001b[0;34m\u001b[0m\u001b[0m\n\u001b[0;32m---> 47\u001b[0;31m         \u001b[0;32mreturn\u001b[0m \u001b[0meval_fn\u001b[0m\u001b[0;34m(\u001b[0m\u001b[0mmodel\u001b[0m\u001b[0;34m.\u001b[0m\u001b[0m_feed_inputs\u001b[0m\u001b[0;34m)\u001b[0m\u001b[0;34m\u001b[0m\u001b[0;34m\u001b[0m\u001b[0m\n\u001b[0m\u001b[1;32m     48\u001b[0m \u001b[0;34m\u001b[0m\u001b[0m\n\u001b[1;32m     49\u001b[0m \u001b[0;34m\u001b[0m\u001b[0m\n",
            "\u001b[0;32m/usr/local/lib/python3.6/dist-packages/keract/keract.py\u001b[0m in \u001b[0;36meval_fn\u001b[0;34m(k_inputs)\u001b[0m\n\u001b[1;32m     40\u001b[0m \u001b[0;34m\u001b[0m\u001b[0m\n\u001b[1;32m     41\u001b[0m     \u001b[0;32mdef\u001b[0m \u001b[0meval_fn\u001b[0m\u001b[0;34m(\u001b[0m\u001b[0mk_inputs\u001b[0m\u001b[0;34m)\u001b[0m\u001b[0;34m:\u001b[0m\u001b[0;34m\u001b[0m\u001b[0;34m\u001b[0m\u001b[0m\n\u001b[0;32m---> 42\u001b[0;31m         \u001b[0;32mreturn\u001b[0m \u001b[0mK\u001b[0m\u001b[0;34m.\u001b[0m\u001b[0mfunction\u001b[0m\u001b[0;34m(\u001b[0m\u001b[0mk_inputs\u001b[0m\u001b[0;34m,\u001b[0m \u001b[0mnodes_to_evaluate\u001b[0m\u001b[0;34m)\u001b[0m\u001b[0;34m(\u001b[0m\u001b[0mmodel\u001b[0m\u001b[0;34m.\u001b[0m\u001b[0m_standardize_user_data\u001b[0m\u001b[0;34m(\u001b[0m\u001b[0mx\u001b[0m\u001b[0;34m,\u001b[0m \u001b[0my\u001b[0m\u001b[0;34m)\u001b[0m\u001b[0;34m)\u001b[0m\u001b[0;34m\u001b[0m\u001b[0;34m\u001b[0m\u001b[0m\n\u001b[0m\u001b[1;32m     43\u001b[0m \u001b[0;34m\u001b[0m\u001b[0m\n\u001b[1;32m     44\u001b[0m     \u001b[0;32mtry\u001b[0m\u001b[0;34m:\u001b[0m\u001b[0;34m\u001b[0m\u001b[0;34m\u001b[0m\u001b[0m\n",
            "\u001b[0;32m/usr/local/lib/python3.6/dist-packages/tensorflow_core/python/keras/backend.py\u001b[0m in \u001b[0;36mfunction\u001b[0;34m(inputs, outputs, updates, name, **kwargs)\u001b[0m\n\u001b[1;32m   3758\u001b[0m       raise ValueError('Session keyword arguments are not support during '\n\u001b[1;32m   3759\u001b[0m                        'eager execution. You passed: %s' % (kwargs,))\n\u001b[0;32m-> 3760\u001b[0;31m     \u001b[0;32mreturn\u001b[0m \u001b[0mEagerExecutionFunction\u001b[0m\u001b[0;34m(\u001b[0m\u001b[0minputs\u001b[0m\u001b[0;34m,\u001b[0m \u001b[0moutputs\u001b[0m\u001b[0;34m,\u001b[0m \u001b[0mupdates\u001b[0m\u001b[0;34m=\u001b[0m\u001b[0mupdates\u001b[0m\u001b[0;34m,\u001b[0m \u001b[0mname\u001b[0m\u001b[0;34m=\u001b[0m\u001b[0mname\u001b[0m\u001b[0;34m)\u001b[0m\u001b[0;34m\u001b[0m\u001b[0;34m\u001b[0m\u001b[0m\n\u001b[0m\u001b[1;32m   3761\u001b[0m \u001b[0;34m\u001b[0m\u001b[0m\n\u001b[1;32m   3762\u001b[0m   \u001b[0;32mif\u001b[0m \u001b[0mkwargs\u001b[0m\u001b[0;34m:\u001b[0m\u001b[0;34m\u001b[0m\u001b[0;34m\u001b[0m\u001b[0m\n",
            "\u001b[0;32m/usr/local/lib/python3.6/dist-packages/tensorflow_core/python/keras/backend.py\u001b[0m in \u001b[0;36m__init__\u001b[0;34m(self, inputs, outputs, updates, name)\u001b[0m\n\u001b[1;32m   3642\u001b[0m       \u001b[0mglobal_graph\u001b[0m \u001b[0;34m=\u001b[0m \u001b[0mget_graph\u001b[0m\u001b[0;34m(\u001b[0m\u001b[0;34m)\u001b[0m\u001b[0;34m\u001b[0m\u001b[0;34m\u001b[0m\u001b[0m\n\u001b[1;32m   3643\u001b[0m       \u001b[0;32mif\u001b[0m \u001b[0msource_graph\u001b[0m \u001b[0;32mnot\u001b[0m \u001b[0;32min\u001b[0m \u001b[0;34m(\u001b[0m\u001b[0mexec_graph\u001b[0m\u001b[0;34m,\u001b[0m \u001b[0mglobal_graph\u001b[0m\u001b[0;34m)\u001b[0m\u001b[0;34m:\u001b[0m\u001b[0;34m\u001b[0m\u001b[0;34m\u001b[0m\u001b[0m\n\u001b[0;32m-> 3644\u001b[0;31m         \u001b[0;32mraise\u001b[0m \u001b[0mValueError\u001b[0m\u001b[0;34m(\u001b[0m\u001b[0;34m'Unknown graph. Aborting.'\u001b[0m\u001b[0;34m)\u001b[0m\u001b[0;34m\u001b[0m\u001b[0;34m\u001b[0m\u001b[0m\n\u001b[0m\u001b[1;32m   3645\u001b[0m \u001b[0;34m\u001b[0m\u001b[0m\n\u001b[1;32m   3646\u001b[0m       \u001b[0;32mif\u001b[0m \u001b[0msource_graph\u001b[0m \u001b[0;32mis\u001b[0m \u001b[0mglobal_graph\u001b[0m \u001b[0;32mand\u001b[0m \u001b[0mexec_graph\u001b[0m \u001b[0;32mis\u001b[0m \u001b[0;32mnot\u001b[0m \u001b[0mglobal_graph\u001b[0m\u001b[0;34m:\u001b[0m\u001b[0;34m\u001b[0m\u001b[0;34m\u001b[0m\u001b[0m\n",
            "\u001b[0;31mValueError\u001b[0m: Unknown graph. Aborting."
          ]
        }
      ]
    },
    {
      "cell_type": "markdown",
      "metadata": {
        "colab_type": "text",
        "id": "lHxxo87aHSt9"
      },
      "source": [
        "## 4.2 ResNet model"
      ]
    },
    {
      "cell_type": "code",
      "metadata": {
        "colab_type": "code",
        "id": "QLtOassAvCJf",
        "colab": {}
      },
      "source": [
        "resnet_model = tf.keras.models.load_model('outputs/output_resnet/best_model.hdf5')"
      ],
      "execution_count": 0,
      "outputs": []
    },
    {
      "cell_type": "code",
      "metadata": {
        "id": "h88Y2uH415iW",
        "colab_type": "code",
        "colab": {}
      },
      "source": [
        "ypred = np.argmax(resnet_model.predict(xtest_r),axis=1)\n",
        "not_normal = []\n",
        "for i in range(len(ypred)):\n",
        "    if not ypred[i]==0: \n",
        "        not_normal.append(i)"
      ],
      "execution_count": 0,
      "outputs": []
    },
    {
      "cell_type": "code",
      "metadata": {
        "colab_type": "code",
        "id": "1IeTqYTU07Zg",
        "outputId": "7a41e354-5485-4082-b22d-aa455d068484",
        "colab": {
          "base_uri": "https://localhost:8080/",
          "height": 298
        }
      },
      "source": [
        "display_conv_activations(resnet_model,xtest_r[not_normal[0]])"
      ],
      "execution_count": 60,
      "outputs": [
        {
          "output_type": "stream",
          "text": [
            "Warning: only the 10 last layers will be displayed\n"
          ],
          "name": "stdout"
        },
        {
          "output_type": "display_data",
          "data": {
            "image/png": "[encoded data removed]",
            "text/plain": [
              "<Figure size 1296x360 with 20 Axes>"
            ]
          },
          "metadata": {
            "tags": []
          }
        }
      ]
    },
    {
      "cell_type": "code",
      "metadata": {
        "colab_type": "code",
        "id": "MIuU_2FcEwmG",
        "colab": {
          "base_uri": "https://localhost:8080/",
          "height": 298
        },
        "outputId": "8a633c26-9faa-4086-9bbd-50d70b759af2"
      },
      "source": [
        "display_conv_activations(resnet_model,xtest_r[not_normal[1]])"
      ],
      "execution_count": 27,
      "outputs": [
        {
          "output_type": "stream",
          "text": [
            "Warning: only the 10 last layers will be displayed\n"
          ],
          "name": "stdout"
        },
        {
          "output_type": "display_data",
          "data": {
            "image/png": "[encoded data removed]",
            "text/plain": [
              "<Figure size 1296x360 with 20 Axes>"
            ]
          },
          "metadata": {
            "tags": []
          }
        }
      ]
    },
    {
      "cell_type": "code",
      "metadata": {
        "id": "M3NIyJ2z9Ug-",
        "colab_type": "code",
        "colab": {}
      },
      "source": [
        ""
      ],
      "execution_count": 0,
      "outputs": []
    }
  ]
}