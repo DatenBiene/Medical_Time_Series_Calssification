{
  "nbformat": 4,
  "nbformat_minor": 0,
  "metadata": {
    "accelerator": "GPU",
    "colab": {
      "name": "ECG5000.ipynb",
      "provenance": [],
      "collapsed_sections": [],
      "toc_visible": true
    },
    "kernelspec": {
      "display_name": "Python 3",
      "language": "python",
      "name": "python3"
    },
    "language_info": {
      "codemirror_mode": {
        "name": "ipython",
        "version": 3
      },
      "file_extension": ".py",
      "mimetype": "text/x-python",
      "name": "python",
      "nbconvert_exporter": "python",
      "pygments_lexer": "ipython3",
      "version": "3.6.5"
    }
  },
  "cells": [
    {
      "cell_type": "code",
      "metadata": {
        "colab_type": "code",
        "id": "7g6ULdV1h9PP",
        "colab": {
          "base_uri": "https://localhost:8080/",
          "height": 129
        },
        "outputId": "fb966ec1-df88-4919-b24b-82eae6fd5fba"
      },
      "source": [
        "!pip install keract"
      ],
      "execution_count": 1,
      "outputs": [
        {
          "output_type": "stream",
          "text": [
            "Collecting keract\n",
            "  Downloading https://files.pythonhosted.org/packages/ad/7f/74c42d4f6fcd09de8a0ebad1bde5484510a80c03df7d0b0db18474aaade5/keract-3.1.0-py3-none-any.whl\n",
            "Requirement already satisfied: numpy>=1.16.2 in /usr/local/lib/python3.6/dist-packages (from keract) (1.18.2)\n",
            "Installing collected packages: keract\n",
            "Successfully installed keract-3.1.0\n"
          ],
          "name": "stdout"
        }
      ]
    },
    {
      "cell_type": "code",
      "metadata": {
        "id": "66vJRsm57vNK",
        "colab_type": "code",
        "colab": {
          "base_uri": "https://localhost:8080/",
          "height": 146
        },
        "outputId": "9c3ff826-7ac7-465a-b4f3-86950bf035e8"
      },
      "source": [
        "!git clone https://github.com/DatenBiene/Medical_Time_Series_Classification.git"
      ],
      "execution_count": 2,
      "outputs": [
        {
          "output_type": "stream",
          "text": [
            "Cloning into 'Medical_Time_Series_Classification'...\n",
            "remote: Enumerating objects: 115, done.\u001b[K\n",
            "remote: Counting objects:   0% (1/115)\u001b[K\rremote: Counting objects:   1% (2/115)\u001b[K\rremote: Counting objects:   2% (3/115)\u001b[K\rremote: Counting objects:   3% (4/115)\u001b[K\rremote: Counting objects:   4% (5/115)\u001b[K\rremote: Counting objects:   5% (6/115)\u001b[K\rremote: Counting objects:   6% (7/115)\u001b[K\rremote: Counting objects:   7% (9/115)\u001b[K\rremote: Counting objects:   8% (10/115)\u001b[K\rremote: Counting objects:   9% (11/115)\u001b[K\rremote: Counting objects:  10% (12/115)\u001b[K\rremote: Counting objects:  11% (13/115)\u001b[K\rremote: Counting objects:  12% (14/115)\u001b[K\rremote: Counting objects:  13% (15/115)\u001b[K\rremote: Counting objects:  14% (17/115)\u001b[K\rremote: Counting objects:  15% (18/115)\u001b[K\rremote: Counting objects:  16% (19/115)\u001b[K\rremote: Counting objects:  17% (20/115)\u001b[K\rremote: Counting objects:  18% (21/115)\u001b[K\rremote: Counting objects:  19% (22/115)\u001b[K\rremote: Counting objects:  20% (23/115)\u001b[K\rremote: Counting objects:  21% (25/115)\u001b[K\rremote: Counting objects:  22% (26/115)\u001b[K\rremote: Counting objects:  23% (27/115)\u001b[K\rremote: Counting objects:  24% (28/115)\u001b[K\rremote: Counting objects:  25% (29/115)\u001b[K\rremote: Counting objects:  26% (30/115)\u001b[K\rremote: Counting objects:  27% (32/115)\u001b[K\rremote: Counting objects:  28% (33/115)\u001b[K\rremote: Counting objects:  29% (34/115)\u001b[K\rremote: Counting objects:  30% (35/115)\u001b[K\rremote: Counting objects:  31% (36/115)\u001b[K\rremote: Counting objects:  32% (37/115)\u001b[K\rremote: Counting objects:  33% (38/115)\u001b[K\rremote: Counting objects:  34% (40/115)\u001b[K\rremote: Counting objects:  35% (41/115)\u001b[K\rremote: Counting objects:  36% (42/115)\u001b[K\rremote: Counting objects:  37% (43/115)\u001b[K\rremote: Counting objects:  38% (44/115)\u001b[K\rremote: Counting objects:  39% (45/115)\u001b[K\rremote: Counting objects:  40% (46/115)\u001b[K\rremote: Counting objects:  41% (48/115)\u001b[K\rremote: Counting objects:  42% (49/115)\u001b[K\rremote: Counting objects:  43% (50/115)\u001b[K\rremote: Counting objects:  44% (51/115)\u001b[K\rremote: Counting objects:  45% (52/115)\u001b[K\rremote: Counting objects:  46% (53/115)\u001b[K\rremote: Counting objects:  47% (55/115)\u001b[K\rremote: Counting objects:  48% (56/115)\u001b[K\rremote: Counting objects:  49% (57/115)\u001b[K\rremote: Counting objects:  50% (58/115)\u001b[K\rremote: Counting objects:  51% (59/115)\u001b[K\rremote: Counting objects:  52% (60/115)\u001b[K\rremote: Counting objects:  53% (61/115)\u001b[K\rremote: Counting objects:  54% (63/115)\u001b[K\rremote: Counting objects:  55% (64/115)\u001b[K\rremote: Counting objects:  56% (65/115)\u001b[K\rremote: Counting objects:  57% (66/115)\u001b[K\rremote: Counting objects:  58% (67/115)\u001b[K\rremote: Counting objects:  59% (68/115)\u001b[K\rremote: Counting objects:  60% (69/115)\u001b[K\rremote: Counting objects:  61% (71/115)\u001b[K\rremote: Counting objects:  62% (72/115)\u001b[K\rremote: Counting objects:  63% (73/115)\u001b[K\rremote: Counting objects:  64% (74/115)\u001b[K\rremote: Counting objects:  65% (75/115)\u001b[K\rremote: Counting objects:  66% (76/115)\u001b[K\rremote: Counting objects:  67% (78/115)\u001b[K\rremote: Counting objects:  68% (79/115)\u001b[K\rremote: Counting objects:  69% (80/115)\u001b[K\rremote: Counting objects:  70% (81/115)\u001b[K\rremote: Counting objects:  71% (82/115)\u001b[K\rremote: Counting objects:  72% (83/115)\u001b[K\rremote: Counting objects:  73% (84/115)\u001b[K\rremote: Counting objects:  74% (86/115)\u001b[K\rremote: Counting objects:  75% (87/115)\u001b[K\rremote: Counting objects:  76% (88/115)\u001b[K\rremote: Counting objects:  77% (89/115)\u001b[K\rremote: Counting objects:  78% (90/115)\u001b[K\rremote: Counting objects:  79% (91/115)\u001b[K\rremote: Counting objects:  80% (92/115)\u001b[K\rremote: Counting objects:  81% (94/115)\u001b[K\rremote: Counting objects:  82% (95/115)\u001b[K\rremote: Counting objects:  83% (96/115)\u001b[K\rremote: Counting objects:  84% (97/115)\u001b[K\rremote: Counting objects:  85% (98/115)\u001b[K\rremote: Counting objects:  86% (99/115)\u001b[K\rremote: Counting objects:  87% (101/115)\u001b[K\rremote: Counting objects:  88% (102/115)\u001b[K\rremote: Counting objects:  89% (103/115)\u001b[K\rremote: Counting objects:  90% (104/115)\u001b[K\rremote: Counting objects:  91% (105/115)\u001b[K\rremote: Counting objects:  92% (106/115)\u001b[K\rremote: Counting objects:  93% (107/115)\u001b[K\rremote: Counting objects:  94% (109/115)\u001b[K\rremote: Counting objects:  95% (110/115)\u001b[K\rremote: Counting objects:  96% (111/115)\u001b[K\rremote: Counting objects:  97% (112/115)\u001b[K\rremote: Counting objects:  98% (113/115)\u001b[K\rremote: Counting objects:  99% (114/115)\u001b[K\rremote: Counting objects: 100% (115/115)\u001b[K\rremote: Counting objects: 100% (115/115), done.\u001b[K\n",
            "remote: Compressing objects: 100% (94/94), done.\u001b[K\n",
            "remote: Total 356 (delta 49), reused 70 (delta 20), pack-reused 241\u001b[K\n",
            "Receiving objects: 100% (356/356), 24.77 MiB | 18.35 MiB/s, done.\n",
            "Resolving deltas: 100% (180/180), done.\n"
          ],
          "name": "stdout"
        }
      ]
    },
    {
      "cell_type": "code",
      "metadata": {
        "colab_type": "code",
        "id": "qF-n-lNLjUzK",
        "colab": {}
      },
      "source": [
        "import os \n",
        "os.chdir('/content/Medical_Time_Series_Classification')"
      ],
      "execution_count": 0,
      "outputs": []
    },
    {
      "cell_type": "markdown",
      "metadata": {
        "colab_type": "text",
        "id": "4H5Lmd2tjfIr"
      },
      "source": [
        "# Imports"
      ]
    },
    {
      "cell_type": "code",
      "metadata": {
        "colab_type": "code",
        "id": "8qejGm9yuYHU",
        "colab": {}
      },
      "source": [
        "%load_ext autoreload\n",
        "%autoreload 2"
      ],
      "execution_count": 0,
      "outputs": []
    },
    {
      "cell_type": "code",
      "metadata": {
        "colab_type": "code",
        "id": "--N9sUiGjdxY",
        "outputId": "f10792bd-441f-4122-e875-553806cb79c3",
        "colab": {
          "base_uri": "https://localhost:8080/",
          "height": 35
        }
      },
      "source": [
        "#import keract\n",
        "import pandas as pd\n",
        "import numpy as np \n",
        "import matplotlib.pyplot as plt\n",
        "from keras.utils import to_categorical\n",
        "from sklearn.model_selection import StratifiedShuffleSplit\n",
        "from sklearn.metrics import confusion_matrix,recall_score,accuracy_score,precision_score\n",
        "import keras\n",
        "import tensorflow as tf\n",
        "import matplotlib.font_manager\n",
        "from matplotlib.collections import LineCollection\n",
        "from matplotlib.colors import ListedColormap, BoundaryNorm\n",
        "from utils.evaluation import *\n",
        "from utils.utils import read_dataset,split_dataset\n",
        "%matplotlib inline"
      ],
      "execution_count": 5,
      "outputs": [
        {
          "output_type": "stream",
          "text": [
            "Using TensorFlow backend.\n"
          ],
          "name": "stderr"
        }
      ]
    },
    {
      "cell_type": "markdown",
      "metadata": {
        "colab_type": "text",
        "id": "_RIyONMlItgI"
      },
      "source": [
        "# 1. Data importation and visualization"
      ]
    },
    {
      "cell_type": "code",
      "metadata": {
        "colab_type": "code",
        "id": "tHI0lYE0CxWD",
        "colab": {}
      },
      "source": [
        "X_train,y_train,X_val,y_val,X_test,y_test = np.load('data/ECG5000/ECG5000_full.npy',allow_pickle=True)\n",
        "\n",
        "data = np.concatenate([X_train,X_val,X_test])\n",
        "labels = np.concatenate([y_train,y_val,y_test])"
      ],
      "execution_count": 0,
      "outputs": []
    },
    {
      "cell_type": "code",
      "metadata": {
        "id": "7fOgqfC8G7Gl",
        "colab_type": "code",
        "colab": {}
      },
      "source": [
        "y_train_1H = np.zeros((len(y_train),5))\n",
        "y_val_1H = np.zeros((len(y_val),5))\n",
        "y_test_1H = np.zeros((len(y_test),5))\n",
        "\n",
        "for k in range(len(y_train)):\n",
        "  y_train_1H[k,y_train[k]-1] += 1\n",
        "\n",
        "for k in range(len(y_val)):\n",
        "  y_val_1H[k,y_val[k]-1] += 1\n",
        "\n",
        "for k in range(len(y_test)):\n",
        "  y_test_1H[k,y_test[k]-1] += 1"
      ],
      "execution_count": 0,
      "outputs": []
    },
    {
      "cell_type": "code",
      "metadata": {
        "colab_type": "code",
        "id": "CZbtDPPykCId",
        "outputId": "5395401b-cd22-4193-b812-369301f5ef62",
        "colab": {
          "base_uri": "https://localhost:8080/",
          "height": 281
        }
      },
      "source": [
        "plt.hist(labels)\n",
        "plt.title('Distribution of labels across the dataset')\n",
        "plt.show()"
      ],
      "execution_count": 8,
      "outputs": [
        {
          "output_type": "display_data",
          "data": {
            "image/png": "[encoded data removed]",
            "text/plain": [
              "<Figure size 432x288 with 1 Axes>"
            ]
          },
          "metadata": {
            "tags": []
          }
        }
      ]
    },
    {
      "cell_type": "code",
      "metadata": {
        "colab_type": "code",
        "id": "qd9t1I1CJCCq",
        "outputId": "6378a018-92ae-4097-ee08-51834103b9bd",
        "colab": {
          "base_uri": "https://localhost:8080/",
          "height": 238
        }
      },
      "source": [
        "unique_labels,props = np.unique(labels,return_counts=True)\n",
        "df_props = pd.DataFrame([],columns=['proportion'],index = unique_labels)\n",
        "df_props.index.name='label'\n",
        "df_props['proportion'] = props/np.sum(props)\n",
        "df_props"
      ],
      "execution_count": 9,
      "outputs": [
        {
          "output_type": "execute_result",
          "data": {
            "text/html": [
              "<div>\n",
              "<style scoped>\n",
              "    .dataframe tbody tr th:only-of-type {\n",
              "        vertical-align: middle;\n",
              "    }\n",
              "\n",
              "    .dataframe tbody tr th {\n",
              "        vertical-align: top;\n",
              "    }\n",
              "\n",
              "    .dataframe thead th {\n",
              "        text-align: right;\n",
              "    }\n",
              "</style>\n",
              "<table border=\"1\" class=\"dataframe\">\n",
              "  <thead>\n",
              "    <tr style=\"text-align: right;\">\n",
              "      <th></th>\n",
              "      <th>proportion</th>\n",
              "    </tr>\n",
              "    <tr>\n",
              "      <th>label</th>\n",
              "      <th></th>\n",
              "    </tr>\n",
              "  </thead>\n",
              "  <tbody>\n",
              "    <tr>\n",
              "      <th>1</th>\n",
              "      <td>0.5838</td>\n",
              "    </tr>\n",
              "    <tr>\n",
              "      <th>2</th>\n",
              "      <td>0.3534</td>\n",
              "    </tr>\n",
              "    <tr>\n",
              "      <th>3</th>\n",
              "      <td>0.0192</td>\n",
              "    </tr>\n",
              "    <tr>\n",
              "      <th>4</th>\n",
              "      <td>0.0388</td>\n",
              "    </tr>\n",
              "    <tr>\n",
              "      <th>5</th>\n",
              "      <td>0.0048</td>\n",
              "    </tr>\n",
              "  </tbody>\n",
              "</table>\n",
              "</div>"
            ],
            "text/plain": [
              "       proportion\n",
              "label            \n",
              "1          0.5838\n",
              "2          0.3534\n",
              "3          0.0192\n",
              "4          0.0388\n",
              "5          0.0048"
            ]
          },
          "metadata": {
            "tags": []
          },
          "execution_count": 9
        }
      ]
    },
    {
      "cell_type": "code",
      "metadata": {
        "colab_type": "code",
        "id": "1NyvXMMbkWA1",
        "outputId": "93a8eaa5-2caa-4b54-86d5-c6272a4bf639",
        "colab": {
          "base_uri": "https://localhost:8080/",
          "height": 320
        }
      },
      "source": [
        "fig = plt.figure(figsize=(14,5))\n",
        "for c in set(labels):\n",
        "    spe_ecg = data[labels==c][0]\n",
        "    plt.plot(spe_ecg,label='example of label '+str(c))\n",
        "\n",
        "plt.legend()\n",
        "plt.show()"
      ],
      "execution_count": 10,
      "outputs": [
        {
          "output_type": "display_data",
          "data": {
            "image/png": "[encoded data removed]",
            "text/plain": [
              "<Figure size 1008x360 with 1 Axes>"
            ]
          },
          "metadata": {
            "tags": []
          }
        }
      ]
    },
    {
      "cell_type": "markdown",
      "metadata": {
        "colab_type": "text",
        "id": "zpjKZGSFlUQC"
      },
      "source": [
        "# 2. Testing models"
      ]
    },
    {
      "cell_type": "code",
      "metadata": {
        "colab_type": "code",
        "id": "_u89_ASqsO2d",
        "colab": {}
      },
      "source": [
        "%matplotlib inline"
      ],
      "execution_count": 0,
      "outputs": []
    },
    {
      "cell_type": "markdown",
      "metadata": {
        "colab_type": "text",
        "id": "jeIx_XbEZJQ8"
      },
      "source": [
        "## 2.1 Test MLP"
      ]
    },
    {
      "cell_type": "code",
      "metadata": {
        "colab_type": "code",
        "id": "rUtVcgXPVedG",
        "colab": {}
      },
      "source": [
        "from models.mlp import Classifier_MLP"
      ],
      "execution_count": 0,
      "outputs": []
    },
    {
      "cell_type": "code",
      "metadata": {
        "colab_type": "code",
        "id": "Lhv8FKI3dopV",
        "outputId": "1b149856-3988-48ca-e06d-e762eecd8896",
        "colab": {
          "base_uri": "https://localhost:8080/",
          "height": 421
        }
      },
      "source": [
        "mlp = Classifier_MLP(output_directory='outputs/output_mlp/',input_shape=(X_train.shape[1],),\n",
        "                     nb_classes = 5,verbose=True,\n",
        "                     hidden_layers_size=(70,35),min_lr=0.05)"
      ],
      "execution_count": 13,
      "outputs": [
        {
          "output_type": "stream",
          "text": [
            "Model: \"sequential\"\n",
            "_________________________________________________________________\n",
            "Layer (type)                 Output Shape              Param #   \n",
            "=================================================================\n",
            "flatten (Flatten)            (None, 140)               0         \n",
            "_________________________________________________________________\n",
            "dropout (Dropout)            (None, 140)               0         \n",
            "_________________________________________________________________\n",
            "dense (Dense)                (None, 70)                9870      \n",
            "_________________________________________________________________\n",
            "dropout_1 (Dropout)          (None, 70)                0         \n",
            "_________________________________________________________________\n",
            "dense_1 (Dense)              (None, 35)                2485      \n",
            "_________________________________________________________________\n",
            "dropout_2 (Dropout)          (None, 35)                0         \n",
            "_________________________________________________________________\n",
            "dense_2 (Dense)              (None, 5)                 180       \n",
            "=================================================================\n",
            "Total params: 12,535\n",
            "Trainable params: 12,535\n",
            "Non-trainable params: 0\n",
            "_________________________________________________________________\n"
          ],
          "name": "stdout"
        }
      ]
    },
    {
      "cell_type": "code",
      "metadata": {
        "colab_type": "code",
        "id": "hx5wRLHQeJxn",
        "outputId": "48d9127a-c0af-401e-a709-381a7993186a",
        "colab": {
          "base_uri": "https://localhost:8080/",
          "height": 1000
        }
      },
      "source": [
        "hist = mlp.fit(X_train,y_train_1H,X_val,y_val_1H,y_val,batch_size=32,nb_epochs=100)"
      ],
      "execution_count": 14,
      "outputs": [
        {
          "output_type": "stream",
          "text": [
            "Epoch 1/100\n",
            "125/125 [==============================] - 0s 4ms/step - loss: 1.3525 - accuracy: 0.4327 - val_loss: 1.2891 - val_accuracy: 0.5740 - lr: 0.0010\n",
            "Epoch 2/100\n",
            "125/125 [==============================] - 0s 2ms/step - loss: 1.3376 - accuracy: 0.4577 - val_loss: 1.2695 - val_accuracy: 0.6180 - lr: 0.0010\n",
            "Epoch 3/100\n",
            "125/125 [==============================] - 0s 3ms/step - loss: 1.3181 - accuracy: 0.4690 - val_loss: 1.2499 - val_accuracy: 0.6620 - lr: 0.0010\n",
            "Epoch 4/100\n",
            "125/125 [==============================] - 0s 3ms/step - loss: 1.2860 - accuracy: 0.4980 - val_loss: 1.2300 - val_accuracy: 0.6920 - lr: 0.0010\n",
            "Epoch 5/100\n",
            "125/125 [==============================] - 0s 3ms/step - loss: 1.2711 - accuracy: 0.5120 - val_loss: 1.2103 - val_accuracy: 0.7240 - lr: 0.0010\n",
            "Epoch 6/100\n",
            "125/125 [==============================] - 0s 3ms/step - loss: 1.2608 - accuracy: 0.5245 - val_loss: 1.1907 - val_accuracy: 0.7460 - lr: 0.0010\n",
            "Epoch 7/100\n",
            "125/125 [==============================] - 0s 2ms/step - loss: 1.2371 - accuracy: 0.5462 - val_loss: 1.1709 - val_accuracy: 0.7640 - lr: 0.0010\n",
            "Epoch 8/100\n",
            "125/125 [==============================] - 0s 3ms/step - loss: 1.2155 - accuracy: 0.5583 - val_loss: 1.1515 - val_accuracy: 0.7800 - lr: 0.0010\n",
            "Epoch 9/100\n",
            "125/125 [==============================] - 0s 3ms/step - loss: 1.2021 - accuracy: 0.5835 - val_loss: 1.1323 - val_accuracy: 0.8040 - lr: 0.0010\n",
            "Epoch 10/100\n",
            "125/125 [==============================] - 0s 2ms/step - loss: 1.1772 - accuracy: 0.5978 - val_loss: 1.1133 - val_accuracy: 0.8200 - lr: 0.0010\n",
            "Epoch 11/100\n",
            "125/125 [==============================] - 0s 3ms/step - loss: 1.1663 - accuracy: 0.6087 - val_loss: 1.0946 - val_accuracy: 0.8260 - lr: 0.0010\n",
            "Epoch 12/100\n",
            "125/125 [==============================] - 0s 3ms/step - loss: 1.1424 - accuracy: 0.6245 - val_loss: 1.0759 - val_accuracy: 0.8300 - lr: 0.0010\n",
            "Epoch 13/100\n",
            "125/125 [==============================] - 0s 2ms/step - loss: 1.1300 - accuracy: 0.6440 - val_loss: 1.0578 - val_accuracy: 0.8320 - lr: 0.0010\n",
            "Epoch 14/100\n",
            "125/125 [==============================] - 0s 3ms/step - loss: 1.1098 - accuracy: 0.6507 - val_loss: 1.0401 - val_accuracy: 0.8360 - lr: 0.0010\n",
            "Epoch 15/100\n",
            "125/125 [==============================] - 0s 3ms/step - loss: 1.0940 - accuracy: 0.6662 - val_loss: 1.0228 - val_accuracy: 0.8380 - lr: 0.0010\n",
            "Epoch 16/100\n",
            "125/125 [==============================] - 0s 3ms/step - loss: 1.0708 - accuracy: 0.6892 - val_loss: 1.0055 - val_accuracy: 0.8380 - lr: 0.0010\n",
            "Epoch 17/100\n",
            "125/125 [==============================] - 0s 3ms/step - loss: 1.0499 - accuracy: 0.6985 - val_loss: 0.9889 - val_accuracy: 0.8380 - lr: 0.0010\n",
            "Epoch 18/100\n",
            "125/125 [==============================] - 0s 3ms/step - loss: 1.0354 - accuracy: 0.7078 - val_loss: 0.9723 - val_accuracy: 0.8420 - lr: 0.0010\n",
            "Epoch 19/100\n",
            "125/125 [==============================] - 0s 3ms/step - loss: 1.0176 - accuracy: 0.7150 - val_loss: 0.9561 - val_accuracy: 0.8460 - lr: 0.0010\n",
            "Epoch 20/100\n",
            "125/125 [==============================] - 0s 3ms/step - loss: 0.9964 - accuracy: 0.7355 - val_loss: 0.9401 - val_accuracy: 0.8440 - lr: 0.0010\n",
            "Epoch 21/100\n",
            "125/125 [==============================] - 0s 3ms/step - loss: 0.9903 - accuracy: 0.7337 - val_loss: 0.9246 - val_accuracy: 0.8460 - lr: 0.0010\n",
            "Epoch 22/100\n",
            "125/125 [==============================] - 0s 3ms/step - loss: 0.9779 - accuracy: 0.7325 - val_loss: 0.9095 - val_accuracy: 0.8460 - lr: 0.0010\n",
            "Epoch 23/100\n",
            "125/125 [==============================] - 0s 3ms/step - loss: 0.9641 - accuracy: 0.7448 - val_loss: 0.8949 - val_accuracy: 0.8460 - lr: 0.0010\n",
            "Epoch 24/100\n",
            "125/125 [==============================] - 0s 3ms/step - loss: 0.9435 - accuracy: 0.7613 - val_loss: 0.8805 - val_accuracy: 0.8460 - lr: 0.0010\n",
            "Epoch 25/100\n",
            "125/125 [==============================] - 0s 3ms/step - loss: 0.9293 - accuracy: 0.7600 - val_loss: 0.8666 - val_accuracy: 0.8460 - lr: 0.0010\n",
            "Epoch 26/100\n",
            "125/125 [==============================] - 0s 3ms/step - loss: 0.9126 - accuracy: 0.7742 - val_loss: 0.8528 - val_accuracy: 0.8480 - lr: 0.0010\n",
            "Epoch 27/100\n",
            "125/125 [==============================] - 0s 3ms/step - loss: 0.9189 - accuracy: 0.7617 - val_loss: 0.8395 - val_accuracy: 0.8500 - lr: 0.0010\n",
            "Epoch 28/100\n",
            "125/125 [==============================] - 0s 3ms/step - loss: 0.8848 - accuracy: 0.7812 - val_loss: 0.8266 - val_accuracy: 0.8480 - lr: 0.0010\n",
            "Epoch 29/100\n",
            "125/125 [==============================] - 0s 3ms/step - loss: 0.8791 - accuracy: 0.7910 - val_loss: 0.8138 - val_accuracy: 0.8460 - lr: 0.0010\n",
            "Epoch 30/100\n",
            "125/125 [==============================] - 0s 3ms/step - loss: 0.8688 - accuracy: 0.7945 - val_loss: 0.8012 - val_accuracy: 0.8460 - lr: 0.0010\n",
            "Epoch 31/100\n",
            "125/125 [==============================] - 0s 3ms/step - loss: 0.8503 - accuracy: 0.8008 - val_loss: 0.7891 - val_accuracy: 0.8460 - lr: 0.0010\n",
            "Epoch 32/100\n",
            "125/125 [==============================] - 0s 3ms/step - loss: 0.8373 - accuracy: 0.8080 - val_loss: 0.7772 - val_accuracy: 0.8440 - lr: 0.0010\n",
            "Epoch 33/100\n",
            "125/125 [==============================] - 0s 3ms/step - loss: 0.8280 - accuracy: 0.8117 - val_loss: 0.7656 - val_accuracy: 0.8440 - lr: 0.0010\n",
            "Epoch 34/100\n",
            "125/125 [==============================] - 0s 3ms/step - loss: 0.8121 - accuracy: 0.8117 - val_loss: 0.7542 - val_accuracy: 0.8480 - lr: 0.0010\n",
            "Epoch 35/100\n",
            "125/125 [==============================] - 0s 3ms/step - loss: 0.7955 - accuracy: 0.8192 - val_loss: 0.7432 - val_accuracy: 0.8500 - lr: 0.0010\n",
            "Epoch 36/100\n",
            "125/125 [==============================] - 0s 2ms/step - loss: 0.7936 - accuracy: 0.8177 - val_loss: 0.7325 - val_accuracy: 0.8540 - lr: 0.0010\n",
            "Epoch 37/100\n",
            "125/125 [==============================] - 0s 3ms/step - loss: 0.7774 - accuracy: 0.8347 - val_loss: 0.7219 - val_accuracy: 0.8540 - lr: 0.0010\n",
            "Epoch 38/100\n",
            "125/125 [==============================] - 0s 3ms/step - loss: 0.7612 - accuracy: 0.8285 - val_loss: 0.7116 - val_accuracy: 0.8540 - lr: 0.0010\n",
            "Epoch 39/100\n",
            "125/125 [==============================] - 0s 3ms/step - loss: 0.7525 - accuracy: 0.8328 - val_loss: 0.7016 - val_accuracy: 0.8540 - lr: 0.0010\n",
            "Epoch 40/100\n",
            "125/125 [==============================] - 0s 3ms/step - loss: 0.7443 - accuracy: 0.8393 - val_loss: 0.6917 - val_accuracy: 0.8560 - lr: 0.0010\n",
            "Epoch 41/100\n",
            "125/125 [==============================] - 0s 3ms/step - loss: 0.7358 - accuracy: 0.8370 - val_loss: 0.6821 - val_accuracy: 0.8540 - lr: 0.0010\n",
            "Epoch 42/100\n",
            "125/125 [==============================] - 0s 2ms/step - loss: 0.7237 - accuracy: 0.8407 - val_loss: 0.6729 - val_accuracy: 0.8560 - lr: 0.0010\n",
            "Epoch 43/100\n",
            "125/125 [==============================] - 0s 3ms/step - loss: 0.7126 - accuracy: 0.8445 - val_loss: 0.6640 - val_accuracy: 0.8560 - lr: 0.0010\n",
            "Epoch 44/100\n",
            "125/125 [==============================] - 0s 3ms/step - loss: 0.7024 - accuracy: 0.8415 - val_loss: 0.6554 - val_accuracy: 0.8580 - lr: 0.0010\n",
            "Epoch 45/100\n",
            "125/125 [==============================] - 0s 3ms/step - loss: 0.6963 - accuracy: 0.8518 - val_loss: 0.6470 - val_accuracy: 0.8580 - lr: 0.0010\n",
            "Epoch 46/100\n",
            "125/125 [==============================] - 0s 2ms/step - loss: 0.6949 - accuracy: 0.8465 - val_loss: 0.6387 - val_accuracy: 0.8580 - lr: 0.0010\n",
            "Epoch 47/100\n",
            "125/125 [==============================] - 0s 3ms/step - loss: 0.6932 - accuracy: 0.8472 - val_loss: 0.6308 - val_accuracy: 0.8620 - lr: 0.0010\n",
            "Epoch 48/100\n",
            "125/125 [==============================] - 0s 2ms/step - loss: 0.6644 - accuracy: 0.8612 - val_loss: 0.6232 - val_accuracy: 0.8640 - lr: 0.0010\n",
            "Epoch 49/100\n",
            "125/125 [==============================] - 0s 3ms/step - loss: 0.6589 - accuracy: 0.8568 - val_loss: 0.6157 - val_accuracy: 0.8640 - lr: 0.0010\n",
            "Epoch 50/100\n",
            "125/125 [==============================] - 0s 3ms/step - loss: 0.6569 - accuracy: 0.8555 - val_loss: 0.6084 - val_accuracy: 0.8640 - lr: 0.0010\n",
            "Epoch 51/100\n",
            "125/125 [==============================] - 0s 3ms/step - loss: 0.6479 - accuracy: 0.8533 - val_loss: 0.6014 - val_accuracy: 0.8640 - lr: 0.0010\n",
            "Epoch 52/100\n",
            "125/125 [==============================] - 0s 3ms/step - loss: 0.6362 - accuracy: 0.8635 - val_loss: 0.5945 - val_accuracy: 0.8660 - lr: 0.0010\n",
            "Epoch 53/100\n",
            "125/125 [==============================] - 0s 3ms/step - loss: 0.6253 - accuracy: 0.8670 - val_loss: 0.5878 - val_accuracy: 0.8660 - lr: 0.0010\n",
            "Epoch 54/100\n",
            "125/125 [==============================] - 0s 2ms/step - loss: 0.6274 - accuracy: 0.8685 - val_loss: 0.5815 - val_accuracy: 0.8660 - lr: 0.0010\n",
            "Epoch 55/100\n",
            "125/125 [==============================] - 0s 3ms/step - loss: 0.6275 - accuracy: 0.8685 - val_loss: 0.5753 - val_accuracy: 0.8660 - lr: 0.0010\n",
            "Epoch 56/100\n",
            "125/125 [==============================] - 0s 3ms/step - loss: 0.6168 - accuracy: 0.8612 - val_loss: 0.5694 - val_accuracy: 0.8680 - lr: 0.0010\n",
            "Epoch 57/100\n",
            "125/125 [==============================] - 0s 3ms/step - loss: 0.6145 - accuracy: 0.8637 - val_loss: 0.5637 - val_accuracy: 0.8680 - lr: 0.0010\n",
            "Epoch 58/100\n",
            "125/125 [==============================] - 0s 3ms/step - loss: 0.5980 - accuracy: 0.8670 - val_loss: 0.5581 - val_accuracy: 0.8680 - lr: 0.0010\n",
            "Epoch 59/100\n",
            "125/125 [==============================] - 0s 3ms/step - loss: 0.5966 - accuracy: 0.8648 - val_loss: 0.5528 - val_accuracy: 0.8660 - lr: 0.0010\n",
            "Epoch 60/100\n",
            "125/125 [==============================] - 0s 3ms/step - loss: 0.5886 - accuracy: 0.8702 - val_loss: 0.5477 - val_accuracy: 0.8660 - lr: 0.0010\n",
            "Epoch 61/100\n",
            "125/125 [==============================] - 0s 3ms/step - loss: 0.5836 - accuracy: 0.8735 - val_loss: 0.5427 - val_accuracy: 0.8660 - lr: 0.0010\n",
            "Epoch 62/100\n",
            "125/125 [==============================] - 0s 3ms/step - loss: 0.5697 - accuracy: 0.8725 - val_loss: 0.5379 - val_accuracy: 0.8660 - lr: 0.0010\n",
            "Epoch 63/100\n",
            "125/125 [==============================] - 0s 3ms/step - loss: 0.5850 - accuracy: 0.8695 - val_loss: 0.5333 - val_accuracy: 0.8640 - lr: 0.0010\n",
            "Epoch 64/100\n",
            "125/125 [==============================] - 0s 3ms/step - loss: 0.5621 - accuracy: 0.8730 - val_loss: 0.5289 - val_accuracy: 0.8640 - lr: 0.0010\n",
            "Epoch 65/100\n",
            "125/125 [==============================] - 0s 3ms/step - loss: 0.5555 - accuracy: 0.8763 - val_loss: 0.5246 - val_accuracy: 0.8640 - lr: 0.0010\n",
            "Epoch 66/100\n",
            "125/125 [==============================] - 0s 3ms/step - loss: 0.5485 - accuracy: 0.8773 - val_loss: 0.5205 - val_accuracy: 0.8640 - lr: 0.0010\n",
            "Epoch 67/100\n",
            "125/125 [==============================] - 0s 3ms/step - loss: 0.5535 - accuracy: 0.8795 - val_loss: 0.5166 - val_accuracy: 0.8640 - lr: 0.0010\n",
            "Epoch 68/100\n",
            "125/125 [==============================] - 0s 3ms/step - loss: 0.5477 - accuracy: 0.8825 - val_loss: 0.5129 - val_accuracy: 0.8640 - lr: 0.0010\n",
            "Epoch 69/100\n",
            "125/125 [==============================] - 0s 3ms/step - loss: 0.5473 - accuracy: 0.8790 - val_loss: 0.5092 - val_accuracy: 0.8640 - lr: 0.0010\n",
            "Epoch 70/100\n",
            "125/125 [==============================] - 0s 3ms/step - loss: 0.5367 - accuracy: 0.8870 - val_loss: 0.5057 - val_accuracy: 0.8640 - lr: 0.0010\n",
            "Epoch 71/100\n",
            "125/125 [==============================] - 0s 3ms/step - loss: 0.5334 - accuracy: 0.8823 - val_loss: 0.5023 - val_accuracy: 0.8660 - lr: 0.0010\n",
            "Epoch 72/100\n",
            "125/125 [==============================] - 0s 2ms/step - loss: 0.5356 - accuracy: 0.8845 - val_loss: 0.4991 - val_accuracy: 0.8660 - lr: 0.0010\n",
            "Epoch 73/100\n",
            "125/125 [==============================] - 0s 3ms/step - loss: 0.5341 - accuracy: 0.8780 - val_loss: 0.4960 - val_accuracy: 0.8660 - lr: 0.0010\n",
            "Epoch 74/100\n",
            "125/125 [==============================] - 0s 3ms/step - loss: 0.5273 - accuracy: 0.8827 - val_loss: 0.4931 - val_accuracy: 0.8660 - lr: 0.0010\n",
            "Epoch 75/100\n",
            "125/125 [==============================] - 0s 3ms/step - loss: 0.5183 - accuracy: 0.8845 - val_loss: 0.4903 - val_accuracy: 0.8660 - lr: 0.0010\n",
            "Epoch 76/100\n",
            "125/125 [==============================] - 0s 2ms/step - loss: 0.5189 - accuracy: 0.8838 - val_loss: 0.4875 - val_accuracy: 0.8640 - lr: 0.0010\n",
            "Epoch 77/100\n",
            "125/125 [==============================] - 0s 3ms/step - loss: 0.5199 - accuracy: 0.8800 - val_loss: 0.4849 - val_accuracy: 0.8620 - lr: 0.0010\n",
            "Epoch 78/100\n",
            "125/125 [==============================] - 0s 3ms/step - loss: 0.5096 - accuracy: 0.8788 - val_loss: 0.4823 - val_accuracy: 0.8620 - lr: 0.0010\n",
            "Epoch 79/100\n",
            "125/125 [==============================] - 0s 2ms/step - loss: 0.5095 - accuracy: 0.8885 - val_loss: 0.4798 - val_accuracy: 0.8620 - lr: 0.0010\n",
            "Epoch 80/100\n",
            "125/125 [==============================] - 0s 3ms/step - loss: 0.4975 - accuracy: 0.8855 - val_loss: 0.4773 - val_accuracy: 0.8620 - lr: 0.0010\n",
            "Epoch 81/100\n",
            "125/125 [==============================] - 0s 3ms/step - loss: 0.4881 - accuracy: 0.8842 - val_loss: 0.4751 - val_accuracy: 0.8620 - lr: 0.0010\n",
            "Epoch 82/100\n",
            "125/125 [==============================] - 0s 2ms/step - loss: 0.4894 - accuracy: 0.8920 - val_loss: 0.4728 - val_accuracy: 0.8640 - lr: 0.0010\n",
            "Epoch 83/100\n",
            "125/125 [==============================] - 0s 3ms/step - loss: 0.4871 - accuracy: 0.8910 - val_loss: 0.4706 - val_accuracy: 0.8640 - lr: 0.0010\n",
            "Epoch 84/100\n",
            "125/125 [==============================] - 0s 3ms/step - loss: 0.4858 - accuracy: 0.8907 - val_loss: 0.4686 - val_accuracy: 0.8640 - lr: 0.0010\n",
            "Epoch 85/100\n",
            "125/125 [==============================] - 0s 2ms/step - loss: 0.4861 - accuracy: 0.8890 - val_loss: 0.4666 - val_accuracy: 0.8640 - lr: 0.0010\n",
            "Epoch 86/100\n",
            "125/125 [==============================] - 0s 3ms/step - loss: 0.4802 - accuracy: 0.8955 - val_loss: 0.4647 - val_accuracy: 0.8640 - lr: 0.0010\n",
            "Epoch 87/100\n",
            "125/125 [==============================] - 0s 3ms/step - loss: 0.4708 - accuracy: 0.8920 - val_loss: 0.4629 - val_accuracy: 0.8640 - lr: 0.0010\n",
            "Epoch 88/100\n",
            "125/125 [==============================] - 0s 2ms/step - loss: 0.4722 - accuracy: 0.8873 - val_loss: 0.4612 - val_accuracy: 0.8640 - lr: 0.0010\n",
            "Epoch 89/100\n",
            "125/125 [==============================] - 0s 2ms/step - loss: 0.4711 - accuracy: 0.8938 - val_loss: 0.4594 - val_accuracy: 0.8640 - lr: 0.0010\n",
            "Epoch 90/100\n",
            "125/125 [==============================] - 0s 3ms/step - loss: 0.4677 - accuracy: 0.8953 - val_loss: 0.4578 - val_accuracy: 0.8640 - lr: 0.0010\n",
            "Epoch 91/100\n",
            "125/125 [==============================] - 0s 2ms/step - loss: 0.4724 - accuracy: 0.8923 - val_loss: 0.4561 - val_accuracy: 0.8640 - lr: 0.0010\n",
            "Epoch 92/100\n",
            "125/125 [==============================] - 0s 2ms/step - loss: 0.4796 - accuracy: 0.8875 - val_loss: 0.4547 - val_accuracy: 0.8640 - lr: 0.0010\n",
            "Epoch 93/100\n",
            "125/125 [==============================] - 0s 2ms/step - loss: 0.4692 - accuracy: 0.8907 - val_loss: 0.4532 - val_accuracy: 0.8640 - lr: 0.0010\n",
            "Epoch 94/100\n",
            "125/125 [==============================] - 0s 2ms/step - loss: 0.4574 - accuracy: 0.8950 - val_loss: 0.4518 - val_accuracy: 0.8660 - lr: 0.0010\n",
            "Epoch 95/100\n",
            "125/125 [==============================] - 0s 2ms/step - loss: 0.4629 - accuracy: 0.8965 - val_loss: 0.4505 - val_accuracy: 0.8660 - lr: 0.0010\n",
            "Epoch 96/100\n",
            "125/125 [==============================] - 0s 2ms/step - loss: 0.4553 - accuracy: 0.8953 - val_loss: 0.4491 - val_accuracy: 0.8660 - lr: 0.0010\n",
            "Epoch 97/100\n",
            "125/125 [==============================] - 0s 2ms/step - loss: 0.4576 - accuracy: 0.8917 - val_loss: 0.4478 - val_accuracy: 0.8660 - lr: 0.0010\n",
            "Epoch 98/100\n",
            "125/125 [==============================] - 0s 2ms/step - loss: 0.4644 - accuracy: 0.8900 - val_loss: 0.4466 - val_accuracy: 0.8660 - lr: 0.0010\n",
            "Epoch 99/100\n",
            "125/125 [==============================] - 0s 3ms/step - loss: 0.4497 - accuracy: 0.8972 - val_loss: 0.4453 - val_accuracy: 0.8660 - lr: 0.0010\n",
            "Epoch 100/100\n",
            "125/125 [==============================] - 0s 2ms/step - loss: 0.4524 - accuracy: 0.8947 - val_loss: 0.4442 - val_accuracy: 0.8660 - lr: 0.0010\n"
          ],
          "name": "stdout"
        },
        {
          "output_type": "display_data",
          "data": {
            "image/png": "[encoded data removed]",
            "text/plain": [
              "<Figure size 432x288 with 1 Axes>"
            ]
          },
          "metadata": {
            "tags": []
          }
        }
      ]
    },
    {
      "cell_type": "markdown",
      "metadata": {
        "colab_type": "text",
        "id": "xpeE9S9Xy1eP"
      },
      "source": [
        "Let's evaluate our predictions on the validation set: "
      ]
    },
    {
      "cell_type": "code",
      "metadata": {
        "colab_type": "code",
        "id": "3TyDynjRgWut",
        "outputId": "d120eb87-f080-4f78-ff85-85da5bbaf923",
        "colab": {
          "base_uri": "https://localhost:8080/",
          "height": 119
        }
      },
      "source": [
        "mlp = tf.keras.models.load_model('outputs/output_mlp/best_model.hdf5')\n",
        "y_pred = mlp.predict(X_test)\n",
        "y_pred = np.argmax(y_pred,axis=1)+1\n",
        "evaluate(y_test,y_pred)"
      ],
      "execution_count": 15,
      "outputs": [
        {
          "output_type": "stream",
          "text": [
            "WARNING:tensorflow:Error in loading the saved optimizer state. As a result, your model is starting with a freshly initialized optimizer.\n"
          ],
          "name": "stdout"
        },
        {
          "output_type": "execute_result",
          "data": {
            "text/html": [
              "<div>\n",
              "<style scoped>\n",
              "    .dataframe tbody tr th:only-of-type {\n",
              "        vertical-align: middle;\n",
              "    }\n",
              "\n",
              "    .dataframe tbody tr th {\n",
              "        vertical-align: top;\n",
              "    }\n",
              "\n",
              "    .dataframe thead th {\n",
              "        text-align: right;\n",
              "    }\n",
              "</style>\n",
              "<table border=\"1\" class=\"dataframe\">\n",
              "  <thead>\n",
              "    <tr style=\"text-align: right;\">\n",
              "      <th></th>\n",
              "      <th>accuracy</th>\n",
              "      <th>recall</th>\n",
              "      <th>precision</th>\n",
              "      <th>f1-score</th>\n",
              "    </tr>\n",
              "  </thead>\n",
              "  <tbody>\n",
              "    <tr>\n",
              "      <th>0</th>\n",
              "      <td>0.918</td>\n",
              "      <td>0.392261</td>\n",
              "      <td>0.363461</td>\n",
              "      <td>0.376924</td>\n",
              "    </tr>\n",
              "  </tbody>\n",
              "</table>\n",
              "</div>"
            ],
            "text/plain": [
              "   accuracy    recall  precision  f1-score\n",
              "0     0.918  0.392261   0.363461  0.376924"
            ]
          },
          "metadata": {
            "tags": []
          },
          "execution_count": 15
        }
      ]
    },
    {
      "cell_type": "markdown",
      "metadata": {
        "colab_type": "text",
        "id": "7vUT-Zy1yiMA"
      },
      "source": [
        "Let's be more precise on each class. The following scores are computed considering each label against all the others."
      ]
    },
    {
      "cell_type": "code",
      "metadata": {
        "colab_type": "code",
        "id": "H75TzCd_yUBK",
        "outputId": "6d20d458-d5b8-4278-c3a0-165f01198486",
        "colab": {
          "base_uri": "https://localhost:8080/",
          "height": 206
        }
      },
      "source": [
        "get_binary_metrics(y_val,y_pred)"
      ],
      "execution_count": 16,
      "outputs": [
        {
          "output_type": "execute_result",
          "data": {
            "text/html": [
              "<div>\n",
              "<style scoped>\n",
              "    .dataframe tbody tr th:only-of-type {\n",
              "        vertical-align: middle;\n",
              "    }\n",
              "\n",
              "    .dataframe tbody tr th {\n",
              "        vertical-align: top;\n",
              "    }\n",
              "\n",
              "    .dataframe thead th {\n",
              "        text-align: right;\n",
              "    }\n",
              "</style>\n",
              "<table border=\"1\" class=\"dataframe\">\n",
              "  <thead>\n",
              "    <tr style=\"text-align: right;\">\n",
              "      <th></th>\n",
              "      <th>recall</th>\n",
              "      <th>precision</th>\n",
              "      <th>f1-score</th>\n",
              "    </tr>\n",
              "  </thead>\n",
              "  <tbody>\n",
              "    <tr>\n",
              "      <th>1</th>\n",
              "      <td>0.591078</td>\n",
              "      <td>0.537162</td>\n",
              "      <td>0.562832</td>\n",
              "    </tr>\n",
              "    <tr>\n",
              "      <th>2</th>\n",
              "      <td>0.417112</td>\n",
              "      <td>0.382353</td>\n",
              "      <td>0.398977</td>\n",
              "    </tr>\n",
              "    <tr>\n",
              "      <th>3</th>\n",
              "      <td>0</td>\n",
              "      <td>0</td>\n",
              "      <td>0</td>\n",
              "    </tr>\n",
              "    <tr>\n",
              "      <th>4</th>\n",
              "      <td>0</td>\n",
              "      <td>0</td>\n",
              "      <td>0</td>\n",
              "    </tr>\n",
              "    <tr>\n",
              "      <th>5</th>\n",
              "      <td>0</td>\n",
              "      <td>0</td>\n",
              "      <td>0</td>\n",
              "    </tr>\n",
              "  </tbody>\n",
              "</table>\n",
              "</div>"
            ],
            "text/plain": [
              "     recall precision  f1-score\n",
              "1  0.591078  0.537162  0.562832\n",
              "2  0.417112  0.382353  0.398977\n",
              "3         0         0         0\n",
              "4         0         0         0\n",
              "5         0         0         0"
            ]
          },
          "metadata": {
            "tags": []
          },
          "execution_count": 16
        }
      ]
    },
    {
      "cell_type": "code",
      "metadata": {
        "id": "Um04NqsrYFYd",
        "colab_type": "code",
        "colab": {
          "base_uri": "https://localhost:8080/",
          "height": 109
        },
        "outputId": "d9ee7c4a-e13b-405e-e55f-e91df73b213c"
      },
      "source": [
        "from sklearn.metrics import confusion_matrix\n",
        "mat = confusion_matrix(y_test,y_pred)\n",
        "print(mat)"
      ],
      "execution_count": 17,
      "outputs": [
        {
          "output_type": "stream",
          "text": [
            "[[284   8   0   0   0]\n",
            " [  2 175   0   0   0]\n",
            " [  2   8   0   0   0]\n",
            " [  7  12   0   0   0]\n",
            " [  1   1   0   0   0]]\n"
          ],
          "name": "stdout"
        }
      ]
    },
    {
      "cell_type": "markdown",
      "metadata": {
        "colab_type": "text",
        "id": "zoEGIWWQ8GDS"
      },
      "source": [
        "## 2.2 Test ResNet"
      ]
    },
    {
      "cell_type": "code",
      "metadata": {
        "colab_type": "code",
        "id": "3_jFCOaTWMUo",
        "colab": {}
      },
      "source": [
        "from models.resnet import Classifier_RESNET"
      ],
      "execution_count": 0,
      "outputs": []
    },
    {
      "cell_type": "code",
      "metadata": {
        "colab_type": "code",
        "id": "taN6T_He8H8R",
        "colab": {}
      },
      "source": [
        "#resnet requires a different shape since it is based on convolutional layers\n",
        "X_train_1D = X_train.reshape(X_train.shape[0],X_train.shape[1],1)\n",
        "X_val_1D = X_val.reshape(X_val.shape[0],X_val.shape[1],1)\n",
        "X_test_1D = X_test.reshape(X_test.shape[0],X_test.shape[1],1)"
      ],
      "execution_count": 0,
      "outputs": []
    },
    {
      "cell_type": "code",
      "metadata": {
        "colab_type": "code",
        "id": "lzEzuEo533AL",
        "outputId": "c97a705e-e431-4293-e582-4e53f91ba0ea",
        "colab": {
          "base_uri": "https://localhost:8080/",
          "height": 1000
        }
      },
      "source": [
        "resnet = Classifier_RESNET('outputs/output_resnet/',input_shape=(data.shape[1],1),nb_classes=5,verbose=1)"
      ],
      "execution_count": 20,
      "outputs": [
        {
          "output_type": "stream",
          "text": [
            "Model: \"model\"\n",
            "__________________________________________________________________________________________________\n",
            "Layer (type)                    Output Shape         Param #     Connected to                     \n",
            "==================================================================================================\n",
            "input_1 (InputLayer)            [(None, 140, 1)]     0                                            \n",
            "__________________________________________________________________________________________________\n",
            "conv1d (Conv1D)                 (None, 140, 64)      384         input_1[0][0]                    \n",
            "__________________________________________________________________________________________________\n",
            "batch_normalization (BatchNorma (None, 140, 64)      256         conv1d[0][0]                     \n",
            "__________________________________________________________________________________________________\n",
            "activation (Activation)         (None, 140, 64)      0           batch_normalization[0][0]        \n",
            "__________________________________________________________________________________________________\n",
            "conv1d_1 (Conv1D)               (None, 140, 64)      20544       activation[0][0]                 \n",
            "__________________________________________________________________________________________________\n",
            "batch_normalization_1 (BatchNor (None, 140, 64)      256         conv1d_1[0][0]                   \n",
            "__________________________________________________________________________________________________\n",
            "activation_1 (Activation)       (None, 140, 64)      0           batch_normalization_1[0][0]      \n",
            "__________________________________________________________________________________________________\n",
            "conv1d_3 (Conv1D)               (None, 140, 64)      384         input_1[0][0]                    \n",
            "__________________________________________________________________________________________________\n",
            "conv1d_2 (Conv1D)               (None, 140, 64)      20544       activation_1[0][0]               \n",
            "__________________________________________________________________________________________________\n",
            "batch_normalization_3 (BatchNor (None, 140, 64)      256         conv1d_3[0][0]                   \n",
            "__________________________________________________________________________________________________\n",
            "batch_normalization_2 (BatchNor (None, 140, 64)      256         conv1d_2[0][0]                   \n",
            "__________________________________________________________________________________________________\n",
            "add (Add)                       (None, 140, 64)      0           batch_normalization_3[0][0]      \n",
            "                                                                 batch_normalization_2[0][0]      \n",
            "__________________________________________________________________________________________________\n",
            "activation_2 (Activation)       (None, 140, 64)      0           add[0][0]                        \n",
            "__________________________________________________________________________________________________\n",
            "conv1d_4 (Conv1D)               (None, 140, 64)      20544       activation_2[0][0]               \n",
            "__________________________________________________________________________________________________\n",
            "batch_normalization_4 (BatchNor (None, 140, 64)      256         conv1d_4[0][0]                   \n",
            "__________________________________________________________________________________________________\n",
            "activation_3 (Activation)       (None, 140, 64)      0           batch_normalization_4[0][0]      \n",
            "__________________________________________________________________________________________________\n",
            "conv1d_5 (Conv1D)               (None, 140, 64)      20544       activation_3[0][0]               \n",
            "__________________________________________________________________________________________________\n",
            "batch_normalization_5 (BatchNor (None, 140, 64)      256         conv1d_5[0][0]                   \n",
            "__________________________________________________________________________________________________\n",
            "activation_4 (Activation)       (None, 140, 64)      0           batch_normalization_5[0][0]      \n",
            "__________________________________________________________________________________________________\n",
            "conv1d_7 (Conv1D)               (None, 140, 64)      20544       activation_2[0][0]               \n",
            "__________________________________________________________________________________________________\n",
            "conv1d_6 (Conv1D)               (None, 140, 64)      20544       activation_4[0][0]               \n",
            "__________________________________________________________________________________________________\n",
            "batch_normalization_7 (BatchNor (None, 140, 64)      256         conv1d_7[0][0]                   \n",
            "__________________________________________________________________________________________________\n",
            "batch_normalization_6 (BatchNor (None, 140, 64)      256         conv1d_6[0][0]                   \n",
            "__________________________________________________________________________________________________\n",
            "add_1 (Add)                     (None, 140, 64)      0           batch_normalization_7[0][0]      \n",
            "                                                                 batch_normalization_6[0][0]      \n",
            "__________________________________________________________________________________________________\n",
            "activation_5 (Activation)       (None, 140, 64)      0           add_1[0][0]                      \n",
            "__________________________________________________________________________________________________\n",
            "conv1d_8 (Conv1D)               (None, 140, 64)      20544       activation_5[0][0]               \n",
            "__________________________________________________________________________________________________\n",
            "batch_normalization_8 (BatchNor (None, 140, 64)      256         conv1d_8[0][0]                   \n",
            "__________________________________________________________________________________________________\n",
            "activation_6 (Activation)       (None, 140, 64)      0           batch_normalization_8[0][0]      \n",
            "__________________________________________________________________________________________________\n",
            "conv1d_9 (Conv1D)               (None, 140, 64)      20544       activation_6[0][0]               \n",
            "__________________________________________________________________________________________________\n",
            "batch_normalization_9 (BatchNor (None, 140, 64)      256         conv1d_9[0][0]                   \n",
            "__________________________________________________________________________________________________\n",
            "activation_7 (Activation)       (None, 140, 64)      0           batch_normalization_9[0][0]      \n",
            "__________________________________________________________________________________________________\n",
            "conv1d_10 (Conv1D)              (None, 140, 64)      20544       activation_7[0][0]               \n",
            "__________________________________________________________________________________________________\n",
            "batch_normalization_11 (BatchNo (None, 140, 64)      256         activation_5[0][0]               \n",
            "__________________________________________________________________________________________________\n",
            "batch_normalization_10 (BatchNo (None, 140, 64)      256         conv1d_10[0][0]                  \n",
            "__________________________________________________________________________________________________\n",
            "add_2 (Add)                     (None, 140, 64)      0           batch_normalization_11[0][0]     \n",
            "                                                                 batch_normalization_10[0][0]     \n",
            "__________________________________________________________________________________________________\n",
            "activation_8 (Activation)       (None, 140, 64)      0           add_2[0][0]                      \n",
            "__________________________________________________________________________________________________\n",
            "global_average_pooling1d (Globa (None, 64)           0           activation_8[0][0]               \n",
            "__________________________________________________________________________________________________\n",
            "dense (Dense)                   (None, 5)            325         global_average_pooling1d[0][0]   \n",
            "==================================================================================================\n",
            "Total params: 189,061\n",
            "Trainable params: 187,525\n",
            "Non-trainable params: 1,536\n",
            "__________________________________________________________________________________________________\n"
          ],
          "name": "stdout"
        }
      ]
    },
    {
      "cell_type": "code",
      "metadata": {
        "colab_type": "code",
        "id": "l2eehf0H42Vu",
        "outputId": "f19a02b1-b95f-47f0-9c78-90ac413dbc6c",
        "colab": {
          "base_uri": "https://localhost:8080/",
          "height": 502
        }
      },
      "source": [
        "%matplotlib inline\n",
        "hist = resnet.fit(X_train_1D,y_train_1H,X_val_1D,y_val_1H,y_val,batch_size=16,nb_epochs=5)"
      ],
      "execution_count": 21,
      "outputs": [
        {
          "output_type": "stream",
          "text": [
            "Epoch 1/5\n",
            "250/250 [==============================] - 3s 11ms/step - loss: 0.2855 - accuracy: 0.9237 - val_loss: 0.6019 - val_accuracy: 0.8660 - lr: 0.0010\n",
            "Epoch 2/5\n",
            "250/250 [==============================] - 2s 9ms/step - loss: 0.2259 - accuracy: 0.9360 - val_loss: 0.3230 - val_accuracy: 0.9080 - lr: 0.0010\n",
            "Epoch 3/5\n",
            "250/250 [==============================] - 2s 9ms/step - loss: 0.1954 - accuracy: 0.9477 - val_loss: 0.3259 - val_accuracy: 0.9100 - lr: 0.0010\n",
            "Epoch 4/5\n",
            "250/250 [==============================] - 2s 9ms/step - loss: 0.1840 - accuracy: 0.9473 - val_loss: 0.2910 - val_accuracy: 0.9180 - lr: 0.0010\n",
            "Epoch 5/5\n",
            "250/250 [==============================] - 2s 9ms/step - loss: 0.1756 - accuracy: 0.9505 - val_loss: 0.3003 - val_accuracy: 0.9140 - lr: 0.0010\n"
          ],
          "name": "stdout"
        },
        {
          "output_type": "display_data",
          "data": {
            "image/png": "[encoded data removed]",
            "text/plain": [
              "<Figure size 432x288 with 1 Axes>"
            ]
          },
          "metadata": {
            "tags": []
          }
        }
      ]
    },
    {
      "cell_type": "code",
      "metadata": {
        "colab_type": "code",
        "id": "lV_tQ2pdE6nT",
        "outputId": "632e6c72-c047-4954-aa60-14ae76cb037d",
        "colab": {
          "base_uri": "https://localhost:8080/",
          "height": 119
        }
      },
      "source": [
        "resnet = tf.keras.models.load_model('outputs/output_resnet/best_model.hdf5')\n",
        "y_pred = resnet.predict(X_test_1D)\n",
        "y_pred = np.argmax(y_pred,axis=1)+1\n",
        "evaluate(y_test,y_pred)"
      ],
      "execution_count": 22,
      "outputs": [
        {
          "output_type": "stream",
          "text": [
            "WARNING:tensorflow:Error in loading the saved optimizer state. As a result, your model is starting with a freshly initialized optimizer.\n"
          ],
          "name": "stdout"
        },
        {
          "output_type": "execute_result",
          "data": {
            "text/html": [
              "<div>\n",
              "<style scoped>\n",
              "    .dataframe tbody tr th:only-of-type {\n",
              "        vertical-align: middle;\n",
              "    }\n",
              "\n",
              "    .dataframe tbody tr th {\n",
              "        vertical-align: top;\n",
              "    }\n",
              "\n",
              "    .dataframe thead th {\n",
              "        text-align: right;\n",
              "    }\n",
              "</style>\n",
              "<table border=\"1\" class=\"dataframe\">\n",
              "  <thead>\n",
              "    <tr style=\"text-align: right;\">\n",
              "      <th></th>\n",
              "      <th>accuracy</th>\n",
              "      <th>recall</th>\n",
              "      <th>precision</th>\n",
              "      <th>f1-score</th>\n",
              "    </tr>\n",
              "  </thead>\n",
              "  <tbody>\n",
              "    <tr>\n",
              "      <th>0</th>\n",
              "      <td>0.952</td>\n",
              "      <td>0.625167</td>\n",
              "      <td>0.658121</td>\n",
              "      <td>0.602354</td>\n",
              "    </tr>\n",
              "  </tbody>\n",
              "</table>\n",
              "</div>"
            ],
            "text/plain": [
              "   accuracy    recall  precision  f1-score\n",
              "0     0.952  0.625167   0.658121  0.602354"
            ]
          },
          "metadata": {
            "tags": []
          },
          "execution_count": 22
        }
      ]
    },
    {
      "cell_type": "code",
      "metadata": {
        "colab_type": "code",
        "id": "wm1WjpQdUkhh",
        "outputId": "54094df5-ae06-48a0-aaf6-7751448b8868",
        "colab": {
          "base_uri": "https://localhost:8080/",
          "height": 206
        }
      },
      "source": [
        "get_binary_metrics(y_test,y_pred)"
      ],
      "execution_count": 23,
      "outputs": [
        {
          "output_type": "execute_result",
          "data": {
            "text/html": [
              "<div>\n",
              "<style scoped>\n",
              "    .dataframe tbody tr th:only-of-type {\n",
              "        vertical-align: middle;\n",
              "    }\n",
              "\n",
              "    .dataframe tbody tr th {\n",
              "        vertical-align: top;\n",
              "    }\n",
              "\n",
              "    .dataframe thead th {\n",
              "        text-align: right;\n",
              "    }\n",
              "</style>\n",
              "<table border=\"1\" class=\"dataframe\">\n",
              "  <thead>\n",
              "    <tr style=\"text-align: right;\">\n",
              "      <th></th>\n",
              "      <th>recall</th>\n",
              "      <th>precision</th>\n",
              "      <th>f1-score</th>\n",
              "    </tr>\n",
              "  </thead>\n",
              "  <tbody>\n",
              "    <tr>\n",
              "      <th>1</th>\n",
              "      <td>0.996575</td>\n",
              "      <td>0.983108</td>\n",
              "      <td>0.989796</td>\n",
              "    </tr>\n",
              "    <tr>\n",
              "      <th>2</th>\n",
              "      <td>0.966102</td>\n",
              "      <td>0.944751</td>\n",
              "      <td>0.955307</td>\n",
              "    </tr>\n",
              "    <tr>\n",
              "      <th>3</th>\n",
              "      <td>0.9</td>\n",
              "      <td>0.529412</td>\n",
              "      <td>0.666667</td>\n",
              "    </tr>\n",
              "    <tr>\n",
              "      <th>4</th>\n",
              "      <td>0.263158</td>\n",
              "      <td>0.833333</td>\n",
              "      <td>0.4</td>\n",
              "    </tr>\n",
              "    <tr>\n",
              "      <th>5</th>\n",
              "      <td>0</td>\n",
              "      <td>0</td>\n",
              "      <td>0</td>\n",
              "    </tr>\n",
              "  </tbody>\n",
              "</table>\n",
              "</div>"
            ],
            "text/plain": [
              "     recall precision  f1-score\n",
              "1  0.996575  0.983108  0.989796\n",
              "2  0.966102  0.944751  0.955307\n",
              "3       0.9  0.529412  0.666667\n",
              "4  0.263158  0.833333       0.4\n",
              "5         0         0         0"
            ]
          },
          "metadata": {
            "tags": []
          },
          "execution_count": 23
        }
      ]
    },
    {
      "cell_type": "code",
      "metadata": {
        "id": "IoRYFCcjXW4i",
        "colab_type": "code",
        "colab": {
          "base_uri": "https://localhost:8080/",
          "height": 109
        },
        "outputId": "0273c201-a1d8-49fe-dfc2-f0f3cc4f4219"
      },
      "source": [
        "mat = confusion_matrix(y_test,y_pred)\n",
        "print(mat)"
      ],
      "execution_count": 24,
      "outputs": [
        {
          "output_type": "stream",
          "text": [
            "[[291   0   1   0   0]\n",
            " [  1 171   4   1   0]\n",
            " [  1   0   9   0   0]\n",
            " [  2  10   2   5   0]\n",
            " [  1   0   1   0   0]]\n"
          ],
          "name": "stdout"
        }
      ]
    },
    {
      "cell_type": "markdown",
      "metadata": {
        "id": "lpBzDiWB9V1I",
        "colab_type": "text"
      },
      "source": [
        "## 2.3 Test 1D-CNN"
      ]
    },
    {
      "cell_type": "code",
      "metadata": {
        "id": "N_GEi5q99Zaw",
        "colab_type": "code",
        "colab": {}
      },
      "source": [
        "from models.CNN_1D import Classifier_1DCNN"
      ],
      "execution_count": 0,
      "outputs": []
    },
    {
      "cell_type": "code",
      "metadata": {
        "id": "Gqyz8K2_9Zj4",
        "colab_type": "code",
        "colab": {
          "base_uri": "https://localhost:8080/",
          "height": 1000
        },
        "outputId": "8affed9d-c42a-42d2-9a21-a4221b70e2f2"
      },
      "source": [
        "CNN_1D = Classifier_1DCNN('outputs/output_1DCNN/', nb_classes=5, n_conv_block=3, n_filters=[2,4,8],\n",
        "                           kern_size=[32,32,32], n_stride=[1,1,1], input_shape=(data.shape[1],1), \n",
        "                           add_FC=False, n_unit_FC=1, verbose=1)"
      ],
      "execution_count": 26,
      "outputs": [
        {
          "output_type": "stream",
          "text": [
            "Model: \"sequential\"\n",
            "_________________________________________________________________\n",
            "Layer (type)                 Output Shape              Param #   \n",
            "=================================================================\n",
            "conv1d (Conv1D)              (None, 140, 2)            66        \n",
            "_________________________________________________________________\n",
            "batch_normalization (BatchNo (None, 140, 2)            8         \n",
            "_________________________________________________________________\n",
            "activation (Activation)      (None, 140, 2)            0         \n",
            "_________________________________________________________________\n",
            "dropout (Dropout)            (None, 140, 2)            0         \n",
            "_________________________________________________________________\n",
            "conv1d_1 (Conv1D)            (None, 140, 2)            130       \n",
            "_________________________________________________________________\n",
            "batch_normalization_1 (Batch (None, 140, 2)            8         \n",
            "_________________________________________________________________\n",
            "activation_1 (Activation)    (None, 140, 2)            0         \n",
            "_________________________________________________________________\n",
            "dropout_1 (Dropout)          (None, 140, 2)            0         \n",
            "_________________________________________________________________\n",
            "max_pooling1d (MaxPooling1D) (None, 46, 2)             0         \n",
            "_________________________________________________________________\n",
            "conv1d_2 (Conv1D)            (None, 46, 4)             260       \n",
            "_________________________________________________________________\n",
            "batch_normalization_2 (Batch (None, 46, 4)             16        \n",
            "_________________________________________________________________\n",
            "activation_2 (Activation)    (None, 46, 4)             0         \n",
            "_________________________________________________________________\n",
            "dropout_2 (Dropout)          (None, 46, 4)             0         \n",
            "_________________________________________________________________\n",
            "conv1d_3 (Conv1D)            (None, 46, 4)             20        \n",
            "_________________________________________________________________\n",
            "batch_normalization_3 (Batch (None, 46, 4)             16        \n",
            "_________________________________________________________________\n",
            "activation_3 (Activation)    (None, 46, 4)             0         \n",
            "_________________________________________________________________\n",
            "dropout_3 (Dropout)          (None, 46, 4)             0         \n",
            "_________________________________________________________________\n",
            "max_pooling1d_1 (MaxPooling1 (None, 15, 4)             0         \n",
            "_________________________________________________________________\n",
            "conv1d_4 (Conv1D)            (None, 15, 8)             1032      \n",
            "_________________________________________________________________\n",
            "batch_normalization_4 (Batch (None, 15, 8)             32        \n",
            "_________________________________________________________________\n",
            "activation_4 (Activation)    (None, 15, 8)             0         \n",
            "_________________________________________________________________\n",
            "dropout_4 (Dropout)          (None, 15, 8)             0         \n",
            "_________________________________________________________________\n",
            "conv1d_5 (Conv1D)            (None, 15, 8)             72        \n",
            "_________________________________________________________________\n",
            "batch_normalization_5 (Batch (None, 15, 8)             32        \n",
            "_________________________________________________________________\n",
            "activation_5 (Activation)    (None, 15, 8)             0         \n",
            "_________________________________________________________________\n",
            "dropout_5 (Dropout)          (None, 15, 8)             0         \n",
            "_________________________________________________________________\n",
            "max_pooling1d_2 (MaxPooling1 (None, 5, 8)              0         \n",
            "_________________________________________________________________\n",
            "flatten (Flatten)            (None, 40)                0         \n",
            "_________________________________________________________________\n",
            "dense (Dense)                (None, 5)                 205       \n",
            "=================================================================\n",
            "Total params: 1,897\n",
            "Trainable params: 1,841\n",
            "Non-trainable params: 56\n",
            "_________________________________________________________________\n"
          ],
          "name": "stdout"
        }
      ]
    },
    {
      "cell_type": "code",
      "metadata": {
        "id": "7OJGuPjW9Z3e",
        "colab_type": "code",
        "colab": {
          "base_uri": "https://localhost:8080/",
          "height": 1000
        },
        "outputId": "5f1a90f8-85c5-4faf-9463-b11108ee4e72"
      },
      "source": [
        "%%time\n",
        "%matplotlib inline\n",
        "hist = CNN_1D.fit(X_train_1D,y_train_1H,X_val_1D,y_val_1H,y_val,batch_size=32,nb_epochs=30)"
      ],
      "execution_count": 27,
      "outputs": [
        {
          "output_type": "stream",
          "text": [
            "Epoch 1/30\n",
            "WARNING:tensorflow:From /usr/local/lib/python3.6/dist-packages/tensorflow/python/ops/resource_variable_ops.py:1817: calling BaseResourceVariable.__init__ (from tensorflow.python.ops.resource_variable_ops) with constraint is deprecated and will be removed in a future version.\n",
            "Instructions for updating:\n",
            "If using Keras pass *_constraint arguments to layers.\n",
            "125/125 [==============================] - 1s 11ms/step - loss: 0.3281 - accuracy: 0.9133 - val_loss: 0.5494 - val_accuracy: 0.9100\n",
            "Epoch 2/30\n",
            "125/125 [==============================] - 1s 9ms/step - loss: 0.2391 - accuracy: 0.9385 - val_loss: 0.3170 - val_accuracy: 0.9000\n",
            "Epoch 3/30\n",
            "125/125 [==============================] - 1s 9ms/step - loss: 0.2140 - accuracy: 0.9425 - val_loss: 0.3170 - val_accuracy: 0.9140\n",
            "Epoch 4/30\n",
            "125/125 [==============================] - 1s 9ms/step - loss: 0.2037 - accuracy: 0.9442 - val_loss: 0.2935 - val_accuracy: 0.9080\n",
            "Epoch 5/30\n",
            "125/125 [==============================] - 1s 9ms/step - loss: 0.1942 - accuracy: 0.9475 - val_loss: 0.2910 - val_accuracy: 0.9140\n",
            "Epoch 6/30\n",
            "125/125 [==============================] - 1s 9ms/step - loss: 0.1791 - accuracy: 0.9505 - val_loss: 0.2638 - val_accuracy: 0.9120\n",
            "Epoch 7/30\n",
            "125/125 [==============================] - 1s 9ms/step - loss: 0.1856 - accuracy: 0.9477 - val_loss: 0.2811 - val_accuracy: 0.9200\n",
            "Epoch 8/30\n",
            "125/125 [==============================] - 1s 9ms/step - loss: 0.1735 - accuracy: 0.9498 - val_loss: 0.2684 - val_accuracy: 0.9160\n",
            "Epoch 9/30\n",
            "125/125 [==============================] - 1s 8ms/step - loss: 0.1757 - accuracy: 0.9510 - val_loss: 0.2571 - val_accuracy: 0.9180\n",
            "Epoch 10/30\n",
            "125/125 [==============================] - 1s 9ms/step - loss: 0.1731 - accuracy: 0.9515 - val_loss: 0.2568 - val_accuracy: 0.9180\n",
            "Epoch 11/30\n",
            "125/125 [==============================] - 1s 9ms/step - loss: 0.1708 - accuracy: 0.9517 - val_loss: 0.2576 - val_accuracy: 0.9160\n",
            "Epoch 12/30\n",
            "125/125 [==============================] - 1s 9ms/step - loss: 0.1680 - accuracy: 0.9513 - val_loss: 0.2639 - val_accuracy: 0.9180\n",
            "Epoch 13/30\n",
            "125/125 [==============================] - 1s 9ms/step - loss: 0.1674 - accuracy: 0.9513 - val_loss: 0.2536 - val_accuracy: 0.9200\n",
            "Epoch 14/30\n",
            "125/125 [==============================] - 1s 9ms/step - loss: 0.1668 - accuracy: 0.9513 - val_loss: 0.2570 - val_accuracy: 0.9100\n",
            "Epoch 15/30\n",
            "125/125 [==============================] - 1s 9ms/step - loss: 0.1649 - accuracy: 0.9532 - val_loss: 0.2655 - val_accuracy: 0.9160\n",
            "Epoch 16/30\n",
            "125/125 [==============================] - 1s 9ms/step - loss: 0.1584 - accuracy: 0.9555 - val_loss: 0.2411 - val_accuracy: 0.9180\n",
            "Epoch 17/30\n",
            "125/125 [==============================] - 1s 8ms/step - loss: 0.1614 - accuracy: 0.9557 - val_loss: 0.2617 - val_accuracy: 0.9160\n",
            "Epoch 18/30\n",
            "125/125 [==============================] - 1s 9ms/step - loss: 0.1557 - accuracy: 0.9567 - val_loss: 0.2477 - val_accuracy: 0.9180\n",
            "Epoch 19/30\n",
            "125/125 [==============================] - 1s 8ms/step - loss: 0.1562 - accuracy: 0.9570 - val_loss: 0.2396 - val_accuracy: 0.9220\n",
            "Epoch 20/30\n",
            "125/125 [==============================] - 1s 9ms/step - loss: 0.1546 - accuracy: 0.9560 - val_loss: 0.2380 - val_accuracy: 0.9240\n",
            "Epoch 21/30\n",
            "125/125 [==============================] - 1s 9ms/step - loss: 0.1539 - accuracy: 0.9553 - val_loss: 0.2435 - val_accuracy: 0.9220\n",
            "Epoch 22/30\n",
            "125/125 [==============================] - 1s 9ms/step - loss: 0.1521 - accuracy: 0.9548 - val_loss: 0.2520 - val_accuracy: 0.9200\n",
            "Epoch 23/30\n",
            "125/125 [==============================] - 1s 8ms/step - loss: 0.1527 - accuracy: 0.9575 - val_loss: 0.2502 - val_accuracy: 0.9180\n",
            "Epoch 24/30\n",
            "125/125 [==============================] - 1s 9ms/step - loss: 0.1488 - accuracy: 0.9570 - val_loss: 0.2427 - val_accuracy: 0.9160\n",
            "Epoch 25/30\n",
            "125/125 [==============================] - 1s 9ms/step - loss: 0.1502 - accuracy: 0.9597 - val_loss: 0.2371 - val_accuracy: 0.9200\n",
            "Epoch 26/30\n",
            "125/125 [==============================] - 1s 9ms/step - loss: 0.1568 - accuracy: 0.9548 - val_loss: 0.2371 - val_accuracy: 0.9200\n",
            "Epoch 27/30\n",
            "125/125 [==============================] - 1s 9ms/step - loss: 0.1441 - accuracy: 0.9585 - val_loss: 0.2619 - val_accuracy: 0.9200\n",
            "Epoch 28/30\n",
            "125/125 [==============================] - 1s 8ms/step - loss: 0.1527 - accuracy: 0.9572 - val_loss: 0.2511 - val_accuracy: 0.9200\n",
            "Epoch 29/30\n",
            "125/125 [==============================] - 1s 8ms/step - loss: 0.1453 - accuracy: 0.9570 - val_loss: 0.2360 - val_accuracy: 0.9220\n",
            "Epoch 30/30\n",
            "125/125 [==============================] - 1s 9ms/step - loss: 0.1440 - accuracy: 0.9585 - val_loss: 0.2476 - val_accuracy: 0.9260\n"
          ],
          "name": "stdout"
        },
        {
          "output_type": "display_data",
          "data": {
            "image/png": "[encoded data removed]",
            "text/plain": [
              "<Figure size 432x288 with 1 Axes>"
            ]
          },
          "metadata": {
            "tags": []
          }
        },
        {
          "output_type": "stream",
          "text": [
            "CPU times: user 36.5 s, sys: 1.5 s, total: 38 s\n",
            "Wall time: 36.8 s\n"
          ],
          "name": "stdout"
        }
      ]
    },
    {
      "cell_type": "code",
      "metadata": {
        "id": "baV7UBbj9aCg",
        "colab_type": "code",
        "colab": {
          "base_uri": "https://localhost:8080/",
          "height": 119
        },
        "outputId": "816a0064-ec7f-4286-a375-a7ded3c762e7"
      },
      "source": [
        "CNN_1D = tf.keras.models.load_model('outputs/output_1DCNN/best_model.hdf5')\n",
        "y_pred = CNN_1D.predict(X_test_1D)\n",
        "y_pred = np.argmax(y_pred,axis=1)+1\n",
        "evaluate(y_test,y_pred)"
      ],
      "execution_count": 28,
      "outputs": [
        {
          "output_type": "stream",
          "text": [
            "WARNING:tensorflow:Error in loading the saved optimizer state. As a result, your model is starting with a freshly initialized optimizer.\n"
          ],
          "name": "stdout"
        },
        {
          "output_type": "execute_result",
          "data": {
            "text/html": [
              "<div>\n",
              "<style scoped>\n",
              "    .dataframe tbody tr th:only-of-type {\n",
              "        vertical-align: middle;\n",
              "    }\n",
              "\n",
              "    .dataframe tbody tr th {\n",
              "        vertical-align: top;\n",
              "    }\n",
              "\n",
              "    .dataframe thead th {\n",
              "        text-align: right;\n",
              "    }\n",
              "</style>\n",
              "<table border=\"1\" class=\"dataframe\">\n",
              "  <thead>\n",
              "    <tr style=\"text-align: right;\">\n",
              "      <th></th>\n",
              "      <th>accuracy</th>\n",
              "      <th>recall</th>\n",
              "      <th>precision</th>\n",
              "      <th>f1-score</th>\n",
              "    </tr>\n",
              "  </thead>\n",
              "  <tbody>\n",
              "    <tr>\n",
              "      <th>0</th>\n",
              "      <td>0.96</td>\n",
              "      <td>0.630132</td>\n",
              "      <td>0.70154</td>\n",
              "      <td>0.634616</td>\n",
              "    </tr>\n",
              "  </tbody>\n",
              "</table>\n",
              "</div>"
            ],
            "text/plain": [
              "   accuracy    recall  precision  f1-score\n",
              "0      0.96  0.630132    0.70154  0.634616"
            ]
          },
          "metadata": {
            "tags": []
          },
          "execution_count": 28
        }
      ]
    },
    {
      "cell_type": "code",
      "metadata": {
        "id": "SUItMXht9aL0",
        "colab_type": "code",
        "colab": {
          "base_uri": "https://localhost:8080/",
          "height": 206
        },
        "outputId": "c01bf8aa-c582-4108-d9ad-ee1f84555fa7"
      },
      "source": [
        "get_binary_metrics(y_test,y_pred)"
      ],
      "execution_count": 29,
      "outputs": [
        {
          "output_type": "execute_result",
          "data": {
            "text/html": [
              "<div>\n",
              "<style scoped>\n",
              "    .dataframe tbody tr th:only-of-type {\n",
              "        vertical-align: middle;\n",
              "    }\n",
              "\n",
              "    .dataframe tbody tr th {\n",
              "        vertical-align: top;\n",
              "    }\n",
              "\n",
              "    .dataframe thead th {\n",
              "        text-align: right;\n",
              "    }\n",
              "</style>\n",
              "<table border=\"1\" class=\"dataframe\">\n",
              "  <thead>\n",
              "    <tr style=\"text-align: right;\">\n",
              "      <th></th>\n",
              "      <th>recall</th>\n",
              "      <th>precision</th>\n",
              "      <th>f1-score</th>\n",
              "    </tr>\n",
              "  </thead>\n",
              "  <tbody>\n",
              "    <tr>\n",
              "      <th>1</th>\n",
              "      <td>0.993151</td>\n",
              "      <td>0.993151</td>\n",
              "      <td>0.993151</td>\n",
              "    </tr>\n",
              "    <tr>\n",
              "      <th>2</th>\n",
              "      <td>0.99435</td>\n",
              "      <td>0.931217</td>\n",
              "      <td>0.961749</td>\n",
              "    </tr>\n",
              "    <tr>\n",
              "      <th>3</th>\n",
              "      <td>0.9</td>\n",
              "      <td>0.75</td>\n",
              "      <td>0.818182</td>\n",
              "    </tr>\n",
              "    <tr>\n",
              "      <th>4</th>\n",
              "      <td>0.263158</td>\n",
              "      <td>0.833333</td>\n",
              "      <td>0.4</td>\n",
              "    </tr>\n",
              "    <tr>\n",
              "      <th>5</th>\n",
              "      <td>0</td>\n",
              "      <td>0</td>\n",
              "      <td>0</td>\n",
              "    </tr>\n",
              "  </tbody>\n",
              "</table>\n",
              "</div>"
            ],
            "text/plain": [
              "     recall precision  f1-score\n",
              "1  0.993151  0.993151  0.993151\n",
              "2   0.99435  0.931217  0.961749\n",
              "3       0.9      0.75  0.818182\n",
              "4  0.263158  0.833333       0.4\n",
              "5         0         0         0"
            ]
          },
          "metadata": {
            "tags": []
          },
          "execution_count": 29
        }
      ]
    },
    {
      "cell_type": "code",
      "metadata": {
        "id": "lrYFMWkFPP3N",
        "colab_type": "code",
        "colab": {
          "base_uri": "https://localhost:8080/",
          "height": 109
        },
        "outputId": "715ed792-a534-44be-a0fc-c7a0ab95ef7c"
      },
      "source": [
        "mat = confusion_matrix(y_test,y_pred)\n",
        "print(mat)"
      ],
      "execution_count": 30,
      "outputs": [
        {
          "output_type": "stream",
          "text": [
            "[[290   1   0   0   1]\n",
            " [  0 176   0   1   0]\n",
            " [  1   0   9   0   0]\n",
            " [  1  12   1   5   0]\n",
            " [  0   0   2   0   0]]\n"
          ],
          "name": "stdout"
        }
      ]
    },
    {
      "cell_type": "markdown",
      "metadata": {
        "colab_type": "text",
        "id": "KB4ySwZj_Nd-"
      },
      "source": [
        "#3. Interpreting models"
      ]
    },
    {
      "cell_type": "code",
      "metadata": {
        "colab_type": "code",
        "id": "UsfoOPD7A47h",
        "colab": {}
      },
      "source": [
        "from interpretation.cam import *"
      ],
      "execution_count": 0,
      "outputs": []
    },
    {
      "cell_type": "code",
      "metadata": {
        "colab_type": "code",
        "id": "YWEp_5bODl6q",
        "colab": {}
      },
      "source": [
        "not_normal = []\n",
        "for i in range(len(y_pred)):\n",
        "    if not y_pred[i]==0: \n",
        "        not_normal.append(i)"
      ],
      "execution_count": 0,
      "outputs": []
    },
    {
      "cell_type": "markdown",
      "metadata": {
        "colab_type": "text",
        "id": "lHxxo87aHSt9"
      },
      "source": [
        "## 3.1 ResNet model"
      ]
    },
    {
      "cell_type": "code",
      "metadata": {
        "colab_type": "code",
        "id": "QLtOassAvCJf",
        "colab": {
          "base_uri": "https://localhost:8080/",
          "height": 55
        },
        "outputId": "682f21b5-40b1-4bef-ab0a-0ab8e2c5bfa3"
      },
      "source": [
        "resnet_model = tf.keras.models.load_model('outputs/output_resnet/best_model.hdf5')"
      ],
      "execution_count": 33,
      "outputs": [
        {
          "output_type": "stream",
          "text": [
            "WARNING:tensorflow:Error in loading the saved optimizer state. As a result, your model is starting with a freshly initialized optimizer.\n"
          ],
          "name": "stdout"
        }
      ]
    },
    {
      "cell_type": "code",
      "metadata": {
        "colab_type": "code",
        "id": "1IeTqYTU07Zg",
        "outputId": "d03b77df-651e-4b06-96e8-5446d591995e",
        "colab": {
          "base_uri": "https://localhost:8080/",
          "height": 564
        }
      },
      "source": [
        "display_conv_activations(resnet_model,X_val_1D[not_normal[0]])"
      ],
      "execution_count": 34,
      "outputs": [
        {
          "output_type": "error",
          "ename": "AttributeError",
          "evalue": "ignored",
          "traceback": [
            "\u001b[0;31m---------------------------------------------------------------------------\u001b[0m",
            "\u001b[0;31mAttributeError\u001b[0m                            Traceback (most recent call last)",
            "\u001b[0;32m/usr/local/lib/python3.6/dist-packages/keract/keract.py\u001b[0m in \u001b[0;36m_evaluate\u001b[0;34m(model, nodes_to_evaluate, x, y, auto_compile)\u001b[0m\n\u001b[1;32m     44\u001b[0m     \u001b[0;32mtry\u001b[0m\u001b[0;34m:\u001b[0m\u001b[0;34m\u001b[0m\u001b[0;34m\u001b[0m\u001b[0m\n\u001b[0;32m---> 45\u001b[0;31m         \u001b[0;32mreturn\u001b[0m \u001b[0meval_fn\u001b[0m\u001b[0;34m(\u001b[0m\u001b[0mmodel\u001b[0m\u001b[0;34m.\u001b[0m\u001b[0m_feed_inputs\u001b[0m \u001b[0;34m+\u001b[0m \u001b[0mmodel\u001b[0m\u001b[0;34m.\u001b[0m\u001b[0m_feed_targets\u001b[0m \u001b[0;34m+\u001b[0m \u001b[0mmodel\u001b[0m\u001b[0;34m.\u001b[0m\u001b[0m_feed_sample_weights\u001b[0m\u001b[0;34m)\u001b[0m\u001b[0;34m\u001b[0m\u001b[0;34m\u001b[0m\u001b[0m\n\u001b[0m\u001b[1;32m     46\u001b[0m     \u001b[0;32mexcept\u001b[0m \u001b[0mException\u001b[0m\u001b[0;34m:\u001b[0m\u001b[0;34m\u001b[0m\u001b[0;34m\u001b[0m\u001b[0m\n",
            "\u001b[0;31mAttributeError\u001b[0m: 'Model' object has no attribute '_feed_targets'",
            "\nDuring handling of the above exception, another exception occurred:\n",
            "\u001b[0;31mAttributeError\u001b[0m                            Traceback (most recent call last)",
            "\u001b[0;32m<ipython-input-34-e22c743fe9e2>\u001b[0m in \u001b[0;36m<module>\u001b[0;34m()\u001b[0m\n\u001b[0;32m----> 1\u001b[0;31m \u001b[0mdisplay_conv_activations\u001b[0m\u001b[0;34m(\u001b[0m\u001b[0mresnet_model\u001b[0m\u001b[0;34m,\u001b[0m\u001b[0mX_val_1D\u001b[0m\u001b[0;34m[\u001b[0m\u001b[0mnot_normal\u001b[0m\u001b[0;34m[\u001b[0m\u001b[0;36m0\u001b[0m\u001b[0;34m]\u001b[0m\u001b[0;34m]\u001b[0m\u001b[0;34m)\u001b[0m\u001b[0;34m\u001b[0m\u001b[0;34m\u001b[0m\u001b[0m\n\u001b[0m",
            "\u001b[0;32m/content/Medical_Time_Series_Classification/interpretation/cam.py\u001b[0m in \u001b[0;36mdisplay_conv_activations\u001b[0;34m(model, sig)\u001b[0m\n\u001b[1;32m      9\u001b[0m         \u001b[0msig\u001b[0m \u001b[0;34m=\u001b[0m \u001b[0msig\u001b[0m\u001b[0;34m.\u001b[0m\u001b[0mreshape\u001b[0m\u001b[0;34m(\u001b[0m\u001b[0;36m1\u001b[0m\u001b[0;34m,\u001b[0m\u001b[0msig\u001b[0m\u001b[0;34m.\u001b[0m\u001b[0mshape\u001b[0m\u001b[0;34m[\u001b[0m\u001b[0;36m0\u001b[0m\u001b[0;34m]\u001b[0m\u001b[0;34m,\u001b[0m\u001b[0msig\u001b[0m\u001b[0;34m.\u001b[0m\u001b[0mshape\u001b[0m\u001b[0;34m[\u001b[0m\u001b[0;36m1\u001b[0m\u001b[0;34m]\u001b[0m\u001b[0;34m)\u001b[0m\u001b[0;34m\u001b[0m\u001b[0;34m\u001b[0m\u001b[0m\n\u001b[1;32m     10\u001b[0m     \u001b[0;31m#get activations\u001b[0m\u001b[0;34m\u001b[0m\u001b[0;34m\u001b[0m\u001b[0;34m\u001b[0m\u001b[0m\n\u001b[0;32m---> 11\u001b[0;31m     \u001b[0mactivations\u001b[0m \u001b[0;34m=\u001b[0m \u001b[0mkeract\u001b[0m\u001b[0;34m.\u001b[0m\u001b[0mget_activations\u001b[0m\u001b[0;34m(\u001b[0m\u001b[0mmodel\u001b[0m\u001b[0;34m,\u001b[0m \u001b[0msig\u001b[0m\u001b[0;34m)\u001b[0m\u001b[0;34m\u001b[0m\u001b[0;34m\u001b[0m\u001b[0m\n\u001b[0m\u001b[1;32m     12\u001b[0m     \u001b[0;31m#get convolutional layers keys\u001b[0m\u001b[0;34m\u001b[0m\u001b[0;34m\u001b[0m\u001b[0;34m\u001b[0m\u001b[0m\n\u001b[1;32m     13\u001b[0m     \u001b[0mconv_keys\u001b[0m \u001b[0;34m=\u001b[0m \u001b[0;34m[\u001b[0m\u001b[0mkey\u001b[0m \u001b[0;32mfor\u001b[0m \u001b[0mkey\u001b[0m \u001b[0;32min\u001b[0m \u001b[0mactivations\u001b[0m\u001b[0;34m.\u001b[0m\u001b[0mkeys\u001b[0m\u001b[0;34m(\u001b[0m\u001b[0;34m)\u001b[0m \u001b[0;32mif\u001b[0m \u001b[0;34m'conv'\u001b[0m \u001b[0;32min\u001b[0m \u001b[0mkey\u001b[0m\u001b[0;34m]\u001b[0m\u001b[0;34m\u001b[0m\u001b[0;34m\u001b[0m\u001b[0m\n",
            "\u001b[0;32m/usr/local/lib/python3.6/dist-packages/keract/keract.py\u001b[0m in \u001b[0;36mget_activations\u001b[0;34m(model, x, layer_name, nodes_to_evaluate, output_format, auto_compile)\u001b[0m\n\u001b[1;32m    151\u001b[0m     \u001b[0minput_layer_outputs\u001b[0m\u001b[0;34m,\u001b[0m \u001b[0mlayer_outputs\u001b[0m \u001b[0;34m=\u001b[0m \u001b[0;34m[\u001b[0m\u001b[0;34m]\u001b[0m\u001b[0;34m,\u001b[0m \u001b[0;34m[\u001b[0m\u001b[0;34m]\u001b[0m\u001b[0;34m\u001b[0m\u001b[0;34m\u001b[0m\u001b[0m\n\u001b[1;32m    152\u001b[0m     \u001b[0;34m[\u001b[0m\u001b[0minput_layer_outputs\u001b[0m\u001b[0;34m.\u001b[0m\u001b[0mappend\u001b[0m\u001b[0;34m(\u001b[0m\u001b[0mnode\u001b[0m\u001b[0;34m)\u001b[0m \u001b[0;32mif\u001b[0m \u001b[0;34m'input_'\u001b[0m \u001b[0;32min\u001b[0m \u001b[0mnode\u001b[0m\u001b[0;34m.\u001b[0m\u001b[0mname\u001b[0m \u001b[0;32melse\u001b[0m \u001b[0mlayer_outputs\u001b[0m\u001b[0;34m.\u001b[0m\u001b[0mappend\u001b[0m\u001b[0;34m(\u001b[0m\u001b[0mnode\u001b[0m\u001b[0;34m)\u001b[0m \u001b[0;32mfor\u001b[0m \u001b[0mnode\u001b[0m \u001b[0;32min\u001b[0m \u001b[0mnodes\u001b[0m\u001b[0;34m]\u001b[0m\u001b[0;34m\u001b[0m\u001b[0;34m\u001b[0m\u001b[0m\n\u001b[0;32m--> 153\u001b[0;31m     \u001b[0mactivations\u001b[0m \u001b[0;34m=\u001b[0m \u001b[0m_evaluate\u001b[0m\u001b[0;34m(\u001b[0m\u001b[0mmodel\u001b[0m\u001b[0;34m,\u001b[0m \u001b[0mlayer_outputs\u001b[0m\u001b[0;34m,\u001b[0m \u001b[0mx\u001b[0m\u001b[0;34m,\u001b[0m \u001b[0my\u001b[0m\u001b[0;34m=\u001b[0m\u001b[0;32mNone\u001b[0m\u001b[0;34m,\u001b[0m \u001b[0mauto_compile\u001b[0m\u001b[0;34m=\u001b[0m\u001b[0mauto_compile\u001b[0m\u001b[0;34m)\u001b[0m\u001b[0;34m\u001b[0m\u001b[0;34m\u001b[0m\u001b[0m\n\u001b[0m\u001b[1;32m    154\u001b[0m \u001b[0;34m\u001b[0m\u001b[0m\n\u001b[1;32m    155\u001b[0m     \u001b[0;32mdef\u001b[0m \u001b[0mcraft_output\u001b[0m\u001b[0;34m(\u001b[0m\u001b[0moutput_format_\u001b[0m\u001b[0;34m)\u001b[0m\u001b[0;34m:\u001b[0m\u001b[0;34m\u001b[0m\u001b[0;34m\u001b[0m\u001b[0m\n",
            "\u001b[0;32m/usr/local/lib/python3.6/dist-packages/keract/keract.py\u001b[0m in \u001b[0;36m_evaluate\u001b[0;34m(model, nodes_to_evaluate, x, y, auto_compile)\u001b[0m\n\u001b[1;32m     45\u001b[0m         \u001b[0;32mreturn\u001b[0m \u001b[0meval_fn\u001b[0m\u001b[0;34m(\u001b[0m\u001b[0mmodel\u001b[0m\u001b[0;34m.\u001b[0m\u001b[0m_feed_inputs\u001b[0m \u001b[0;34m+\u001b[0m \u001b[0mmodel\u001b[0m\u001b[0;34m.\u001b[0m\u001b[0m_feed_targets\u001b[0m \u001b[0;34m+\u001b[0m \u001b[0mmodel\u001b[0m\u001b[0;34m.\u001b[0m\u001b[0m_feed_sample_weights\u001b[0m\u001b[0;34m)\u001b[0m\u001b[0;34m\u001b[0m\u001b[0;34m\u001b[0m\u001b[0m\n\u001b[1;32m     46\u001b[0m     \u001b[0;32mexcept\u001b[0m \u001b[0mException\u001b[0m\u001b[0;34m:\u001b[0m\u001b[0;34m\u001b[0m\u001b[0;34m\u001b[0m\u001b[0m\n\u001b[0;32m---> 47\u001b[0;31m         \u001b[0;32mreturn\u001b[0m \u001b[0meval_fn\u001b[0m\u001b[0;34m(\u001b[0m\u001b[0mmodel\u001b[0m\u001b[0;34m.\u001b[0m\u001b[0m_feed_inputs\u001b[0m\u001b[0;34m)\u001b[0m\u001b[0;34m\u001b[0m\u001b[0;34m\u001b[0m\u001b[0m\n\u001b[0m\u001b[1;32m     48\u001b[0m \u001b[0;34m\u001b[0m\u001b[0m\n\u001b[1;32m     49\u001b[0m \u001b[0;34m\u001b[0m\u001b[0m\n",
            "\u001b[0;32m/usr/local/lib/python3.6/dist-packages/keract/keract.py\u001b[0m in \u001b[0;36meval_fn\u001b[0;34m(k_inputs)\u001b[0m\n\u001b[1;32m     40\u001b[0m \u001b[0;34m\u001b[0m\u001b[0m\n\u001b[1;32m     41\u001b[0m     \u001b[0;32mdef\u001b[0m \u001b[0meval_fn\u001b[0m\u001b[0;34m(\u001b[0m\u001b[0mk_inputs\u001b[0m\u001b[0;34m)\u001b[0m\u001b[0;34m:\u001b[0m\u001b[0;34m\u001b[0m\u001b[0;34m\u001b[0m\u001b[0m\n\u001b[0;32m---> 42\u001b[0;31m         \u001b[0;32mreturn\u001b[0m \u001b[0mK\u001b[0m\u001b[0;34m.\u001b[0m\u001b[0mfunction\u001b[0m\u001b[0;34m(\u001b[0m\u001b[0mk_inputs\u001b[0m\u001b[0;34m,\u001b[0m \u001b[0mnodes_to_evaluate\u001b[0m\u001b[0;34m)\u001b[0m\u001b[0;34m(\u001b[0m\u001b[0mmodel\u001b[0m\u001b[0;34m.\u001b[0m\u001b[0m_standardize_user_data\u001b[0m\u001b[0;34m(\u001b[0m\u001b[0mx\u001b[0m\u001b[0;34m,\u001b[0m \u001b[0my\u001b[0m\u001b[0;34m)\u001b[0m\u001b[0;34m)\u001b[0m\u001b[0;34m\u001b[0m\u001b[0;34m\u001b[0m\u001b[0m\n\u001b[0m\u001b[1;32m     43\u001b[0m \u001b[0;34m\u001b[0m\u001b[0m\n\u001b[1;32m     44\u001b[0m     \u001b[0;32mtry\u001b[0m\u001b[0;34m:\u001b[0m\u001b[0;34m\u001b[0m\u001b[0;34m\u001b[0m\u001b[0m\n",
            "\u001b[0;31mAttributeError\u001b[0m: 'Model' object has no attribute '_standardize_user_data'",
            "",
            "\u001b[0;31m---------------------------------------------------------------------------\u001b[0;32m\nNOTE: Current TensorFlow version is 2.2.0-rc1. To use TF 1.x instead,\nrestart your runtime (Ctrl+M .) and run \"%tensorflow_version 1.x\" before\nyou run \"import tensorflow\".\n\u001b[0;31m---------------------------------------------------------------------------\u001b[0m\n"
          ]
        }
      ]
    },
    {
      "cell_type": "code",
      "metadata": {
        "colab_type": "code",
        "id": "MIuU_2FcEwmG",
        "colab": {}
      },
      "source": [
        ""
      ],
      "execution_count": 0,
      "outputs": []
    }
  ]
}