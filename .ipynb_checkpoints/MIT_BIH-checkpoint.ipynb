{
 "cells": [
  {
   "cell_type": "code",
   "execution_count": null,
   "metadata": {
    "colab": {},
    "colab_type": "code",
    "id": "7g6ULdV1h9PP"
   },
   "outputs": [],
   "source": [
    "!pip install keract"
   ]
  },
  {
   "cell_type": "code",
   "execution_count": 2,
   "metadata": {
    "colab": {
     "base_uri": "https://localhost:8080/",
     "height": 122
    },
    "colab_type": "code",
    "id": "Ee6y2InMixTC",
    "outputId": "37148a87-3e4b-4eea-e65f-135f0a7698c5"
   },
   "outputs": [
    {
     "name": "stdout",
     "output_type": "stream",
     "text": [
      "Go to this URL in a browser: https://accounts.google.com/o/oauth2/auth?client_id=947318989803-6bn6qk8qdgf4n4g3pfee6491hc0brc4i.apps.googleusercontent.com&redirect_uri=urn%3aietf%3awg%3aoauth%3a2.0%3aoob&response_type=code&scope=email%20https%3a%2f%2fwww.googleapis.com%2fauth%2fdocs.test%20https%3a%2f%2fwww.googleapis.com%2fauth%2fdrive%20https%3a%2f%2fwww.googleapis.com%2fauth%2fdrive.photos.readonly%20https%3a%2f%2fwww.googleapis.com%2fauth%2fpeopleapi.readonly\n",
      "\n",
      "Enter your authorization code:\n",
      "··········\n",
      "Mounted at /content/drive\n"
     ]
    }
   ],
   "source": [
    "from google.colab import drive\n",
    "drive.mount('/content/drive')"
   ]
  },
  {
   "cell_type": "code",
   "execution_count": null,
   "metadata": {
    "colab": {},
    "colab_type": "code",
    "id": "qF-n-lNLjUzK"
   },
   "outputs": [],
   "source": [
    "import os \n",
    "os.chdir('/content/drive/My Drive/MVA/S2/DLMI')"
   ]
  },
  {
   "cell_type": "markdown",
   "metadata": {
    "colab_type": "text",
    "id": "4H5Lmd2tjfIr"
   },
   "source": [
    "# Imports"
   ]
  },
  {
   "cell_type": "code",
   "execution_count": 1,
   "metadata": {
    "colab": {},
    "colab_type": "code",
    "id": "8qejGm9yuYHU"
   },
   "outputs": [],
   "source": [
    "%load_ext autoreload\n",
    "%autoreload 2"
   ]
  },
  {
   "cell_type": "code",
   "execution_count": 2,
   "metadata": {
    "colab": {
     "base_uri": "https://localhost:8080/",
     "height": 34
    },
    "colab_type": "code",
    "id": "--N9sUiGjdxY",
    "outputId": "5305730d-1d0c-4c20-acfe-1bec9743cbb8"
   },
   "outputs": [
    {
     "name": "stderr",
     "output_type": "stream",
     "text": [
      "Using TensorFlow backend.\n"
     ]
    }
   ],
   "source": [
    "#import keract\n",
    "import pandas as pd\n",
    "import numpy as np \n",
    "import matplotlib.pyplot as plt\n",
    "from keras.utils import to_categorical\n",
    "from sklearn.model_selection import StratifiedShuffleSplit\n",
    "from sklearn.metrics import confusion_matrix,recall_score,accuracy_score,precision_score\n",
    "import keras\n",
    "import tensorflow as tf\n",
    "from utils.evaluation import *\n",
    "from utils.utils import read_dataset,split_dataset,visualize_mitbih\n",
    "%matplotlib inline"
   ]
  },
  {
   "cell_type": "markdown",
   "metadata": {
    "colab_type": "text",
    "id": "_RIyONMlItgI"
   },
   "source": [
    "# 1. Data importation and visualization"
   ]
  },
  {
   "cell_type": "code",
   "execution_count": 3,
   "metadata": {
    "colab": {},
    "colab_type": "code",
    "id": "tHI0lYE0CxWD"
   },
   "outputs": [],
   "source": [
    "data,labels = read_dataset('../mitbih_train.csv','MIT-BIH')"
   ]
  },
  {
   "cell_type": "code",
   "execution_count": null,
   "metadata": {
    "colab": {
     "base_uri": "https://localhost:8080/",
     "height": 281
    },
    "colab_type": "code",
    "id": "CZbtDPPykCId",
    "outputId": "c43007b8-a11d-453d-843f-785974ed3d49"
   },
   "outputs": [
    {
     "data": {
      "image/png": "[encoded data removed]",
      "text/plain": [
       "<Figure size 432x288 with 1 Axes>"
      ]
     },
     "metadata": {
      "tags": []
     },
     "output_type": "display_data"
    }
   ],
   "source": [
    "plt.hist(labels)\n",
    "plt.title('Distribution of labels across the dataset')\n",
    "plt.show()"
   ]
  },
  {
   "cell_type": "code",
   "execution_count": null,
   "metadata": {
    "colab": {
     "base_uri": "https://localhost:8080/",
     "height": 235
    },
    "colab_type": "code",
    "id": "qd9t1I1CJCCq",
    "outputId": "e1505be7-75a9-4af4-97e9-f8c276e0f34d"
   },
   "outputs": [
    {
     "data": {
      "text/html": [
       "<div>\n",
       "<style scoped>\n",
       "    .dataframe tbody tr th:only-of-type {\n",
       "        vertical-align: middle;\n",
       "    }\n",
       "\n",
       "    .dataframe tbody tr th {\n",
       "        vertical-align: top;\n",
       "    }\n",
       "\n",
       "    .dataframe thead th {\n",
       "        text-align: right;\n",
       "    }\n",
       "</style>\n",
       "<table border=\"1\" class=\"dataframe\">\n",
       "  <thead>\n",
       "    <tr style=\"text-align: right;\">\n",
       "      <th></th>\n",
       "      <th>proportion</th>\n",
       "    </tr>\n",
       "    <tr>\n",
       "      <th>label</th>\n",
       "      <th></th>\n",
       "    </tr>\n",
       "  </thead>\n",
       "  <tbody>\n",
       "    <tr>\n",
       "      <th>0</th>\n",
       "      <td>0.827729</td>\n",
       "    </tr>\n",
       "    <tr>\n",
       "      <th>1</th>\n",
       "      <td>0.025390</td>\n",
       "    </tr>\n",
       "    <tr>\n",
       "      <th>2</th>\n",
       "      <td>0.066108</td>\n",
       "    </tr>\n",
       "    <tr>\n",
       "      <th>3</th>\n",
       "      <td>0.007321</td>\n",
       "    </tr>\n",
       "    <tr>\n",
       "      <th>4</th>\n",
       "      <td>0.073452</td>\n",
       "    </tr>\n",
       "  </tbody>\n",
       "</table>\n",
       "</div>"
      ],
      "text/plain": [
       "       proportion\n",
       "label            \n",
       "0        0.827729\n",
       "1        0.025390\n",
       "2        0.066108\n",
       "3        0.007321\n",
       "4        0.073452"
      ]
     },
     "execution_count": 6,
     "metadata": {
      "tags": []
     },
     "output_type": "execute_result"
    }
   ],
   "source": [
    "unique_labels,props = np.unique(labels,return_counts=True)\n",
    "df_props = pd.DataFrame([],columns=['proportion'],index = unique_labels)\n",
    "df_props.index.name='label'\n",
    "df_props['proportion'] = props/np.sum(props)\n",
    "df_props"
   ]
  },
  {
   "cell_type": "code",
   "execution_count": 19,
   "metadata": {
    "colab": {
     "base_uri": "https://localhost:8080/",
     "height": 320
    },
    "colab_type": "code",
    "id": "1NyvXMMbkWA1",
    "outputId": "13353a6c-a605-428a-b5ef-8bf927eca9f4"
   },
   "outputs": [
    {
     "data": {
      "image/png": "[encoded data removed]",
      "text/plain": [
       "<Figure size 1008x360 with 1 Axes>"
      ]
     },
     "metadata": {
      "needs_background": "light"
     },
     "output_type": "display_data"
    }
   ],
   "source": [
    "visualize_mitbih(data,labels)"
   ]
  },
  {
   "cell_type": "markdown",
   "metadata": {
    "colab_type": "text",
    "id": "sLQqrjK3OUvo"
   },
   "source": [
    "# 2. Splitting dataset"
   ]
  },
  {
   "cell_type": "markdown",
   "metadata": {
    "colab_type": "text",
    "id": "a61eZ3UtPliQ"
   },
   "source": [
    "We first split the dataset into three parts (training validation test), while keeping the proportions intact."
   ]
  },
  {
   "cell_type": "code",
   "execution_count": 4,
   "metadata": {
    "colab": {},
    "colab_type": "code",
    "id": "1RHIwsk0JB8n"
   },
   "outputs": [],
   "source": [
    "xtrain,ytrain,xval,yval,y_val_true, xtest,ytest,y_test_true = split_dataset(data,labels,validation=True)"
   ]
  },
  {
   "cell_type": "markdown",
   "metadata": {
    "colab_type": "text",
    "id": "zpjKZGSFlUQC"
   },
   "source": [
    "# 3. Testing models"
   ]
  },
  {
   "cell_type": "code",
   "execution_count": null,
   "metadata": {
    "colab": {},
    "colab_type": "code",
    "id": "_u89_ASqsO2d"
   },
   "outputs": [],
   "source": [
    "%matplotlib inline"
   ]
  },
  {
   "cell_type": "markdown",
   "metadata": {
    "colab_type": "text",
    "id": "jeIx_XbEZJQ8"
   },
   "source": [
    "## 3.1 MLP"
   ]
  },
  {
   "cell_type": "code",
   "execution_count": 10,
   "metadata": {
    "colab": {},
    "colab_type": "code",
    "id": "rUtVcgXPVedG"
   },
   "outputs": [],
   "source": [
    "from models.mlp import Classifier_MLP"
   ]
  },
  {
   "cell_type": "code",
   "execution_count": 11,
   "metadata": {
    "colab": {
     "base_uri": "https://localhost:8080/",
     "height": 459
    },
    "colab_type": "code",
    "id": "Lhv8FKI3dopV",
    "outputId": "aa336290-724a-42b6-bf88-c47d785e3f72"
   },
   "outputs": [
    {
     "name": "stdout",
     "output_type": "stream",
     "text": [
      "Model: \"sequential\"\n",
      "_________________________________________________________________\n",
      "Layer (type)                 Output Shape              Param #   \n",
      "=================================================================\n",
      "flatten (Flatten)            (None, 187)               0         \n",
      "_________________________________________________________________\n",
      "dropout (Dropout)            (None, 187)               0         \n",
      "_________________________________________________________________\n",
      "dense_2 (Dense)              (None, 500)               94000     \n",
      "_________________________________________________________________\n",
      "dropout_1 (Dropout)          (None, 500)               0         \n",
      "_________________________________________________________________\n",
      "dense_3 (Dense)              (None, 500)               250500    \n",
      "_________________________________________________________________\n",
      "dropout_2 (Dropout)          (None, 500)               0         \n",
      "_________________________________________________________________\n",
      "dense_4 (Dense)              (None, 500)               250500    \n",
      "_________________________________________________________________\n",
      "dropout_3 (Dropout)          (None, 500)               0         \n",
      "_________________________________________________________________\n",
      "dense_5 (Dense)              (None, 5)                 2505      \n",
      "=================================================================\n",
      "Total params: 597,505\n",
      "Trainable params: 597,505\n",
      "Non-trainable params: 0\n",
      "_________________________________________________________________\n"
     ]
    }
   ],
   "source": [
    "mlp = Classifier_MLP(output_directory='outputs/output_mlp/',input_shape=(data.shape[1],),\n",
    "                     nb_classes = 5,verbose=True,\n",
    "                     hidden_layers_size=(500,500,500))"
   ]
  },
  {
   "cell_type": "code",
   "execution_count": 16,
   "metadata": {
    "colab": {
     "base_uri": "https://localhost:8080/",
     "height": 1000
    },
    "colab_type": "code",
    "id": "hx5wRLHQeJxn",
    "outputId": "63bb2a9c-33fb-4ad5-bc90-74f189d1efed"
   },
   "outputs": [
    {
     "name": "stdout",
     "output_type": "stream",
     "text": [
      "Epoch 1/100\n",
      "821/821 [==============================] - 3s 4ms/step - loss: 1.4198 - accuracy: 0.6187 - val_loss: 1.1456 - val_accuracy: 0.8277 - lr: 0.0010\n",
      "Epoch 2/100\n",
      "821/821 [==============================] - 3s 3ms/step - loss: 0.9854 - accuracy: 0.8277 - val_loss: 0.8793 - val_accuracy: 0.8277 - lr: 0.0010\n",
      "Epoch 3/100\n",
      "821/821 [==============================] - 3s 3ms/step - loss: 0.8435 - accuracy: 0.8277 - val_loss: 0.8038 - val_accuracy: 0.8277 - lr: 0.0010\n",
      "Epoch 4/100\n",
      "821/821 [==============================] - 3s 3ms/step - loss: 0.7895 - accuracy: 0.8277 - val_loss: 0.7533 - val_accuracy: 0.8277 - lr: 0.0010\n",
      "Epoch 5/100\n",
      "821/821 [==============================] - 3s 3ms/step - loss: 0.7458 - accuracy: 0.8277 - val_loss: 0.7080 - val_accuracy: 0.8277 - lr: 0.0010\n",
      "Epoch 6/100\n",
      "821/821 [==============================] - 3s 3ms/step - loss: 0.7084 - accuracy: 0.8277 - val_loss: 0.6670 - val_accuracy: 0.8277 - lr: 0.0010\n",
      "Epoch 7/100\n",
      "821/821 [==============================] - 3s 3ms/step - loss: 0.6751 - accuracy: 0.8277 - val_loss: 0.6305 - val_accuracy: 0.8277 - lr: 0.0010\n",
      "Epoch 8/100\n",
      "821/821 [==============================] - 3s 3ms/step - loss: 0.6441 - accuracy: 0.8277 - val_loss: 0.5990 - val_accuracy: 0.8277 - lr: 0.0010\n",
      "Epoch 9/100\n",
      "821/821 [==============================] - 3s 3ms/step - loss: 0.6183 - accuracy: 0.8280 - val_loss: 0.5731 - val_accuracy: 0.8277 - lr: 0.0010\n",
      "Epoch 10/100\n",
      "821/821 [==============================] - 3s 3ms/step - loss: 0.5964 - accuracy: 0.8292 - val_loss: 0.5515 - val_accuracy: 0.8363 - lr: 0.0010\n",
      "Epoch 11/100\n",
      "821/821 [==============================] - 3s 3ms/step - loss: 0.5787 - accuracy: 0.8321 - val_loss: 0.5339 - val_accuracy: 0.8502 - lr: 0.0010\n",
      "Epoch 12/100\n",
      "821/821 [==============================] - 3s 3ms/step - loss: 0.5642 - accuracy: 0.8370 - val_loss: 0.5186 - val_accuracy: 0.8571 - lr: 0.0010\n",
      "Epoch 13/100\n",
      "821/821 [==============================] - 3s 3ms/step - loss: 0.5505 - accuracy: 0.8417 - val_loss: 0.5060 - val_accuracy: 0.8634 - lr: 0.0010\n",
      "Epoch 14/100\n",
      "821/821 [==============================] - 3s 3ms/step - loss: 0.5388 - accuracy: 0.8474 - val_loss: 0.4951 - val_accuracy: 0.8687 - lr: 0.0010\n",
      "Epoch 15/100\n",
      "821/821 [==============================] - 3s 3ms/step - loss: 0.5296 - accuracy: 0.8512 - val_loss: 0.4843 - val_accuracy: 0.8713 - lr: 0.0010\n",
      "Epoch 16/100\n",
      "821/821 [==============================] - 3s 3ms/step - loss: 0.5209 - accuracy: 0.8561 - val_loss: 0.4747 - val_accuracy: 0.8730 - lr: 0.0010\n",
      "Epoch 17/100\n",
      "821/821 [==============================] - 3s 3ms/step - loss: 0.5119 - accuracy: 0.8588 - val_loss: 0.4664 - val_accuracy: 0.8752 - lr: 0.0010\n",
      "Epoch 18/100\n",
      "821/821 [==============================] - 3s 3ms/step - loss: 0.5029 - accuracy: 0.8624 - val_loss: 0.4591 - val_accuracy: 0.8768 - lr: 0.0010\n",
      "Epoch 19/100\n",
      "821/821 [==============================] - 3s 3ms/step - loss: 0.4986 - accuracy: 0.8646 - val_loss: 0.4524 - val_accuracy: 0.8781 - lr: 0.0010\n",
      "Epoch 20/100\n",
      "821/821 [==============================] - 3s 3ms/step - loss: 0.4907 - accuracy: 0.8656 - val_loss: 0.4454 - val_accuracy: 0.8790 - lr: 0.0010\n",
      "Epoch 21/100\n",
      "821/821 [==============================] - 3s 3ms/step - loss: 0.4838 - accuracy: 0.8681 - val_loss: 0.4385 - val_accuracy: 0.8800 - lr: 0.0010\n",
      "Epoch 22/100\n",
      "821/821 [==============================] - 3s 3ms/step - loss: 0.4780 - accuracy: 0.8699 - val_loss: 0.4337 - val_accuracy: 0.8814 - lr: 0.0010\n",
      "Epoch 23/100\n",
      "821/821 [==============================] - 3s 3ms/step - loss: 0.4736 - accuracy: 0.8716 - val_loss: 0.4284 - val_accuracy: 0.8826 - lr: 0.0010\n",
      "Epoch 24/100\n",
      "821/821 [==============================] - 3s 3ms/step - loss: 0.4677 - accuracy: 0.8731 - val_loss: 0.4226 - val_accuracy: 0.8832 - lr: 0.0010\n",
      "Epoch 25/100\n",
      "821/821 [==============================] - 3s 3ms/step - loss: 0.4644 - accuracy: 0.8727 - val_loss: 0.4168 - val_accuracy: 0.8833 - lr: 0.0010\n",
      "Epoch 26/100\n",
      "821/821 [==============================] - 3s 3ms/step - loss: 0.4585 - accuracy: 0.8745 - val_loss: 0.4130 - val_accuracy: 0.8842 - lr: 0.0010\n",
      "Epoch 27/100\n",
      "821/821 [==============================] - 3s 3ms/step - loss: 0.4524 - accuracy: 0.8749 - val_loss: 0.4091 - val_accuracy: 0.8849 - lr: 0.0010\n",
      "Epoch 28/100\n",
      "821/821 [==============================] - 3s 3ms/step - loss: 0.4501 - accuracy: 0.8754 - val_loss: 0.4051 - val_accuracy: 0.8859 - lr: 0.0010\n",
      "Epoch 29/100\n",
      "821/821 [==============================] - 3s 3ms/step - loss: 0.4455 - accuracy: 0.8766 - val_loss: 0.4008 - val_accuracy: 0.8866 - lr: 0.0010\n",
      "Epoch 30/100\n",
      "821/821 [==============================] - 3s 3ms/step - loss: 0.4436 - accuracy: 0.8773 - val_loss: 0.3971 - val_accuracy: 0.8872 - lr: 0.0010\n",
      "Epoch 31/100\n",
      "821/821 [==============================] - 3s 3ms/step - loss: 0.4395 - accuracy: 0.8778 - val_loss: 0.3940 - val_accuracy: 0.8881 - lr: 0.0010\n",
      "Epoch 32/100\n",
      "821/821 [==============================] - 3s 3ms/step - loss: 0.4345 - accuracy: 0.8787 - val_loss: 0.3903 - val_accuracy: 0.8885 - lr: 0.0010\n",
      "Epoch 33/100\n",
      "821/821 [==============================] - 3s 3ms/step - loss: 0.4314 - accuracy: 0.8784 - val_loss: 0.3869 - val_accuracy: 0.8895 - lr: 0.0010\n",
      "Epoch 34/100\n",
      "821/821 [==============================] - 3s 3ms/step - loss: 0.4318 - accuracy: 0.8791 - val_loss: 0.3841 - val_accuracy: 0.8902 - lr: 0.0010\n",
      "Epoch 35/100\n",
      "821/821 [==============================] - 3s 3ms/step - loss: 0.4272 - accuracy: 0.8791 - val_loss: 0.3813 - val_accuracy: 0.8908 - lr: 0.0010\n",
      "Epoch 36/100\n",
      "821/821 [==============================] - 3s 3ms/step - loss: 0.4272 - accuracy: 0.8803 - val_loss: 0.3793 - val_accuracy: 0.8922 - lr: 0.0010\n",
      "Epoch 37/100\n",
      "821/821 [==============================] - 3s 3ms/step - loss: 0.4216 - accuracy: 0.8817 - val_loss: 0.3762 - val_accuracy: 0.8930 - lr: 0.0010\n",
      "Epoch 38/100\n",
      "821/821 [==============================] - 3s 3ms/step - loss: 0.4191 - accuracy: 0.8819 - val_loss: 0.3733 - val_accuracy: 0.8941 - lr: 0.0010\n",
      "Epoch 39/100\n",
      "821/821 [==============================] - 3s 3ms/step - loss: 0.4165 - accuracy: 0.8819 - val_loss: 0.3717 - val_accuracy: 0.8945 - lr: 0.0010\n",
      "Epoch 40/100\n",
      "821/821 [==============================] - 3s 3ms/step - loss: 0.4139 - accuracy: 0.8831 - val_loss: 0.3683 - val_accuracy: 0.8953 - lr: 0.0010\n",
      "Epoch 41/100\n",
      "821/821 [==============================] - 3s 3ms/step - loss: 0.4132 - accuracy: 0.8825 - val_loss: 0.3665 - val_accuracy: 0.8960 - lr: 0.0010\n",
      "Epoch 42/100\n",
      "821/821 [==============================] - 3s 3ms/step - loss: 0.4092 - accuracy: 0.8840 - val_loss: 0.3640 - val_accuracy: 0.8964 - lr: 0.0010\n",
      "Epoch 43/100\n",
      "821/821 [==============================] - 3s 3ms/step - loss: 0.4079 - accuracy: 0.8847 - val_loss: 0.3622 - val_accuracy: 0.8966 - lr: 0.0010\n",
      "Epoch 44/100\n",
      "821/821 [==============================] - 3s 3ms/step - loss: 0.4041 - accuracy: 0.8843 - val_loss: 0.3595 - val_accuracy: 0.8974 - lr: 0.0010\n",
      "Epoch 45/100\n",
      "821/821 [==============================] - 3s 3ms/step - loss: 0.4029 - accuracy: 0.8860 - val_loss: 0.3575 - val_accuracy: 0.8981 - lr: 0.0010\n",
      "Epoch 46/100\n",
      "821/821 [==============================] - 3s 3ms/step - loss: 0.3995 - accuracy: 0.8862 - val_loss: 0.3558 - val_accuracy: 0.8984 - lr: 0.0010\n",
      "Epoch 47/100\n",
      "821/821 [==============================] - 3s 3ms/step - loss: 0.3994 - accuracy: 0.8864 - val_loss: 0.3536 - val_accuracy: 0.8990 - lr: 0.0010\n",
      "Epoch 48/100\n",
      "821/821 [==============================] - 3s 3ms/step - loss: 0.3950 - accuracy: 0.8877 - val_loss: 0.3519 - val_accuracy: 0.8991 - lr: 0.0010\n",
      "Epoch 49/100\n",
      "821/821 [==============================] - 3s 3ms/step - loss: 0.3930 - accuracy: 0.8877 - val_loss: 0.3498 - val_accuracy: 0.8992 - lr: 0.0010\n",
      "Epoch 50/100\n",
      "821/821 [==============================] - 3s 3ms/step - loss: 0.3922 - accuracy: 0.8894 - val_loss: 0.3474 - val_accuracy: 0.8993 - lr: 0.0010\n",
      "Epoch 51/100\n",
      "821/821 [==============================] - 3s 3ms/step - loss: 0.3899 - accuracy: 0.8885 - val_loss: 0.3453 - val_accuracy: 0.8997 - lr: 0.0010\n",
      "Epoch 52/100\n",
      "821/821 [==============================] - 3s 3ms/step - loss: 0.3878 - accuracy: 0.8896 - val_loss: 0.3437 - val_accuracy: 0.9006 - lr: 0.0010\n",
      "Epoch 53/100\n",
      "821/821 [==============================] - 3s 3ms/step - loss: 0.3877 - accuracy: 0.8892 - val_loss: 0.3411 - val_accuracy: 0.9010 - lr: 0.0010\n",
      "Epoch 54/100\n",
      "821/821 [==============================] - 3s 3ms/step - loss: 0.3850 - accuracy: 0.8912 - val_loss: 0.3402 - val_accuracy: 0.9019 - lr: 0.0010\n",
      "Epoch 55/100\n",
      "821/821 [==============================] - 3s 3ms/step - loss: 0.3820 - accuracy: 0.8904 - val_loss: 0.3386 - val_accuracy: 0.9030 - lr: 0.0010\n",
      "Epoch 56/100\n",
      "821/821 [==============================] - 3s 3ms/step - loss: 0.3800 - accuracy: 0.8917 - val_loss: 0.3362 - val_accuracy: 0.9037 - lr: 0.0010\n",
      "Epoch 57/100\n",
      "821/821 [==============================] - 3s 3ms/step - loss: 0.3788 - accuracy: 0.8924 - val_loss: 0.3342 - val_accuracy: 0.9043 - lr: 0.0010\n",
      "Epoch 58/100\n",
      "821/821 [==============================] - 3s 3ms/step - loss: 0.3779 - accuracy: 0.8922 - val_loss: 0.3327 - val_accuracy: 0.9045 - lr: 0.0010\n",
      "Epoch 59/100\n",
      "821/821 [==============================] - 3s 3ms/step - loss: 0.3746 - accuracy: 0.8931 - val_loss: 0.3306 - val_accuracy: 0.9058 - lr: 0.0010\n",
      "Epoch 60/100\n",
      "821/821 [==============================] - 3s 3ms/step - loss: 0.3722 - accuracy: 0.8936 - val_loss: 0.3297 - val_accuracy: 0.9067 - lr: 0.0010\n",
      "Epoch 61/100\n",
      "821/821 [==============================] - 3s 3ms/step - loss: 0.3718 - accuracy: 0.8942 - val_loss: 0.3282 - val_accuracy: 0.9070 - lr: 0.0010\n",
      "Epoch 62/100\n",
      "821/821 [==============================] - 3s 3ms/step - loss: 0.3709 - accuracy: 0.8950 - val_loss: 0.3265 - val_accuracy: 0.9074 - lr: 0.0010\n",
      "Epoch 63/100\n",
      "821/821 [==============================] - 3s 3ms/step - loss: 0.3667 - accuracy: 0.8950 - val_loss: 0.3250 - val_accuracy: 0.9080 - lr: 0.0010\n",
      "Epoch 64/100\n",
      "821/821 [==============================] - 3s 3ms/step - loss: 0.3657 - accuracy: 0.8961 - val_loss: 0.3236 - val_accuracy: 0.9086 - lr: 0.0010\n",
      "Epoch 65/100\n",
      "821/821 [==============================] - 3s 3ms/step - loss: 0.3639 - accuracy: 0.8960 - val_loss: 0.3216 - val_accuracy: 0.9093 - lr: 0.0010\n",
      "Epoch 66/100\n",
      "821/821 [==============================] - 3s 3ms/step - loss: 0.3648 - accuracy: 0.8969 - val_loss: 0.3201 - val_accuracy: 0.9098 - lr: 0.0010\n",
      "Epoch 67/100\n",
      "821/821 [==============================] - 3s 3ms/step - loss: 0.3603 - accuracy: 0.8976 - val_loss: 0.3178 - val_accuracy: 0.9101 - lr: 0.0010\n",
      "Epoch 68/100\n",
      "821/821 [==============================] - 3s 3ms/step - loss: 0.3615 - accuracy: 0.8978 - val_loss: 0.3165 - val_accuracy: 0.9105 - lr: 0.0010\n",
      "Epoch 69/100\n",
      "821/821 [==============================] - 3s 3ms/step - loss: 0.3591 - accuracy: 0.8988 - val_loss: 0.3147 - val_accuracy: 0.9106 - lr: 0.0010\n",
      "Epoch 70/100\n",
      "821/821 [==============================] - 3s 3ms/step - loss: 0.3581 - accuracy: 0.8981 - val_loss: 0.3138 - val_accuracy: 0.9116 - lr: 0.0010\n",
      "Epoch 71/100\n",
      "821/821 [==============================] - 3s 3ms/step - loss: 0.3542 - accuracy: 0.8993 - val_loss: 0.3123 - val_accuracy: 0.9119 - lr: 0.0010\n",
      "Epoch 72/100\n",
      "821/821 [==============================] - 3s 3ms/step - loss: 0.3531 - accuracy: 0.9003 - val_loss: 0.3106 - val_accuracy: 0.9123 - lr: 0.0010\n",
      "Epoch 73/100\n",
      "821/821 [==============================] - 3s 3ms/step - loss: 0.3503 - accuracy: 0.9009 - val_loss: 0.3094 - val_accuracy: 0.9126 - lr: 0.0010\n",
      "Epoch 74/100\n",
      "821/821 [==============================] - 3s 3ms/step - loss: 0.3530 - accuracy: 0.9002 - val_loss: 0.3082 - val_accuracy: 0.9126 - lr: 0.0010\n",
      "Epoch 75/100\n",
      "821/821 [==============================] - 3s 3ms/step - loss: 0.3500 - accuracy: 0.9012 - val_loss: 0.3074 - val_accuracy: 0.9130 - lr: 0.0010\n",
      "Epoch 76/100\n",
      "821/821 [==============================] - 3s 3ms/step - loss: 0.3474 - accuracy: 0.9013 - val_loss: 0.3050 - val_accuracy: 0.9138 - lr: 0.0010\n",
      "Epoch 77/100\n",
      "821/821 [==============================] - 3s 3ms/step - loss: 0.3460 - accuracy: 0.9024 - val_loss: 0.3044 - val_accuracy: 0.9141 - lr: 0.0010\n",
      "Epoch 78/100\n",
      "821/821 [==============================] - 3s 3ms/step - loss: 0.3445 - accuracy: 0.9028 - val_loss: 0.3021 - val_accuracy: 0.9147 - lr: 0.0010\n",
      "Epoch 79/100\n",
      "821/821 [==============================] - 3s 3ms/step - loss: 0.3446 - accuracy: 0.9025 - val_loss: 0.3009 - val_accuracy: 0.9149 - lr: 0.0010\n",
      "Epoch 80/100\n",
      "821/821 [==============================] - 3s 3ms/step - loss: 0.3437 - accuracy: 0.9031 - val_loss: 0.2995 - val_accuracy: 0.9150 - lr: 0.0010\n",
      "Epoch 81/100\n",
      "821/821 [==============================] - 3s 3ms/step - loss: 0.3414 - accuracy: 0.9033 - val_loss: 0.2986 - val_accuracy: 0.9160 - lr: 0.0010\n",
      "Epoch 82/100\n",
      "821/821 [==============================] - 3s 3ms/step - loss: 0.3393 - accuracy: 0.9047 - val_loss: 0.2966 - val_accuracy: 0.9162 - lr: 0.0010\n",
      "Epoch 83/100\n",
      "821/821 [==============================] - 3s 4ms/step - loss: 0.3367 - accuracy: 0.9060 - val_loss: 0.2954 - val_accuracy: 0.9165 - lr: 0.0010\n",
      "Epoch 84/100\n",
      "821/821 [==============================] - 3s 3ms/step - loss: 0.3370 - accuracy: 0.9049 - val_loss: 0.2947 - val_accuracy: 0.9171 - lr: 0.0010\n",
      "Epoch 85/100\n",
      "821/821 [==============================] - 3s 3ms/step - loss: 0.3341 - accuracy: 0.9058 - val_loss: 0.2934 - val_accuracy: 0.9177 - lr: 0.0010\n",
      "Epoch 86/100\n",
      "821/821 [==============================] - 3s 3ms/step - loss: 0.3356 - accuracy: 0.9055 - val_loss: 0.2925 - val_accuracy: 0.9179 - lr: 0.0010\n",
      "Epoch 87/100\n",
      "821/821 [==============================] - 3s 3ms/step - loss: 0.3338 - accuracy: 0.9064 - val_loss: 0.2907 - val_accuracy: 0.9183 - lr: 0.0010\n",
      "Epoch 88/100\n",
      "821/821 [==============================] - 3s 3ms/step - loss: 0.3314 - accuracy: 0.9070 - val_loss: 0.2902 - val_accuracy: 0.9183 - lr: 0.0010\n",
      "Epoch 89/100\n",
      "821/821 [==============================] - 3s 3ms/step - loss: 0.3316 - accuracy: 0.9060 - val_loss: 0.2887 - val_accuracy: 0.9186 - lr: 0.0010\n",
      "Epoch 90/100\n",
      "821/821 [==============================] - 3s 3ms/step - loss: 0.3305 - accuracy: 0.9076 - val_loss: 0.2869 - val_accuracy: 0.9190 - lr: 0.0010\n",
      "Epoch 91/100\n",
      "821/821 [==============================] - 3s 3ms/step - loss: 0.3281 - accuracy: 0.9081 - val_loss: 0.2866 - val_accuracy: 0.9193 - lr: 0.0010\n",
      "Epoch 92/100\n",
      "821/821 [==============================] - 3s 3ms/step - loss: 0.3254 - accuracy: 0.9080 - val_loss: 0.2851 - val_accuracy: 0.9195 - lr: 0.0010\n",
      "Epoch 93/100\n",
      "821/821 [==============================] - 3s 3ms/step - loss: 0.3259 - accuracy: 0.9077 - val_loss: 0.2838 - val_accuracy: 0.9200 - lr: 0.0010\n",
      "Epoch 94/100\n",
      "821/821 [==============================] - 3s 3ms/step - loss: 0.3236 - accuracy: 0.9095 - val_loss: 0.2823 - val_accuracy: 0.9205 - lr: 0.0010\n",
      "Epoch 95/100\n",
      "821/821 [==============================] - 3s 3ms/step - loss: 0.3227 - accuracy: 0.9089 - val_loss: 0.2817 - val_accuracy: 0.9203 - lr: 0.0010\n",
      "Epoch 96/100\n",
      "821/821 [==============================] - 3s 3ms/step - loss: 0.3208 - accuracy: 0.9100 - val_loss: 0.2808 - val_accuracy: 0.9205 - lr: 0.0010\n",
      "Epoch 97/100\n",
      "821/821 [==============================] - 3s 3ms/step - loss: 0.3201 - accuracy: 0.9106 - val_loss: 0.2798 - val_accuracy: 0.9205 - lr: 0.0010\n",
      "Epoch 98/100\n",
      "821/821 [==============================] - 3s 3ms/step - loss: 0.3195 - accuracy: 0.9096 - val_loss: 0.2792 - val_accuracy: 0.9203 - lr: 0.0010\n",
      "Epoch 99/100\n",
      "821/821 [==============================] - 3s 3ms/step - loss: 0.3180 - accuracy: 0.9105 - val_loss: 0.2775 - val_accuracy: 0.9207 - lr: 0.0010\n",
      "Epoch 100/100\n",
      "821/821 [==============================] - 3s 3ms/step - loss: 0.3175 - accuracy: 0.9116 - val_loss: 0.2761 - val_accuracy: 0.9211 - lr: 0.0010\n"
     ]
    },
    {
     "data": {
      "image/png": "[encoded data removed]",
      "text/plain": [
       "<Figure size 432x288 with 1 Axes>"
      ]
     },
     "metadata": {
      "tags": []
     },
     "output_type": "display_data"
    }
   ],
   "source": [
    "%matplotlib inline\n",
    "hist = mlp.fit(xtrain,ytrain,xval,yval,y_val_true,batch_size=64,nb_epochs=100)"
   ]
  },
  {
   "cell_type": "markdown",
   "metadata": {
    "colab_type": "text",
    "id": "xpeE9S9Xy1eP"
   },
   "source": [
    "Let's evaluate our predictions on the validation set: "
   ]
  },
  {
   "cell_type": "code",
   "execution_count": 18,
   "metadata": {
    "colab": {
     "base_uri": "https://localhost:8080/",
     "height": 117
    },
    "colab_type": "code",
    "id": "3TyDynjRgWut",
    "outputId": "f1eaf87a-157f-497c-aaf5-5d4589379499"
   },
   "outputs": [
    {
     "name": "stdout",
     "output_type": "stream",
     "text": [
      "WARNING:tensorflow:Error in loading the saved optimizer state. As a result, your model is starting with a freshly initialized optimizer.\n"
     ]
    },
    {
     "data": {
      "text/html": [
       "<div>\n",
       "<style scoped>\n",
       "    .dataframe tbody tr th:only-of-type {\n",
       "        vertical-align: middle;\n",
       "    }\n",
       "\n",
       "    .dataframe tbody tr th {\n",
       "        vertical-align: top;\n",
       "    }\n",
       "\n",
       "    .dataframe thead th {\n",
       "        text-align: right;\n",
       "    }\n",
       "</style>\n",
       "<table border=\"1\" class=\"dataframe\">\n",
       "  <thead>\n",
       "    <tr style=\"text-align: right;\">\n",
       "      <th></th>\n",
       "      <th>accuracy</th>\n",
       "      <th>recall</th>\n",
       "      <th>precision</th>\n",
       "      <th>f1-score</th>\n",
       "    </tr>\n",
       "  </thead>\n",
       "  <tbody>\n",
       "    <tr>\n",
       "      <th>0</th>\n",
       "      <td>0.921135</td>\n",
       "      <td>0.488251</td>\n",
       "      <td>0.560305</td>\n",
       "      <td>0.504909</td>\n",
       "    </tr>\n",
       "  </tbody>\n",
       "</table>\n",
       "</div>"
      ],
      "text/plain": [
       "   accuracy    recall  precision  f1-score\n",
       "0  0.921135  0.488251   0.560305  0.504909"
      ]
     },
     "execution_count": 18,
     "metadata": {
      "tags": []
     },
     "output_type": "execute_result"
    }
   ],
   "source": [
    "ypred = mlp.predict(xval,np.argmax(yval,axis=1),return_df_metrics=False)\n",
    "ypred = np.argmax(ypred,axis=1)\n",
    "evaluate(y_val_true,ypred)"
   ]
  },
  {
   "cell_type": "markdown",
   "metadata": {
    "colab_type": "text",
    "id": "7vUT-Zy1yiMA"
   },
   "source": [
    "Let's be more precise on each class. The following scores are computed considering each label against all the others."
   ]
  },
  {
   "cell_type": "code",
   "execution_count": 20,
   "metadata": {
    "colab": {
     "base_uri": "https://localhost:8080/",
     "height": 204
    },
    "colab_type": "code",
    "id": "H75TzCd_yUBK",
    "outputId": "ea29aafe-a16c-4026-d632-601dc21ea071"
   },
   "outputs": [
    {
     "data": {
      "text/html": [
       "<div>\n",
       "<style scoped>\n",
       "    .dataframe tbody tr th:only-of-type {\n",
       "        vertical-align: middle;\n",
       "    }\n",
       "\n",
       "    .dataframe tbody tr th {\n",
       "        vertical-align: top;\n",
       "    }\n",
       "\n",
       "    .dataframe thead th {\n",
       "        text-align: right;\n",
       "    }\n",
       "</style>\n",
       "<table border=\"1\" class=\"dataframe\">\n",
       "  <thead>\n",
       "    <tr style=\"text-align: right;\">\n",
       "      <th></th>\n",
       "      <th>recall</th>\n",
       "      <th>precision</th>\n",
       "      <th>f1-score</th>\n",
       "    </tr>\n",
       "  </thead>\n",
       "  <tbody>\n",
       "    <tr>\n",
       "      <th>0</th>\n",
       "      <td>0.989306</td>\n",
       "      <td>0.929776</td>\n",
       "      <td>0.958617</td>\n",
       "    </tr>\n",
       "    <tr>\n",
       "      <th>1</th>\n",
       "      <td>0.00675676</td>\n",
       "      <td>0.157895</td>\n",
       "      <td>0.012959</td>\n",
       "    </tr>\n",
       "    <tr>\n",
       "      <th>2</th>\n",
       "      <td>0.557858</td>\n",
       "      <td>0.829268</td>\n",
       "      <td>0.667011</td>\n",
       "    </tr>\n",
       "    <tr>\n",
       "      <th>3</th>\n",
       "      <td>0</td>\n",
       "      <td>0</td>\n",
       "      <td>0</td>\n",
       "    </tr>\n",
       "    <tr>\n",
       "      <th>4</th>\n",
       "      <td>0.887335</td>\n",
       "      <td>0.884586</td>\n",
       "      <td>0.885958</td>\n",
       "    </tr>\n",
       "  </tbody>\n",
       "</table>\n",
       "</div>"
      ],
      "text/plain": [
       "       recall precision  f1-score\n",
       "0    0.989306  0.929776  0.958617\n",
       "1  0.00675676  0.157895  0.012959\n",
       "2    0.557858  0.829268  0.667011\n",
       "3           0         0         0\n",
       "4    0.887335  0.884586  0.885958"
      ]
     },
     "execution_count": 20,
     "metadata": {
      "tags": []
     },
     "output_type": "execute_result"
    }
   ],
   "source": [
    "get_binary_metrics(y_val_true,ypred)"
   ]
  },
  {
   "cell_type": "markdown",
   "metadata": {},
   "source": [
    "## 3.2 1D CNN"
   ]
  },
  {
   "cell_type": "code",
   "execution_count": 24,
   "metadata": {},
   "outputs": [
    {
     "ename": "SyntaxError",
     "evalue": "invalid syntax (<ipython-input-24-37d842f9728f>, line 1)",
     "output_type": "error",
     "traceback": [
      "\u001b[0;36m  File \u001b[0;32m\"<ipython-input-24-37d842f9728f>\"\u001b[0;36m, line \u001b[0;32m1\u001b[0m\n\u001b[0;31m    from models.1D_CNN import Classifier_1DCNN\u001b[0m\n\u001b[0m                ^\u001b[0m\n\u001b[0;31mSyntaxError\u001b[0m\u001b[0;31m:\u001b[0m invalid syntax\n"
     ]
    }
   ],
   "source": [
    "from models.1D_CNN import Classifier_1DCNN"
   ]
  },
  {
   "cell_type": "code",
   "execution_count": null,
   "metadata": {},
   "outputs": [],
   "source": [
    "#convolutional layers require a different shape\n",
    "xtrain_r = xtrain.reshape(xtrain.shape[0],xtrain.shape[1],1)\n",
    "xval_r = xval.reshape(xval.shape[0],xval.shape[1],1)"
   ]
  },
  {
   "cell_type": "code",
   "execution_count": null,
   "metadata": {},
   "outputs": [],
   "source": [
    "cnn = Classifier_1DCNN('outputs/output_cnn', \n",
    "                       n_conv_block=2, n_filters=(64,64), kern_size=(5,5), \n",
    "                       n_stride=1, \n",
    "                       input_shape=(data.shape[1],1), \n",
    "                       add_FC=True, n_unit_FC=100,\n",
    "                       verbose=True)"
   ]
  },
  {
   "cell_type": "code",
   "execution_count": null,
   "metadata": {},
   "outputs": [],
   "source": [
    "hist = cnn.fit(xtrain,ytrain,xval,yval,y_val_true,batch_size=32,nb_epochs=10)"
   ]
  },
  {
   "cell_type": "code",
   "execution_count": null,
   "metadata": {},
   "outputs": [],
   "source": [
    "ypred = cnn.predict(xval_r,np.argmax(yval,axis=1),return_df_metrics=False)\n",
    "ypred = np.argmax(ypred,axis=1)\n",
    "evaluate(y_val_true,ypred)"
   ]
  },
  {
   "cell_type": "code",
   "execution_count": null,
   "metadata": {},
   "outputs": [],
   "source": [
    "get_binary_metrics(y_val_true,ypred)"
   ]
  },
  {
   "cell_type": "markdown",
   "metadata": {
    "colab_type": "text",
    "id": "zoEGIWWQ8GDS"
   },
   "source": [
    "## 3.3 ResNet"
   ]
  },
  {
   "cell_type": "code",
   "execution_count": 5,
   "metadata": {
    "colab": {},
    "colab_type": "code",
    "id": "3_jFCOaTWMUo"
   },
   "outputs": [],
   "source": [
    "from models.resnet import Classifier_RESNET"
   ]
  },
  {
   "cell_type": "code",
   "execution_count": 6,
   "metadata": {
    "colab": {},
    "colab_type": "code",
    "id": "taN6T_He8H8R"
   },
   "outputs": [],
   "source": [
    "#resnet requires a different shape since it is based on convolutional layers\n",
    "xtrain_r = xtrain.reshape(xtrain.shape[0],xtrain.shape[1],1)\n",
    "xval_r = xval.reshape(xval.shape[0],xval.shape[1],1)"
   ]
  },
  {
   "cell_type": "code",
   "execution_count": 13,
   "metadata": {
    "colab": {
     "base_uri": "https://localhost:8080/",
     "height": 1000
    },
    "colab_type": "code",
    "id": "lzEzuEo533AL",
    "outputId": "407d6cb7-1514-4e25-ddb7-d8df9a377054"
   },
   "outputs": [
    {
     "name": "stdout",
     "output_type": "stream",
     "text": [
      "Model: \"model_3\"\n",
      "__________________________________________________________________________________________________\n",
      "Layer (type)                    Output Shape         Param #     Connected to                     \n",
      "==================================================================================================\n",
      "input_5 (InputLayer)            [(None, 187, 1)]     0                                            \n",
      "__________________________________________________________________________________________________\n",
      "conv1d_33 (Conv1D)              (None, 187, 50)      450         input_5[0][0]                    \n",
      "__________________________________________________________________________________________________\n",
      "batch_normalization_36 (BatchNo (None, 187, 50)      200         conv1d_33[0][0]                  \n",
      "__________________________________________________________________________________________________\n",
      "activation_27 (Activation)      (None, 187, 50)      0           batch_normalization_36[0][0]     \n",
      "__________________________________________________________________________________________________\n",
      "conv1d_34 (Conv1D)              (None, 187, 50)      12550       activation_27[0][0]              \n",
      "__________________________________________________________________________________________________\n",
      "batch_normalization_37 (BatchNo (None, 187, 50)      200         conv1d_34[0][0]                  \n",
      "__________________________________________________________________________________________________\n",
      "activation_28 (Activation)      (None, 187, 50)      0           batch_normalization_37[0][0]     \n",
      "__________________________________________________________________________________________________\n",
      "conv1d_36 (Conv1D)              (None, 187, 50)      150         input_5[0][0]                    \n",
      "__________________________________________________________________________________________________\n",
      "conv1d_35 (Conv1D)              (None, 187, 50)      7550        activation_28[0][0]              \n",
      "__________________________________________________________________________________________________\n",
      "batch_normalization_39 (BatchNo (None, 187, 50)      200         conv1d_36[0][0]                  \n",
      "__________________________________________________________________________________________________\n",
      "batch_normalization_38 (BatchNo (None, 187, 50)      200         conv1d_35[0][0]                  \n",
      "__________________________________________________________________________________________________\n",
      "add_9 (Add)                     (None, 187, 50)      0           batch_normalization_39[0][0]     \n",
      "                                                                 batch_normalization_38[0][0]     \n",
      "__________________________________________________________________________________________________\n",
      "activation_29 (Activation)      (None, 187, 50)      0           add_9[0][0]                      \n",
      "__________________________________________________________________________________________________\n",
      "conv1d_37 (Conv1D)              (None, 187, 100)     40100       activation_29[0][0]              \n",
      "__________________________________________________________________________________________________\n",
      "batch_normalization_40 (BatchNo (None, 187, 100)     400         conv1d_37[0][0]                  \n",
      "__________________________________________________________________________________________________\n",
      "activation_30 (Activation)      (None, 187, 100)     0           batch_normalization_40[0][0]     \n",
      "__________________________________________________________________________________________________\n",
      "conv1d_38 (Conv1D)              (None, 187, 100)     50100       activation_30[0][0]              \n",
      "__________________________________________________________________________________________________\n",
      "batch_normalization_41 (BatchNo (None, 187, 100)     400         conv1d_38[0][0]                  \n",
      "__________________________________________________________________________________________________\n",
      "activation_31 (Activation)      (None, 187, 100)     0           batch_normalization_41[0][0]     \n",
      "__________________________________________________________________________________________________\n",
      "conv1d_40 (Conv1D)              (None, 187, 100)     10100       activation_29[0][0]              \n",
      "__________________________________________________________________________________________________\n",
      "conv1d_39 (Conv1D)              (None, 187, 100)     30100       activation_31[0][0]              \n",
      "__________________________________________________________________________________________________\n",
      "batch_normalization_43 (BatchNo (None, 187, 100)     400         conv1d_40[0][0]                  \n",
      "__________________________________________________________________________________________________\n",
      "batch_normalization_42 (BatchNo (None, 187, 100)     400         conv1d_39[0][0]                  \n",
      "__________________________________________________________________________________________________\n",
      "add_10 (Add)                    (None, 187, 100)     0           batch_normalization_43[0][0]     \n",
      "                                                                 batch_normalization_42[0][0]     \n",
      "__________________________________________________________________________________________________\n",
      "activation_32 (Activation)      (None, 187, 100)     0           add_10[0][0]                     \n",
      "__________________________________________________________________________________________________\n",
      "conv1d_41 (Conv1D)              (None, 187, 100)     80100       activation_32[0][0]              \n",
      "__________________________________________________________________________________________________\n",
      "batch_normalization_44 (BatchNo (None, 187, 100)     400         conv1d_41[0][0]                  \n",
      "__________________________________________________________________________________________________\n",
      "activation_33 (Activation)      (None, 187, 100)     0           batch_normalization_44[0][0]     \n",
      "__________________________________________________________________________________________________\n",
      "conv1d_42 (Conv1D)              (None, 187, 100)     50100       activation_33[0][0]              \n",
      "__________________________________________________________________________________________________\n",
      "batch_normalization_45 (BatchNo (None, 187, 100)     400         conv1d_42[0][0]                  \n",
      "__________________________________________________________________________________________________\n",
      "activation_34 (Activation)      (None, 187, 100)     0           batch_normalization_45[0][0]     \n",
      "__________________________________________________________________________________________________\n",
      "conv1d_43 (Conv1D)              (None, 187, 100)     30100       activation_34[0][0]              \n",
      "__________________________________________________________________________________________________\n",
      "batch_normalization_47 (BatchNo (None, 187, 100)     400         activation_32[0][0]              \n",
      "__________________________________________________________________________________________________\n",
      "batch_normalization_46 (BatchNo (None, 187, 100)     400         conv1d_43[0][0]                  \n",
      "__________________________________________________________________________________________________\n",
      "add_11 (Add)                    (None, 187, 100)     0           batch_normalization_47[0][0]     \n",
      "                                                                 batch_normalization_46[0][0]     \n",
      "__________________________________________________________________________________________________\n",
      "activation_35 (Activation)      (None, 187, 100)     0           add_11[0][0]                     \n",
      "__________________________________________________________________________________________________\n",
      "global_average_pooling1d_3 (Glo (None, 100)          0           activation_35[0][0]              \n",
      "__________________________________________________________________________________________________\n",
      "dense_7 (Dense)                 (None, 5)            505         global_average_pooling1d_3[0][0] \n",
      "==================================================================================================\n",
      "Total params: 315,905\n",
      "Trainable params: 313,905\n",
      "Non-trainable params: 2,000\n",
      "__________________________________________________________________________________________________\n"
     ]
    }
   ],
   "source": [
    "resnet = Classifier_RESNET('outputs/output_resnet',input_shape=(data.shape[1],1),\n",
    "                           nb_classes=5,n_feature_maps = (50,100,100),kernel_size=(8,5,3,2),\n",
    "                           verbose=1,load_weights=False)"
   ]
  },
  {
   "cell_type": "code",
   "execution_count": null,
   "metadata": {
    "colab": {
     "base_uri": "https://localhost:8080/",
     "height": 403
    },
    "colab_type": "code",
    "id": "l2eehf0H42Vu",
    "outputId": "7e02c6da-8b6d-4dea-dc21-370e8a00cffe"
   },
   "outputs": [
    {
     "name": "stdout",
     "output_type": "stream",
     "text": [
      "Train on 52532 samples, validate on 17511 samples\n",
      "Epoch 1/2\n",
      "52532/52532 [==============================] - 33s 623us/sample - loss: 0.1921 - accuracy: 0.9462 - val_loss: 0.2189 - val_accuracy: 0.9305\n",
      "Epoch 2/2\n",
      "52480/52532 [============================>.] - ETA: 0s - loss: 0.1256 - accuracy: 0.9639"
     ]
    },
    {
     "data": {
      "image/png": "[encoded data removed]",
      "text/plain": [
       "<Figure size 432x288 with 1 Axes>"
      ]
     },
     "metadata": {
      "tags": []
     },
     "output_type": "display_data"
    }
   ],
   "source": [
    "%matplotlib inline\n",
    "hist = resnet.fit(xtrain_r,ytrain,xval_r,yval,y_val_true,batch_size=32,nb_epochs=2)"
   ]
  },
  {
   "cell_type": "code",
   "execution_count": null,
   "metadata": {
    "colab": {
     "base_uri": "https://localhost:8080/",
     "height": 80
    },
    "colab_type": "code",
    "id": "lV_tQ2pdE6nT",
    "outputId": "c8dc5abc-f9f5-4e93-f82f-b3efbae809d6"
   },
   "outputs": [
    {
     "data": {
      "text/html": [
       "<div>\n",
       "<style scoped>\n",
       "    .dataframe tbody tr th:only-of-type {\n",
       "        vertical-align: middle;\n",
       "    }\n",
       "\n",
       "    .dataframe tbody tr th {\n",
       "        vertical-align: top;\n",
       "    }\n",
       "\n",
       "    .dataframe thead th {\n",
       "        text-align: right;\n",
       "    }\n",
       "</style>\n",
       "<table border=\"1\" class=\"dataframe\">\n",
       "  <thead>\n",
       "    <tr style=\"text-align: right;\">\n",
       "      <th></th>\n",
       "      <th>accuracy</th>\n",
       "      <th>recall</th>\n",
       "      <th>precision</th>\n",
       "      <th>f1-score</th>\n",
       "    </tr>\n",
       "  </thead>\n",
       "  <tbody>\n",
       "    <tr>\n",
       "      <th>0</th>\n",
       "      <td>0.959397</td>\n",
       "      <td>0.775616</td>\n",
       "      <td>0.903069</td>\n",
       "      <td>0.810847</td>\n",
       "    </tr>\n",
       "  </tbody>\n",
       "</table>\n",
       "</div>"
      ],
      "text/plain": [
       "   accuracy    recall  precision  f1-score\n",
       "0  0.959397  0.775616   0.903069  0.810847"
      ]
     },
     "execution_count": 10,
     "metadata": {
      "tags": []
     },
     "output_type": "execute_result"
    }
   ],
   "source": [
    "ypred = resnet.predict(xval_r,np.argmax(yval,axis=1),return_df_metrics=False)\n",
    "ypred = np.argmax(ypred,axis=1)\n",
    "evaluate(y_val_true,ypred)"
   ]
  },
  {
   "cell_type": "code",
   "execution_count": null,
   "metadata": {
    "colab": {
     "base_uri": "https://localhost:8080/",
     "height": 204
    },
    "colab_type": "code",
    "id": "wm1WjpQdUkhh",
    "outputId": "e269c4cb-09db-405b-e47e-1c7ec453d8d2"
   },
   "outputs": [
    {
     "data": {
      "text/html": [
       "<div>\n",
       "<style scoped>\n",
       "    .dataframe tbody tr th:only-of-type {\n",
       "        vertical-align: middle;\n",
       "    }\n",
       "\n",
       "    .dataframe tbody tr th {\n",
       "        vertical-align: top;\n",
       "    }\n",
       "\n",
       "    .dataframe thead th {\n",
       "        text-align: right;\n",
       "    }\n",
       "</style>\n",
       "<table border=\"1\" class=\"dataframe\">\n",
       "  <thead>\n",
       "    <tr style=\"text-align: right;\">\n",
       "      <th></th>\n",
       "      <th>recall</th>\n",
       "      <th>precision</th>\n",
       "      <th>f1-score</th>\n",
       "    </tr>\n",
       "  </thead>\n",
       "  <tbody>\n",
       "    <tr>\n",
       "      <th>0</th>\n",
       "      <td>0.97668</td>\n",
       "      <td>0.981964</td>\n",
       "      <td>0.979315</td>\n",
       "    </tr>\n",
       "    <tr>\n",
       "      <th>1</th>\n",
       "      <td>0.513514</td>\n",
       "      <td>0.904762</td>\n",
       "      <td>0.655172</td>\n",
       "    </tr>\n",
       "    <tr>\n",
       "      <th>2</th>\n",
       "      <td>0.953368</td>\n",
       "      <td>0.754614</td>\n",
       "      <td>0.842427</td>\n",
       "    </tr>\n",
       "    <tr>\n",
       "      <th>3</th>\n",
       "      <td>0.460938</td>\n",
       "      <td>0.921875</td>\n",
       "      <td>0.614583</td>\n",
       "    </tr>\n",
       "    <tr>\n",
       "      <th>4</th>\n",
       "      <td>0.973582</td>\n",
       "      <td>0.952128</td>\n",
       "      <td>0.962735</td>\n",
       "    </tr>\n",
       "  </tbody>\n",
       "</table>\n",
       "</div>"
      ],
      "text/plain": [
       "     recall precision  f1-score\n",
       "0   0.97668  0.981964  0.979315\n",
       "1  0.513514  0.904762  0.655172\n",
       "2  0.953368  0.754614  0.842427\n",
       "3  0.460938  0.921875  0.614583\n",
       "4  0.973582  0.952128  0.962735"
      ]
     },
     "execution_count": 11,
     "metadata": {
      "tags": []
     },
     "output_type": "execute_result"
    }
   ],
   "source": [
    "get_binary_metrics(y_val_true,ypred)"
   ]
  },
  {
   "cell_type": "markdown",
   "metadata": {
    "colab_type": "text",
    "id": "KB4ySwZj_Nd-"
   },
   "source": [
    "# 4. Interpreting models"
   ]
  },
  {
   "cell_type": "code",
   "execution_count": null,
   "metadata": {
    "colab": {},
    "colab_type": "code",
    "id": "UsfoOPD7A47h"
   },
   "outputs": [],
   "source": [
    "from interpretation.cam import *"
   ]
  },
  {
   "cell_type": "code",
   "execution_count": null,
   "metadata": {
    "colab": {},
    "colab_type": "code",
    "id": "YWEp_5bODl6q"
   },
   "outputs": [],
   "source": [
    "not_normal = []\n",
    "for i in range(len(ypred)):\n",
    "    if not ypred[i]==0: \n",
    "        not_normal.append(i)"
   ]
  },
  {
   "cell_type": "markdown",
   "metadata": {},
   "source": [
    "## 4.1 1D-CNN model"
   ]
  },
  {
   "cell_type": "code",
   "execution_count": null,
   "metadata": {},
   "outputs": [],
   "source": [
    "cnn_model = tf.keras.load_model('output_cnn/best_model.hdf5')"
   ]
  },
  {
   "cell_type": "code",
   "execution_count": null,
   "metadata": {},
   "outputs": [],
   "source": [
    "display_conv_activations(resnet_model,xval_r[not_normal[0]])"
   ]
  },
  {
   "cell_type": "markdown",
   "metadata": {
    "colab_type": "text",
    "id": "lHxxo87aHSt9"
   },
   "source": [
    "## 4.2 ResNet model"
   ]
  },
  {
   "cell_type": "code",
   "execution_count": null,
   "metadata": {
    "colab": {},
    "colab_type": "code",
    "id": "QLtOassAvCJf"
   },
   "outputs": [],
   "source": [
    "resnet_model = tf.keras.models.load_model('output_resnet/best_model.hdf5')"
   ]
  },
  {
   "cell_type": "code",
   "execution_count": null,
   "metadata": {
    "colab": {
     "base_uri": "https://localhost:8080/",
     "height": 406
    },
    "colab_type": "code",
    "id": "1IeTqYTU07Zg",
    "outputId": "23d2fb0a-3b78-4bf6-de43-cd8fd1412fcd"
   },
   "outputs": [
    {
     "name": "stdout",
     "output_type": "stream",
     "text": [
      "Warning: only the 10 last layers will be displayed\n"
     ]
    },
    {
     "data": {
      "image/png": "[encoded data removed]",
      "text/plain": [
       "<Figure size 1296x360 with 20 Axes>"
      ]
     },
     "metadata": {
      "tags": []
     },
     "output_type": "display_data"
    }
   ],
   "source": [
    "display_conv_activations(resnet_model,xval_r[not_normal[0]])"
   ]
  },
  {
   "cell_type": "code",
   "execution_count": null,
   "metadata": {
    "colab": {},
    "colab_type": "code",
    "id": "MIuU_2FcEwmG"
   },
   "outputs": [],
   "source": []
  }
 ],
 "metadata": {
  "accelerator": "GPU",
  "colab": {
   "collapsed_sections": [],
   "name": "MIT_BIH.ipynb",
   "provenance": [],
   "toc_visible": true
  },
  "kernelspec": {
   "display_name": "Python 3",
   "language": "python",
   "name": "python3"
  },
  "language_info": {
   "codemirror_mode": {
    "name": "ipython",
    "version": 3
   },
   "file_extension": ".py",
   "mimetype": "text/x-python",
   "name": "python",
   "nbconvert_exporter": "python",
   "pygments_lexer": "ipython3",
   "version": "3.7.4"
  }
 },
 "nbformat": 4,
 "nbformat_minor": 4
}
