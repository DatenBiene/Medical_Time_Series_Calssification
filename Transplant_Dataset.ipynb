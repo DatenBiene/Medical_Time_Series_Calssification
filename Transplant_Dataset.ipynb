{
 "cells": [
  {
   "cell_type": "code",
   "execution_count": 1,
   "metadata": {},
   "outputs": [
    {
     "name": "stderr",
     "output_type": "stream",
     "text": [
      "Using TensorFlow backend.\n"
     ]
    }
   ],
   "source": [
    "import pandas as pd\n",
    "import numpy as np\n",
    "\n",
    "from utils.utils import split_dataset\n",
    "\n",
    "from sktime.utils.load_data import from_long_to_nested\n",
    "from sklearn.metrics import accuracy_score"
   ]
  },
  {
   "cell_type": "code",
   "execution_count": 2,
   "metadata": {},
   "outputs": [],
   "source": [
    "full_array = np.load('data/Foch_transplant.npy', allow_pickle=True)\n",
    "col = np.load('data/Foch_transplant_name_col.npy', allow_pickle=True)"
   ]
  },
  {
   "cell_type": "code",
   "execution_count": 3,
   "metadata": {},
   "outputs": [],
   "source": [
    "df = pd.DataFrame(full_array, columns=col)"
   ]
  },
  {
   "cell_type": "code",
   "execution_count": 4,
   "metadata": {},
   "outputs": [
    {
     "name": "stdout",
     "output_type": "stream",
     "text": [
      "Wall time: 6.32 s\n"
     ]
    }
   ],
   "source": [
    "%%time\n",
    "dic1 = {'case_id':[], 'dim_id':[], 'reading_id':[], 'value':[]}\n",
    "nb_max = df['SpO2_by_FiO2'].apply(len).max()\n",
    "\n",
    "# keep only time series\n",
    "for k, col in enumerate(['B.I.S', 'BIS SR', 'DC', 'ETCO2', 'FC', 'FR',\n",
    "       'FiO2', 'PAPdia', 'PAPmoy', 'PAPsys', 'PASd', 'PASm', 'PASs',\n",
    "       'PEEPtotal', 'PNId', 'PNIm', 'PNIs', 'Pmax', 'Pmean', 'SpO2',\n",
    "       'SvO2 (m)', 'Temp', 'VT', 'SpO2_by_FiO2', 'PASs_minus_PASd',\n",
    "       'PAPsys_minus_PAPdia', 'declampage_cote1_done',\n",
    "       'declampage_cote2_done']):\n",
    "    \n",
    "    for i, arr in enumerate(df[col]):\n",
    "        l = len(arr)\n",
    "        for j, val in enumerate(arr):\n",
    "\n",
    "            dic1['case_id']+= [i]\n",
    "            dic1['dim_id']+= [k]\n",
    "            dic1['reading_id']+= [j]\n",
    "            dic1['value']+= [val]\n",
    "        # get ts same length\n",
    "        for h in range(nb_max-l):\n",
    "            dic1['case_id']+= [i]\n",
    "            dic1['dim_id']+= [k]\n",
    "            dic1['reading_id']+= [l+h]\n",
    "            dic1['value']+= [0]"
   ]
  },
  {
   "cell_type": "code",
   "execution_count": 5,
   "metadata": {},
   "outputs": [
    {
     "name": "stdout",
     "output_type": "stream",
     "text": [
      "Wall time: 23min 36s\n"
     ]
    }
   ],
   "source": [
    "%%time\n",
    "ddff1 = pd.DataFrame(dic1)\n",
    "X_nested1 = from_long_to_nested(ddff1)\n",
    "\n",
    "X_nested1.columns = ['B.I.S', 'BIS SR', 'DC', 'ETCO2', 'FC', 'FR',\n",
    "       'FiO2', 'PAPdia', 'PAPmoy', 'PAPsys', 'PASd', 'PASm', 'PASs',\n",
    "       'PEEPtotal', 'PNId', 'PNIm', 'PNIs', 'Pmax', 'Pmean', 'SpO2',\n",
    "       'SvO2 (m)', 'Temp', 'VT', 'SpO2_by_FiO2', 'PASs_minus_PASd',\n",
    "       'PAPsys_minus_PAPdia', 'declampage_cote1_done',\n",
    "       'declampage_cote2_done']"
   ]
  },
  {
   "cell_type": "markdown",
   "metadata": {},
   "source": [
    "# Export Array"
   ]
  },
  {
   "cell_type": "code",
   "execution_count": 6,
   "metadata": {},
   "outputs": [],
   "source": [
    "def to_tensor(ss):\n",
    "    shape = ss.shape[0]\n",
    "    a = ss[0].to_numpy().reshape(-1,1)\n",
    "    for s in ss[1:]:\n",
    "        a = np.concatenate([a, s.to_numpy().reshape(-1,1)], axis=1)\n",
    "    return a.reshape(1,1082, shape)\n",
    "\n",
    "def get_tensor_format(X):\n",
    "    dataframe = X.apply(to_tensor, axis=1)\n",
    "    arr = dataframe[0]\n",
    "    for a in dataframe[1:]:\n",
    "        arr = np.concatenate([arr,a])\n",
    "    return arr"
   ]
  },
  {
   "cell_type": "markdown",
   "metadata": {},
   "source": [
    "## Full"
   ]
  },
  {
   "cell_type": "code",
   "execution_count": 7,
   "metadata": {
    "scrolled": true
   },
   "outputs": [
    {
     "name": "stdout",
     "output_type": "stream",
     "text": [
      "Wall time: 6.62 s\n"
     ]
    }
   ],
   "source": [
    "%%time\n",
    "X = get_tensor_format(X_nested1)\n",
    "Y = df['target'].ravel()"
   ]
  },
  {
   "cell_type": "code",
   "execution_count": 8,
   "metadata": {
    "scrolled": true
   },
   "outputs": [
    {
     "data": {
      "text/plain": [
       "(330, 1082, 28)"
      ]
     },
     "execution_count": 8,
     "metadata": {},
     "output_type": "execute_result"
    }
   ],
   "source": [
    "X.shape"
   ]
  },
  {
   "cell_type": "code",
   "execution_count": 9,
   "metadata": {},
   "outputs": [],
   "source": [
    "col = np.array(X_nested1.columns)\n",
    "\n",
    "x_train,y_train,x_val,y_val,y_val_true,x_test,y_test,y_test_true = split_dataset(X,Y,val_prop=0.1)\n",
    "\n",
    "to_return = [x_train,y_train,x_val,y_val,y_val_true,x_test,y_test,y_test_true, col]"
   ]
  },
  {
   "cell_type": "code",
   "execution_count": 10,
   "metadata": {},
   "outputs": [],
   "source": [
    "np.save('data/transplant_full.npy', to_return, allow_pickle=True)"
   ]
  },
  {
   "cell_type": "markdown",
   "metadata": {},
   "source": [
    "## 10col"
   ]
  },
  {
   "cell_type": "code",
   "execution_count": 11,
   "metadata": {},
   "outputs": [
    {
     "name": "stdout",
     "output_type": "stream",
     "text": [
      "Wall time: 2.4 s\n"
     ]
    }
   ],
   "source": [
    "%%time\n",
    "X = get_tensor_format(X_nested1[['BIS SR', 'ETCO2', 'FC', 'FR',\n",
    "'FiO2','PAPsys', 'PASm',\n",
    "'PEEPtotal', 'SpO2','SpO2_by_FiO2']])\n",
    "\n",
    "Y = df['target'].ravel()"
   ]
  },
  {
   "cell_type": "code",
   "execution_count": 12,
   "metadata": {},
   "outputs": [
    {
     "data": {
      "text/plain": [
       "(330, 1082, 10)"
      ]
     },
     "execution_count": 12,
     "metadata": {},
     "output_type": "execute_result"
    }
   ],
   "source": [
    "X.shape"
   ]
  },
  {
   "cell_type": "code",
   "execution_count": 13,
   "metadata": {},
   "outputs": [],
   "source": [
    "col = ['BIS SR', 'ETCO2', 'FC', 'FR',\n",
    "'FiO2','PAPsys', 'PASm',\n",
    "'PEEPtotal', 'SpO2','SpO2_by_FiO2']\n",
    "\n",
    "x_train,y_train,x_val,y_val,y_val_true,x_test,y_test,y_test_true = split_dataset(X,Y, val_prop=0.1)\n",
    "\n",
    "to_return = [x_train,y_train,x_val,y_val,y_val_true,x_test,y_test,y_test_true, col]"
   ]
  },
  {
   "cell_type": "code",
   "execution_count": 14,
   "metadata": {},
   "outputs": [],
   "source": [
    "np.save('data/transplant_10col.npy', to_return, allow_pickle=True)"
   ]
  },
  {
   "cell_type": "markdown",
   "metadata": {},
   "source": [
    "## 1col_concat"
   ]
  },
  {
   "cell_type": "code",
   "execution_count": 15,
   "metadata": {
    "scrolled": true
   },
   "outputs": [
    {
     "name": "stdout",
     "output_type": "stream",
     "text": [
      "Wall time: 2.45 s\n"
     ]
    }
   ],
   "source": [
    "%%time\n",
    "X = get_tensor_format(X_nested1[['BIS SR', 'ETCO2', 'FC', 'FR',\n",
    "'FiO2','PAPsys', 'PASm',\n",
    "'PEEPtotal', 'SpO2','SpO2_by_FiO2']])\n",
    "\n",
    "X = X.reshape(330,10820)\n",
    "Y = df['target'].ravel()"
   ]
  },
  {
   "cell_type": "code",
   "execution_count": 16,
   "metadata": {},
   "outputs": [
    {
     "data": {
      "text/plain": [
       "(330, 10820)"
      ]
     },
     "execution_count": 16,
     "metadata": {},
     "output_type": "execute_result"
    }
   ],
   "source": [
    "X.shape"
   ]
  },
  {
   "cell_type": "code",
   "execution_count": 17,
   "metadata": {
    "scrolled": true
   },
   "outputs": [],
   "source": [
    "col = ['time_series']\n",
    "\n",
    "x_train,y_train,x_val,y_val,y_val_true,x_test,y_test,y_test_true = split_dataset(X,Y, val_prop=0.1)\n",
    "\n",
    "to_return = [x_train,y_train,x_val,y_val,y_val_true,x_test,y_test,y_test_true, col]"
   ]
  },
  {
   "cell_type": "code",
   "execution_count": 18,
   "metadata": {},
   "outputs": [],
   "source": [
    "np.save('data/transplant_1col_concat.npy', to_return, allow_pickle=True)"
   ]
  },
  {
   "cell_type": "markdown",
   "metadata": {},
   "source": [
    "## 1col"
   ]
  },
  {
   "cell_type": "code",
   "execution_count": 30,
   "metadata": {},
   "outputs": [
    {
     "name": "stdout",
     "output_type": "stream",
     "text": [
      "Wall time: 232 ms\n"
     ]
    }
   ],
   "source": [
    "%%time\n",
    "X = get_tensor_format(X_nested1[['SpO2_by_FiO2']]).reshape(330,1082)\n",
    "Y = df['target'].ravel()"
   ]
  },
  {
   "cell_type": "code",
   "execution_count": 31,
   "metadata": {},
   "outputs": [
    {
     "data": {
      "text/plain": [
       "(330, 1082)"
      ]
     },
     "execution_count": 31,
     "metadata": {},
     "output_type": "execute_result"
    }
   ],
   "source": [
    "X.shape"
   ]
  },
  {
   "cell_type": "code",
   "execution_count": 32,
   "metadata": {},
   "outputs": [],
   "source": [
    "col = ['SpO2_by_FiO2']\n",
    "\n",
    "x_train,y_train,x_val,y_val,y_val_true,x_test,y_test,y_test_true = split_dataset(X,Y, val_prop=0.1)\n",
    "\n",
    "to_return = [x_train,y_train,x_val,y_val,y_val_true,x_test,y_test,y_test_true, col]"
   ]
  },
  {
   "cell_type": "code",
   "execution_count": 33,
   "metadata": {},
   "outputs": [],
   "source": [
    "np.save('data/transplant_1col.npy', to_return, allow_pickle=True)"
   ]
  }
 ],
 "metadata": {
  "kernelspec": {
   "display_name": "Python 3",
   "language": "python",
   "name": "python3"
  },
  "language_info": {
   "codemirror_mode": {
    "name": "ipython",
    "version": 3
   },
   "file_extension": ".py",
   "mimetype": "text/x-python",
   "name": "python",
   "nbconvert_exporter": "python",
   "pygments_lexer": "ipython3",
   "version": "3.7.4"
  }
 },
 "nbformat": 4,
 "nbformat_minor": 2
}
