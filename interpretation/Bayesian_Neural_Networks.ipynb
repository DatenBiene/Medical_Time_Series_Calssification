{
  "nbformat": 4,
  "nbformat_minor": 0,
  "metadata": {
    "colab": {
      "name": "DLM-NNGP.ipynb",
      "provenance": []
    },
    "kernelspec": {
      "name": "python3",
      "display_name": "Python 3"
    },
    "accelerator": "TPU"
  },
  "cells": [
    {
      "cell_type": "code",
      "metadata": {
        "id": "2W6VrecJCZP2",
        "colab_type": "code",
        "outputId": "6f39b617-01ea-4ead-c8b3-44f960566069",
        "colab": {
          "base_uri": "https://localhost:8080/",
          "height": 52
        }
      },
      "source": [
        "!pip install -q git+https://www.github.com/google/neural-tangents"
      ],
      "execution_count": 1,
      "outputs": [
        {
          "output_type": "stream",
          "text": [
            "  Building wheel for neural-tangents (setup.py) ... \u001b[?25l\u001b[?25hdone\n",
            "  Building wheel for frozendict (setup.py) ... \u001b[?25l\u001b[?25hdone\n"
          ],
          "name": "stdout"
        }
      ]
    },
    {
      "cell_type": "code",
      "metadata": {
        "id": "h2EgrQd5_Y6R",
        "colab_type": "code",
        "outputId": "a568b48b-f839-4e42-9cbd-694e91c847b0",
        "colab": {
          "base_uri": "https://localhost:8080/",
          "height": 125
        }
      },
      "source": [
        "from google.colab import drive\n",
        "drive.mount('/content/drive')"
      ],
      "execution_count": 2,
      "outputs": [
        {
          "output_type": "stream",
          "text": [
            "Go to this URL in a browser: https://accounts.google.com/o/oauth2/auth?client_id=947318989803-6bn6qk8qdgf4n4g3pfee6491hc0brc4i.apps.googleusercontent.com&redirect_uri=urn%3aietf%3awg%3aoauth%3a2.0%3aoob&response_type=code&scope=email%20https%3a%2f%2fwww.googleapis.com%2fauth%2fdocs.test%20https%3a%2f%2fwww.googleapis.com%2fauth%2fdrive%20https%3a%2f%2fwww.googleapis.com%2fauth%2fdrive.photos.readonly%20https%3a%2f%2fwww.googleapis.com%2fauth%2fpeopleapi.readonly\n",
            "\n",
            "Enter your authorization code:\n",
            "··········\n",
            "Mounted at /content/drive\n"
          ],
          "name": "stdout"
        }
      ]
    },
    {
      "cell_type": "code",
      "metadata": {
        "id": "bb6hrkF2_k4x",
        "colab_type": "code",
        "colab": {}
      },
      "source": [
        "import os \n",
        "os.chdir('/content/drive/My Drive/DLM_data')"
      ],
      "execution_count": 0,
      "outputs": []
    },
    {
      "cell_type": "code",
      "metadata": {
        "id": "4g6mRNYW9IX9",
        "colab_type": "code",
        "colab": {
          "base_uri": "https://localhost:8080/",
          "height": 81
        },
        "outputId": "0386884b-d888-4d91-b161-2209f83e6057"
      },
      "source": [
        "from utils.utils import split_dataset\n",
        "from utils.evaluation import evaluate, get_binary_metrics"
      ],
      "execution_count": 4,
      "outputs": [
        {
          "output_type": "stream",
          "text": [
            "Using TensorFlow backend.\n"
          ],
          "name": "stderr"
        },
        {
          "output_type": "display_data",
          "data": {
            "text/html": [
              "<p style=\"color: red;\">\n",
              "The default version of TensorFlow in Colab will switch to TensorFlow 2.x on the 27th of March, 2020.<br>\n",
              "We recommend you <a href=\"https://www.tensorflow.org/guide/migrate\" target=\"_blank\">upgrade</a> now\n",
              "or ensure your notebook will continue to use TensorFlow 1.x via the <code>%tensorflow_version 1.x</code> magic:\n",
              "<a href=\"https://colab.research.google.com/notebooks/tensorflow_version.ipynb\" target=\"_blank\">more info</a>.</p>\n"
            ],
            "text/plain": [
              "<IPython.core.display.HTML object>"
            ]
          },
          "metadata": {
            "tags": []
          }
        }
      ]
    },
    {
      "cell_type": "code",
      "metadata": {
        "id": "XEellQxeeUIr",
        "colab_type": "code",
        "colab": {}
      },
      "source": [
        "import neural_tangents as nt\n",
        "from neural_tangents import stax\n",
        "import numpy as np\n",
        "\n",
        "import jax "
      ],
      "execution_count": 0,
      "outputs": []
    },
    {
      "cell_type": "markdown",
      "metadata": {
        "id": "4MGZX3SdEjff",
        "colab_type": "text"
      },
      "source": [
        "### Transplant 1col_concat"
      ]
    },
    {
      "cell_type": "code",
      "metadata": {
        "id": "q0GXNOYBCxMm",
        "colab_type": "code",
        "colab": {}
      },
      "source": [
        "from jax import random\n",
        "from neural_tangents import stax\n",
        "\n",
        "init_fn, apply_fn, kernel_fn = stax.serial(\n",
        "    stax.Dense(512), stax.Relu(),\n",
        "    stax.Dense(512), stax.Relu(),\n",
        "    stax.Dense(512), stax.Relu(),\n",
        "    stax.Dense(512), stax.Relu(),\n",
        "    stax.Dense(2)\n",
        ")"
      ],
      "execution_count": 0,
      "outputs": []
    },
    {
      "cell_type": "code",
      "metadata": {
        "id": "AAJRYZaOALXF",
        "colab_type": "code",
        "colab": {}
      },
      "source": [
        "x_train,y_train,x_val,y_val,y_val_true,x_test,y_test,y_test_true, col = np.load('data/transplant_1col_concat.npy', allow_pickle=True)\n",
        "\n",
        "x_train = np.concatenate([x_train, x_val])\n",
        "y_train = np.concatenate([y_train, y_val])"
      ],
      "execution_count": 0,
      "outputs": []
    },
    {
      "cell_type": "code",
      "metadata": {
        "id": "lsvFTAI_-3bc",
        "colab_type": "code",
        "colab": {
          "base_uri": "https://localhost:8080/",
          "height": 34
        },
        "outputId": "08dbb379-0066-4e5e-add2-279f977bd2d2"
      },
      "source": [
        "x_train.shape,x_val.shape,x_test.shape"
      ],
      "execution_count": 8,
      "outputs": [
        {
          "output_type": "execute_result",
          "data": {
            "text/plain": [
              "((297, 10820), (33, 10820), (33, 10820))"
            ]
          },
          "metadata": {
            "tags": []
          },
          "execution_count": 8
        }
      ]
    },
    {
      "cell_type": "code",
      "metadata": {
        "id": "yHA0C4JcL_Fo",
        "colab_type": "code",
        "colab": {
          "base_uri": "https://localhost:8080/",
          "height": 52
        },
        "outputId": "033d7e84-eec5-4de1-ea0f-3de9022fad91"
      },
      "source": [
        "x_train = jax.numpy.array(x_train)\n",
        "x_test = jax.numpy.array(x_test)\n",
        "y_train = jax.numpy.array(y_train.astype(int).reshape(-1,1))\n",
        "y_test = y_test.astype(int)"
      ],
      "execution_count": 9,
      "outputs": [
        {
          "output_type": "stream",
          "text": [
            "/usr/local/lib/python3.6/dist-packages/jax/lib/xla_bridge.py:123: UserWarning: No GPU/TPU found, falling back to CPU.\n",
            "  warnings.warn('No GPU/TPU found, falling back to CPU.')\n"
          ],
          "name": "stderr"
        }
      ]
    },
    {
      "cell_type": "code",
      "metadata": {
        "id": "bXlQI5UYCIDi",
        "colab_type": "code",
        "colab": {}
      },
      "source": [
        "nb_classes = 2\n",
        "targets = y_train.reshape(-1)\n",
        "y_train_oh = np.eye(nb_classes)[targets]"
      ],
      "execution_count": 0,
      "outputs": []
    },
    {
      "cell_type": "code",
      "metadata": {
        "id": "WdARCUB3bR4g",
        "colab_type": "code",
        "outputId": "e9ec99e6-7fad-4076-fef5-519e275f1fac",
        "colab": {
          "base_uri": "https://localhost:8080/",
          "height": 107
        }
      },
      "source": [
        "%%time\n",
        "nngp_mean, nngp_covariance = nt.predict.gp_inference(\n",
        "    kernel_fn, x_train, y_train_oh, x_test, \n",
        "    diag_reg=1e-4, get='ntk', compute_cov=True)\n",
        "\n",
        "#nngp_mean = np.reshape(nngp_mean, (-1,))\n",
        "nngp_std = np.sqrt(np.diag(nngp_covariance))\n",
        "\n",
        "ypred = nngp_mean.argmax(axis = 1)"
      ],
      "execution_count": 11,
      "outputs": [
        {
          "output_type": "stream",
          "text": [
            "/usr/local/lib/python3.6/dist-packages/jax/lax/lax.py:4670: UserWarning: Explicitly requested dtype <class 'jax.numpy.lax_numpy.float64'> requested in astype is not available, and will be truncated to dtype float32. To enable more dtypes, set the jax_enable_x64 configuration option or the JAX_ENABLE_X64 shell environment variable. See https://github.com/google/jax#current-gotchas for more.\n",
            "  warnings.warn(msg.format(dtype, fun_name , truncated_dtype))\n"
          ],
          "name": "stderr"
        },
        {
          "output_type": "stream",
          "text": [
            "CPU times: user 11.2 s, sys: 301 ms, total: 11.5 s\n",
            "Wall time: 11.3 s\n"
          ],
          "name": "stdout"
        }
      ]
    },
    {
      "cell_type": "code",
      "metadata": {
        "id": "nsHOmbUaI5aR",
        "colab_type": "code",
        "colab": {
          "base_uri": "https://localhost:8080/",
          "height": 77
        },
        "outputId": "1c2c8255-3405-47af-9853-b481029b8ef8"
      },
      "source": [
        "evaluate(y_test,ypred)"
      ],
      "execution_count": 12,
      "outputs": [
        {
          "output_type": "execute_result",
          "data": {
            "text/html": [
              "<div>\n",
              "<style scoped>\n",
              "    .dataframe tbody tr th:only-of-type {\n",
              "        vertical-align: middle;\n",
              "    }\n",
              "\n",
              "    .dataframe tbody tr th {\n",
              "        vertical-align: top;\n",
              "    }\n",
              "\n",
              "    .dataframe thead th {\n",
              "        text-align: right;\n",
              "    }\n",
              "</style>\n",
              "<table border=\"1\" class=\"dataframe\">\n",
              "  <thead>\n",
              "    <tr style=\"text-align: right;\">\n",
              "      <th></th>\n",
              "      <th>accuracy</th>\n",
              "      <th>recall</th>\n",
              "      <th>precision</th>\n",
              "      <th>f1-score</th>\n",
              "    </tr>\n",
              "  </thead>\n",
              "  <tbody>\n",
              "    <tr>\n",
              "      <th>0</th>\n",
              "      <td>0.575758</td>\n",
              "      <td>0.546992</td>\n",
              "      <td>0.554348</td>\n",
              "      <td>0.541667</td>\n",
              "    </tr>\n",
              "  </tbody>\n",
              "</table>\n",
              "</div>"
            ],
            "text/plain": [
              "   accuracy    recall  precision  f1-score\n",
              "0  0.575758  0.546992   0.554348  0.541667"
            ]
          },
          "metadata": {
            "tags": []
          },
          "execution_count": 12
        }
      ]
    },
    {
      "cell_type": "code",
      "metadata": {
        "id": "H0wiBeUWHki1",
        "colab_type": "code",
        "colab": {
          "base_uri": "https://localhost:8080/",
          "height": 162
        },
        "outputId": "4aa635d4-bbd8-4b66-8f99-972e26e19838"
      },
      "source": [
        "get_binary_metrics(y_test,ypred)"
      ],
      "execution_count": 13,
      "outputs": [
        {
          "output_type": "stream",
          "text": [
            "/usr/local/lib/python3.6/dist-packages/jax/lax/lax.py:4670: UserWarning: Explicitly requested dtype <class 'int'> requested in astype is not available, and will be truncated to dtype int32. To enable more dtypes, set the jax_enable_x64 configuration option or the JAX_ENABLE_X64 shell environment variable. See https://github.com/google/jax#current-gotchas for more.\n",
            "  warnings.warn(msg.format(dtype, fun_name , truncated_dtype))\n"
          ],
          "name": "stderr"
        },
        {
          "output_type": "execute_result",
          "data": {
            "text/html": [
              "<div>\n",
              "<style scoped>\n",
              "    .dataframe tbody tr th:only-of-type {\n",
              "        vertical-align: middle;\n",
              "    }\n",
              "\n",
              "    .dataframe tbody tr th {\n",
              "        vertical-align: top;\n",
              "    }\n",
              "\n",
              "    .dataframe thead th {\n",
              "        text-align: right;\n",
              "    }\n",
              "</style>\n",
              "<table border=\"1\" class=\"dataframe\">\n",
              "  <thead>\n",
              "    <tr style=\"text-align: right;\">\n",
              "      <th></th>\n",
              "      <th>recall</th>\n",
              "      <th>precision</th>\n",
              "      <th>f1-score</th>\n",
              "    </tr>\n",
              "  </thead>\n",
              "  <tbody>\n",
              "    <tr>\n",
              "      <th>0</th>\n",
              "      <td>0.736842</td>\n",
              "      <td>0.608696</td>\n",
              "      <td>0.666667</td>\n",
              "    </tr>\n",
              "    <tr>\n",
              "      <th>1</th>\n",
              "      <td>0.357143</td>\n",
              "      <td>0.5</td>\n",
              "      <td>0.416667</td>\n",
              "    </tr>\n",
              "  </tbody>\n",
              "</table>\n",
              "</div>"
            ],
            "text/plain": [
              "     recall precision  f1-score\n",
              "0  0.736842  0.608696  0.666667\n",
              "1  0.357143       0.5  0.416667"
            ]
          },
          "metadata": {
            "tags": []
          },
          "execution_count": 13
        }
      ]
    },
    {
      "cell_type": "code",
      "metadata": {
        "id": "u-1tc8vzLz-O",
        "colab_type": "code",
        "colab": {
          "base_uri": "https://localhost:8080/",
          "height": 34
        },
        "outputId": "67a5f778-52b0-4395-c5cb-6e429fc9823e"
      },
      "source": [
        "np.mean(y_test)"
      ],
      "execution_count": 14,
      "outputs": [
        {
          "output_type": "execute_result",
          "data": {
            "text/plain": [
              "0.42424242424242425"
            ]
          },
          "metadata": {
            "tags": []
          },
          "execution_count": 14
        }
      ]
    },
    {
      "cell_type": "markdown",
      "metadata": {
        "id": "xW4lOtabQ-q3",
        "colab_type": "text"
      },
      "source": [
        "### Plot"
      ]
    },
    {
      "cell_type": "code",
      "metadata": {
        "id": "Rulz1bBERAgI",
        "colab_type": "code",
        "colab": {}
      },
      "source": [
        "import numpy as np; np.random.seed(0)\n",
        "import seaborn as sns; sns.set()\n",
        "import matplotlib.pyplot as plt\n",
        "from matplotlib import rcParams\n",
        "\n",
        "from sklearn.metrics import confusion_matrix"
      ],
      "execution_count": 0,
      "outputs": []
    },
    {
      "cell_type": "code",
      "metadata": {
        "id": "tv1cn1WPRFQU",
        "colab_type": "code",
        "colab": {
          "base_uri": "https://localhost:8080/",
          "height": 502
        },
        "outputId": "215266e3-b318-4f5d-8749-9020d9e542f8"
      },
      "source": [
        "rcParams['figure.figsize'] = 12,8\n",
        "sns.heatmap(\n",
        "            nngp_mean[y_test.argsort(),:],\n",
        "            xticklabels=1,\n",
        "            yticklabels=False,\n",
        "            cmap=sns.color_palette(\"YlOrRd\", 100)\n",
        "           )"
      ],
      "execution_count": 16,
      "outputs": [
        {
          "output_type": "execute_result",
          "data": {
            "text/plain": [
              "<matplotlib.axes._subplots.AxesSubplot at 0x7f3b4e065240>"
            ]
          },
          "metadata": {
            "tags": []
          },
          "execution_count": 16
        },
        {
          "output_type": "display_data",
          "data": {
            "image/png": "[encoded data removed]",
            "text/plain": [
              "<Figure size 864x576 with 2 Axes>"
            ]
          },
          "metadata": {
            "tags": []
          }
        }
      ]
    },
    {
      "cell_type": "code",
      "metadata": {
        "id": "6soK6MopR0vg",
        "colab_type": "code",
        "colab": {}
      },
      "source": [
        "from collections import defaultdict\n",
        "dic = defaultdict(list)\n",
        "dic_mean = defaultdict(list)\n",
        "for i, _ in enumerate(y_test):\n",
        "    it = str(y_test[i])+','+str(ypred[i])\n",
        "    if it in dic.keys():\n",
        "        dic[it] += [nngp_std[i]]\n",
        "    else:\n",
        "        dic[it] = [nngp_std[i]]\n",
        "\n",
        "heat_var = np.ones([2,2])*0.04\n",
        "for k in dic.keys():\n",
        "    i = int(list(k)[0])\n",
        "    j = int(list(k)[2])\n",
        "    heat_var[i,j] = np.mean(dic[k])"
      ],
      "execution_count": 0,
      "outputs": []
    },
    {
      "cell_type": "code",
      "metadata": {
        "id": "hLt3PjICTJZK",
        "colab_type": "code",
        "colab": {
          "base_uri": "https://localhost:8080/",
          "height": 502
        },
        "outputId": "a61e2df2-085a-40f7-d3f0-b86a3d8edc79"
      },
      "source": [
        "rcParams['figure.figsize'] = 12,8\n",
        "sns.heatmap(heat_var, cmap=sns.color_palette(\"RdBu_r\",10), annot = confusion_matrix(y_test,ypred)/len(y_test))#, fmt='d')"
      ],
      "execution_count": 18,
      "outputs": [
        {
          "output_type": "execute_result",
          "data": {
            "text/plain": [
              "<matplotlib.axes._subplots.AxesSubplot at 0x7f3b4cd41b00>"
            ]
          },
          "metadata": {
            "tags": []
          },
          "execution_count": 18
        },
        {
          "output_type": "display_data",
          "data": {
            "image/png": "[encoded data removed]",
            "text/plain": [
              "<Figure size 864x576 with 2 Axes>"
            ]
          },
          "metadata": {
            "tags": []
          }
        }
      ]
    },
    {
      "cell_type": "code",
      "metadata": {
        "id": "GKTYYzf8-fTq",
        "colab_type": "code",
        "colab": {}
      },
      "source": [
        ""
      ],
      "execution_count": 0,
      "outputs": []
    },
    {
      "cell_type": "markdown",
      "metadata": {
        "id": "GF1tHtu6FfwK",
        "colab_type": "text"
      },
      "source": [
        "# Transplant 1col"
      ]
    },
    {
      "cell_type": "code",
      "metadata": {
        "id": "QkzGgbKlFhTv",
        "colab_type": "code",
        "colab": {
          "base_uri": "https://localhost:8080/",
          "height": 34
        },
        "outputId": "ab1721a1-0fa2-4c0a-c5cf-88dcd7e5f323"
      },
      "source": [
        "x_train,y_train,x_val,y_val,y_val_true,x_test,y_test,y_test_true, col = np.load('data/transplant_1col.npy', allow_pickle=True)\n",
        "\n",
        "x_train = np.concatenate([x_train, x_val])\n",
        "y_train = np.concatenate([y_train, y_val])\n",
        "\n",
        "x_train.shape,x_val.shape,x_test.shape"
      ],
      "execution_count": 19,
      "outputs": [
        {
          "output_type": "execute_result",
          "data": {
            "text/plain": [
              "((297, 1082), (33, 1082), (33, 1082))"
            ]
          },
          "metadata": {
            "tags": []
          },
          "execution_count": 19
        }
      ]
    },
    {
      "cell_type": "code",
      "metadata": {
        "id": "8junp-WPFvRT",
        "colab_type": "code",
        "colab": {}
      },
      "source": [
        "x_train = jax.numpy.array(x_train)\n",
        "x_test = jax.numpy.array(x_test)\n",
        "y_train = jax.numpy.array(y_train.astype(int).reshape(-1,1))\n",
        "y_test = y_test.astype(int)\n",
        "\n",
        "nb_classes = 2\n",
        "targets = y_train.reshape(-1)\n",
        "y_train_oh = np.eye(nb_classes)[targets]"
      ],
      "execution_count": 0,
      "outputs": []
    },
    {
      "cell_type": "code",
      "metadata": {
        "id": "gpTX0XMVFzSH",
        "colab_type": "code",
        "colab": {
          "base_uri": "https://localhost:8080/",
          "height": 107
        },
        "outputId": "ffb13e2b-9247-4f8f-d83d-5866c25e502f"
      },
      "source": [
        "%%time\n",
        "init_fn, apply_fn, kernel_fn = stax.serial(\n",
        "    stax.Dense(512), stax.Relu(),\n",
        "    stax.Dense(512), stax.Relu(),\n",
        "    stax.Dense(512), stax.Relu(),\n",
        "    stax.Dense(512), stax.Relu(),\n",
        "    stax.Dense(2)\n",
        ")\n",
        "\n",
        "nngp_mean, nngp_covariance = nt.predict.gp_inference(\n",
        "    kernel_fn, x_train, y_train_oh, x_test, \n",
        "    diag_reg=1e-4, get='nngp', compute_cov=True)\n",
        "\n",
        "nngp_std = np.sqrt(np.diag(nngp_covariance))\n",
        "\n",
        "ypred = nngp_mean.argmax(axis = 1)"
      ],
      "execution_count": 21,
      "outputs": [
        {
          "output_type": "stream",
          "text": [
            "/usr/local/lib/python3.6/dist-packages/jax/lax/lax.py:4670: UserWarning: Explicitly requested dtype <class 'jax.numpy.lax_numpy.float64'> requested in astype is not available, and will be truncated to dtype float32. To enable more dtypes, set the jax_enable_x64 configuration option or the JAX_ENABLE_X64 shell environment variable. See https://github.com/google/jax#current-gotchas for more.\n",
            "  warnings.warn(msg.format(dtype, fun_name , truncated_dtype))\n"
          ],
          "name": "stderr"
        },
        {
          "output_type": "stream",
          "text": [
            "CPU times: user 4.18 s, sys: 111 ms, total: 4.29 s\n",
            "Wall time: 4.25 s\n"
          ],
          "name": "stdout"
        }
      ]
    },
    {
      "cell_type": "code",
      "metadata": {
        "id": "mfg2XXIcLWO0",
        "colab_type": "code",
        "colab": {
          "base_uri": "https://localhost:8080/",
          "height": 77
        },
        "outputId": "b0ab5f11-b40c-4c6c-aac1-888fd442af2e"
      },
      "source": [
        "evaluate(y_test,ypred)"
      ],
      "execution_count": 22,
      "outputs": [
        {
          "output_type": "execute_result",
          "data": {
            "text/html": [
              "<div>\n",
              "<style scoped>\n",
              "    .dataframe tbody tr th:only-of-type {\n",
              "        vertical-align: middle;\n",
              "    }\n",
              "\n",
              "    .dataframe tbody tr th {\n",
              "        vertical-align: top;\n",
              "    }\n",
              "\n",
              "    .dataframe thead th {\n",
              "        text-align: right;\n",
              "    }\n",
              "</style>\n",
              "<table border=\"1\" class=\"dataframe\">\n",
              "  <thead>\n",
              "    <tr style=\"text-align: right;\">\n",
              "      <th></th>\n",
              "      <th>accuracy</th>\n",
              "      <th>recall</th>\n",
              "      <th>precision</th>\n",
              "      <th>f1-score</th>\n",
              "    </tr>\n",
              "  </thead>\n",
              "  <tbody>\n",
              "    <tr>\n",
              "      <th>0</th>\n",
              "      <td>0.606061</td>\n",
              "      <td>0.629699</td>\n",
              "      <td>0.636905</td>\n",
              "      <td>0.604608</td>\n",
              "    </tr>\n",
              "  </tbody>\n",
              "</table>\n",
              "</div>"
            ],
            "text/plain": [
              "   accuracy    recall  precision  f1-score\n",
              "0  0.606061  0.629699   0.636905  0.604608"
            ]
          },
          "metadata": {
            "tags": []
          },
          "execution_count": 22
        }
      ]
    },
    {
      "cell_type": "code",
      "metadata": {
        "id": "AkNLHq1qG6TD",
        "colab_type": "code",
        "colab": {
          "base_uri": "https://localhost:8080/",
          "height": 162
        },
        "outputId": "7ec20fc4-f5d0-4416-f427-f1270aa8e0ee"
      },
      "source": [
        "get_binary_metrics(y_test,ypred)"
      ],
      "execution_count": 23,
      "outputs": [
        {
          "output_type": "stream",
          "text": [
            "/usr/local/lib/python3.6/dist-packages/jax/lax/lax.py:4670: UserWarning: Explicitly requested dtype <class 'int'> requested in astype is not available, and will be truncated to dtype int32. To enable more dtypes, set the jax_enable_x64 configuration option or the JAX_ENABLE_X64 shell environment variable. See https://github.com/google/jax#current-gotchas for more.\n",
            "  warnings.warn(msg.format(dtype, fun_name , truncated_dtype))\n"
          ],
          "name": "stderr"
        },
        {
          "output_type": "execute_result",
          "data": {
            "text/html": [
              "<div>\n",
              "<style scoped>\n",
              "    .dataframe tbody tr th:only-of-type {\n",
              "        vertical-align: middle;\n",
              "    }\n",
              "\n",
              "    .dataframe tbody tr th {\n",
              "        vertical-align: top;\n",
              "    }\n",
              "\n",
              "    .dataframe thead th {\n",
              "        text-align: right;\n",
              "    }\n",
              "</style>\n",
              "<table border=\"1\" class=\"dataframe\">\n",
              "  <thead>\n",
              "    <tr style=\"text-align: right;\">\n",
              "      <th></th>\n",
              "      <th>recall</th>\n",
              "      <th>precision</th>\n",
              "      <th>f1-score</th>\n",
              "    </tr>\n",
              "  </thead>\n",
              "  <tbody>\n",
              "    <tr>\n",
              "      <th>0</th>\n",
              "      <td>0.473684</td>\n",
              "      <td>0.75</td>\n",
              "      <td>0.580645</td>\n",
              "    </tr>\n",
              "    <tr>\n",
              "      <th>1</th>\n",
              "      <td>0.785714</td>\n",
              "      <td>0.52381</td>\n",
              "      <td>0.628571</td>\n",
              "    </tr>\n",
              "  </tbody>\n",
              "</table>\n",
              "</div>"
            ],
            "text/plain": [
              "     recall precision  f1-score\n",
              "0  0.473684      0.75  0.580645\n",
              "1  0.785714   0.52381  0.628571"
            ]
          },
          "metadata": {
            "tags": []
          },
          "execution_count": 23
        }
      ]
    },
    {
      "cell_type": "code",
      "metadata": {
        "id": "iiDcF5ZcLdJx",
        "colab_type": "code",
        "colab": {
          "base_uri": "https://localhost:8080/",
          "height": 506
        },
        "outputId": "7140e8b8-4ee7-4852-f7db-646946f6f36a"
      },
      "source": [
        "rcParams['figure.figsize'] = 12,8\n",
        "sns.heatmap(\n",
        "            nngp_mean[y_test.argsort(),:],\n",
        "            xticklabels=1,\n",
        "            yticklabels=False,\n",
        "            cmap=sns.color_palette(\"YlOrRd\", 100)\n",
        "           )"
      ],
      "execution_count": 24,
      "outputs": [
        {
          "output_type": "execute_result",
          "data": {
            "text/plain": [
              "<matplotlib.axes._subplots.AxesSubplot at 0x7f3b4c87abe0>"
            ]
          },
          "metadata": {
            "tags": []
          },
          "execution_count": 24
        },
        {
          "output_type": "display_data",
          "data": {
            "image/png": "[encoded data removed]",
            "text/plain": [
              "<Figure size 864x576 with 2 Axes>"
            ]
          },
          "metadata": {
            "tags": []
          }
        }
      ]
    },
    {
      "cell_type": "code",
      "metadata": {
        "id": "xIkgUDDMLjLa",
        "colab_type": "code",
        "colab": {}
      },
      "source": [
        "from collections import defaultdict\n",
        "dic = defaultdict(list)\n",
        "dic_mean = defaultdict(list)\n",
        "for i, _ in enumerate(y_test):\n",
        "    it = str(y_test[i])+','+str(ypred[i])\n",
        "    if it in dic.keys():\n",
        "        dic[it] += [nngp_std[i]]\n",
        "    else:\n",
        "        dic[it] = [nngp_std[i]]\n",
        "\n",
        "heat_var = np.ones([2,2])*0.04\n",
        "for k in dic.keys():\n",
        "    i = int(list(k)[0])\n",
        "    j = int(list(k)[2])\n",
        "    heat_var[i,j] = np.mean(dic[k])"
      ],
      "execution_count": 0,
      "outputs": []
    },
    {
      "cell_type": "code",
      "metadata": {
        "id": "MYg_blLyLlJv",
        "colab_type": "code",
        "colab": {
          "base_uri": "https://localhost:8080/",
          "height": 502
        },
        "outputId": "23167ace-b508-46bb-dc10-36e41d6acfeb"
      },
      "source": [
        "rcParams['figure.figsize'] = 12,8\n",
        "sns.heatmap(heat_var, cmap=sns.color_palette(\"RdBu_r\",10), annot = confusion_matrix(y_test,ypred)/len(y_test))#, fmt='d')"
      ],
      "execution_count": 26,
      "outputs": [
        {
          "output_type": "execute_result",
          "data": {
            "text/plain": [
              "<matplotlib.axes._subplots.AxesSubplot at 0x7f3b4c7359b0>"
            ]
          },
          "metadata": {
            "tags": []
          },
          "execution_count": 26
        },
        {
          "output_type": "display_data",
          "data": {
            "image/png": "[encoded data removed]",
            "text/plain": [
              "<Figure size 864x576 with 2 Axes>"
            ]
          },
          "metadata": {
            "tags": []
          }
        }
      ]
    },
    {
      "cell_type": "code",
      "metadata": {
        "id": "wFQvDmuyfSRI",
        "colab_type": "code",
        "colab": {}
      },
      "source": [
        ""
      ],
      "execution_count": 0,
      "outputs": []
    },
    {
      "cell_type": "markdown",
      "metadata": {
        "id": "KfL1k2Pi5mcH",
        "colab_type": "text"
      },
      "source": [
        ""
      ]
    },
    {
      "cell_type": "markdown",
      "metadata": {
        "id": "XVDEN-_w5mfk",
        "colab_type": "text"
      },
      "source": [
        "# ECG 5000"
      ]
    },
    {
      "cell_type": "code",
      "metadata": {
        "id": "iUNCDdoM5otu",
        "colab_type": "code",
        "colab": {
          "base_uri": "https://localhost:8080/",
          "height": 34
        },
        "outputId": "f08508a0-5698-4ded-e7f9-24552798b0b9"
      },
      "source": [
        "x_train,y_train,x_val,y_val,x_test,y_test = np.load('data/ECG5000_full.npy', allow_pickle=True)\n",
        "\n",
        "x_train = np.concatenate([x_train, x_val])\n",
        "y_train = np.concatenate([y_train, y_val]) - 1\n",
        "y_test = y_test -1\n",
        "x_train.shape,x_val.shape,x_test.shape"
      ],
      "execution_count": 27,
      "outputs": [
        {
          "output_type": "execute_result",
          "data": {
            "text/plain": [
              "((4500, 140), (500, 140), (500, 140))"
            ]
          },
          "metadata": {
            "tags": []
          },
          "execution_count": 27
        }
      ]
    },
    {
      "cell_type": "code",
      "metadata": {
        "id": "PlvgC24k5ov7",
        "colab_type": "code",
        "colab": {}
      },
      "source": [
        "x_train = jax.numpy.array(x_train)\n",
        "x_test = jax.numpy.array(x_test)\n",
        "y_train = jax.numpy.array(y_train.astype(int).reshape(-1,1))\n",
        "y_test = y_test.astype(int)\n",
        "\n",
        "nb_classes = 5\n",
        "targets = y_train.reshape(-1)\n",
        "y_train_oh = np.eye(nb_classes)[targets]"
      ],
      "execution_count": 0,
      "outputs": []
    },
    {
      "cell_type": "code",
      "metadata": {
        "id": "zRPc1HAf5oyP",
        "colab_type": "code",
        "colab": {
          "base_uri": "https://localhost:8080/",
          "height": 107
        },
        "outputId": "d753629b-6f01-4c0e-85bd-039f713647d4"
      },
      "source": [
        "%%time\n",
        "init_fn, apply_fn, kernel_fn = stax.serial(\n",
        "    stax.Dense(512), stax.Relu(),\n",
        "    stax.Dense(512), stax.Relu(),\n",
        "    stax.Dense(512), stax.Relu(),\n",
        "    stax.Dense(512), stax.Relu(),\n",
        "    stax.Dense(2)\n",
        ")\n",
        "\n",
        "nngp_mean, nngp_covariance = nt.predict.gp_inference(\n",
        "    kernel_fn, x_train, y_train_oh, x_test, \n",
        "    diag_reg=1e-4, get='nngp', compute_cov=True)\n",
        "\n",
        "nngp_std = np.sqrt(np.diag(nngp_covariance))\n",
        "\n",
        "ypred = nngp_mean.argmax(axis = 1)"
      ],
      "execution_count": 29,
      "outputs": [
        {
          "output_type": "stream",
          "text": [
            "/usr/local/lib/python3.6/dist-packages/jax/lax/lax.py:4670: UserWarning: Explicitly requested dtype <class 'jax.numpy.lax_numpy.float64'> requested in astype is not available, and will be truncated to dtype float32. To enable more dtypes, set the jax_enable_x64 configuration option or the JAX_ENABLE_X64 shell environment variable. See https://github.com/google/jax#current-gotchas for more.\n",
            "  warnings.warn(msg.format(dtype, fun_name , truncated_dtype))\n"
          ],
          "name": "stderr"
        },
        {
          "output_type": "stream",
          "text": [
            "CPU times: user 15.1 s, sys: 2.83 s, total: 17.9 s\n",
            "Wall time: 10.9 s\n"
          ],
          "name": "stdout"
        }
      ]
    },
    {
      "cell_type": "code",
      "metadata": {
        "id": "Tq9ugvpm5o0z",
        "colab_type": "code",
        "colab": {
          "base_uri": "https://localhost:8080/",
          "height": 77
        },
        "outputId": "303b414d-60bb-48c8-de05-ec281baa4d2e"
      },
      "source": [
        "evaluate(y_test,ypred)"
      ],
      "execution_count": 30,
      "outputs": [
        {
          "output_type": "execute_result",
          "data": {
            "text/html": [
              "<div>\n",
              "<style scoped>\n",
              "    .dataframe tbody tr th:only-of-type {\n",
              "        vertical-align: middle;\n",
              "    }\n",
              "\n",
              "    .dataframe tbody tr th {\n",
              "        vertical-align: top;\n",
              "    }\n",
              "\n",
              "    .dataframe thead th {\n",
              "        text-align: right;\n",
              "    }\n",
              "</style>\n",
              "<table border=\"1\" class=\"dataframe\">\n",
              "  <thead>\n",
              "    <tr style=\"text-align: right;\">\n",
              "      <th></th>\n",
              "      <th>accuracy</th>\n",
              "      <th>recall</th>\n",
              "      <th>precision</th>\n",
              "      <th>f1-score</th>\n",
              "    </tr>\n",
              "  </thead>\n",
              "  <tbody>\n",
              "    <tr>\n",
              "      <th>0</th>\n",
              "      <td>0.954</td>\n",
              "      <td>0.607795</td>\n",
              "      <td>0.666802</td>\n",
              "      <td>0.629626</td>\n",
              "    </tr>\n",
              "  </tbody>\n",
              "</table>\n",
              "</div>"
            ],
            "text/plain": [
              "   accuracy    recall  precision  f1-score\n",
              "0     0.954  0.607795   0.666802  0.629626"
            ]
          },
          "metadata": {
            "tags": []
          },
          "execution_count": 30
        }
      ]
    },
    {
      "cell_type": "code",
      "metadata": {
        "id": "RkbKlH-Y5o5V",
        "colab_type": "code",
        "colab": {
          "base_uri": "https://localhost:8080/",
          "height": 250
        },
        "outputId": "08d598af-d34e-45a8-cc5f-b92c98e17a9f"
      },
      "source": [
        "get_binary_metrics(y_test,ypred)"
      ],
      "execution_count": 31,
      "outputs": [
        {
          "output_type": "stream",
          "text": [
            "/usr/local/lib/python3.6/dist-packages/jax/lax/lax.py:4670: UserWarning: Explicitly requested dtype <class 'int'> requested in astype is not available, and will be truncated to dtype int32. To enable more dtypes, set the jax_enable_x64 configuration option or the JAX_ENABLE_X64 shell environment variable. See https://github.com/google/jax#current-gotchas for more.\n",
            "  warnings.warn(msg.format(dtype, fun_name , truncated_dtype))\n"
          ],
          "name": "stderr"
        },
        {
          "output_type": "execute_result",
          "data": {
            "text/html": [
              "<div>\n",
              "<style scoped>\n",
              "    .dataframe tbody tr th:only-of-type {\n",
              "        vertical-align: middle;\n",
              "    }\n",
              "\n",
              "    .dataframe tbody tr th {\n",
              "        vertical-align: top;\n",
              "    }\n",
              "\n",
              "    .dataframe thead th {\n",
              "        text-align: right;\n",
              "    }\n",
              "</style>\n",
              "<table border=\"1\" class=\"dataframe\">\n",
              "  <thead>\n",
              "    <tr style=\"text-align: right;\">\n",
              "      <th></th>\n",
              "      <th>recall</th>\n",
              "      <th>precision</th>\n",
              "      <th>f1-score</th>\n",
              "    </tr>\n",
              "  </thead>\n",
              "  <tbody>\n",
              "    <tr>\n",
              "      <th>0</th>\n",
              "      <td>0.993151</td>\n",
              "      <td>0.989761</td>\n",
              "      <td>0.991453</td>\n",
              "    </tr>\n",
              "    <tr>\n",
              "      <th>1</th>\n",
              "      <td>0.977401</td>\n",
              "      <td>0.930108</td>\n",
              "      <td>0.953168</td>\n",
              "    </tr>\n",
              "    <tr>\n",
              "      <th>2</th>\n",
              "      <td>0.7</td>\n",
              "      <td>0.777778</td>\n",
              "      <td>0.736842</td>\n",
              "    </tr>\n",
              "    <tr>\n",
              "      <th>3</th>\n",
              "      <td>0.368421</td>\n",
              "      <td>0.636364</td>\n",
              "      <td>0.466667</td>\n",
              "    </tr>\n",
              "    <tr>\n",
              "      <th>4</th>\n",
              "      <td>0</td>\n",
              "      <td>0</td>\n",
              "      <td>0</td>\n",
              "    </tr>\n",
              "  </tbody>\n",
              "</table>\n",
              "</div>"
            ],
            "text/plain": [
              "     recall precision  f1-score\n",
              "0  0.993151  0.989761  0.991453\n",
              "1  0.977401  0.930108  0.953168\n",
              "2       0.7  0.777778  0.736842\n",
              "3  0.368421  0.636364  0.466667\n",
              "4         0         0         0"
            ]
          },
          "metadata": {
            "tags": []
          },
          "execution_count": 31
        }
      ]
    },
    {
      "cell_type": "code",
      "metadata": {
        "id": "PjdnqFAE5o3e",
        "colab_type": "code",
        "colab": {
          "base_uri": "https://localhost:8080/",
          "height": 502
        },
        "outputId": "84b32482-0f4c-4393-a4f1-c91480547cec"
      },
      "source": [
        "rcParams['figure.figsize'] = 12,8\n",
        "sns.heatmap(\n",
        "            nngp_mean[y_test.argsort(),:],\n",
        "            xticklabels=1,\n",
        "            yticklabels=False,\n",
        "            cmap=sns.color_palette(\"YlOrRd\", 100)\n",
        "           )"
      ],
      "execution_count": 32,
      "outputs": [
        {
          "output_type": "execute_result",
          "data": {
            "text/plain": [
              "<matplotlib.axes._subplots.AxesSubplot at 0x7f3b4c82fe10>"
            ]
          },
          "metadata": {
            "tags": []
          },
          "execution_count": 32
        },
        {
          "output_type": "display_data",
          "data": {
            "image/png": "[encoded data removed]",
            "text/plain": [
              "<Figure size 864x576 with 2 Axes>"
            ]
          },
          "metadata": {
            "tags": []
          }
        }
      ]
    },
    {
      "cell_type": "code",
      "metadata": {
        "id": "e3Vgijwk6qEF",
        "colab_type": "code",
        "colab": {}
      },
      "source": [
        "from collections import defaultdict\n",
        "dic = defaultdict(list)\n",
        "dic_mean = defaultdict(list)\n",
        "for i, _ in enumerate(y_test):\n",
        "    it = str(y_test[i])+','+str(ypred[i])\n",
        "    if it in dic.keys():\n",
        "        dic[it] += [nngp_std[i]]\n",
        "    else:\n",
        "        dic[it] = [nngp_std[i]]\n",
        "\n",
        "heat_var = np.ones([5,5])*0.033\n",
        "for k in dic.keys():\n",
        "    i = int(list(k)[0])\n",
        "    j = int(list(k)[2])\n",
        "    heat_var[i,j] = np.mean(dic[k])"
      ],
      "execution_count": 0,
      "outputs": []
    },
    {
      "cell_type": "code",
      "metadata": {
        "id": "VsCej0u86vJp",
        "colab_type": "code",
        "colab": {
          "base_uri": "https://localhost:8080/",
          "height": 502
        },
        "outputId": "4ab6d5b9-d698-4652-a5b1-83f4cc7296d9"
      },
      "source": [
        "rcParams['figure.figsize'] = 12,8\n",
        "sns.heatmap(heat_var, cmap=sns.color_palette(\"RdBu_r\",10), annot = confusion_matrix(y_test,ypred)/len(y_test))#, fmt='d')"
      ],
      "execution_count": 34,
      "outputs": [
        {
          "output_type": "execute_result",
          "data": {
            "text/plain": [
              "<matplotlib.axes._subplots.AxesSubplot at 0x7f3b4c505390>"
            ]
          },
          "metadata": {
            "tags": []
          },
          "execution_count": 34
        },
        {
          "output_type": "display_data",
          "data": {
            "image/png": "[encoded data removed]",
            "text/plain": [
              "<Figure size 864x576 with 2 Axes>"
            ]
          },
          "metadata": {
            "tags": []
          }
        }
      ]
    },
    {
      "cell_type": "markdown",
      "metadata": {
        "id": "i3dzlTv3fT0A",
        "colab_type": "text"
      },
      "source": [
        "# MIT-BIH\n"
      ]
    },
    {
      "cell_type": "code",
      "metadata": {
        "id": "R9ufKIN3fWlC",
        "colab_type": "code",
        "colab": {}
      },
      "source": [
        "from utils.utils import read_dataset,split_dataset"
      ],
      "execution_count": 0,
      "outputs": []
    },
    {
      "cell_type": "code",
      "metadata": {
        "id": "U_qpoZKYnZ25",
        "colab_type": "code",
        "colab": {}
      },
      "source": [
        "data,labels = read_dataset('data/mitbih_train.csv','MIT-BIH')"
      ],
      "execution_count": 0,
      "outputs": []
    },
    {
      "cell_type": "code",
      "metadata": {
        "id": "QnZ3C4DCnZ5M",
        "colab_type": "code",
        "colab": {
          "base_uri": "https://localhost:8080/",
          "height": 34
        },
        "outputId": "9f532dbe-526a-4fb7-b8d6-1cd52f31ffaf"
      },
      "source": [
        "nb_train = 10000 # max = 70043\n",
        "nb_test = 17511 # max = 17511\n",
        "\n",
        "x_train,y_train,x_val,y_val,y_val_true,x_test,y_test,y_test_true = split_dataset(data,labels)\n",
        "\n",
        "x_train = np.concatenate([x_train, x_val])\n",
        "y_train = np.concatenate([y_train, y_val])\n",
        "\n",
        "\n",
        "x_train = jax.numpy.array(x_train[:nb_train,:])\n",
        "x_test = jax.numpy.array(x_test[:nb_test,:])\n",
        "y_train = jax.numpy.array(y_train[:nb_train,:].astype(int))\n",
        "y_test = y_test[:nb_test,:].astype(int)\n",
        "y_test_true = y_test_true[:nb_test].astype(int)\n",
        "\n",
        "x_train.shape, x_test.shape"
      ],
      "execution_count": 37,
      "outputs": [
        {
          "output_type": "execute_result",
          "data": {
            "text/plain": [
              "((10000, 187), (17511, 187))"
            ]
          },
          "metadata": {
            "tags": []
          },
          "execution_count": 37
        }
      ]
    },
    {
      "cell_type": "code",
      "metadata": {
        "id": "o1lwCQ2ZnaAE",
        "colab_type": "code",
        "colab": {
          "base_uri": "https://localhost:8080/",
          "height": 107
        },
        "outputId": "3a724d5b-cfd4-477d-db80-d4d5784a8b1b"
      },
      "source": [
        "%%time\n",
        "init_fn, apply_fn, kernel_fn = stax.serial(\n",
        "    stax.Dense(512), stax.Relu(),\n",
        "    stax.Dense(512), stax.Relu(),\n",
        "    stax.Dense(512), stax.Relu(),\n",
        "    stax.Dense(512), stax.Relu(),\n",
        "    stax.Dense(5)\n",
        ")\n",
        "\n",
        "nngp_mean, nngp_covariance = nt.predict.gp_inference(\n",
        "    kernel_fn, x_train, y_train, x_test, \n",
        "    diag_reg=1e-4, get='nngp', compute_cov=True)\n",
        "\n",
        "nngp_std = np.sqrt(np.diag(nngp_covariance))\n",
        "\n",
        "ypred = nngp_mean.argmax(axis = 1)"
      ],
      "execution_count": 38,
      "outputs": [
        {
          "output_type": "stream",
          "text": [
            "/usr/local/lib/python3.6/dist-packages/jax/lax/lax.py:4670: UserWarning: Explicitly requested dtype <class 'jax.numpy.lax_numpy.float64'> requested in astype is not available, and will be truncated to dtype float32. To enable more dtypes, set the jax_enable_x64 configuration option or the JAX_ENABLE_X64 shell environment variable. See https://github.com/google/jax#current-gotchas for more.\n",
            "  warnings.warn(msg.format(dtype, fun_name , truncated_dtype))\n"
          ],
          "name": "stderr"
        },
        {
          "output_type": "stream",
          "text": [
            "CPU times: user 9min, sys: 2min 16s, total: 11min 16s\n",
            "Wall time: 5min 56s\n"
          ],
          "name": "stdout"
        }
      ]
    },
    {
      "cell_type": "code",
      "metadata": {
        "id": "RSP_vNYksUR_",
        "colab_type": "code",
        "colab": {
          "base_uri": "https://localhost:8080/",
          "height": 77
        },
        "outputId": "b0ab9afa-a1ea-47fd-bba5-9677e290503b"
      },
      "source": [
        "evaluate(y_test_true,ypred)"
      ],
      "execution_count": 39,
      "outputs": [
        {
          "output_type": "execute_result",
          "data": {
            "text/html": [
              "<div>\n",
              "<style scoped>\n",
              "    .dataframe tbody tr th:only-of-type {\n",
              "        vertical-align: middle;\n",
              "    }\n",
              "\n",
              "    .dataframe tbody tr th {\n",
              "        vertical-align: top;\n",
              "    }\n",
              "\n",
              "    .dataframe thead th {\n",
              "        text-align: right;\n",
              "    }\n",
              "</style>\n",
              "<table border=\"1\" class=\"dataframe\">\n",
              "  <thead>\n",
              "    <tr style=\"text-align: right;\">\n",
              "      <th></th>\n",
              "      <th>accuracy</th>\n",
              "      <th>recall</th>\n",
              "      <th>precision</th>\n",
              "      <th>f1-score</th>\n",
              "    </tr>\n",
              "  </thead>\n",
              "  <tbody>\n",
              "    <tr>\n",
              "      <th>0</th>\n",
              "      <td>0.971504</td>\n",
              "      <td>0.821366</td>\n",
              "      <td>0.913012</td>\n",
              "      <td>0.862085</td>\n",
              "    </tr>\n",
              "  </tbody>\n",
              "</table>\n",
              "</div>"
            ],
            "text/plain": [
              "   accuracy    recall  precision  f1-score\n",
              "0  0.971504  0.821366   0.913012  0.862085"
            ]
          },
          "metadata": {
            "tags": []
          },
          "execution_count": 39
        }
      ]
    },
    {
      "cell_type": "code",
      "metadata": {
        "id": "3sYxLDqbsUUA",
        "colab_type": "code",
        "colab": {
          "base_uri": "https://localhost:8080/",
          "height": 250
        },
        "outputId": "5b969ee4-14e7-414e-a5c1-59b541769eeb"
      },
      "source": [
        "get_binary_metrics(y_test_true,ypred)"
      ],
      "execution_count": 40,
      "outputs": [
        {
          "output_type": "stream",
          "text": [
            "/usr/local/lib/python3.6/dist-packages/jax/lax/lax.py:4670: UserWarning: Explicitly requested dtype <class 'int'> requested in astype is not available, and will be truncated to dtype int32. To enable more dtypes, set the jax_enable_x64 configuration option or the JAX_ENABLE_X64 shell environment variable. See https://github.com/google/jax#current-gotchas for more.\n",
            "  warnings.warn(msg.format(dtype, fun_name , truncated_dtype))\n"
          ],
          "name": "stderr"
        },
        {
          "output_type": "execute_result",
          "data": {
            "text/html": [
              "<div>\n",
              "<style scoped>\n",
              "    .dataframe tbody tr th:only-of-type {\n",
              "        vertical-align: middle;\n",
              "    }\n",
              "\n",
              "    .dataframe tbody tr th {\n",
              "        vertical-align: top;\n",
              "    }\n",
              "\n",
              "    .dataframe thead th {\n",
              "        text-align: right;\n",
              "    }\n",
              "</style>\n",
              "<table border=\"1\" class=\"dataframe\">\n",
              "  <thead>\n",
              "    <tr style=\"text-align: right;\">\n",
              "      <th></th>\n",
              "      <th>recall</th>\n",
              "      <th>precision</th>\n",
              "      <th>f1-score</th>\n",
              "    </tr>\n",
              "  </thead>\n",
              "  <tbody>\n",
              "    <tr>\n",
              "      <th>0</th>\n",
              "      <td>0.993653</td>\n",
              "      <td>0.975681</td>\n",
              "      <td>0.984585</td>\n",
              "    </tr>\n",
              "    <tr>\n",
              "      <th>1</th>\n",
              "      <td>0.662921</td>\n",
              "      <td>0.883234</td>\n",
              "      <td>0.757381</td>\n",
              "    </tr>\n",
              "    <tr>\n",
              "      <th>2</th>\n",
              "      <td>0.878133</td>\n",
              "      <td>0.941613</td>\n",
              "      <td>0.908766</td>\n",
              "    </tr>\n",
              "    <tr>\n",
              "      <th>3</th>\n",
              "      <td>0.625</td>\n",
              "      <td>0.776699</td>\n",
              "      <td>0.692641</td>\n",
              "    </tr>\n",
              "    <tr>\n",
              "      <th>4</th>\n",
              "      <td>0.947123</td>\n",
              "      <td>0.987835</td>\n",
              "      <td>0.96705</td>\n",
              "    </tr>\n",
              "  </tbody>\n",
              "</table>\n",
              "</div>"
            ],
            "text/plain": [
              "     recall precision  f1-score\n",
              "0  0.993653  0.975681  0.984585\n",
              "1  0.662921  0.883234  0.757381\n",
              "2  0.878133  0.941613  0.908766\n",
              "3     0.625  0.776699  0.692641\n",
              "4  0.947123  0.987835   0.96705"
            ]
          },
          "metadata": {
            "tags": []
          },
          "execution_count": 40
        }
      ]
    },
    {
      "cell_type": "code",
      "metadata": {
        "id": "r0DO_N6dsUW2",
        "colab_type": "code",
        "colab": {
          "base_uri": "https://localhost:8080/",
          "height": 502
        },
        "outputId": "961c8b57-7a5c-447b-fc51-91662ee324a9"
      },
      "source": [
        "rcParams['figure.figsize'] = 12,8\n",
        "sns.heatmap(\n",
        "            nngp_mean[y_test_true.argsort(),:],\n",
        "            xticklabels=1,\n",
        "            yticklabels=False,\n",
        "            cmap=sns.color_palette(\"YlOrRd\", 100)\n",
        "           )"
      ],
      "execution_count": 41,
      "outputs": [
        {
          "output_type": "execute_result",
          "data": {
            "text/plain": [
              "<matplotlib.axes._subplots.AxesSubplot at 0x7f3b4c25b668>"
            ]
          },
          "metadata": {
            "tags": []
          },
          "execution_count": 41
        },
        {
          "output_type": "display_data",
          "data": {
            "image/png": "[encoded data removed]",
            "text/plain": [
              "<Figure size 864x576 with 2 Axes>"
            ]
          },
          "metadata": {
            "tags": []
          }
        }
      ]
    },
    {
      "cell_type": "code",
      "metadata": {
        "id": "gwsQz8EvtBk9",
        "colab_type": "code",
        "colab": {}
      },
      "source": [
        "from collections import defaultdict\n",
        "dic = defaultdict(list)\n",
        "dic_mean = defaultdict(list)\n",
        "for i, _ in enumerate(y_test):\n",
        "    it = str(y_test_true[i])+','+str(ypred[i])\n",
        "    if it in dic.keys():\n",
        "        dic[it] += [nngp_std[i]]\n",
        "    else:\n",
        "        dic[it] = [nngp_std[i]]\n",
        "\n",
        "heat_var = np.ones([5,5])*0.006\n",
        "for k in dic.keys():\n",
        "    i = int(list(k)[0])\n",
        "    j = int(list(k)[2])\n",
        "    heat_var[i,j] = np.mean(dic[k])"
      ],
      "execution_count": 0,
      "outputs": []
    },
    {
      "cell_type": "code",
      "metadata": {
        "id": "LzCMdLertNKN",
        "colab_type": "code",
        "colab": {
          "base_uri": "https://localhost:8080/",
          "height": 502
        },
        "outputId": "4bc498ed-3181-4149-c61f-a5147a9cf418"
      },
      "source": [
        "rcParams['figure.figsize'] = 12,8\n",
        "sns.heatmap(heat_var, cmap=sns.color_palette(\"RdBu_r\",12), annot = confusion_matrix(y_test_true,ypred)/len(y_test_true))"
      ],
      "execution_count": 43,
      "outputs": [
        {
          "output_type": "execute_result",
          "data": {
            "text/plain": [
              "<matplotlib.axes._subplots.AxesSubplot at 0x7f3b4c1dca20>"
            ]
          },
          "metadata": {
            "tags": []
          },
          "execution_count": 43
        },
        {
          "output_type": "display_data",
          "data": {
            "image/png": "[encoded data removed]",
            "text/plain": [
              "<Figure size 864x576 with 2 Axes>"
            ]
          },
          "metadata": {
            "tags": []
          }
        }
      ]
    },
    {
      "cell_type": "code",
      "metadata": {
        "id": "ovIXM37Bws7R",
        "colab_type": "code",
        "colab": {
          "base_uri": "https://localhost:8080/",
          "height": 34
        },
        "outputId": "bc64e093-61e2-4c0d-95fb-5f5ae1aa09c1"
      },
      "source": [
        "np.mean(y_test, axis=0)"
      ],
      "execution_count": 44,
      "outputs": [
        {
          "output_type": "execute_result",
          "data": {
            "text/plain": [
              "array([0.8277654 , 0.0254126 , 0.06607275, 0.00730969, 0.07343955])"
            ]
          },
          "metadata": {
            "tags": []
          },
          "execution_count": 44
        }
      ]
    },
    {
      "cell_type": "code",
      "metadata": {
        "id": "8xrdkINrw5zM",
        "colab_type": "code",
        "colab": {
          "base_uri": "https://localhost:8080/",
          "height": 193
        },
        "outputId": "ec8a4148-92b0-44de-cd2a-b51976eccfcf"
      },
      "source": [
        "confusion_matrix(y_test_true,ypred)/len(y_test_true)"
      ],
      "execution_count": 45,
      "outputs": [
        {
          "output_type": "execute_result",
          "data": {
            "text/plain": [
              "array([[8.22511564e-01, 1.99874365e-03, 2.22717149e-03, 6.28176575e-04,\n",
              "        3.99748729e-04],\n",
              "       [8.16629547e-03, 1.68465536e-02, 2.85534807e-04, 0.00000000e+00,\n",
              "        1.14213923e-04],\n",
              "       [6.85283536e-03, 1.71320884e-04, 5.80206727e-02, 6.85283536e-04,\n",
              "        3.42641768e-04],\n",
              "       [2.05585061e-03, 0.00000000e+00, 6.85283536e-04, 4.56855691e-03,\n",
              "        0.00000000e+00],\n",
              "       [3.42641768e-03, 5.71069613e-05, 3.99748729e-04, 0.00000000e+00,\n",
              "        6.95562789e-02]])"
            ]
          },
          "metadata": {
            "tags": []
          },
          "execution_count": 45
        }
      ]
    },
    {
      "cell_type": "code",
      "metadata": {
        "id": "Yaxz2zKA-pP0",
        "colab_type": "code",
        "colab": {
          "base_uri": "https://localhost:8080/",
          "height": 502
        },
        "outputId": "8cec4b04-7d6e-48c5-d841-afb958a78690"
      },
      "source": [
        "import numpy as np\n",
        "import matplotlib.pyplot as plt\n",
        "import seaborn as sns\n",
        "sns.set()\n",
        " \n",
        "# width of the bars\n",
        "barWidth = 0.7\n",
        "\n",
        "val = 17300\n",
        "# Choose the height of the blue bars\n",
        "bars1 = nngp_mean[y_test_true.argsort(),:][val]\n",
        " \n",
        "# Choose the height of the error bars (bars1)\n",
        "yer1 = np.array([1,1,1,1,1])*nngp_std[y_test_true.argsort()][val]*1.96*10\n",
        " \n",
        "# The x position of bars\n",
        "r1 = np.arange(len(bars1))\n",
        " \n",
        "# Create blue bars\n",
        "plt.bar(r1, bars1, width = barWidth, color = sns.color_palette(\"hls\", 5), edgecolor = 'black', yerr=yer1, capsize=7)\n",
        "  \n",
        "# general layout\n",
        "plt.xticks(r1, ['Normal', '1', '2', '3', '4'])\n",
        "plt.ylabel('height')\n",
        "plt.legend()\n",
        " \n",
        "# Show graphic\n",
        "plt.show()\n"
      ],
      "execution_count": 46,
      "outputs": [
        {
          "output_type": "stream",
          "text": [
            "WARNING:matplotlib.legend:No handles with labels found to put in legend.\n"
          ],
          "name": "stderr"
        },
        {
          "output_type": "display_data",
          "data": {
            "image/png": "[encoded data removed]",
            "text/plain": [
              "<Figure size 864x576 with 1 Axes>"
            ]
          },
          "metadata": {
            "tags": []
          }
        }
      ]
    }
  ]
}