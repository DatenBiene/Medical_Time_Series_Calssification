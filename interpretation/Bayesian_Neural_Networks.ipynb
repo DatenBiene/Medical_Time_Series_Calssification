{
  "nbformat": 4,
  "nbformat_minor": 0,
  "metadata": {
    "colab": {
      "name": "DLM-NNGP.ipynb",
      "provenance": []
    },
    "kernelspec": {
      "name": "python3",
      "display_name": "Python 3"
    },
    "accelerator": "GPU"
  },
  "cells": [
    {
      "cell_type": "code",
      "metadata": {
        "id": "2W6VrecJCZP2",
        "colab_type": "code",
        "outputId": "f83fe685-954b-476e-8128-98b2ed3c092a",
        "colab": {
          "base_uri": "https://localhost:8080/",
          "height": 52
        }
      },
      "source": [
        "!pip install -q git+https://www.github.com/google/neural-tangents"
      ],
      "execution_count": 1,
      "outputs": [
        {
          "output_type": "stream",
          "text": [
            "  Building wheel for neural-tangents (setup.py) ... \u001b[?25l\u001b[?25hdone\n",
            "  Building wheel for frozendict (setup.py) ... \u001b[?25l\u001b[?25hdone\n"
          ],
          "name": "stdout"
        }
      ]
    },
    {
      "cell_type": "code",
      "metadata": {
        "id": "h2EgrQd5_Y6R",
        "colab_type": "code",
        "outputId": "5160cc3c-c304-4260-9dee-c214b240f9e4",
        "colab": {
          "base_uri": "https://localhost:8080/",
          "height": 125
        }
      },
      "source": [
        "from google.colab import drive\n",
        "drive.mount('/content/drive')"
      ],
      "execution_count": 2,
      "outputs": [
        {
          "output_type": "stream",
          "text": [
            "Go to this URL in a browser: https://accounts.google.com/o/oauth2/auth?client_id=947318989803-6bn6qk8qdgf4n4g3pfee6491hc0brc4i.apps.googleusercontent.com&redirect_uri=urn%3aietf%3awg%3aoauth%3a2.0%3aoob&response_type=code&scope=email%20https%3a%2f%2fwww.googleapis.com%2fauth%2fdocs.test%20https%3a%2f%2fwww.googleapis.com%2fauth%2fdrive%20https%3a%2f%2fwww.googleapis.com%2fauth%2fdrive.photos.readonly%20https%3a%2f%2fwww.googleapis.com%2fauth%2fpeopleapi.readonly\n",
            "\n",
            "Enter your authorization code:\n",
            "··········\n",
            "Mounted at /content/drive\n"
          ],
          "name": "stdout"
        }
      ]
    },
    {
      "cell_type": "code",
      "metadata": {
        "id": "bb6hrkF2_k4x",
        "colab_type": "code",
        "colab": {}
      },
      "source": [
        "import os \n",
        "os.chdir('/content/drive/My Drive/DLM_data')"
      ],
      "execution_count": 0,
      "outputs": []
    },
    {
      "cell_type": "code",
      "metadata": {
        "id": "4g6mRNYW9IX9",
        "colab_type": "code",
        "colab": {
          "base_uri": "https://localhost:8080/",
          "height": 81
        },
        "outputId": "9740bf02-1ea5-4da4-85ce-e38fb24c224d"
      },
      "source": [
        "from utils.utils import split_dataset\n",
        "from utils.evaluation import evaluate, get_binary_metrics"
      ],
      "execution_count": 4,
      "outputs": [
        {
          "output_type": "stream",
          "text": [
            "Using TensorFlow backend.\n"
          ],
          "name": "stderr"
        },
        {
          "output_type": "display_data",
          "data": {
            "text/html": [
              "<p style=\"color: red;\">\n",
              "The default version of TensorFlow in Colab will switch to TensorFlow 2.x on the 27th of March, 2020.<br>\n",
              "We recommend you <a href=\"https://www.tensorflow.org/guide/migrate\" target=\"_blank\">upgrade</a> now\n",
              "or ensure your notebook will continue to use TensorFlow 1.x via the <code>%tensorflow_version 1.x</code> magic:\n",
              "<a href=\"https://colab.research.google.com/notebooks/tensorflow_version.ipynb\" target=\"_blank\">more info</a>.</p>\n"
            ],
            "text/plain": [
              "<IPython.core.display.HTML object>"
            ]
          },
          "metadata": {
            "tags": []
          }
        }
      ]
    },
    {
      "cell_type": "code",
      "metadata": {
        "id": "XEellQxeeUIr",
        "colab_type": "code",
        "colab": {}
      },
      "source": [
        "import neural_tangents as nt\n",
        "from neural_tangents import stax\n",
        "import numpy as np\n",
        "\n",
        "import jax "
      ],
      "execution_count": 0,
      "outputs": []
    },
    {
      "cell_type": "markdown",
      "metadata": {
        "id": "4MGZX3SdEjff",
        "colab_type": "text"
      },
      "source": [
        "### Transplant 1col_concat"
      ]
    },
    {
      "cell_type": "code",
      "metadata": {
        "id": "q0GXNOYBCxMm",
        "colab_type": "code",
        "colab": {}
      },
      "source": [
        "from jax import random\n",
        "from neural_tangents import stax\n",
        "\n",
        "init_fn, apply_fn, kernel_fn = stax.serial(\n",
        "    stax.Dense(512), stax.Relu(),\n",
        "    stax.Dense(512), stax.Relu(),\n",
        "    stax.Dense(512), stax.Relu(),\n",
        "    stax.Dense(512), stax.Relu(),\n",
        "    stax.Dense(2)\n",
        ")"
      ],
      "execution_count": 0,
      "outputs": []
    },
    {
      "cell_type": "code",
      "metadata": {
        "id": "AAJRYZaOALXF",
        "colab_type": "code",
        "colab": {}
      },
      "source": [
        "x_train,y_train,x_val,y_val,y_val_true,x_test,y_test,y_test_true, col = np.load('data/transplant_1col_concat.npy', allow_pickle=True)\n",
        "\n",
        "x_train = np.concatenate([x_train, x_val])\n",
        "y_train = np.concatenate([y_train, y_val])"
      ],
      "execution_count": 0,
      "outputs": []
    },
    {
      "cell_type": "code",
      "metadata": {
        "id": "lsvFTAI_-3bc",
        "colab_type": "code",
        "colab": {
          "base_uri": "https://localhost:8080/",
          "height": 34
        },
        "outputId": "81cd0798-aa02-4f1a-87e9-84ac44338d87"
      },
      "source": [
        "x_train.shape,x_val.shape,x_test.shape"
      ],
      "execution_count": 8,
      "outputs": [
        {
          "output_type": "execute_result",
          "data": {
            "text/plain": [
              "((297, 10820), (33, 10820), (33, 10820))"
            ]
          },
          "metadata": {
            "tags": []
          },
          "execution_count": 8
        }
      ]
    },
    {
      "cell_type": "code",
      "metadata": {
        "id": "yHA0C4JcL_Fo",
        "colab_type": "code",
        "colab": {}
      },
      "source": [
        "x_train = jax.numpy.array(x_train)\n",
        "x_test = jax.numpy.array(x_test)\n",
        "y_train = jax.numpy.array(y_train.astype(int).reshape(-1,1))\n",
        "y_test = y_test.astype(int)"
      ],
      "execution_count": 0,
      "outputs": []
    },
    {
      "cell_type": "code",
      "metadata": {
        "id": "bXlQI5UYCIDi",
        "colab_type": "code",
        "colab": {}
      },
      "source": [
        "nb_classes = 2\n",
        "targets = y_train.reshape(-1)\n",
        "y_train_oh = np.eye(nb_classes)[targets]"
      ],
      "execution_count": 0,
      "outputs": []
    },
    {
      "cell_type": "code",
      "metadata": {
        "id": "WdARCUB3bR4g",
        "colab_type": "code",
        "outputId": "7ccbd3a5-3322-4a85-f4bc-0b4923b7ef12",
        "colab": {
          "base_uri": "https://localhost:8080/",
          "height": 107
        }
      },
      "source": [
        "%%time\n",
        "nngp_mean, nngp_covariance = nt.predict.gp_inference(\n",
        "    kernel_fn, x_train, y_train_oh, x_test, \n",
        "    diag_reg=1e-4, get='ntk', compute_cov=True)\n",
        "\n",
        "#nngp_mean = np.reshape(nngp_mean, (-1,))\n",
        "nngp_std = np.sqrt(np.diag(nngp_covariance))\n",
        "\n",
        "ypred = nngp_mean.argmax(axis = 1)"
      ],
      "execution_count": 11,
      "outputs": [
        {
          "output_type": "stream",
          "text": [
            "/usr/local/lib/python3.6/dist-packages/jax/lax/lax.py:4670: UserWarning: Explicitly requested dtype <class 'jax.numpy.lax_numpy.float64'> requested in astype is not available, and will be truncated to dtype float32. To enable more dtypes, set the jax_enable_x64 configuration option or the JAX_ENABLE_X64 shell environment variable. See https://github.com/google/jax#current-gotchas for more.\n",
            "  warnings.warn(msg.format(dtype, fun_name , truncated_dtype))\n"
          ],
          "name": "stderr"
        },
        {
          "output_type": "stream",
          "text": [
            "CPU times: user 2.38 s, sys: 1.31 s, total: 3.69 s\n",
            "Wall time: 12 s\n"
          ],
          "name": "stdout"
        }
      ]
    },
    {
      "cell_type": "code",
      "metadata": {
        "id": "nsHOmbUaI5aR",
        "colab_type": "code",
        "colab": {
          "base_uri": "https://localhost:8080/",
          "height": 77
        },
        "outputId": "409b0f70-a6ba-4f40-bc8a-3a728a94cb9d"
      },
      "source": [
        "evaluate(y_test,ypred)"
      ],
      "execution_count": 12,
      "outputs": [
        {
          "output_type": "execute_result",
          "data": {
            "text/html": [
              "<div>\n",
              "<style scoped>\n",
              "    .dataframe tbody tr th:only-of-type {\n",
              "        vertical-align: middle;\n",
              "    }\n",
              "\n",
              "    .dataframe tbody tr th {\n",
              "        vertical-align: top;\n",
              "    }\n",
              "\n",
              "    .dataframe thead th {\n",
              "        text-align: right;\n",
              "    }\n",
              "</style>\n",
              "<table border=\"1\" class=\"dataframe\">\n",
              "  <thead>\n",
              "    <tr style=\"text-align: right;\">\n",
              "      <th></th>\n",
              "      <th>accuracy</th>\n",
              "      <th>recall</th>\n",
              "      <th>precision</th>\n",
              "      <th>f1-score</th>\n",
              "    </tr>\n",
              "  </thead>\n",
              "  <tbody>\n",
              "    <tr>\n",
              "      <th>0</th>\n",
              "      <td>0.575758</td>\n",
              "      <td>0.546992</td>\n",
              "      <td>0.554348</td>\n",
              "      <td>0.541667</td>\n",
              "    </tr>\n",
              "  </tbody>\n",
              "</table>\n",
              "</div>"
            ],
            "text/plain": [
              "   accuracy    recall  precision  f1-score\n",
              "0  0.575758  0.546992   0.554348  0.541667"
            ]
          },
          "metadata": {
            "tags": []
          },
          "execution_count": 12
        }
      ]
    },
    {
      "cell_type": "code",
      "metadata": {
        "id": "H0wiBeUWHki1",
        "colab_type": "code",
        "colab": {
          "base_uri": "https://localhost:8080/",
          "height": 162
        },
        "outputId": "1d3fd839-3d0e-4df4-f5dd-7336620aa570"
      },
      "source": [
        "get_binary_metrics(y_test,ypred)"
      ],
      "execution_count": 13,
      "outputs": [
        {
          "output_type": "stream",
          "text": [
            "/usr/local/lib/python3.6/dist-packages/jax/lax/lax.py:4670: UserWarning: Explicitly requested dtype <class 'int'> requested in astype is not available, and will be truncated to dtype int32. To enable more dtypes, set the jax_enable_x64 configuration option or the JAX_ENABLE_X64 shell environment variable. See https://github.com/google/jax#current-gotchas for more.\n",
            "  warnings.warn(msg.format(dtype, fun_name , truncated_dtype))\n"
          ],
          "name": "stderr"
        },
        {
          "output_type": "execute_result",
          "data": {
            "text/html": [
              "<div>\n",
              "<style scoped>\n",
              "    .dataframe tbody tr th:only-of-type {\n",
              "        vertical-align: middle;\n",
              "    }\n",
              "\n",
              "    .dataframe tbody tr th {\n",
              "        vertical-align: top;\n",
              "    }\n",
              "\n",
              "    .dataframe thead th {\n",
              "        text-align: right;\n",
              "    }\n",
              "</style>\n",
              "<table border=\"1\" class=\"dataframe\">\n",
              "  <thead>\n",
              "    <tr style=\"text-align: right;\">\n",
              "      <th></th>\n",
              "      <th>recall</th>\n",
              "      <th>precision</th>\n",
              "      <th>f1-score</th>\n",
              "    </tr>\n",
              "  </thead>\n",
              "  <tbody>\n",
              "    <tr>\n",
              "      <th>0</th>\n",
              "      <td>0.736842</td>\n",
              "      <td>0.608696</td>\n",
              "      <td>0.666667</td>\n",
              "    </tr>\n",
              "    <tr>\n",
              "      <th>1</th>\n",
              "      <td>0.357143</td>\n",
              "      <td>0.5</td>\n",
              "      <td>0.416667</td>\n",
              "    </tr>\n",
              "  </tbody>\n",
              "</table>\n",
              "</div>"
            ],
            "text/plain": [
              "     recall precision  f1-score\n",
              "0  0.736842  0.608696  0.666667\n",
              "1  0.357143       0.5  0.416667"
            ]
          },
          "metadata": {
            "tags": []
          },
          "execution_count": 13
        }
      ]
    },
    {
      "cell_type": "code",
      "metadata": {
        "id": "u-1tc8vzLz-O",
        "colab_type": "code",
        "colab": {
          "base_uri": "https://localhost:8080/",
          "height": 34
        },
        "outputId": "50fe5b30-4124-4f59-a415-e08091c84906"
      },
      "source": [
        "np.mean(y_test)"
      ],
      "execution_count": 14,
      "outputs": [
        {
          "output_type": "execute_result",
          "data": {
            "text/plain": [
              "0.42424242424242425"
            ]
          },
          "metadata": {
            "tags": []
          },
          "execution_count": 14
        }
      ]
    },
    {
      "cell_type": "markdown",
      "metadata": {
        "id": "xW4lOtabQ-q3",
        "colab_type": "text"
      },
      "source": [
        "### Plot"
      ]
    },
    {
      "cell_type": "code",
      "metadata": {
        "id": "Rulz1bBERAgI",
        "colab_type": "code",
        "colab": {}
      },
      "source": [
        "import numpy as np; np.random.seed(0)\n",
        "import seaborn as sns; sns.set()\n",
        "import matplotlib.pyplot as plt\n",
        "from matplotlib import rcParams\n",
        "\n",
        "from sklearn.metrics import confusion_matrix"
      ],
      "execution_count": 0,
      "outputs": []
    },
    {
      "cell_type": "code",
      "metadata": {
        "id": "tv1cn1WPRFQU",
        "colab_type": "code",
        "colab": {
          "base_uri": "https://localhost:8080/",
          "height": 506
        },
        "outputId": "e9124944-6c80-42ce-daaf-6a51d23ea4dc"
      },
      "source": [
        "rcParams['figure.figsize'] = 12,8\n",
        "sns.heatmap(\n",
        "            nngp_mean[y_test.argsort(),:],\n",
        "            xticklabels=1,\n",
        "            yticklabels=False,\n",
        "            cmap=sns.color_palette(\"YlOrRd\", 100)\n",
        "           )"
      ],
      "execution_count": 16,
      "outputs": [
        {
          "output_type": "execute_result",
          "data": {
            "text/plain": [
              "<matplotlib.axes._subplots.AxesSubplot at 0x7fafe00b7208>"
            ]
          },
          "metadata": {
            "tags": []
          },
          "execution_count": 16
        },
        {
          "output_type": "display_data",
          "data": {
            "image/png": "[encoded data removed]",
            "text/plain": [
              "<Figure size 864x576 with 2 Axes>"
            ]
          },
          "metadata": {
            "tags": []
          }
        }
      ]
    },
    {
      "cell_type": "code",
      "metadata": {
        "id": "6soK6MopR0vg",
        "colab_type": "code",
        "colab": {}
      },
      "source": [
        "from collections import defaultdict\n",
        "dic = defaultdict(list)\n",
        "dic_mean = defaultdict(list)\n",
        "for i, _ in enumerate(y_test):\n",
        "    it = str(y_test[i])+','+str(ypred[i])\n",
        "    if it in dic.keys():\n",
        "        dic[it] += [nngp_std[i]]\n",
        "    else:\n",
        "        dic[it] = [nngp_std[i]]\n",
        "\n",
        "heat_var = np.ones([2,2])*0.04\n",
        "for k in dic.keys():\n",
        "    i = int(list(k)[0])\n",
        "    j = int(list(k)[2])\n",
        "    heat_var[i,j] = np.mean(dic[k])"
      ],
      "execution_count": 0,
      "outputs": []
    },
    {
      "cell_type": "code",
      "metadata": {
        "id": "hLt3PjICTJZK",
        "colab_type": "code",
        "colab": {
          "base_uri": "https://localhost:8080/",
          "height": 502
        },
        "outputId": "1521eaa5-295d-4c17-bf0e-72f793d89987"
      },
      "source": [
        "rcParams['figure.figsize'] = 12,8\n",
        "sns.heatmap(heat_var, cmap=sns.color_palette(\"RdBu_r\",10), annot = confusion_matrix(y_test,ypred)/len(y_test))#, fmt='d')"
      ],
      "execution_count": 18,
      "outputs": [
        {
          "output_type": "execute_result",
          "data": {
            "text/plain": [
              "<matplotlib.axes._subplots.AxesSubplot at 0x7fafce16c780>"
            ]
          },
          "metadata": {
            "tags": []
          },
          "execution_count": 18
        },
        {
          "output_type": "display_data",
          "data": {
            "image/png": "[encoded data removed]",
            "text/plain": [
              "<Figure size 864x576 with 2 Axes>"
            ]
          },
          "metadata": {
            "tags": []
          }
        }
      ]
    },
    {
      "cell_type": "code",
      "metadata": {
        "id": "GKTYYzf8-fTq",
        "colab_type": "code",
        "colab": {}
      },
      "source": [
        ""
      ],
      "execution_count": 0,
      "outputs": []
    },
    {
      "cell_type": "markdown",
      "metadata": {
        "id": "GF1tHtu6FfwK",
        "colab_type": "text"
      },
      "source": [
        "# Transplant 1col"
      ]
    },
    {
      "cell_type": "code",
      "metadata": {
        "id": "QkzGgbKlFhTv",
        "colab_type": "code",
        "colab": {
          "base_uri": "https://localhost:8080/",
          "height": 34
        },
        "outputId": "322c0249-0694-4c65-cc9a-f6b273e7cf3a"
      },
      "source": [
        "x_train,y_train,x_val,y_val,y_val_true,x_test,y_test,y_test_true, col = np.load('data/transplant_1col.npy', allow_pickle=True)\n",
        "\n",
        "x_train = np.concatenate([x_train, x_val])\n",
        "y_train = np.concatenate([y_train, y_val])\n",
        "\n",
        "x_train.shape,x_val.shape,x_test.shape"
      ],
      "execution_count": 19,
      "outputs": [
        {
          "output_type": "execute_result",
          "data": {
            "text/plain": [
              "((297, 1082), (33, 1082), (33, 1082))"
            ]
          },
          "metadata": {
            "tags": []
          },
          "execution_count": 19
        }
      ]
    },
    {
      "cell_type": "code",
      "metadata": {
        "id": "8junp-WPFvRT",
        "colab_type": "code",
        "colab": {}
      },
      "source": [
        "x_train = jax.numpy.array(x_train)\n",
        "x_test = jax.numpy.array(x_test)\n",
        "y_train = jax.numpy.array(y_train.astype(int).reshape(-1,1))\n",
        "y_test = y_test.astype(int)\n",
        "\n",
        "nb_classes = 2\n",
        "targets = y_train.reshape(-1)\n",
        "y_train_oh = np.eye(nb_classes)[targets]"
      ],
      "execution_count": 0,
      "outputs": []
    },
    {
      "cell_type": "code",
      "metadata": {
        "id": "gpTX0XMVFzSH",
        "colab_type": "code",
        "colab": {
          "base_uri": "https://localhost:8080/",
          "height": 107
        },
        "outputId": "9cfd7e0e-e7b8-4c8b-f3fb-dba1ab843462"
      },
      "source": [
        "%%time\n",
        "init_fn, apply_fn, kernel_fn = stax.serial(\n",
        "    stax.Dense(512), stax.Relu(),\n",
        "    stax.Dense(512), stax.Relu(),\n",
        "    stax.Dense(512), stax.Relu(),\n",
        "    stax.Dense(512), stax.Relu(),\n",
        "    stax.Dense(2)\n",
        ")\n",
        "\n",
        "nngp_mean, nngp_covariance = nt.predict.gp_inference(\n",
        "    kernel_fn, x_train, y_train_oh, x_test, \n",
        "    diag_reg=1e-4, get='nngp', compute_cov=True)\n",
        "\n",
        "nngp_std = np.sqrt(np.diag(nngp_covariance))\n",
        "\n",
        "ypred = nngp_mean.argmax(axis = 1)"
      ],
      "execution_count": 21,
      "outputs": [
        {
          "output_type": "stream",
          "text": [
            "/usr/local/lib/python3.6/dist-packages/jax/lax/lax.py:4670: UserWarning: Explicitly requested dtype <class 'jax.numpy.lax_numpy.float64'> requested in astype is not available, and will be truncated to dtype float32. To enable more dtypes, set the jax_enable_x64 configuration option or the JAX_ENABLE_X64 shell environment variable. See https://github.com/google/jax#current-gotchas for more.\n",
            "  warnings.warn(msg.format(dtype, fun_name , truncated_dtype))\n"
          ],
          "name": "stderr"
        },
        {
          "output_type": "stream",
          "text": [
            "CPU times: user 610 ms, sys: 139 ms, total: 749 ms\n",
            "Wall time: 794 ms\n"
          ],
          "name": "stdout"
        }
      ]
    },
    {
      "cell_type": "code",
      "metadata": {
        "id": "mfg2XXIcLWO0",
        "colab_type": "code",
        "colab": {
          "base_uri": "https://localhost:8080/",
          "height": 77
        },
        "outputId": "ae276334-fe1e-488b-d658-62901bba094b"
      },
      "source": [
        "evaluate(y_test,ypred)"
      ],
      "execution_count": 22,
      "outputs": [
        {
          "output_type": "execute_result",
          "data": {
            "text/html": [
              "<div>\n",
              "<style scoped>\n",
              "    .dataframe tbody tr th:only-of-type {\n",
              "        vertical-align: middle;\n",
              "    }\n",
              "\n",
              "    .dataframe tbody tr th {\n",
              "        vertical-align: top;\n",
              "    }\n",
              "\n",
              "    .dataframe thead th {\n",
              "        text-align: right;\n",
              "    }\n",
              "</style>\n",
              "<table border=\"1\" class=\"dataframe\">\n",
              "  <thead>\n",
              "    <tr style=\"text-align: right;\">\n",
              "      <th></th>\n",
              "      <th>accuracy</th>\n",
              "      <th>recall</th>\n",
              "      <th>precision</th>\n",
              "      <th>f1-score</th>\n",
              "    </tr>\n",
              "  </thead>\n",
              "  <tbody>\n",
              "    <tr>\n",
              "      <th>0</th>\n",
              "      <td>0.606061</td>\n",
              "      <td>0.629699</td>\n",
              "      <td>0.636905</td>\n",
              "      <td>0.604608</td>\n",
              "    </tr>\n",
              "  </tbody>\n",
              "</table>\n",
              "</div>"
            ],
            "text/plain": [
              "   accuracy    recall  precision  f1-score\n",
              "0  0.606061  0.629699   0.636905  0.604608"
            ]
          },
          "metadata": {
            "tags": []
          },
          "execution_count": 22
        }
      ]
    },
    {
      "cell_type": "code",
      "metadata": {
        "id": "AkNLHq1qG6TD",
        "colab_type": "code",
        "colab": {
          "base_uri": "https://localhost:8080/",
          "height": 162
        },
        "outputId": "6062d5b2-0a22-48fe-fc66-8118fed68c44"
      },
      "source": [
        "get_binary_metrics(y_test,ypred)"
      ],
      "execution_count": 23,
      "outputs": [
        {
          "output_type": "stream",
          "text": [
            "/usr/local/lib/python3.6/dist-packages/jax/lax/lax.py:4670: UserWarning: Explicitly requested dtype <class 'int'> requested in astype is not available, and will be truncated to dtype int32. To enable more dtypes, set the jax_enable_x64 configuration option or the JAX_ENABLE_X64 shell environment variable. See https://github.com/google/jax#current-gotchas for more.\n",
            "  warnings.warn(msg.format(dtype, fun_name , truncated_dtype))\n"
          ],
          "name": "stderr"
        },
        {
          "output_type": "execute_result",
          "data": {
            "text/html": [
              "<div>\n",
              "<style scoped>\n",
              "    .dataframe tbody tr th:only-of-type {\n",
              "        vertical-align: middle;\n",
              "    }\n",
              "\n",
              "    .dataframe tbody tr th {\n",
              "        vertical-align: top;\n",
              "    }\n",
              "\n",
              "    .dataframe thead th {\n",
              "        text-align: right;\n",
              "    }\n",
              "</style>\n",
              "<table border=\"1\" class=\"dataframe\">\n",
              "  <thead>\n",
              "    <tr style=\"text-align: right;\">\n",
              "      <th></th>\n",
              "      <th>recall</th>\n",
              "      <th>precision</th>\n",
              "      <th>f1-score</th>\n",
              "    </tr>\n",
              "  </thead>\n",
              "  <tbody>\n",
              "    <tr>\n",
              "      <th>0</th>\n",
              "      <td>0.473684</td>\n",
              "      <td>0.75</td>\n",
              "      <td>0.580645</td>\n",
              "    </tr>\n",
              "    <tr>\n",
              "      <th>1</th>\n",
              "      <td>0.785714</td>\n",
              "      <td>0.52381</td>\n",
              "      <td>0.628571</td>\n",
              "    </tr>\n",
              "  </tbody>\n",
              "</table>\n",
              "</div>"
            ],
            "text/plain": [
              "     recall precision  f1-score\n",
              "0  0.473684      0.75  0.580645\n",
              "1  0.785714   0.52381  0.628571"
            ]
          },
          "metadata": {
            "tags": []
          },
          "execution_count": 23
        }
      ]
    },
    {
      "cell_type": "code",
      "metadata": {
        "id": "iiDcF5ZcLdJx",
        "colab_type": "code",
        "colab": {
          "base_uri": "https://localhost:8080/",
          "height": 506
        },
        "outputId": "a3ddf097-1d81-4e87-8ba9-29de456fbf95"
      },
      "source": [
        "rcParams['figure.figsize'] = 12,8\n",
        "sns.heatmap(\n",
        "            nngp_mean[y_test.argsort(),:],\n",
        "            xticklabels=1,\n",
        "            yticklabels=False,\n",
        "            cmap=sns.color_palette(\"YlOrRd\", 100)\n",
        "           )"
      ],
      "execution_count": 24,
      "outputs": [
        {
          "output_type": "execute_result",
          "data": {
            "text/plain": [
              "<matplotlib.axes._subplots.AxesSubplot at 0x7fafce07a518>"
            ]
          },
          "metadata": {
            "tags": []
          },
          "execution_count": 24
        },
        {
          "output_type": "display_data",
          "data": {
            "image/png": "[encoded data removed]",
            "text/plain": [
              "<Figure size 864x576 with 2 Axes>"
            ]
          },
          "metadata": {
            "tags": []
          }
        }
      ]
    },
    {
      "cell_type": "code",
      "metadata": {
        "id": "xIkgUDDMLjLa",
        "colab_type": "code",
        "colab": {}
      },
      "source": [
        "from collections import defaultdict\n",
        "dic = defaultdict(list)\n",
        "dic_mean = defaultdict(list)\n",
        "for i, _ in enumerate(y_test):\n",
        "    it = str(y_test[i])+','+str(ypred[i])\n",
        "    if it in dic.keys():\n",
        "        dic[it] += [nngp_std[i]]\n",
        "    else:\n",
        "        dic[it] = [nngp_std[i]]\n",
        "\n",
        "heat_var = np.ones([2,2])*0.04\n",
        "for k in dic.keys():\n",
        "    i = int(list(k)[0])\n",
        "    j = int(list(k)[2])\n",
        "    heat_var[i,j] = np.mean(dic[k])"
      ],
      "execution_count": 0,
      "outputs": []
    },
    {
      "cell_type": "code",
      "metadata": {
        "id": "MYg_blLyLlJv",
        "colab_type": "code",
        "colab": {
          "base_uri": "https://localhost:8080/",
          "height": 502
        },
        "outputId": "187dbddb-60e4-4bdb-f6e9-7740b9869b27"
      },
      "source": [
        "rcParams['figure.figsize'] = 12,8\n",
        "sns.heatmap(heat_var, cmap=sns.color_palette(\"RdBu_r\",10), annot = confusion_matrix(y_test,ypred)/len(y_test))#, fmt='d')"
      ],
      "execution_count": 26,
      "outputs": [
        {
          "output_type": "execute_result",
          "data": {
            "text/plain": [
              "<matplotlib.axes._subplots.AxesSubplot at 0x7fac2e32c668>"
            ]
          },
          "metadata": {
            "tags": []
          },
          "execution_count": 26
        },
        {
          "output_type": "display_data",
          "data": {
            "image/png": "[encoded data removed]",
            "text/plain": [
              "<Figure size 864x576 with 2 Axes>"
            ]
          },
          "metadata": {
            "tags": []
          }
        }
      ]
    },
    {
      "cell_type": "code",
      "metadata": {
        "id": "wFQvDmuyfSRI",
        "colab_type": "code",
        "colab": {}
      },
      "source": [
        ""
      ],
      "execution_count": 0,
      "outputs": []
    },
    {
      "cell_type": "markdown",
      "metadata": {
        "id": "KfL1k2Pi5mcH",
        "colab_type": "text"
      },
      "source": [
        ""
      ]
    },
    {
      "cell_type": "markdown",
      "metadata": {
        "id": "XVDEN-_w5mfk",
        "colab_type": "text"
      },
      "source": [
        "# ECG 5000"
      ]
    },
    {
      "cell_type": "code",
      "metadata": {
        "id": "iUNCDdoM5otu",
        "colab_type": "code",
        "colab": {
          "base_uri": "https://localhost:8080/",
          "height": 34
        },
        "outputId": "3a91e908-de91-4f86-9cc1-7e9e3ed27769"
      },
      "source": [
        "x_train,y_train,x_val,y_val,x_test,y_test = np.load('data/ECG5000_full.npy', allow_pickle=True)\n",
        "\n",
        "x_train = np.concatenate([x_train, x_val])\n",
        "y_train = np.concatenate([y_train, y_val]) - 1\n",
        "y_test = y_test -1\n",
        "x_train.shape,x_val.shape,x_test.shape"
      ],
      "execution_count": 27,
      "outputs": [
        {
          "output_type": "execute_result",
          "data": {
            "text/plain": [
              "((4500, 140), (500, 140), (500, 140))"
            ]
          },
          "metadata": {
            "tags": []
          },
          "execution_count": 27
        }
      ]
    },
    {
      "cell_type": "code",
      "metadata": {
        "id": "PlvgC24k5ov7",
        "colab_type": "code",
        "colab": {}
      },
      "source": [
        "x_train = jax.numpy.array(x_train)\n",
        "x_test = jax.numpy.array(x_test)\n",
        "y_train = jax.numpy.array(y_train.astype(int).reshape(-1,1))\n",
        "y_test = y_test.astype(int)\n",
        "\n",
        "nb_classes = 5\n",
        "targets = y_train.reshape(-1)\n",
        "y_train_oh = np.eye(nb_classes)[targets]"
      ],
      "execution_count": 0,
      "outputs": []
    },
    {
      "cell_type": "code",
      "metadata": {
        "id": "zRPc1HAf5oyP",
        "colab_type": "code",
        "colab": {
          "base_uri": "https://localhost:8080/",
          "height": 107
        },
        "outputId": "491720ce-9e30-4b79-b29e-20b09fa904bc"
      },
      "source": [
        "%%time\n",
        "init_fn, apply_fn, kernel_fn = stax.serial(\n",
        "    stax.Dense(512), stax.Relu(),\n",
        "    stax.Dense(512), stax.Relu(),\n",
        "    stax.Dense(512), stax.Relu(),\n",
        "    stax.Dense(512), stax.Relu(),\n",
        "    stax.Dense(2)\n",
        ")\n",
        "\n",
        "nngp_mean, nngp_covariance = nt.predict.gp_inference(\n",
        "    kernel_fn, x_train, y_train_oh, x_test, \n",
        "    diag_reg=1e-4, get='nngp', compute_cov=True)\n",
        "\n",
        "nngp_std = np.sqrt(np.diag(nngp_covariance))\n",
        "\n",
        "ypred = nngp_mean.argmax(axis = 1)"
      ],
      "execution_count": 29,
      "outputs": [
        {
          "output_type": "stream",
          "text": [
            "/usr/local/lib/python3.6/dist-packages/jax/lax/lax.py:4670: UserWarning: Explicitly requested dtype <class 'jax.numpy.lax_numpy.float64'> requested in astype is not available, and will be truncated to dtype float32. To enable more dtypes, set the jax_enable_x64 configuration option or the JAX_ENABLE_X64 shell environment variable. See https://github.com/google/jax#current-gotchas for more.\n",
            "  warnings.warn(msg.format(dtype, fun_name , truncated_dtype))\n"
          ],
          "name": "stderr"
        },
        {
          "output_type": "stream",
          "text": [
            "CPU times: user 2.14 s, sys: 1.14 s, total: 3.29 s\n",
            "Wall time: 7.45 s\n"
          ],
          "name": "stdout"
        }
      ]
    },
    {
      "cell_type": "code",
      "metadata": {
        "id": "Tq9ugvpm5o0z",
        "colab_type": "code",
        "colab": {
          "base_uri": "https://localhost:8080/",
          "height": 77
        },
        "outputId": "8748f859-9ec5-4789-9e51-c9156aff2efa"
      },
      "source": [
        "evaluate(y_test,ypred)"
      ],
      "execution_count": 30,
      "outputs": [
        {
          "output_type": "execute_result",
          "data": {
            "text/html": [
              "<div>\n",
              "<style scoped>\n",
              "    .dataframe tbody tr th:only-of-type {\n",
              "        vertical-align: middle;\n",
              "    }\n",
              "\n",
              "    .dataframe tbody tr th {\n",
              "        vertical-align: top;\n",
              "    }\n",
              "\n",
              "    .dataframe thead th {\n",
              "        text-align: right;\n",
              "    }\n",
              "</style>\n",
              "<table border=\"1\" class=\"dataframe\">\n",
              "  <thead>\n",
              "    <tr style=\"text-align: right;\">\n",
              "      <th></th>\n",
              "      <th>accuracy</th>\n",
              "      <th>recall</th>\n",
              "      <th>precision</th>\n",
              "      <th>f1-score</th>\n",
              "    </tr>\n",
              "  </thead>\n",
              "  <tbody>\n",
              "    <tr>\n",
              "      <th>0</th>\n",
              "      <td>0.95</td>\n",
              "      <td>0.605535</td>\n",
              "      <td>0.64707</td>\n",
              "      <td>0.622633</td>\n",
              "    </tr>\n",
              "  </tbody>\n",
              "</table>\n",
              "</div>"
            ],
            "text/plain": [
              "   accuracy    recall  precision  f1-score\n",
              "0      0.95  0.605535    0.64707  0.622633"
            ]
          },
          "metadata": {
            "tags": []
          },
          "execution_count": 30
        }
      ]
    },
    {
      "cell_type": "code",
      "metadata": {
        "id": "RkbKlH-Y5o5V",
        "colab_type": "code",
        "colab": {
          "base_uri": "https://localhost:8080/",
          "height": 250
        },
        "outputId": "f8056512-0224-49c7-8335-b5e4d453c5a1"
      },
      "source": [
        "get_binary_metrics(y_test,ypred)"
      ],
      "execution_count": 31,
      "outputs": [
        {
          "output_type": "stream",
          "text": [
            "/usr/local/lib/python3.6/dist-packages/jax/lax/lax.py:4670: UserWarning: Explicitly requested dtype <class 'int'> requested in astype is not available, and will be truncated to dtype int32. To enable more dtypes, set the jax_enable_x64 configuration option or the JAX_ENABLE_X64 shell environment variable. See https://github.com/google/jax#current-gotchas for more.\n",
            "  warnings.warn(msg.format(dtype, fun_name , truncated_dtype))\n"
          ],
          "name": "stderr"
        },
        {
          "output_type": "execute_result",
          "data": {
            "text/html": [
              "<div>\n",
              "<style scoped>\n",
              "    .dataframe tbody tr th:only-of-type {\n",
              "        vertical-align: middle;\n",
              "    }\n",
              "\n",
              "    .dataframe tbody tr th {\n",
              "        vertical-align: top;\n",
              "    }\n",
              "\n",
              "    .dataframe thead th {\n",
              "        text-align: right;\n",
              "    }\n",
              "</style>\n",
              "<table border=\"1\" class=\"dataframe\">\n",
              "  <thead>\n",
              "    <tr style=\"text-align: right;\">\n",
              "      <th></th>\n",
              "      <th>recall</th>\n",
              "      <th>precision</th>\n",
              "      <th>f1-score</th>\n",
              "    </tr>\n",
              "  </thead>\n",
              "  <tbody>\n",
              "    <tr>\n",
              "      <th>0</th>\n",
              "      <td>0.993151</td>\n",
              "      <td>0.989761</td>\n",
              "      <td>0.991453</td>\n",
              "    </tr>\n",
              "    <tr>\n",
              "      <th>1</th>\n",
              "      <td>0.966102</td>\n",
              "      <td>0.929348</td>\n",
              "      <td>0.947368</td>\n",
              "    </tr>\n",
              "    <tr>\n",
              "      <th>2</th>\n",
              "      <td>0.7</td>\n",
              "      <td>0.777778</td>\n",
              "      <td>0.736842</td>\n",
              "    </tr>\n",
              "    <tr>\n",
              "      <th>3</th>\n",
              "      <td>0.368421</td>\n",
              "      <td>0.538462</td>\n",
              "      <td>0.4375</td>\n",
              "    </tr>\n",
              "    <tr>\n",
              "      <th>4</th>\n",
              "      <td>0</td>\n",
              "      <td>0</td>\n",
              "      <td>0</td>\n",
              "    </tr>\n",
              "  </tbody>\n",
              "</table>\n",
              "</div>"
            ],
            "text/plain": [
              "     recall precision  f1-score\n",
              "0  0.993151  0.989761  0.991453\n",
              "1  0.966102  0.929348  0.947368\n",
              "2       0.7  0.777778  0.736842\n",
              "3  0.368421  0.538462    0.4375\n",
              "4         0         0         0"
            ]
          },
          "metadata": {
            "tags": []
          },
          "execution_count": 31
        }
      ]
    },
    {
      "cell_type": "code",
      "metadata": {
        "id": "PjdnqFAE5o3e",
        "colab_type": "code",
        "colab": {
          "base_uri": "https://localhost:8080/",
          "height": 502
        },
        "outputId": "8230551e-0bb6-480e-ff32-07e54aa20327"
      },
      "source": [
        "rcParams['figure.figsize'] = 12,8\n",
        "sns.heatmap(\n",
        "            nngp_mean[y_test.argsort(),:],\n",
        "            xticklabels=1,\n",
        "            yticklabels=False,\n",
        "            cmap=sns.color_palette(\"YlOrRd\", 100)\n",
        "           )"
      ],
      "execution_count": 32,
      "outputs": [
        {
          "output_type": "execute_result",
          "data": {
            "text/plain": [
              "<matplotlib.axes._subplots.AxesSubplot at 0x7fafce158278>"
            ]
          },
          "metadata": {
            "tags": []
          },
          "execution_count": 32
        },
        {
          "output_type": "display_data",
          "data": {
            "image/png": "[encoded data removed]",
            "text/plain": [
              "<Figure size 864x576 with 2 Axes>"
            ]
          },
          "metadata": {
            "tags": []
          }
        }
      ]
    },
    {
      "cell_type": "code",
      "metadata": {
        "id": "e3Vgijwk6qEF",
        "colab_type": "code",
        "colab": {}
      },
      "source": [
        "from collections import defaultdict\n",
        "dic = defaultdict(list)\n",
        "dic_mean = defaultdict(list)\n",
        "for i, _ in enumerate(y_test):\n",
        "    it = str(y_test[i])+','+str(ypred[i])\n",
        "    if it in dic.keys():\n",
        "        dic[it] += [nngp_std[i]]\n",
        "    else:\n",
        "        dic[it] = [nngp_std[i]]\n",
        "\n",
        "heat_var = np.ones([5,5])*0.033\n",
        "for k in dic.keys():\n",
        "    i = int(list(k)[0])\n",
        "    j = int(list(k)[2])\n",
        "    heat_var[i,j] = np.mean(dic[k])"
      ],
      "execution_count": 0,
      "outputs": []
    },
    {
      "cell_type": "code",
      "metadata": {
        "id": "VsCej0u86vJp",
        "colab_type": "code",
        "colab": {
          "base_uri": "https://localhost:8080/",
          "height": 502
        },
        "outputId": "82935f27-266e-43bd-d50d-5505642e3e31"
      },
      "source": [
        "rcParams['figure.figsize'] = 12,8\n",
        "sns.heatmap(heat_var, cmap=sns.color_palette(\"RdBu_r\",10), annot = confusion_matrix(y_test,ypred)/len(y_test))#, fmt='d')"
      ],
      "execution_count": 34,
      "outputs": [
        {
          "output_type": "execute_result",
          "data": {
            "text/plain": [
              "<matplotlib.axes._subplots.AxesSubplot at 0x7fac2e1d4240>"
            ]
          },
          "metadata": {
            "tags": []
          },
          "execution_count": 34
        },
        {
          "output_type": "display_data",
          "data": {
            "image/png": "[encoded data removed]",
            "text/plain": [
              "<Figure size 864x576 with 2 Axes>"
            ]
          },
          "metadata": {
            "tags": []
          }
        }
      ]
    },
    {
      "cell_type": "markdown",
      "metadata": {
        "id": "i3dzlTv3fT0A",
        "colab_type": "text"
      },
      "source": [
        "# MIT-BIH\n"
      ]
    },
    {
      "cell_type": "code",
      "metadata": {
        "id": "R9ufKIN3fWlC",
        "colab_type": "code",
        "colab": {}
      },
      "source": [
        "from utils.utils import read_dataset,split_dataset"
      ],
      "execution_count": 0,
      "outputs": []
    },
    {
      "cell_type": "code",
      "metadata": {
        "id": "U_qpoZKYnZ25",
        "colab_type": "code",
        "colab": {}
      },
      "source": [
        "data,labels = read_dataset('data/mitbih_train.csv','MIT-BIH')"
      ],
      "execution_count": 0,
      "outputs": []
    },
    {
      "cell_type": "code",
      "metadata": {
        "id": "QnZ3C4DCnZ5M",
        "colab_type": "code",
        "colab": {
          "base_uri": "https://localhost:8080/",
          "height": 34
        },
        "outputId": "422106f3-1648-41ad-d2c5-0e64d003e009"
      },
      "source": [
        "nb_train = 10000 # max = 70043\n",
        "nb_test = 17511 # max = 17511\n",
        "\n",
        "x_train,y_train,x_val,y_val,y_val_true,x_test,y_test,y_test_true = split_dataset(data,labels)\n",
        "\n",
        "x_train = np.concatenate([x_train, x_val])\n",
        "y_train = np.concatenate([y_train, y_val])\n",
        "\n",
        "\n",
        "x_train = jax.numpy.array(x_train[:nb_train,:])\n",
        "x_test = jax.numpy.array(x_test[:nb_test,:])\n",
        "y_train = jax.numpy.array(y_train[:nb_train,:].astype(int))\n",
        "y_test = y_test[:nb_test,:].astype(int)\n",
        "y_test_true = y_test_true[:nb_test].astype(int)\n",
        "\n",
        "x_train.shape, x_test.shape"
      ],
      "execution_count": 37,
      "outputs": [
        {
          "output_type": "execute_result",
          "data": {
            "text/plain": [
              "((10000, 187), (17511, 187))"
            ]
          },
          "metadata": {
            "tags": []
          },
          "execution_count": 37
        }
      ]
    },
    {
      "cell_type": "code",
      "metadata": {
        "id": "o1lwCQ2ZnaAE",
        "colab_type": "code",
        "colab": {
          "base_uri": "https://localhost:8080/",
          "height": 142
        },
        "outputId": "59596088-4368-4840-88d5-d86252fcff86"
      },
      "source": [
        "%%time\n",
        "init_fn, apply_fn, kernel_fn = stax.serial(\n",
        "    stax.Dense(512), stax.Relu(),\n",
        "    stax.Dense(512), stax.Relu(),\n",
        "    stax.Dense(512), stax.Relu(),\n",
        "    stax.Dense(512), stax.Relu(),\n",
        "    stax.Dense(5)\n",
        ")\n",
        "\n",
        "nngp_mean, nngp_covariance = nt.predict.gp_inference(\n",
        "    kernel_fn, x_train, y_train, x_test, \n",
        "    diag_reg=1e-4, get='nngp', compute_cov=True)\n",
        "\n",
        "nngp_std = np.sqrt(np.diag(nngp_covariance))\n",
        "\n",
        "ypred = nngp_mean.argmax(axis = 1)"
      ],
      "execution_count": 38,
      "outputs": [
        {
          "output_type": "stream",
          "text": [
            "/usr/local/lib/python3.6/dist-packages/jax/lax/lax.py:4670: UserWarning: Explicitly requested dtype <class 'jax.numpy.lax_numpy.float64'> requested in astype is not available, and will be truncated to dtype float32. To enable more dtypes, set the jax_enable_x64 configuration option or the JAX_ENABLE_X64 shell environment variable. See https://github.com/google/jax#current-gotchas for more.\n",
            "  warnings.warn(msg.format(dtype, fun_name , truncated_dtype))\n",
            "/usr/local/lib/python3.6/dist-packages/ipykernel_launcher.py:13: RuntimeWarning: invalid value encountered in sqrt\n",
            "  del sys.path[0]\n"
          ],
          "name": "stderr"
        },
        {
          "output_type": "stream",
          "text": [
            "CPU times: user 12.5 s, sys: 7.15 s, total: 19.7 s\n",
            "Wall time: 24.4 s\n"
          ],
          "name": "stdout"
        }
      ]
    },
    {
      "cell_type": "code",
      "metadata": {
        "id": "RSP_vNYksUR_",
        "colab_type": "code",
        "colab": {
          "base_uri": "https://localhost:8080/",
          "height": 77
        },
        "outputId": "d76c29bd-3dd7-445b-9957-2248fcbcca48"
      },
      "source": [
        "evaluate(y_test_true,ypred)"
      ],
      "execution_count": 39,
      "outputs": [
        {
          "output_type": "execute_result",
          "data": {
            "text/html": [
              "<div>\n",
              "<style scoped>\n",
              "    .dataframe tbody tr th:only-of-type {\n",
              "        vertical-align: middle;\n",
              "    }\n",
              "\n",
              "    .dataframe tbody tr th {\n",
              "        vertical-align: top;\n",
              "    }\n",
              "\n",
              "    .dataframe thead th {\n",
              "        text-align: right;\n",
              "    }\n",
              "</style>\n",
              "<table border=\"1\" class=\"dataframe\">\n",
              "  <thead>\n",
              "    <tr style=\"text-align: right;\">\n",
              "      <th></th>\n",
              "      <th>accuracy</th>\n",
              "      <th>recall</th>\n",
              "      <th>precision</th>\n",
              "      <th>f1-score</th>\n",
              "    </tr>\n",
              "  </thead>\n",
              "  <tbody>\n",
              "    <tr>\n",
              "      <th>0</th>\n",
              "      <td>0.971618</td>\n",
              "      <td>0.820816</td>\n",
              "      <td>0.916205</td>\n",
              "      <td>0.862959</td>\n",
              "    </tr>\n",
              "  </tbody>\n",
              "</table>\n",
              "</div>"
            ],
            "text/plain": [
              "   accuracy    recall  precision  f1-score\n",
              "0  0.971618  0.820816   0.916205  0.862959"
            ]
          },
          "metadata": {
            "tags": []
          },
          "execution_count": 39
        }
      ]
    },
    {
      "cell_type": "code",
      "metadata": {
        "id": "3sYxLDqbsUUA",
        "colab_type": "code",
        "colab": {
          "base_uri": "https://localhost:8080/",
          "height": 250
        },
        "outputId": "c65f91e0-ab48-4aa0-f83a-f15d4cb4d61a"
      },
      "source": [
        "get_binary_metrics(y_test_true,ypred)"
      ],
      "execution_count": 40,
      "outputs": [
        {
          "output_type": "stream",
          "text": [
            "/usr/local/lib/python3.6/dist-packages/jax/lax/lax.py:4670: UserWarning: Explicitly requested dtype <class 'int'> requested in astype is not available, and will be truncated to dtype int32. To enable more dtypes, set the jax_enable_x64 configuration option or the JAX_ENABLE_X64 shell environment variable. See https://github.com/google/jax#current-gotchas for more.\n",
            "  warnings.warn(msg.format(dtype, fun_name , truncated_dtype))\n"
          ],
          "name": "stderr"
        },
        {
          "output_type": "execute_result",
          "data": {
            "text/html": [
              "<div>\n",
              "<style scoped>\n",
              "    .dataframe tbody tr th:only-of-type {\n",
              "        vertical-align: middle;\n",
              "    }\n",
              "\n",
              "    .dataframe tbody tr th {\n",
              "        vertical-align: top;\n",
              "    }\n",
              "\n",
              "    .dataframe thead th {\n",
              "        text-align: right;\n",
              "    }\n",
              "</style>\n",
              "<table border=\"1\" class=\"dataframe\">\n",
              "  <thead>\n",
              "    <tr style=\"text-align: right;\">\n",
              "      <th></th>\n",
              "      <th>recall</th>\n",
              "      <th>precision</th>\n",
              "      <th>f1-score</th>\n",
              "    </tr>\n",
              "  </thead>\n",
              "  <tbody>\n",
              "    <tr>\n",
              "      <th>0</th>\n",
              "      <td>0.993929</td>\n",
              "      <td>0.975489</td>\n",
              "      <td>0.984623</td>\n",
              "    </tr>\n",
              "    <tr>\n",
              "      <th>1</th>\n",
              "      <td>0.660674</td>\n",
              "      <td>0.890909</td>\n",
              "      <td>0.75871</td>\n",
              "    </tr>\n",
              "    <tr>\n",
              "      <th>2</th>\n",
              "      <td>0.878133</td>\n",
              "      <td>0.942486</td>\n",
              "      <td>0.909172</td>\n",
              "    </tr>\n",
              "    <tr>\n",
              "      <th>3</th>\n",
              "      <td>0.625</td>\n",
              "      <td>0.784314</td>\n",
              "      <td>0.695652</td>\n",
              "    </tr>\n",
              "    <tr>\n",
              "      <th>4</th>\n",
              "      <td>0.946345</td>\n",
              "      <td>0.987825</td>\n",
              "      <td>0.96664</td>\n",
              "    </tr>\n",
              "  </tbody>\n",
              "</table>\n",
              "</div>"
            ],
            "text/plain": [
              "     recall precision  f1-score\n",
              "0  0.993929  0.975489  0.984623\n",
              "1  0.660674  0.890909   0.75871\n",
              "2  0.878133  0.942486  0.909172\n",
              "3     0.625  0.784314  0.695652\n",
              "4  0.946345  0.987825   0.96664"
            ]
          },
          "metadata": {
            "tags": []
          },
          "execution_count": 40
        }
      ]
    },
    {
      "cell_type": "code",
      "metadata": {
        "id": "r0DO_N6dsUW2",
        "colab_type": "code",
        "colab": {
          "base_uri": "https://localhost:8080/",
          "height": 502
        },
        "outputId": "b3182515-da15-44e8-b07f-06c376ab217e"
      },
      "source": [
        "rcParams['figure.figsize'] = 12,8\n",
        "sns.heatmap(\n",
        "            nngp_mean[y_test_true.argsort(),:],\n",
        "            xticklabels=1,\n",
        "            yticklabels=False,\n",
        "            cmap=sns.color_palette(\"YlOrRd\", 100)\n",
        "           )"
      ],
      "execution_count": 41,
      "outputs": [
        {
          "output_type": "execute_result",
          "data": {
            "text/plain": [
              "<matplotlib.axes._subplots.AxesSubplot at 0x7fac2dfdc630>"
            ]
          },
          "metadata": {
            "tags": []
          },
          "execution_count": 41
        },
        {
          "output_type": "display_data",
          "data": {
            "image/png": "[encoded data removed]",
            "text/plain": [
              "<Figure size 864x576 with 2 Axes>"
            ]
          },
          "metadata": {
            "tags": []
          }
        }
      ]
    },
    {
      "cell_type": "code",
      "metadata": {
        "id": "gwsQz8EvtBk9",
        "colab_type": "code",
        "colab": {}
      },
      "source": [
        "from collections import defaultdict\n",
        "dic = defaultdict(list)\n",
        "dic_mean = defaultdict(list)\n",
        "for i, _ in enumerate(y_test):\n",
        "    it = str(y_test_true[i])+','+str(ypred[i])\n",
        "    if it in dic.keys():\n",
        "        dic[it] += [nngp_std[i]]\n",
        "    else:\n",
        "        dic[it] = [nngp_std[i]]\n",
        "\n",
        "heat_var = np.ones([5,5])*0.006\n",
        "for k in dic.keys():\n",
        "    i = int(list(k)[0])\n",
        "    j = int(list(k)[2])\n",
        "    heat_var[i,j] = np.mean(dic[k])"
      ],
      "execution_count": 0,
      "outputs": []
    },
    {
      "cell_type": "code",
      "metadata": {
        "id": "LzCMdLertNKN",
        "colab_type": "code",
        "colab": {
          "base_uri": "https://localhost:8080/",
          "height": 502
        },
        "outputId": "88a478ce-e82a-47f8-d7a1-896bf3e9d4e6"
      },
      "source": [
        "rcParams['figure.figsize'] = 12,8\n",
        "sns.heatmap(heat_var, cmap=sns.color_palette(\"RdBu_r\",10), annot = confusion_matrix(y_test_true,ypred)/len(y_test_true))"
      ],
      "execution_count": 43,
      "outputs": [
        {
          "output_type": "execute_result",
          "data": {
            "text/plain": [
              "<matplotlib.axes._subplots.AxesSubplot at 0x7fac2df68940>"
            ]
          },
          "metadata": {
            "tags": []
          },
          "execution_count": 43
        },
        {
          "output_type": "display_data",
          "data": {
            "image/png": "[encoded data removed]",
            "text/plain": [
              "<Figure size 864x576 with 2 Axes>"
            ]
          },
          "metadata": {
            "tags": []
          }
        }
      ]
    },
    {
      "cell_type": "code",
      "metadata": {
        "id": "ovIXM37Bws7R",
        "colab_type": "code",
        "colab": {
          "base_uri": "https://localhost:8080/",
          "height": 34
        },
        "outputId": "baed9bb4-ccaf-4cbe-8166-e75e7b86b4f5"
      },
      "source": [
        "np.mean(y_test, axis=0)"
      ],
      "execution_count": 44,
      "outputs": [
        {
          "output_type": "execute_result",
          "data": {
            "text/plain": [
              "array([0.8277654 , 0.0254126 , 0.06607275, 0.00730969, 0.07343955])"
            ]
          },
          "metadata": {
            "tags": []
          },
          "execution_count": 44
        }
      ]
    },
    {
      "cell_type": "code",
      "metadata": {
        "id": "8xrdkINrw5zM",
        "colab_type": "code",
        "colab": {
          "base_uri": "https://localhost:8080/",
          "height": 193
        },
        "outputId": "881cc167-4695-4e4a-e223-981485746f46"
      },
      "source": [
        "confusion_matrix(y_test_true,ypred)/len(y_test_true)"
      ],
      "execution_count": 45,
      "outputs": [
        {
          "output_type": "execute_result",
          "data": {
            "text/plain": [
              "array([[8.22739992e-01, 1.88452972e-03, 2.11295757e-03, 6.28176575e-04,\n",
              "        3.99748729e-04],\n",
              "       [8.22340243e-03, 1.67894466e-02, 2.85534807e-04, 0.00000000e+00,\n",
              "        1.14213923e-04],\n",
              "       [6.96704928e-03, 1.14213923e-04, 5.80206727e-02, 6.28176575e-04,\n",
              "        3.42641768e-04],\n",
              "       [2.05585061e-03, 0.00000000e+00, 6.85283536e-04, 4.56855691e-03,\n",
              "        0.00000000e+00],\n",
              "       [3.42641768e-03, 5.71069613e-05, 4.56855691e-04, 0.00000000e+00,\n",
              "        6.94991719e-02]])"
            ]
          },
          "metadata": {
            "tags": []
          },
          "execution_count": 45
        }
      ]
    },
    {
      "cell_type": "code",
      "metadata": {
        "id": "Yaxz2zKA-pP0",
        "colab_type": "code",
        "colab": {}
      },
      "source": [
        ""
      ],
      "execution_count": 0,
      "outputs": []
    }
  ]
}