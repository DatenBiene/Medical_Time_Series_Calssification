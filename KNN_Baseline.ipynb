{
  "nbformat": 4,
  "nbformat_minor": 0,
  "metadata": {
    "kernelspec": {
      "display_name": "Python 3",
      "language": "python",
      "name": "python3"
    },
    "language_info": {
      "codemirror_mode": {
        "name": "ipython",
        "version": 3
      },
      "file_extension": ".py",
      "mimetype": "text/x-python",
      "name": "python",
      "nbconvert_exporter": "python",
      "pygments_lexer": "ipython3",
      "version": "3.7.4"
    },
    "colab": {
      "name": "KNN_Baseline.ipynb",
      "provenance": []
    }
  },
  "cells": [
    {
      "cell_type": "markdown",
      "metadata": {
        "id": "zpQsKxXFlCDU",
        "colab_type": "text"
      },
      "source": [
        "## Lib"
      ]
    },
    {
      "cell_type": "code",
      "metadata": {
        "id": "SiB7lMPilGg_",
        "colab_type": "code",
        "colab": {
          "base_uri": "https://localhost:8080/",
          "height": 146
        },
        "outputId": "9fe0d55e-1cb4-4dbf-ba12-3792d7554cb2"
      },
      "source": [
        "!git clone https://github.com/DatenBiene/Medical_Time_Series_Classification.git"
      ],
      "execution_count": 1,
      "outputs": [
        {
          "output_type": "stream",
          "text": [
            "Cloning into 'Medical_Time_Series_Classification'...\n",
            "remote: Enumerating objects: 126, done.\u001b[K\n",
            "remote: Counting objects: 100% (126/126), done.\u001b[K\n",
            "remote: Compressing objects: 100% (102/102), done.\u001b[K\n",
            "remote: Total 367 (delta 54), reused 77 (delta 23), pack-reused 241\u001b[K\n",
            "Receiving objects: 100% (367/367), 26.48 MiB | 24.08 MiB/s, done.\n",
            "Resolving deltas: 100% (185/185), done.\n"
          ],
          "name": "stdout"
        }
      ]
    },
    {
      "cell_type": "code",
      "metadata": {
        "id": "Wr-ntgWwlZ4U",
        "colab_type": "code",
        "colab": {
          "base_uri": "https://localhost:8080/",
          "height": 551
        },
        "outputId": "d9281df2-076a-4330-e4b6-2c0719572031"
      },
      "source": [
        "!pip install sktime"
      ],
      "execution_count": 2,
      "outputs": [
        {
          "output_type": "stream",
          "text": [
            "Collecting sktime\n",
            "\u001b[?25l  Downloading https://files.pythonhosted.org/packages/74/aa/a8709883f270fad7052c0f618aa7fe2001d35bb2c12d68317beb65c7789f/sktime-0.3.0.tar.gz (5.0MB)\n",
            "\u001b[K     |████████████████████████████████| 5.0MB 3.4MB/s \n",
            "\u001b[?25hRequirement already satisfied: numpy>=1.16.0 in /usr/local/lib/python3.6/dist-packages (from sktime) (1.18.2)\n",
            "Requirement already satisfied: scipy>=1.2.0 in /usr/local/lib/python3.6/dist-packages (from sktime) (1.4.1)\n",
            "Requirement already satisfied: scikit-learn>=0.21.0 in /usr/local/lib/python3.6/dist-packages (from sktime) (0.22.2.post1)\n",
            "Requirement already satisfied: pandas>=0.23.0 in /usr/local/lib/python3.6/dist-packages (from sktime) (0.25.3)\n",
            "Requirement already satisfied: joblib in /usr/local/lib/python3.6/dist-packages (from sktime) (0.14.1)\n",
            "Collecting scikit-posthocs>=0.5.0\n",
            "  Downloading https://files.pythonhosted.org/packages/ac/b8/ffaa42e40143825b4ae618a5b96196a934fb5f41229fc3235f35dd81a29c/scikit_posthocs-0.6.3-py3-none-any.whl\n",
            "Requirement already satisfied: statsmodels>=0.9.0 in /usr/local/lib/python3.6/dist-packages (from sktime) (0.10.2)\n",
            "Requirement already satisfied: python-dateutil>=2.6.1 in /usr/local/lib/python3.6/dist-packages (from pandas>=0.23.0->sktime) (2.8.1)\n",
            "Requirement already satisfied: pytz>=2017.2 in /usr/local/lib/python3.6/dist-packages (from pandas>=0.23.0->sktime) (2018.9)\n",
            "Requirement already satisfied: matplotlib in /usr/local/lib/python3.6/dist-packages (from scikit-posthocs>=0.5.0->sktime) (3.2.1)\n",
            "Requirement already satisfied: seaborn in /usr/local/lib/python3.6/dist-packages (from scikit-posthocs>=0.5.0->sktime) (0.10.0)\n",
            "Requirement already satisfied: patsy>=0.4.0 in /usr/local/lib/python3.6/dist-packages (from statsmodels>=0.9.0->sktime) (0.5.1)\n",
            "Requirement already satisfied: six>=1.5 in /usr/local/lib/python3.6/dist-packages (from python-dateutil>=2.6.1->pandas>=0.23.0->sktime) (1.12.0)\n",
            "Requirement already satisfied: kiwisolver>=1.0.1 in /usr/local/lib/python3.6/dist-packages (from matplotlib->scikit-posthocs>=0.5.0->sktime) (1.1.0)\n",
            "Requirement already satisfied: cycler>=0.10 in /usr/local/lib/python3.6/dist-packages (from matplotlib->scikit-posthocs>=0.5.0->sktime) (0.10.0)\n",
            "Requirement already satisfied: pyparsing!=2.0.4,!=2.1.2,!=2.1.6,>=2.0.1 in /usr/local/lib/python3.6/dist-packages (from matplotlib->scikit-posthocs>=0.5.0->sktime) (2.4.6)\n",
            "Requirement already satisfied: setuptools in /usr/local/lib/python3.6/dist-packages (from kiwisolver>=1.0.1->matplotlib->scikit-posthocs>=0.5.0->sktime) (46.0.0)\n",
            "Building wheels for collected packages: sktime\n",
            "  Building wheel for sktime (setup.py) ... \u001b[?25l\u001b[?25hdone\n",
            "  Created wheel for sktime: filename=sktime-0.3.0-cp36-cp36m-linux_x86_64.whl size=3299841 sha256=6da6980a82b05488dcb86fffd5f4771302ab9d232449db8013a52876f826c876\n",
            "  Stored in directory: /root/.cache/pip/wheels/92/5a/c2/859f666f521c12e592cf689e8e2ebff32d74d0416b74dad213\n",
            "Successfully built sktime\n",
            "Installing collected packages: scikit-posthocs, sktime\n",
            "Successfully installed scikit-posthocs-0.6.3 sktime-0.3.0\n"
          ],
          "name": "stdout"
        }
      ]
    },
    {
      "cell_type": "code",
      "metadata": {
        "id": "U8agtu6blKbD",
        "colab_type": "code",
        "colab": {}
      },
      "source": [
        "import os \n",
        "os.chdir('/content/Medical_Time_Series_Classification')"
      ],
      "execution_count": 0,
      "outputs": []
    },
    {
      "cell_type": "code",
      "metadata": {
        "id": "K-7PlhKSlCDa",
        "colab_type": "code",
        "colab": {
          "base_uri": "https://localhost:8080/",
          "height": 129
        },
        "outputId": "d6f37cf2-d9d8-4756-9df7-74829f48a175"
      },
      "source": [
        "import pandas as pd\n",
        "import numpy as np\n",
        "\n",
        "from sktime.classifiers.distance_based import KNeighborsTimeSeriesClassifier\n",
        "\n",
        "from utils.evaluation import evaluate, get_binary_metrics\n",
        "from utils.utils import read_dataset,split_dataset"
      ],
      "execution_count": 4,
      "outputs": [
        {
          "output_type": "stream",
          "text": [
            "/usr/local/lib/python3.6/dist-packages/sklearn/utils/deprecation.py:144: FutureWarning: The sklearn.neighbors.classification module is  deprecated in version 0.22 and will be removed in version 0.24. The corresponding classes / functions should instead be imported from sklearn.neighbors. Anything that cannot be imported from sklearn.neighbors is now part of the private API.\n",
            "  warnings.warn(message, FutureWarning)\n",
            "/usr/local/lib/python3.6/dist-packages/sklearn/utils/deprecation.py:144: FutureWarning: The sklearn.neighbors.base module is  deprecated in version 0.22 and will be removed in version 0.24. The corresponding classes / functions should instead be imported from sklearn.neighbors. Anything that cannot be imported from sklearn.neighbors is now part of the private API.\n",
            "  warnings.warn(message, FutureWarning)\n",
            "Using TensorFlow backend.\n"
          ],
          "name": "stderr"
        }
      ]
    },
    {
      "cell_type": "markdown",
      "metadata": {
        "id": "tTg8sB9GlCD8",
        "colab_type": "text"
      },
      "source": [
        "## Transplant"
      ]
    },
    {
      "cell_type": "code",
      "metadata": {
        "id": "M6bU0GDilCEI",
        "colab_type": "code",
        "colab": {
          "base_uri": "https://localhost:8080/",
          "height": 54
        },
        "outputId": "7e0ba31c-becd-4db9-9b9e-5e9ba5633db9"
      },
      "source": [
        "%%time\n",
        "x_train,y_train,x_val,y_val,y_val_true,x_test,y_test,_, col = np.load('data/transplant_1col.npy', allow_pickle=True)\n",
        "\n",
        "#x_test= np.concatenate([x_test, x_val])\n",
        "#y_test = np.concatenate([y_test, y_val])\n",
        "\n",
        "x_train = x_train.reshape(x_train.shape[0], x_train.shape[1],1)\n",
        "x_test = x_test.reshape(x_test.shape[0], x_test.shape[1],1)"
      ],
      "execution_count": 14,
      "outputs": [
        {
          "output_type": "stream",
          "text": [
            "CPU times: user 989 µs, sys: 2.97 ms, total: 3.96 ms\n",
            "Wall time: 7.33 ms\n"
          ],
          "name": "stdout"
        }
      ]
    },
    {
      "cell_type": "code",
      "metadata": {
        "scrolled": true,
        "id": "BRvPxU76lCEv",
        "colab_type": "code",
        "colab": {
          "base_uri": "https://localhost:8080/",
          "height": 54
        },
        "outputId": "debbc873-0f40-4163-bbf8-79bc99a55273"
      },
      "source": [
        "%%time\n",
        "knn = KNeighborsTimeSeriesClassifier(metric='dtw')\n",
        "knn.fit(x_train, y_train)\n",
        "ypred = knn.predict(x_test)"
      ],
      "execution_count": 16,
      "outputs": [
        {
          "output_type": "stream",
          "text": [
            "CPU times: user 1min 52s, sys: 1.66 s, total: 1min 53s\n",
            "Wall time: 1min 53s\n"
          ],
          "name": "stdout"
        }
      ]
    },
    {
      "cell_type": "code",
      "metadata": {
        "scrolled": false,
        "id": "W9XXM0HwlCE_",
        "colab_type": "code",
        "colab": {
          "base_uri": "https://localhost:8080/",
          "height": 81
        },
        "outputId": "ba8fd030-5ea4-4f10-cbb2-37a47d1ebcc0"
      },
      "source": [
        "evaluate(y_test,ypred)"
      ],
      "execution_count": 17,
      "outputs": [
        {
          "output_type": "execute_result",
          "data": {
            "text/html": [
              "<div>\n",
              "<style scoped>\n",
              "    .dataframe tbody tr th:only-of-type {\n",
              "        vertical-align: middle;\n",
              "    }\n",
              "\n",
              "    .dataframe tbody tr th {\n",
              "        vertical-align: top;\n",
              "    }\n",
              "\n",
              "    .dataframe thead th {\n",
              "        text-align: right;\n",
              "    }\n",
              "</style>\n",
              "<table border=\"1\" class=\"dataframe\">\n",
              "  <thead>\n",
              "    <tr style=\"text-align: right;\">\n",
              "      <th></th>\n",
              "      <th>accuracy</th>\n",
              "      <th>recall</th>\n",
              "      <th>precision</th>\n",
              "      <th>f1-score</th>\n",
              "    </tr>\n",
              "  </thead>\n",
              "  <tbody>\n",
              "    <tr>\n",
              "      <th>0</th>\n",
              "      <td>0.484848</td>\n",
              "      <td>0.477444</td>\n",
              "      <td>0.477778</td>\n",
              "      <td>0.477167</td>\n",
              "    </tr>\n",
              "  </tbody>\n",
              "</table>\n",
              "</div>"
            ],
            "text/plain": [
              "   accuracy    recall  precision  f1-score\n",
              "0  0.484848  0.477444   0.477778  0.477167"
            ]
          },
          "metadata": {
            "tags": []
          },
          "execution_count": 17
        }
      ]
    },
    {
      "cell_type": "code",
      "metadata": {
        "id": "-v5KS1rnlCFS",
        "colab_type": "code",
        "colab": {
          "base_uri": "https://localhost:8080/",
          "height": 112
        },
        "outputId": "6bd2edf2-ca11-4fac-9376-0be0801b28fd"
      },
      "source": [
        "get_binary_metrics(y_test,ypred)"
      ],
      "execution_count": 18,
      "outputs": [
        {
          "output_type": "execute_result",
          "data": {
            "text/html": [
              "<div>\n",
              "<style scoped>\n",
              "    .dataframe tbody tr th:only-of-type {\n",
              "        vertical-align: middle;\n",
              "    }\n",
              "\n",
              "    .dataframe tbody tr th {\n",
              "        vertical-align: top;\n",
              "    }\n",
              "\n",
              "    .dataframe thead th {\n",
              "        text-align: right;\n",
              "    }\n",
              "</style>\n",
              "<table border=\"1\" class=\"dataframe\">\n",
              "  <thead>\n",
              "    <tr style=\"text-align: right;\">\n",
              "      <th></th>\n",
              "      <th>recall</th>\n",
              "      <th>precision</th>\n",
              "      <th>f1-score</th>\n",
              "    </tr>\n",
              "  </thead>\n",
              "  <tbody>\n",
              "    <tr>\n",
              "      <th>0</th>\n",
              "      <td>0.526316</td>\n",
              "      <td>0.555556</td>\n",
              "      <td>0.540541</td>\n",
              "    </tr>\n",
              "    <tr>\n",
              "      <th>1</th>\n",
              "      <td>0.428571</td>\n",
              "      <td>0.4</td>\n",
              "      <td>0.413793</td>\n",
              "    </tr>\n",
              "  </tbody>\n",
              "</table>\n",
              "</div>"
            ],
            "text/plain": [
              "     recall precision  f1-score\n",
              "0  0.526316  0.555556  0.540541\n",
              "1  0.428571       0.4  0.413793"
            ]
          },
          "metadata": {
            "tags": []
          },
          "execution_count": 18
        }
      ]
    },
    {
      "cell_type": "markdown",
      "metadata": {
        "id": "aBtNz8ZFlCFl",
        "colab_type": "text"
      },
      "source": [
        "## ECG5000"
      ]
    },
    {
      "cell_type": "code",
      "metadata": {
        "id": "4YVjR1rrlCFn",
        "colab_type": "code",
        "colab": {
          "base_uri": "https://localhost:8080/",
          "height": 54
        },
        "outputId": "7c0252de-9906-4264-d134-12032abab6bd"
      },
      "source": [
        "%%time\n",
        "x_train,y_train,x_val,y_val,x_test,y_test = np.load('data/ECG5000/ECG5000_full.npy', allow_pickle=True)\n",
        "\n",
        "x_train = x_train.reshape(x_train.shape[0], x_train.shape[1],1)\n",
        "x_test = x_test.reshape(x_test.shape[0], x_test.shape[1],1)"
      ],
      "execution_count": 19,
      "outputs": [
        {
          "output_type": "stream",
          "text": [
            "CPU times: user 3.35 ms, sys: 2.02 ms, total: 5.37 ms\n",
            "Wall time: 7.53 ms\n"
          ],
          "name": "stdout"
        }
      ]
    },
    {
      "cell_type": "code",
      "metadata": {
        "id": "HePwuMZ-lCF6",
        "colab_type": "code",
        "colab": {
          "base_uri": "https://localhost:8080/",
          "height": 54
        },
        "outputId": "53768cdc-bd58-4602-d14e-7bad31e4dd95"
      },
      "source": [
        "%%time\n",
        "knn = KNeighborsTimeSeriesClassifier(metric='dtw')\n",
        "knn.fit(x_train, y_train)\n",
        "ypred = knn.predict(x_test)"
      ],
      "execution_count": 20,
      "outputs": [
        {
          "output_type": "stream",
          "text": [
            "CPU times: user 5min 44s, sys: 35.3 ms, total: 5min 44s\n",
            "Wall time: 5min 44s\n"
          ],
          "name": "stdout"
        }
      ]
    },
    {
      "cell_type": "code",
      "metadata": {
        "id": "exv9DvX5lCGM",
        "colab_type": "code",
        "colab": {
          "base_uri": "https://localhost:8080/",
          "height": 81
        },
        "outputId": "9cd85caf-9b51-4fbe-dcc6-74a4b73f9b15"
      },
      "source": [
        "evaluate(y_test,ypred)"
      ],
      "execution_count": 21,
      "outputs": [
        {
          "output_type": "execute_result",
          "data": {
            "text/html": [
              "<div>\n",
              "<style scoped>\n",
              "    .dataframe tbody tr th:only-of-type {\n",
              "        vertical-align: middle;\n",
              "    }\n",
              "\n",
              "    .dataframe tbody tr th {\n",
              "        vertical-align: top;\n",
              "    }\n",
              "\n",
              "    .dataframe thead th {\n",
              "        text-align: right;\n",
              "    }\n",
              "</style>\n",
              "<table border=\"1\" class=\"dataframe\">\n",
              "  <thead>\n",
              "    <tr style=\"text-align: right;\">\n",
              "      <th></th>\n",
              "      <th>accuracy</th>\n",
              "      <th>recall</th>\n",
              "      <th>precision</th>\n",
              "      <th>f1-score</th>\n",
              "    </tr>\n",
              "  </thead>\n",
              "  <tbody>\n",
              "    <tr>\n",
              "      <th>0</th>\n",
              "      <td>0.956</td>\n",
              "      <td>0.834486</td>\n",
              "      <td>0.776836</td>\n",
              "      <td>0.794125</td>\n",
              "    </tr>\n",
              "  </tbody>\n",
              "</table>\n",
              "</div>"
            ],
            "text/plain": [
              "   accuracy    recall  precision  f1-score\n",
              "0     0.956  0.834486   0.776836  0.794125"
            ]
          },
          "metadata": {
            "tags": []
          },
          "execution_count": 21
        }
      ]
    },
    {
      "cell_type": "code",
      "metadata": {
        "id": "ftebx-cclCGa",
        "colab_type": "code",
        "colab": {
          "base_uri": "https://localhost:8080/",
          "height": 206
        },
        "outputId": "08cbee55-5bd0-485a-c1eb-09f1e87956ac"
      },
      "source": [
        "get_binary_metrics(y_test,ypred)"
      ],
      "execution_count": 22,
      "outputs": [
        {
          "output_type": "execute_result",
          "data": {
            "text/html": [
              "<div>\n",
              "<style scoped>\n",
              "    .dataframe tbody tr th:only-of-type {\n",
              "        vertical-align: middle;\n",
              "    }\n",
              "\n",
              "    .dataframe tbody tr th {\n",
              "        vertical-align: top;\n",
              "    }\n",
              "\n",
              "    .dataframe thead th {\n",
              "        text-align: right;\n",
              "    }\n",
              "</style>\n",
              "<table border=\"1\" class=\"dataframe\">\n",
              "  <thead>\n",
              "    <tr style=\"text-align: right;\">\n",
              "      <th></th>\n",
              "      <th>recall</th>\n",
              "      <th>precision</th>\n",
              "      <th>f1-score</th>\n",
              "    </tr>\n",
              "  </thead>\n",
              "  <tbody>\n",
              "    <tr>\n",
              "      <th>1</th>\n",
              "      <td>0.996575</td>\n",
              "      <td>0.996575</td>\n",
              "      <td>0.996575</td>\n",
              "    </tr>\n",
              "    <tr>\n",
              "      <th>2</th>\n",
              "      <td>0.954802</td>\n",
              "      <td>0.938889</td>\n",
              "      <td>0.946779</td>\n",
              "    </tr>\n",
              "    <tr>\n",
              "      <th>3</th>\n",
              "      <td>0.8</td>\n",
              "      <td>0.666667</td>\n",
              "      <td>0.727273</td>\n",
              "    </tr>\n",
              "    <tr>\n",
              "      <th>4</th>\n",
              "      <td>0.421053</td>\n",
              "      <td>0.615385</td>\n",
              "      <td>0.5</td>\n",
              "    </tr>\n",
              "    <tr>\n",
              "      <th>5</th>\n",
              "      <td>1</td>\n",
              "      <td>0.666667</td>\n",
              "      <td>0.8</td>\n",
              "    </tr>\n",
              "  </tbody>\n",
              "</table>\n",
              "</div>"
            ],
            "text/plain": [
              "     recall precision  f1-score\n",
              "1  0.996575  0.996575  0.996575\n",
              "2  0.954802  0.938889  0.946779\n",
              "3       0.8  0.666667  0.727273\n",
              "4  0.421053  0.615385       0.5\n",
              "5         1  0.666667       0.8"
            ]
          },
          "metadata": {
            "tags": []
          },
          "execution_count": 22
        }
      ]
    },
    {
      "cell_type": "markdown",
      "metadata": {
        "id": "cGo2_NLPlCGs",
        "colab_type": "text"
      },
      "source": [
        "## MIT "
      ]
    },
    {
      "cell_type": "code",
      "metadata": {
        "id": "a0SR7r5ElCGv",
        "colab_type": "code",
        "colab": {}
      },
      "source": [
        "x_train,y_train,x_test,y_test = np.load('data/mitbih.npy',allow_pickle=True)\n",
        "\n",
        "x_train = x_train.reshape(x_train.shape[0], x_train.shape[1],1)\n",
        "x_test = x_test.reshape(x_test.shape[0], x_test.shape[1],1)"
      ],
      "execution_count": 0,
      "outputs": []
    },
    {
      "cell_type": "code",
      "metadata": {
        "scrolled": true,
        "id": "78tfCc59lCG7",
        "colab_type": "code",
        "colab": {
          "base_uri": "https://localhost:8080/",
          "height": 54
        },
        "outputId": "c0431368-2b3e-4229-c52f-756f97194326"
      },
      "source": [
        "%%time\n",
        "knn = KNeighborsTimeSeriesClassifier(metric='dtw')\n",
        "knn.fit(x_train, y_train)\n",
        "ypred = knn.predict(x_test)"
      ],
      "execution_count": 14,
      "outputs": [
        {
          "output_type": "stream",
          "text": [
            "CPU times: user 12min 33s, sys: 25.7 s, total: 12min 59s\n",
            "Wall time: 13min 1s\n"
          ],
          "name": "stdout"
        }
      ]
    },
    {
      "cell_type": "code",
      "metadata": {
        "id": "rwmk0slKlCHK",
        "colab_type": "code",
        "colab": {
          "base_uri": "https://localhost:8080/",
          "height": 81
        },
        "outputId": "2caafb51-cee1-4540-8a4e-fb957dc79ef0"
      },
      "source": [
        "evaluate(y_test,ypred)"
      ],
      "execution_count": 15,
      "outputs": [
        {
          "output_type": "execute_result",
          "data": {
            "text/html": [
              "<div>\n",
              "<style scoped>\n",
              "    .dataframe tbody tr th:only-of-type {\n",
              "        vertical-align: middle;\n",
              "    }\n",
              "\n",
              "    .dataframe tbody tr th {\n",
              "        vertical-align: top;\n",
              "    }\n",
              "\n",
              "    .dataframe thead th {\n",
              "        text-align: right;\n",
              "    }\n",
              "</style>\n",
              "<table border=\"1\" class=\"dataframe\">\n",
              "  <thead>\n",
              "    <tr style=\"text-align: right;\">\n",
              "      <th></th>\n",
              "      <th>accuracy</th>\n",
              "      <th>recall</th>\n",
              "      <th>precision</th>\n",
              "      <th>f1-score</th>\n",
              "    </tr>\n",
              "  </thead>\n",
              "  <tbody>\n",
              "    <tr>\n",
              "      <th>0</th>\n",
              "      <td>0.954</td>\n",
              "      <td>0.816178</td>\n",
              "      <td>0.902316</td>\n",
              "      <td>0.851074</td>\n",
              "    </tr>\n",
              "  </tbody>\n",
              "</table>\n",
              "</div>"
            ],
            "text/plain": [
              "   accuracy    recall  precision  f1-score\n",
              "0     0.954  0.816178   0.902316  0.851074"
            ]
          },
          "metadata": {
            "tags": []
          },
          "execution_count": 15
        }
      ]
    },
    {
      "cell_type": "code",
      "metadata": {
        "id": "kkN-4MdylCHX",
        "colab_type": "code",
        "colab": {
          "base_uri": "https://localhost:8080/",
          "height": 206
        },
        "outputId": "1656e30d-c662-4293-ae82-b52ec5f903e1"
      },
      "source": [
        "get_binary_metrics(y_test,ypred)"
      ],
      "execution_count": 16,
      "outputs": [
        {
          "output_type": "execute_result",
          "data": {
            "text/html": [
              "<div>\n",
              "<style scoped>\n",
              "    .dataframe tbody tr th:only-of-type {\n",
              "        vertical-align: middle;\n",
              "    }\n",
              "\n",
              "    .dataframe tbody tr th {\n",
              "        vertical-align: top;\n",
              "    }\n",
              "\n",
              "    .dataframe thead th {\n",
              "        text-align: right;\n",
              "    }\n",
              "</style>\n",
              "<table border=\"1\" class=\"dataframe\">\n",
              "  <thead>\n",
              "    <tr style=\"text-align: right;\">\n",
              "      <th></th>\n",
              "      <th>recall</th>\n",
              "      <th>precision</th>\n",
              "      <th>f1-score</th>\n",
              "    </tr>\n",
              "  </thead>\n",
              "  <tbody>\n",
              "    <tr>\n",
              "      <th>0</th>\n",
              "      <td>0.978261</td>\n",
              "      <td>0.973558</td>\n",
              "      <td>0.975904</td>\n",
              "    </tr>\n",
              "    <tr>\n",
              "      <th>1</th>\n",
              "      <td>0.692308</td>\n",
              "      <td>0.818182</td>\n",
              "      <td>0.75</td>\n",
              "    </tr>\n",
              "    <tr>\n",
              "      <th>2</th>\n",
              "      <td>0.878788</td>\n",
              "      <td>0.805556</td>\n",
              "      <td>0.84058</td>\n",
              "    </tr>\n",
              "    <tr>\n",
              "      <th>3</th>\n",
              "      <td>0.666667</td>\n",
              "      <td>1</td>\n",
              "      <td>0.8</td>\n",
              "    </tr>\n",
              "    <tr>\n",
              "      <th>4</th>\n",
              "      <td>0.864865</td>\n",
              "      <td>0.914286</td>\n",
              "      <td>0.888889</td>\n",
              "    </tr>\n",
              "  </tbody>\n",
              "</table>\n",
              "</div>"
            ],
            "text/plain": [
              "     recall precision  f1-score\n",
              "0  0.978261  0.973558  0.975904\n",
              "1  0.692308  0.818182      0.75\n",
              "2  0.878788  0.805556   0.84058\n",
              "3  0.666667         1       0.8\n",
              "4  0.864865  0.914286  0.888889"
            ]
          },
          "metadata": {
            "tags": []
          },
          "execution_count": 16
        }
      ]
    },
    {
      "cell_type": "code",
      "metadata": {
        "id": "9psidaONlCHl",
        "colab_type": "code",
        "colab": {}
      },
      "source": [
        ""
      ],
      "execution_count": 0,
      "outputs": []
    }
  ]
}